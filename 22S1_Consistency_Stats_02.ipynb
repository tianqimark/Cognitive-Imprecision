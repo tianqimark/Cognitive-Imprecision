{
 "cells": [
  {
   "cell_type": "code",
   "execution_count": 1,
   "metadata": {},
   "outputs": [
    {
     "name": "stderr",
     "output_type": "stream",
     "text": [
      "/opt/anaconda3/lib/python3.9/site-packages/outdated/utils.py:14: OutdatedPackageWarning: The package pingouin is out of date. Your version is 0.5.1, the latest is 0.5.2.\n",
      "Set the environment variable OUTDATED_IGNORE=1 to disable these warnings.\n",
      "  return warn(\n"
     ]
    }
   ],
   "source": [
    "import numpy as np\n",
    "import pandas as pd\n",
    "import matplotlib.pyplot as plt\n",
    "\n",
    "from scipy.stats import ttest_ind, ttest_rel, mannwhitneyu, pearsonr\n",
    "import pingouin as pg\n"
   ]
  },
  {
   "cell_type": "code",
   "execution_count": 2,
   "metadata": {},
   "outputs": [],
   "source": [
    "# read data trials table\n",
    "data = pd.read_csv(\"/Users/hutianqi/Desktop/Project Cognitive Imprecision/Z1E Dataset_Base NT/Trials_22S1.csv\")\n",
    "\n",
    "# make a copy of the data where less than 300ms and more than 10s rounds are rejected\n",
    "disrupt = 10\n",
    "floor = 0.3\n",
    "data1 = data[(data['RT'] > floor) & (data['RT'] < disrupt)]\n",
    "\n",
    "# # create another dataset in wh subjects with error_choice > 5 are rejected\n",
    "# data2 = data1[data1['error_choice'] <= 5]\n"
   ]
  },
  {
   "cell_type": "code",
   "execution_count": 3,
   "metadata": {
    "scrolled": false
   },
   "outputs": [
    {
     "data": {
      "text/plain": [
       "Index(['subject', 'trial', 'treatment', 'lot_code', 'display', 'risk_level',\n",
       "       'risk', 'reward', 'certainty', 'WTP', 'choice', 'RT', 'slc_lot',\n",
       "       'correct', 'incorrect', 'value_diff', 'value_sum', 'lottery_favour',\n",
       "       'lot_correct', 'error_choice', 'decmode', 'reflection', 'intuition',\n",
       "       'BNT', 'NFC', 'FI', 'age', 'sex_code', 'edu_code', 'd', 'inv_d', 'B',\n",
       "       'nondectime'],\n",
       "      dtype='object')"
      ]
     },
     "execution_count": 3,
     "metadata": {},
     "output_type": "execute_result"
    }
   ],
   "source": [
    "data1.columns"
   ]
  },
  {
   "cell_type": "code",
   "execution_count": 4,
   "metadata": {},
   "outputs": [],
   "source": [
    "# read data idt = individual difference table\n",
    "idt_address = '/Users/hutianqi/Desktop/Project Cognitive Imprecision/Z1E Dataset_Base NT/IDT_22S1.csv'\n",
    "idt = pd.read_csv(idt_address)\n"
   ]
  },
  {
   "cell_type": "code",
   "execution_count": 5,
   "metadata": {},
   "outputs": [
    {
     "data": {
      "text/plain": [
       "Index(['subject', 'treatment', 'age', 'sex', 'sex_code', 'education',\n",
       "       'edu_code', 'reflection', 'intuition', 'BNT', 'NFC', 'FI', 'decmode',\n",
       "       'accuracy', 'lottery_freq', 'mean_RT', 'error_choice', 'd', 'inv_d',\n",
       "       'B', 'nondectime', 'ddm_sample'],\n",
       "      dtype='object')"
      ]
     },
     "execution_count": 5,
     "metadata": {},
     "output_type": "execute_result"
    }
   ],
   "source": [
    "idt.columns"
   ]
  },
  {
   "cell_type": "markdown",
   "metadata": {},
   "source": [
    "# Pattern Exploration"
   ]
  },
  {
   "cell_type": "code",
   "execution_count": 6,
   "metadata": {},
   "outputs": [
    {
     "name": "stdout",
     "output_type": "stream",
     "text": [
      "20952\n",
      "20134\n",
      "19914\n",
      "0.9609583810614738\n",
      "0.9504581901489118\n"
     ]
    }
   ],
   "source": [
    "# Data Exclusion results\n",
    "\n",
    "data1b = data1.dropna() \n",
    "\n",
    "print(data.shape[0])\n",
    "print(data1.shape[0])\n",
    "print(data1b.shape[0])\n",
    "print(data1.shape[0] / data.shape[0])\n",
    "print(data1b.shape[0] / data.shape[0])\n"
   ]
  },
  {
   "cell_type": "code",
   "execution_count": 21,
   "metadata": {
    "scrolled": true
   },
   "outputs": [
    {
     "name": "stdout",
     "output_type": "stream",
     "text": [
      "Subject_ 1 ; sample size for the DDM: 214\n",
      "Subject_ 2 ; sample size for the DDM: 203\n",
      "Subject_ 3 ; sample size for the DDM: 208\n",
      "Subject_ 4 ; sample size for the DDM: 215\n",
      "Subject_ 5 ; sample size for the DDM: 216\n",
      "Subject_ 6 ; sample size for the DDM: 198\n",
      "Subject_ 7 ; sample size for the DDM: 216\n",
      "Subject_ 8 ; sample size for the DDM: 216\n",
      "Subject_ 9 ; sample size for the DDM: 204\n",
      "Subject_ 10 ; sample size for the DDM: 216\n",
      "Subject_ 11 ; sample size for the DDM: 216\n",
      "Subject_ 12 ; sample size for the DDM: 211\n",
      "Subject_ 13 ; sample size for the DDM: 211\n",
      "Subject_ 14 ; sample size for the DDM: 216\n",
      "Subject_ 15 ; sample size for the DDM: 216\n",
      "Subject_ 16 ; sample size for the DDM: 215\n",
      "Subject_ 17 ; sample size for the DDM: 212\n",
      "Subject_ 18 ; sample size for the DDM: 216\n",
      "Subject_ 19 ; sample size for the DDM: 216\n",
      "Subject_ 20 ; sample size for the DDM: 212\n",
      "Subject_ 21 ; sample size for the DDM: 200\n",
      "Subject_ 22 ; sample size for the DDM: 216\n",
      "Subject_ 23 ; sample size for the DDM: 216\n",
      "Subject_ 24 ; sample size for the DDM: 216\n",
      "Subject_ 25 ; sample size for the DDM: 213\n",
      "Subject_ 26 ; sample size for the DDM: 213\n",
      "Subject_ 27 ; sample size for the DDM: 216\n",
      "Subject_ 28 ; sample size for the DDM: 213\n",
      "Subject_ 29 ; sample size for the DDM: 216\n",
      "Subject_ 30 ; sample size for the DDM: 215\n",
      "Subject_ 31 ; sample size for the DDM: 214\n",
      "Subject_ 32 ; sample size for the DDM: 216\n",
      "Subject_ 33 ; sample size for the DDM: 214\n",
      "Subject_ 34 ; sample size for the DDM: 214\n",
      "Subject_ 35 ; sample size for the DDM: 216\n",
      "Subject_ 36 ; sample size for the DDM: 209\n",
      "Subject_ 37 ; sample size for the DDM: 208\n",
      "Subject_ 38 ; sample size for the DDM: 212\n",
      "Subject_ 39 ; sample size for the DDM: 216\n",
      "Subject_ 40 ; sample size for the DDM: 214\n",
      "Subject_ 41 ; sample size for the DDM: 216\n",
      "Subject_ 42 ; sample size for the DDM: 199\n",
      "Subject_ 43 ; sample size for the DDM: 211\n",
      "Subject_ 44 ; sample size for the DDM: 208\n",
      "Subject_ 45 ; sample size for the DDM: 210\n",
      "Subject_ 46 ; sample size for the DDM: 212\n",
      "Subject_ 47 ; sample size for the DDM: 193\n",
      "Subject_ 48 ; sample size for the DDM: 215\n",
      "Subject_ 49 ; sample size for the DDM: 167\n",
      "Subject_ 50 ; sample size for the DDM: 170\n",
      "Subject_ 51 ; sample size for the DDM: 209\n",
      "Subject_ 52 ; sample size for the DDM: 213\n",
      "Subject_ 53 ; sample size for the DDM: 205\n",
      "Subject_ 54 ; sample size for the DDM: 211\n",
      "Subject_ 55 ; sample size for the DDM: 200\n",
      "Subject_ 56 ; sample size for the DDM: 216\n",
      "Subject_ 57 ; sample size for the DDM: 210\n",
      "Subject_ 58 ; sample size for the DDM: 204\n",
      "Subject_ 59 ; sample size for the DDM: 215\n",
      "Subject_ 60 ; sample size for the DDM: 208\n",
      "Subject_ 61 ; sample size for the DDM: 216\n",
      "Subject_ 62 ; sample size for the DDM: 211\n",
      "Subject_ 63 ; sample size for the DDM: 207\n",
      "Subject_ 64 ; sample size for the DDM: 205\n",
      "Subject_ 65 ; sample size for the DDM: 216\n",
      "Subject_ 66 ; sample size for the DDM: 213\n",
      "Subject_ 67 ; sample size for the DDM: 204\n",
      "Subject_ 68 ; sample size for the DDM: 214\n",
      "Subject_ 69 ; sample size for the DDM: 212\n",
      "Subject_ 70 ; sample size for the DDM: 143\n",
      "Subject_ 71 ; sample size for the DDM: 215\n",
      "Subject_ 72 ; sample size for the DDM: 156\n",
      "Subject_ 73 ; sample size for the DDM: 183\n",
      "Subject_ 74 ; sample size for the DDM: 186\n",
      "Subject_ 75 ; sample size for the DDM: 216\n",
      "Subject_ 76 ; sample size for the DDM: 212\n",
      "Subject_ 77 ; sample size for the DDM: 208\n",
      "Subject_ 78 ; sample size for the DDM: 214\n",
      "Subject_ 79 ; sample size for the DDM: 216\n",
      "Subject_ 80 ; sample size for the DDM: 216\n",
      "Subject_ 81 ; sample size for the DDM: 214\n",
      "Subject_ 82 ; sample size for the DDM: 215\n",
      "Subject_ 83 ; sample size for the DDM: 213\n",
      "Subject_ 84 ; sample size for the DDM: 208\n",
      "Subject_ 85 ; sample size for the DDM: 214\n",
      "Subject_ 86 ; sample size for the DDM: 147\n",
      "Subject_ 87 ; sample size for the DDM: 134\n",
      "Subject_ 88 ; sample size for the DDM: 214\n",
      "Subject_ 89 ; sample size for the DDM: 216\n",
      "Subject_ 90 ; sample size for the DDM: 211\n",
      "Subject_ 91 ; sample size for the DDM: 205\n",
      "Subject_ 92 ; sample size for the DDM: 215\n",
      "Subject_ 93 ; sample size for the DDM: 213\n",
      "Subject_ 94 ; sample size for the DDM: 213\n",
      "Subject_ 95 ; sample size for the DDM: 212\n",
      "Subject_ 96 ; sample size for the DDM: 205\n",
      "Subject_ 97 ; sample size for the DDM: 216\n"
     ]
    }
   ],
   "source": [
    "for subject in data1['subject'].unique():\n",
    "    current_subject = data1[data1['subject'] == subject]\n",
    "    \n",
    "    print(\"Subject_\", subject, \"; sample size for the DDM:\", current_subject.shape[0])\n",
    "    \n"
   ]
  },
  {
   "cell_type": "code",
   "execution_count": null,
   "metadata": {},
   "outputs": [],
   "source": []
  },
  {
   "cell_type": "code",
   "execution_count": null,
   "metadata": {},
   "outputs": [],
   "source": []
  },
  {
   "cell_type": "code",
   "execution_count": null,
   "metadata": {},
   "outputs": [],
   "source": []
  },
  {
   "cell_type": "markdown",
   "metadata": {},
   "source": [
    "# Correlational matrix for psychometric test scores"
   ]
  },
  {
   "cell_type": "markdown",
   "metadata": {},
   "source": [
    "### Pearson"
   ]
  },
  {
   "cell_type": "code",
   "execution_count": 8,
   "metadata": {},
   "outputs": [
    {
     "name": "stdout",
     "output_type": "stream",
     "text": [
      "           reflection     BNT     NFC      FI  inv_d  B\n",
      "reflection          -     ***               *          \n",
      "BNT             0.582       -                          \n",
      "NFC             0.109  -0.021       -             **   \n",
      "FI             -0.206  -0.067   0.175       -         *\n",
      "inv_d          -0.191  -0.004  -0.279  -0.039      -   \n",
      "B               0.133   0.067   0.055  -0.205  0.036  -\n"
     ]
    }
   ],
   "source": [
    "# all subjects\n",
    "idt_corr_pv = idt[['reflection', 'BNT', 'NFC', 'FI', 'inv_d', 'B']].rcorr()\n",
    "print(idt_corr_pv)\n"
   ]
  },
  {
   "cell_type": "markdown",
   "metadata": {},
   "source": [
    "### Spearman"
   ]
  },
  {
   "cell_type": "code",
   "execution_count": 9,
   "metadata": {},
   "outputs": [
    {
     "name": "stdout",
     "output_type": "stream",
     "text": [
      "           reflection     BNT     NFC      FI  inv_d  B\n",
      "reflection          -     ***               *      *   \n",
      "BNT              0.59       -                          \n",
      "NFC             0.109  -0.034       -              *   \n",
      "FI             -0.235  -0.121   0.182       -          \n",
      "inv_d          -0.221  -0.021  -0.238   -0.01      -   \n",
      "B               0.138   0.072   0.024  -0.192  0.006  -\n"
     ]
    }
   ],
   "source": [
    "# all subjects\n",
    "idt_corr_pv = idt[['reflection', 'BNT', 'NFC', 'FI', 'inv_d', 'B']].rcorr(method = 'spearman')\n",
    "print(idt_corr_pv)\n"
   ]
  },
  {
   "cell_type": "code",
   "execution_count": null,
   "metadata": {},
   "outputs": [],
   "source": []
  },
  {
   "cell_type": "markdown",
   "metadata": {},
   "source": [
    "## Other correlational analysis"
   ]
  },
  {
   "cell_type": "code",
   "execution_count": 10,
   "metadata": {},
   "outputs": [
    {
     "data": {
      "text/plain": [
       "(-0.262633876935005, 0.009352204935798518)"
      ]
     },
     "execution_count": 10,
     "metadata": {},
     "output_type": "execute_result"
    }
   ],
   "source": [
    "pearsonr(idt['reflection'], idt['error_choice'])\n"
   ]
  },
  {
   "cell_type": "code",
   "execution_count": 11,
   "metadata": {},
   "outputs": [
    {
     "data": {
      "text/plain": [
       "(-0.2131106691025189, 0.036097502289830045)"
      ]
     },
     "execution_count": 11,
     "metadata": {},
     "output_type": "execute_result"
    }
   ],
   "source": [
    "pearsonr(idt['NFC'], idt['error_choice'])\n"
   ]
  },
  {
   "cell_type": "code",
   "execution_count": 12,
   "metadata": {},
   "outputs": [
    {
     "data": {
      "text/plain": [
       "(0.05890519581796026, 0.5665593425626619)"
      ]
     },
     "execution_count": 12,
     "metadata": {},
     "output_type": "execute_result"
    }
   ],
   "source": [
    "pearsonr(idt['reflection'], idt['decmode'])\n"
   ]
  },
  {
   "cell_type": "code",
   "execution_count": 13,
   "metadata": {},
   "outputs": [
    {
     "data": {
      "text/plain": [
       "(0.3006639130303834, 0.002768202272437912)"
      ]
     },
     "execution_count": 13,
     "metadata": {},
     "output_type": "execute_result"
    }
   ],
   "source": [
    "pearsonr(idt['NFC'], idt['decmode'])\n"
   ]
  },
  {
   "cell_type": "code",
   "execution_count": null,
   "metadata": {},
   "outputs": [],
   "source": []
  },
  {
   "cell_type": "code",
   "execution_count": 14,
   "metadata": {},
   "outputs": [
    {
     "data": {
      "text/plain": [
       "(-0.19194806941610934, 0.05963043256759456)"
      ]
     },
     "execution_count": 14,
     "metadata": {},
     "output_type": "execute_result"
    }
   ],
   "source": [
    "pearsonr(idt['mean_RT'], idt['error_choice'])\n",
    "\n"
   ]
  },
  {
   "cell_type": "code",
   "execution_count": null,
   "metadata": {},
   "outputs": [],
   "source": []
  }
 ],
 "metadata": {
  "kernelspec": {
   "display_name": "Python [conda env:root] *",
   "language": "python",
   "name": "conda-root-py"
  },
  "language_info": {
   "codemirror_mode": {
    "name": "ipython",
    "version": 3
   },
   "file_extension": ".py",
   "mimetype": "text/x-python",
   "name": "python",
   "nbconvert_exporter": "python",
   "pygments_lexer": "ipython3",
   "version": "3.9.7"
  }
 },
 "nbformat": 4,
 "nbformat_minor": 4
}
