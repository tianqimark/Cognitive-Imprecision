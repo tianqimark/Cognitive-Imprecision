{
 "cells": [
  {
   "cell_type": "code",
   "execution_count": 3,
   "metadata": {},
   "outputs": [],
   "source": [
    "library(lme4)\n",
    "library(lmerTest)\n",
    "library(nlme)\n",
    "library(ggplot2)\n",
    "library(grid)\n",
    "library(gridExtra)\n",
    "library(lattice)\n",
    "library(plyr)\n",
    "library(MASS)\n",
    "library(stats4)\n",
    "library(dplyr)\n",
    "library(car)"
   ]
  },
  {
   "cell_type": "markdown",
   "metadata": {},
   "source": [
    "# This analysis is for the version AM_n001_10s_B1, risk division"
   ]
  },
  {
   "cell_type": "markdown",
   "metadata": {},
   "source": [
    "## Test d and B in prediction"
   ]
  },
  {
   "cell_type": "markdown",
   "metadata": {},
   "source": [
    "## Load data and preprocessing"
   ]
  },
  {
   "cell_type": "code",
   "execution_count": 4,
   "metadata": {},
   "outputs": [],
   "source": [
    "data_raw <- read.table(\"/Users/hutianqi/Desktop/Project Cognitive Imprecision/Z1C Dataset_BU/trialsBUM_10s.csv\", header=TRUE, sep=\",\")\n",
    "\n",
    "data_raw$logRT <- log(1 + data_raw$RT)\n",
    "\n",
    "# make a copy of mydata where less than 300ms and more than 10s rounds are rejected\n",
    "data1 <- subset(data_raw, RT > .3 & RT < 10)\n",
    "\n",
    "# create another dataset in wh subjects with error_choice > 5 are rejected\n",
    "data2 <- subset(data1, error_choice <= 5)\n",
    "\n"
   ]
  },
  {
   "cell_type": "code",
   "execution_count": 3,
   "metadata": {},
   "outputs": [
    {
     "data": {
      "text/html": [
       "<ol class=list-inline>\n",
       "\t<li>'subject'</li>\n",
       "\t<li>'trial'</li>\n",
       "\t<li>'treatment'</li>\n",
       "\t<li>'lot_code'</li>\n",
       "\t<li>'risk'</li>\n",
       "\t<li>'reward'</li>\n",
       "\t<li>'WTP'</li>\n",
       "\t<li>'certainty'</li>\n",
       "\t<li>'RT'</li>\n",
       "\t<li>'choice'</li>\n",
       "\t<li>'slc_lot'</li>\n",
       "\t<li>'display'</li>\n",
       "\t<li>'correct'</li>\n",
       "\t<li>'decmode'</li>\n",
       "\t<li>'reflection'</li>\n",
       "\t<li>'intuition'</li>\n",
       "\t<li>'BNT'</li>\n",
       "\t<li>'NFC'</li>\n",
       "\t<li>'FI'</li>\n",
       "\t<li>'value_diff'</li>\n",
       "\t<li>'value_sum'</li>\n",
       "\t<li>'lottery_favour'</li>\n",
       "\t<li>'lot_correct'</li>\n",
       "\t<li>'error_choice'</li>\n",
       "\t<li>'accuracy'</li>\n",
       "\t<li>'risk_level'</li>\n",
       "\t<li>'d'</li>\n",
       "\t<li>'B'</li>\n",
       "\t<li>'x0'</li>\n",
       "\t<li>'nondectime'</li>\n",
       "\t<li>'logRT'</li>\n",
       "</ol>\n"
      ],
      "text/latex": [
       "\\begin{enumerate*}\n",
       "\\item 'subject'\n",
       "\\item 'trial'\n",
       "\\item 'treatment'\n",
       "\\item 'lot\\_code'\n",
       "\\item 'risk'\n",
       "\\item 'reward'\n",
       "\\item 'WTP'\n",
       "\\item 'certainty'\n",
       "\\item 'RT'\n",
       "\\item 'choice'\n",
       "\\item 'slc\\_lot'\n",
       "\\item 'display'\n",
       "\\item 'correct'\n",
       "\\item 'decmode'\n",
       "\\item 'reflection'\n",
       "\\item 'intuition'\n",
       "\\item 'BNT'\n",
       "\\item 'NFC'\n",
       "\\item 'FI'\n",
       "\\item 'value\\_diff'\n",
       "\\item 'value\\_sum'\n",
       "\\item 'lottery\\_favour'\n",
       "\\item 'lot\\_correct'\n",
       "\\item 'error\\_choice'\n",
       "\\item 'accuracy'\n",
       "\\item 'risk\\_level'\n",
       "\\item 'd'\n",
       "\\item 'B'\n",
       "\\item 'x0'\n",
       "\\item 'nondectime'\n",
       "\\item 'logRT'\n",
       "\\end{enumerate*}\n"
      ],
      "text/markdown": [
       "1. 'subject'\n",
       "2. 'trial'\n",
       "3. 'treatment'\n",
       "4. 'lot_code'\n",
       "5. 'risk'\n",
       "6. 'reward'\n",
       "7. 'WTP'\n",
       "8. 'certainty'\n",
       "9. 'RT'\n",
       "10. 'choice'\n",
       "11. 'slc_lot'\n",
       "12. 'display'\n",
       "13. 'correct'\n",
       "14. 'decmode'\n",
       "15. 'reflection'\n",
       "16. 'intuition'\n",
       "17. 'BNT'\n",
       "18. 'NFC'\n",
       "19. 'FI'\n",
       "20. 'value_diff'\n",
       "21. 'value_sum'\n",
       "22. 'lottery_favour'\n",
       "23. 'lot_correct'\n",
       "24. 'error_choice'\n",
       "25. 'accuracy'\n",
       "26. 'risk_level'\n",
       "27. 'd'\n",
       "28. 'B'\n",
       "29. 'x0'\n",
       "30. 'nondectime'\n",
       "31. 'logRT'\n",
       "\n",
       "\n"
      ],
      "text/plain": [
       " [1] \"subject\"        \"trial\"          \"treatment\"      \"lot_code\"      \n",
       " [5] \"risk\"           \"reward\"         \"WTP\"            \"certainty\"     \n",
       " [9] \"RT\"             \"choice\"         \"slc_lot\"        \"display\"       \n",
       "[13] \"correct\"        \"decmode\"        \"reflection\"     \"intuition\"     \n",
       "[17] \"BNT\"            \"NFC\"            \"FI\"             \"value_diff\"    \n",
       "[21] \"value_sum\"      \"lottery_favour\" \"lot_correct\"    \"error_choice\"  \n",
       "[25] \"accuracy\"       \"risk_level\"     \"d\"              \"B\"             \n",
       "[29] \"x0\"             \"nondectime\"     \"logRT\"         "
      ]
     },
     "metadata": {},
     "output_type": "display_data"
    }
   ],
   "source": [
    "names(data1)"
   ]
  },
  {
   "cell_type": "markdown",
   "metadata": {},
   "source": [
    "# Predicting choice with the full set of DDM paramerters (SNR, x0)"
   ]
  },
  {
   "cell_type": "markdown",
   "metadata": {},
   "source": [
    "###  All continuous variables are scaled due to the inclusion of interactive terms and to avoid the error \"Model failed to converge with max|grad|\".\n",
    "Interactive effects between the \"lottery_favour and WTP\"."
   ]
  },
  {
   "cell_type": "code",
   "execution_count": 4,
   "metadata": {
    "scrolled": true
   },
   "outputs": [
    {
     "name": "stderr",
     "output_type": "stream",
     "text": [
      "\n",
      "Correlation matrix not shown by default, as p = 13 > 12.\n",
      "Use print(obj, correlation=TRUE)  or\n",
      "    vcov(obj)        if you need it\n",
      "\n"
     ]
    },
    {
     "data": {
      "text/plain": [
       "Linear mixed model fit by REML. t-tests use Satterthwaite's method [\n",
       "lmerModLmerTest]\n",
       "Formula: slc_lot ~ (scale(lottery_favour) * scale(WTP) + scale(d) + scale(B) +  \n",
       "    scale(x0)):treatment + (1 | subject)\n",
       "   Data: data1\n",
       "\n",
       "REML criterion at convergence: 17935.6\n",
       "\n",
       "Scaled residuals: \n",
       "    Min      1Q  Median      3Q     Max \n",
       "-2.4857 -0.9149  0.0319  0.8624  3.1736 \n",
       "\n",
       "Random effects:\n",
       " Groups   Name        Variance Std.Dev.\n",
       " subject  (Intercept) 0.007564 0.08697 \n",
       " Residual             0.190629 0.43661 \n",
       "Number of obs: 14987, groups:  subject, 72\n",
       "\n",
       "Fixed effects:\n",
       "                                              Estimate Std. Error         df\n",
       "(Intercept)                                  4.897e-01  1.122e-02  6.658e+01\n",
       "scale(lottery_favour):treatmentA             1.811e-01  6.023e-03  1.457e+04\n",
       "scale(lottery_favour):treatmentE             2.347e-01  6.723e-03  1.421e+04\n",
       "scale(WTP):treatmentA                       -4.082e-03  6.507e-03  1.415e+04\n",
       "scale(WTP):treatmentE                       -3.080e-02  6.190e-03  1.484e+04\n",
       "scale(d):treatmentA                          1.121e-02  1.596e-02  6.294e+01\n",
       "scale(d):treatmentE                          6.009e-02  1.621e-02  6.307e+01\n",
       "scale(B):treatmentA                          2.033e-02  1.509e-02  6.332e+01\n",
       "scale(B):treatmentE                          1.566e-02  1.726e-02  6.322e+01\n",
       "scale(x0):treatmentA                         1.476e-01  1.502e-02  6.297e+01\n",
       "scale(x0):treatmentE                         1.503e-01  1.814e-02  6.274e+01\n",
       "scale(lottery_favour):scale(WTP):treatmentA -2.227e-02  5.151e-03  1.172e+04\n",
       "scale(lottery_favour):scale(WTP):treatmentE -4.466e-02  5.277e-03  1.325e+04\n",
       "                                            t value Pr(>|t|)    \n",
       "(Intercept)                                  43.659  < 2e-16 ***\n",
       "scale(lottery_favour):treatmentA             30.073  < 2e-16 ***\n",
       "scale(lottery_favour):treatmentE             34.908  < 2e-16 ***\n",
       "scale(WTP):treatmentA                        -0.627 0.530452    \n",
       "scale(WTP):treatmentE                        -4.976 6.57e-07 ***\n",
       "scale(d):treatmentA                           0.703 0.484932    \n",
       "scale(d):treatmentE                           3.706 0.000446 ***\n",
       "scale(B):treatmentA                           1.347 0.182695    \n",
       "scale(B):treatmentE                           0.907 0.367743    \n",
       "scale(x0):treatmentA                          9.829 2.46e-14 ***\n",
       "scale(x0):treatmentE                          8.284 1.17e-11 ***\n",
       "scale(lottery_favour):scale(WTP):treatmentA  -4.324 1.55e-05 ***\n",
       "scale(lottery_favour):scale(WTP):treatmentE  -8.463  < 2e-16 ***\n",
       "---\n",
       "Signif. codes:  0 ‘***’ 0.001 ‘**’ 0.01 ‘*’ 0.05 ‘.’ 0.1 ‘ ’ 1"
      ]
     },
     "metadata": {},
     "output_type": "display_data"
    }
   ],
   "source": [
    "# All subjects\n",
    "summary(lmer(slc_lot ~ (scale(lottery_favour)*scale(WTP) + scale(d) + scale(B) + scale(x0)):treatment + (1|subject), data1))\n"
   ]
  },
  {
   "cell_type": "code",
   "execution_count": 5,
   "metadata": {
    "scrolled": true
   },
   "outputs": [
    {
     "name": "stderr",
     "output_type": "stream",
     "text": [
      "\n",
      "Correlation matrix not shown by default, as p = 13 > 12.\n",
      "Use print(obj, correlation=TRUE)  or\n",
      "    vcov(obj)        if you need it\n",
      "\n"
     ]
    },
    {
     "data": {
      "text/plain": [
       "Linear mixed model fit by REML. t-tests use Satterthwaite's method [\n",
       "lmerModLmerTest]\n",
       "Formula: slc_lot ~ (scale(lottery_favour) * scale(WTP) + scale(d) + scale(B) +  \n",
       "    scale(x0)):treatment + (1 | subject)\n",
       "   Data: data2\n",
       "\n",
       "REML criterion at convergence: 11184.7\n",
       "\n",
       "Scaled residuals: \n",
       "    Min      1Q  Median      3Q     Max \n",
       "-2.4611 -0.8684 -0.0490  0.8355  3.7830 \n",
       "\n",
       "Random effects:\n",
       " Groups   Name        Variance Std.Dev.\n",
       " subject  (Intercept) 0.006228 0.07892 \n",
       " Residual             0.168107 0.41001 \n",
       "Number of obs: 10425, groups:  subject, 50\n",
       "\n",
       "Fixed effects:\n",
       "                                              Estimate Std. Error         df\n",
       "(Intercept)                                  4.482e-01  1.226e-02  4.409e+01\n",
       "scale(lottery_favour):treatmentA             2.383e-01  7.018e-03  1.017e+04\n",
       "scale(lottery_favour):treatmentE             2.870e-01  7.220e-03  9.618e+03\n",
       "scale(WTP):treatmentA                       -4.244e-02  7.582e-03  9.974e+03\n",
       "scale(WTP):treatmentE                       -7.644e-02  6.724e-03  1.023e+04\n",
       "scale(d):treatmentA                          1.845e-02  2.204e-02  4.150e+01\n",
       "scale(d):treatmentE                          5.478e-02  1.649e-02  4.186e+01\n",
       "scale(B):treatmentA                          6.888e-03  1.925e-02  4.139e+01\n",
       "scale(B):treatmentE                          2.569e-02  1.702e-02  4.186e+01\n",
       "scale(x0):treatmentA                         1.351e-01  2.047e-02  4.141e+01\n",
       "scale(x0):treatmentE                         1.799e-01  2.106e-02  4.160e+01\n",
       "scale(lottery_favour):scale(WTP):treatmentA -1.166e-02  6.094e-03  7.872e+03\n",
       "scale(lottery_favour):scale(WTP):treatmentE -3.520e-02  5.595e-03  8.950e+03\n",
       "                                            t value Pr(>|t|)    \n",
       "(Intercept)                                  36.569  < 2e-16 ***\n",
       "scale(lottery_favour):treatmentA             33.947  < 2e-16 ***\n",
       "scale(lottery_favour):treatmentE             39.753  < 2e-16 ***\n",
       "scale(WTP):treatmentA                        -5.597 2.24e-08 ***\n",
       "scale(WTP):treatmentE                       -11.369  < 2e-16 ***\n",
       "scale(d):treatmentA                           0.837  0.40741    \n",
       "scale(d):treatmentE                           3.322  0.00186 ** \n",
       "scale(B):treatmentA                           0.358  0.72234    \n",
       "scale(B):treatmentE                           1.510  0.13859    \n",
       "scale(x0):treatmentA                          6.601 5.79e-08 ***\n",
       "scale(x0):treatmentE                          8.542 1.07e-10 ***\n",
       "scale(lottery_favour):scale(WTP):treatmentA  -1.914  0.05568 .  \n",
       "scale(lottery_favour):scale(WTP):treatmentE  -6.291 3.29e-10 ***\n",
       "---\n",
       "Signif. codes:  0 ‘***’ 0.001 ‘**’ 0.01 ‘*’ 0.05 ‘.’ 0.1 ‘ ’ 1"
      ]
     },
     "metadata": {},
     "output_type": "display_data"
    }
   ],
   "source": [
    "# without low-attention individuals\n",
    "summary(lmer(slc_lot ~ (scale(lottery_favour)*scale(WTP) + scale(d) + scale(B) + scale(x0)):treatment + (1|subject), data2))\n"
   ]
  },
  {
   "cell_type": "markdown",
   "metadata": {},
   "source": [
    "#  Predicting choice with the DDM paramerters and psychometric measurements\n",
    "Interactive effects between the \"lottery_favour and WTP\" are included."
   ]
  },
  {
   "cell_type": "code",
   "execution_count": 6,
   "metadata": {
    "scrolled": true
   },
   "outputs": [
    {
     "name": "stderr",
     "output_type": "stream",
     "text": [
      "\n",
      "Correlation matrix not shown by default, as p = 21 > 12.\n",
      "Use print(obj, correlation=TRUE)  or\n",
      "    vcov(obj)        if you need it\n",
      "\n"
     ]
    },
    {
     "data": {
      "text/plain": [
       "Linear mixed model fit by REML. t-tests use Satterthwaite's method [\n",
       "lmerModLmerTest]\n",
       "Formula: slc_lot ~ (scale(lottery_favour) * scale(WTP) + scale(d) + scale(B) +  \n",
       "    scale(x0) + scale(reflection) + scale(BNT) + scale(NFC) +  \n",
       "    scale(FI)):treatment + (1 | subject)\n",
       "   Data: data1\n",
       "\n",
       "REML criterion at convergence: 17974\n",
       "\n",
       "Scaled residuals: \n",
       "    Min      1Q  Median      3Q     Max \n",
       "-2.4840 -0.9165  0.0351  0.8621  3.1719 \n",
       "\n",
       "Random effects:\n",
       " Groups   Name        Variance Std.Dev.\n",
       " subject  (Intercept) 0.007062 0.08404 \n",
       " Residual             0.190629 0.43661 \n",
       "Number of obs: 14987, groups:  subject, 72\n",
       "\n",
       "Fixed effects:\n",
       "                                              Estimate Std. Error         df\n",
       "(Intercept)                                  4.844e-01  1.115e-02  5.790e+01\n",
       "scale(lottery_favour):treatmentA             1.811e-01  6.025e-03  1.451e+04\n",
       "scale(lottery_favour):treatmentE             2.348e-01  6.733e-03  1.434e+04\n",
       "scale(WTP):treatmentA                       -4.208e-03  6.511e-03  1.407e+04\n",
       "scale(WTP):treatmentE                       -3.068e-02  6.196e-03  1.487e+04\n",
       "scale(d):treatmentA                          9.638e-03  1.706e-02  5.483e+01\n",
       "scale(d):treatmentE                          5.599e-02  1.764e-02  5.532e+01\n",
       "scale(B):treatmentA                          2.062e-02  1.543e-02  5.551e+01\n",
       "scale(B):treatmentE                          2.172e-02  1.899e-02  5.500e+01\n",
       "scale(x0):treatmentA                         1.485e-01  1.504e-02  5.491e+01\n",
       "scale(x0):treatmentE                         1.478e-01  1.965e-02  5.481e+01\n",
       "scale(reflection):treatmentA                -3.606e-03  2.045e-02  5.510e+01\n",
       "scale(reflection):treatmentE                 3.890e-02  1.982e-02  5.558e+01\n",
       "scale(BNT):treatmentA                        1.536e-02  2.204e-02  5.495e+01\n",
       "scale(BNT):treatmentE                       -4.454e-02  1.685e-02  5.475e+01\n",
       "scale(NFC):treatmentA                        1.575e-02  1.917e-02  5.517e+01\n",
       "scale(NFC):treatmentE                       -7.678e-03  1.385e-02  5.507e+01\n",
       "scale(FI):treatmentA                        -6.066e-03  1.540e-02  5.477e+01\n",
       "scale(FI):treatmentE                         2.585e-02  1.808e-02  5.509e+01\n",
       "scale(lottery_favour):scale(WTP):treatmentA -2.205e-02  5.151e-03  1.126e+04\n",
       "scale(lottery_favour):scale(WTP):treatmentE -4.540e-02  5.292e-03  1.368e+04\n",
       "                                            t value Pr(>|t|)    \n",
       "(Intercept)                                  43.450  < 2e-16 ***\n",
       "scale(lottery_favour):treatmentA             30.056  < 2e-16 ***\n",
       "scale(lottery_favour):treatmentE             34.874  < 2e-16 ***\n",
       "scale(WTP):treatmentA                        -0.646  0.51807    \n",
       "scale(WTP):treatmentE                        -4.952 7.42e-07 ***\n",
       "scale(d):treatmentA                           0.565  0.57432    \n",
       "scale(d):treatmentE                           3.174  0.00245 ** \n",
       "scale(B):treatmentA                           1.336  0.18695    \n",
       "scale(B):treatmentE                           1.144  0.25765    \n",
       "scale(x0):treatmentA                          9.870 9.04e-14 ***\n",
       "scale(x0):treatmentE                          7.522 5.36e-10 ***\n",
       "scale(reflection):treatmentA                 -0.176  0.86067    \n",
       "scale(reflection):treatmentE                  1.963  0.05470 .  \n",
       "scale(BNT):treatmentA                         0.697  0.48880    \n",
       "scale(BNT):treatmentE                        -2.643  0.01070 *  \n",
       "scale(NFC):treatmentA                         0.822  0.41476    \n",
       "scale(NFC):treatmentE                        -0.554  0.58150    \n",
       "scale(FI):treatmentA                         -0.394  0.69519    \n",
       "scale(FI):treatmentE                          1.430  0.15837    \n",
       "scale(lottery_favour):scale(WTP):treatmentA  -4.280 1.88e-05 ***\n",
       "scale(lottery_favour):scale(WTP):treatmentE  -8.579  < 2e-16 ***\n",
       "---\n",
       "Signif. codes:  0 ‘***’ 0.001 ‘**’ 0.01 ‘*’ 0.05 ‘.’ 0.1 ‘ ’ 1"
      ]
     },
     "metadata": {},
     "output_type": "display_data"
    }
   ],
   "source": [
    "# All subjects\n",
    "summary(lmer(slc_lot ~ (scale(lottery_favour)*scale(WTP) + scale(d) + scale(B) + scale(x0) + scale(reflection) + scale(BNT) + scale(NFC) + scale(FI)):treatment + (1|subject), data1))\n"
   ]
  },
  {
   "cell_type": "code",
   "execution_count": 7,
   "metadata": {
    "scrolled": true
   },
   "outputs": [
    {
     "name": "stderr",
     "output_type": "stream",
     "text": [
      "\n",
      "Correlation matrix not shown by default, as p = 21 > 12.\n",
      "Use print(obj, correlation=TRUE)  or\n",
      "    vcov(obj)        if you need it\n",
      "\n"
     ]
    },
    {
     "data": {
      "text/plain": [
       "Linear mixed model fit by REML. t-tests use Satterthwaite's method [\n",
       "lmerModLmerTest]\n",
       "Formula: slc_lot ~ (scale(lottery_favour) * scale(WTP) + scale(d) + scale(B) +  \n",
       "    scale(x0) + scale(reflection) + scale(BNT) + scale(NFC) +  \n",
       "    scale(FI)):treatment + (1 | subject)\n",
       "   Data: data2\n",
       "\n",
       "REML criterion at convergence: 11213.1\n",
       "\n",
       "Scaled residuals: \n",
       "    Min      1Q  Median      3Q     Max \n",
       "-2.4725 -0.8694 -0.0410  0.8394  3.8007 \n",
       "\n",
       "Random effects:\n",
       " Groups   Name        Variance Std.Dev.\n",
       " subject  (Intercept) 0.004363 0.06605 \n",
       " Residual             0.168109 0.41001 \n",
       "Number of obs: 10425, groups:  subject, 50\n",
       "\n",
       "Fixed effects:\n",
       "                                              Estimate Std. Error         df\n",
       "(Intercept)                                  4.389e-01  1.161e-02  3.533e+01\n",
       "scale(lottery_favour):treatmentA             2.382e-01  7.012e-03  9.950e+03\n",
       "scale(lottery_favour):treatmentE             2.870e-01  7.226e-03  9.502e+03\n",
       "scale(WTP):treatmentA                       -4.281e-02  7.576e-03  9.683e+03\n",
       "scale(WTP):treatmentE                       -7.637e-02  6.729e-03  1.021e+04\n",
       "scale(d):treatmentA                         -5.960e-03  2.227e-02  3.321e+01\n",
       "scale(d):treatmentE                          4.542e-02  1.606e-02  3.417e+01\n",
       "scale(B):treatmentA                         -3.014e-03  2.143e-02  3.328e+01\n",
       "scale(B):treatmentE                          3.980e-02  1.631e-02  3.357e+01\n",
       "scale(x0):treatmentA                         1.537e-01  2.023e-02  3.332e+01\n",
       "scale(x0):treatmentE                         1.460e-01  2.108e-02  3.337e+01\n",
       "scale(reflection):treatmentA                 2.710e-02  2.509e-02  3.361e+01\n",
       "scale(reflection):treatmentE                 6.227e-02  2.042e-02  3.424e+01\n",
       "scale(BNT):treatmentA                        3.211e-03  2.528e-02  3.353e+01\n",
       "scale(BNT):treatmentE                       -4.332e-02  1.647e-02  3.326e+01\n",
       "scale(NFC):treatmentA                       -1.291e-02  2.378e-02  3.340e+01\n",
       "scale(NFC):treatmentE                       -2.064e-02  1.291e-02  3.345e+01\n",
       "scale(FI):treatmentA                         3.849e-02  1.748e-02  3.377e+01\n",
       "scale(FI):treatmentE                         5.275e-02  1.860e-02  3.392e+01\n",
       "scale(lottery_favour):scale(WTP):treatmentA -1.060e-02  6.084e-03  6.956e+03\n",
       "scale(lottery_favour):scale(WTP):treatmentE -3.604e-02  5.605e-03  8.906e+03\n",
       "                                            t value Pr(>|t|)    \n",
       "(Intercept)                                  37.804  < 2e-16 ***\n",
       "scale(lottery_favour):treatmentA             33.969  < 2e-16 ***\n",
       "scale(lottery_favour):treatmentE             39.715  < 2e-16 ***\n",
       "scale(WTP):treatmentA                        -5.652 1.63e-08 ***\n",
       "scale(WTP):treatmentE                       -11.350  < 2e-16 ***\n",
       "scale(d):treatmentA                          -0.268  0.79064    \n",
       "scale(d):treatmentE                           2.828  0.00777 ** \n",
       "scale(B):treatmentA                          -0.141  0.88898    \n",
       "scale(B):treatmentE                           2.440  0.02012 *  \n",
       "scale(x0):treatmentA                          7.597 9.07e-09 ***\n",
       "scale(x0):treatmentE                          6.928 6.09e-08 ***\n",
       "scale(reflection):treatmentA                  1.080  0.28776    \n",
       "scale(reflection):treatmentE                  3.049  0.00441 ** \n",
       "scale(BNT):treatmentA                         0.127  0.89970    \n",
       "scale(BNT):treatmentE                        -2.631  0.01279 *  \n",
       "scale(NFC):treatmentA                        -0.543  0.59086    \n",
       "scale(NFC):treatmentE                        -1.598  0.11946    \n",
       "scale(FI):treatmentA                          2.203  0.03454 *  \n",
       "scale(FI):treatmentE                          2.835  0.00766 ** \n",
       "scale(lottery_favour):scale(WTP):treatmentA  -1.743  0.08136 .  \n",
       "scale(lottery_favour):scale(WTP):treatmentE  -6.431 1.33e-10 ***\n",
       "---\n",
       "Signif. codes:  0 ‘***’ 0.001 ‘**’ 0.01 ‘*’ 0.05 ‘.’ 0.1 ‘ ’ 1"
      ]
     },
     "metadata": {},
     "output_type": "display_data"
    }
   ],
   "source": [
    "# without low-attention individuals\n",
    "summary(lmer(slc_lot ~ (scale(lottery_favour)*scale(WTP) + scale(d) + scale(B) + scale(x0) + scale(reflection) + scale(BNT) + scale(NFC) + scale(FI)):treatment + (1|subject), data2))\n",
    "\n"
   ]
  },
  {
   "cell_type": "markdown",
   "metadata": {},
   "source": [
    "# Predicting choice with psychometric measurements alone"
   ]
  },
  {
   "cell_type": "code",
   "execution_count": 8,
   "metadata": {
    "scrolled": true
   },
   "outputs": [
    {
     "name": "stderr",
     "output_type": "stream",
     "text": [
      "\n",
      "Correlation matrix not shown by default, as p = 15 > 12.\n",
      "Use print(obj, correlation=TRUE)  or\n",
      "    vcov(obj)        if you need it\n",
      "\n"
     ]
    },
    {
     "data": {
      "text/plain": [
       "Linear mixed model fit by REML. t-tests use Satterthwaite's method [\n",
       "lmerModLmerTest]\n",
       "Formula: slc_lot ~ (scale(lottery_favour) * scale(WTP) + scale(reflection) +  \n",
       "    scale(BNT) + scale(NFC) + scale(FI)):treatment + (1 | subject)\n",
       "   Data: data1\n",
       "\n",
       "REML criterion at convergence: 18025.6\n",
       "\n",
       "Scaled residuals: \n",
       "    Min      1Q  Median      3Q     Max \n",
       "-2.4841 -0.9171  0.0361  0.8613  3.1753 \n",
       "\n",
       "Random effects:\n",
       " Groups   Name        Variance Std.Dev.\n",
       " subject  (Intercept) 0.0297   0.1723  \n",
       " Residual             0.1906   0.4366  \n",
       "Number of obs: 14987, groups:  subject, 72\n",
       "\n",
       "Fixed effects:\n",
       "                                              Estimate Std. Error         df\n",
       "(Intercept)                                  4.879e-01  2.123e-02  6.380e+01\n",
       "scale(lottery_favour):treatmentA             1.827e-01  6.057e-03  1.497e+04\n",
       "scale(lottery_favour):treatmentE             2.378e-01  6.773e-03  1.497e+04\n",
       "scale(WTP):treatmentA                       -2.141e-03  6.557e-03  1.496e+04\n",
       "scale(WTP):treatmentE                       -2.867e-02  6.215e-03  1.496e+04\n",
       "scale(reflection):treatmentA                -7.892e-03  3.756e-02  6.283e+01\n",
       "scale(reflection):treatmentE                 6.530e-02  3.523e-02  6.296e+01\n",
       "scale(BNT):treatmentA                        2.384e-02  4.236e-02  6.286e+01\n",
       "scale(BNT):treatmentE                       -9.304e-03  3.141e-02  6.284e+01\n",
       "scale(NFC):treatmentA                       -3.302e-03  3.679e-02  6.288e+01\n",
       "scale(NFC):treatmentE                        6.073e-03  2.630e-02  6.288e+01\n",
       "scale(FI):treatmentA                        -2.916e-02  2.891e-02  6.281e+01\n",
       "scale(FI):treatmentE                         8.691e-02  3.115e-02  6.282e+01\n",
       "scale(lottery_favour):scale(WTP):treatmentA -2.361e-02  5.226e-03  1.482e+04\n",
       "scale(lottery_favour):scale(WTP):treatmentE -4.721e-02  5.331e-03  1.493e+04\n",
       "                                            t value Pr(>|t|)    \n",
       "(Intercept)                                  22.987  < 2e-16 ***\n",
       "scale(lottery_favour):treatmentA             30.168  < 2e-16 ***\n",
       "scale(lottery_favour):treatmentE             35.104  < 2e-16 ***\n",
       "scale(WTP):treatmentA                        -0.327  0.74399    \n",
       "scale(WTP):treatmentE                        -4.613 4.00e-06 ***\n",
       "scale(reflection):treatmentA                 -0.210  0.83426    \n",
       "scale(reflection):treatmentE                  1.854  0.06846 .  \n",
       "scale(BNT):treatmentA                         0.563  0.57560    \n",
       "scale(BNT):treatmentE                        -0.296  0.76804    \n",
       "scale(NFC):treatmentA                        -0.090  0.92877    \n",
       "scale(NFC):treatmentE                         0.231  0.81815    \n",
       "scale(FI):treatmentA                         -1.009  0.31700    \n",
       "scale(FI):treatmentE                          2.790  0.00697 ** \n",
       "scale(lottery_favour):scale(WTP):treatmentA  -4.519 6.27e-06 ***\n",
       "scale(lottery_favour):scale(WTP):treatmentE  -8.856  < 2e-16 ***\n",
       "---\n",
       "Signif. codes:  0 ‘***’ 0.001 ‘**’ 0.01 ‘*’ 0.05 ‘.’ 0.1 ‘ ’ 1"
      ]
     },
     "metadata": {},
     "output_type": "display_data"
    }
   ],
   "source": [
    "# all subjects\n",
    "summary(lmer(slc_lot ~ (scale(lottery_favour)*scale(WTP) + scale(reflection) + scale(BNT) + scale(NFC) + scale(FI)):treatment + (1|subject), data1))\n"
   ]
  },
  {
   "cell_type": "code",
   "execution_count": 9,
   "metadata": {
    "scrolled": true
   },
   "outputs": [
    {
     "name": "stderr",
     "output_type": "stream",
     "text": [
      "\n",
      "Correlation matrix not shown by default, as p = 15 > 12.\n",
      "Use print(obj, correlation=TRUE)  or\n",
      "    vcov(obj)        if you need it\n",
      "\n"
     ]
    },
    {
     "data": {
      "text/plain": [
       "Linear mixed model fit by REML. t-tests use Satterthwaite's method [\n",
       "lmerModLmerTest]\n",
       "Formula: slc_lot ~ (scale(lottery_favour) * scale(WTP) + scale(reflection) +  \n",
       "    scale(BNT) + scale(NFC) + scale(FI)):treatment + (1 | subject)\n",
       "   Data: data2\n",
       "\n",
       "REML criterion at convergence: 11251.9\n",
       "\n",
       "Scaled residuals: \n",
       "    Min      1Q  Median      3Q     Max \n",
       "-2.4779 -0.8729 -0.0518  0.8370  3.7854 \n",
       "\n",
       "Random effects:\n",
       " Groups   Name        Variance Std.Dev.\n",
       " subject  (Intercept) 0.02827  0.1681  \n",
       " Residual             0.16810  0.4100  \n",
       "Number of obs: 10425, groups:  subject, 50\n",
       "\n",
       "Fixed effects:\n",
       "                                              Estimate Std. Error         df\n",
       "(Intercept)                                  4.331e-01  2.653e-02  4.143e+01\n",
       "scale(lottery_favour):treatmentA             2.394e-01  7.058e-03  1.041e+04\n",
       "scale(lottery_favour):treatmentE             2.905e-01  7.286e-03  1.041e+04\n",
       "scale(WTP):treatmentA                       -4.123e-02  7.636e-03  1.041e+04\n",
       "scale(WTP):treatmentE                       -7.391e-02  6.758e-03  1.041e+04\n",
       "scale(reflection):treatmentA                -2.386e-02  5.028e-02  4.104e+01\n",
       "scale(reflection):treatmentE                 1.191e-01  4.467e-02  4.109e+01\n",
       "scale(BNT):treatmentA                        5.453e-02  5.893e-02  4.101e+01\n",
       "scale(BNT):treatmentE                       -3.139e-02  3.782e-02  4.098e+01\n",
       "scale(NFC):treatmentA                       -1.829e-02  4.559e-02  4.097e+01\n",
       "scale(NFC):treatmentE                       -1.088e-02  2.978e-02  4.096e+01\n",
       "scale(FI):treatmentA                        -2.010e-02  3.633e-02  4.105e+01\n",
       "scale(FI):treatmentE                         1.184e-01  3.482e-02  4.101e+01\n",
       "scale(lottery_favour):scale(WTP):treatmentA -1.229e-02  6.193e-03  1.035e+04\n",
       "scale(lottery_favour):scale(WTP):treatmentE -3.846e-02  5.660e-03  1.038e+04\n",
       "                                            t value Pr(>|t|)    \n",
       "(Intercept)                                  16.322  < 2e-16 ***\n",
       "scale(lottery_favour):treatmentA             33.919  < 2e-16 ***\n",
       "scale(lottery_favour):treatmentE             39.877  < 2e-16 ***\n",
       "scale(WTP):treatmentA                        -5.400 6.81e-08 ***\n",
       "scale(WTP):treatmentE                       -10.936  < 2e-16 ***\n",
       "scale(reflection):treatmentA                 -0.474  0.63769    \n",
       "scale(reflection):treatmentE                  2.666  0.01093 *  \n",
       "scale(BNT):treatmentA                         0.925  0.36020    \n",
       "scale(BNT):treatmentE                        -0.830  0.41132    \n",
       "scale(NFC):treatmentA                        -0.401  0.69031    \n",
       "scale(NFC):treatmentE                        -0.365  0.71682    \n",
       "scale(FI):treatmentA                         -0.553  0.58317    \n",
       "scale(FI):treatmentE                          3.401  0.00151 ** \n",
       "scale(lottery_favour):scale(WTP):treatmentA  -1.984  0.04730 *  \n",
       "scale(lottery_favour):scale(WTP):treatmentE  -6.796 1.13e-11 ***\n",
       "---\n",
       "Signif. codes:  0 ‘***’ 0.001 ‘**’ 0.01 ‘*’ 0.05 ‘.’ 0.1 ‘ ’ 1"
      ]
     },
     "metadata": {},
     "output_type": "display_data"
    }
   ],
   "source": [
    "# without low-attention individuals\n",
    "summary(lmer(slc_lot ~ (scale(lottery_favour)*scale(WTP) + scale(reflection) + scale(BNT) + scale(NFC) + scale(FI)):treatment + (1|subject), data2))\n"
   ]
  },
  {
   "cell_type": "markdown",
   "metadata": {},
   "source": [
    "# Others"
   ]
  },
  {
   "cell_type": "markdown",
   "metadata": {},
   "source": [
    "### Is RT affected by treatments?\n",
    "No difference for RT per trial, but choosing lottery takes longer time only in the treatment E."
   ]
  },
  {
   "cell_type": "code",
   "execution_count": 10,
   "metadata": {
    "scrolled": true
   },
   "outputs": [
    {
     "data": {
      "text/plain": [
       "Generalized linear mixed model fit by maximum likelihood (Laplace\n",
       "  Approximation) [glmerMod]\n",
       " Family: Gamma  ( identity )\n",
       "Formula: RT ~ scale(value_diff) * scale(WTP) + slc_lot + treatment + (1 |  \n",
       "    subject)\n",
       "   Data: data1\n",
       "\n",
       "     AIC      BIC   logLik deviance df.resid \n",
       " 45378.7  45439.6 -22681.4  45362.7    14979 \n",
       "\n",
       "Scaled residuals: \n",
       "    Min      1Q  Median      3Q     Max \n",
       "-1.4641 -0.6078 -0.2815  0.2766 12.8588 \n",
       "\n",
       "Random effects:\n",
       " Groups   Name        Variance Std.Dev.\n",
       " subject  (Intercept) 0.2449   0.4949  \n",
       " Residual             0.3978   0.6307  \n",
       "Number of obs: 14987, groups:  subject, 72\n",
       "\n",
       "Fixed effects:\n",
       "                              Estimate Std. Error t value Pr(>|z|)    \n",
       "(Intercept)                   2.319496   0.127359  18.212  < 2e-16 ***\n",
       "scale(value_diff)            -0.047105   0.008963  -5.255 1.48e-07 ***\n",
       "scale(WTP)                   -0.014621   0.010495  -1.393   0.1636    \n",
       "slc_lot                       0.045320   0.018174   2.494   0.0126 *  \n",
       "treatmentE                    0.194113   0.179429   1.082   0.2793    \n",
       "scale(value_diff):scale(WTP)  0.029356   0.007086   4.143 3.43e-05 ***\n",
       "---\n",
       "Signif. codes:  0 ‘***’ 0.001 ‘**’ 0.01 ‘*’ 0.05 ‘.’ 0.1 ‘ ’ 1\n",
       "\n",
       "Correlation of Fixed Effects:\n",
       "            (Intr) scl(_) s(WTP) slc_lt trtmnE\n",
       "scl(vl_dff) -0.010                            \n",
       "scale(WTP)   0.016 -0.247                     \n",
       "slc_lot     -0.066  0.059 -0.023              \n",
       "treatmentE  -0.707  0.008 -0.018  0.002       \n",
       "sc(_):(WTP) -0.001 -0.177 -0.175 -0.126 -0.005"
      ]
     },
     "metadata": {},
     "output_type": "display_data"
    },
    {
     "data": {
      "text/plain": [
       "Generalized linear mixed model fit by maximum likelihood (Laplace\n",
       "  Approximation) [glmerMod]\n",
       " Family: Gamma  ( identity )\n",
       "Formula: RT ~ (scale(value_diff) * scale(WTP) + slc_lot):treatment + (1 |  \n",
       "    subject)\n",
       "   Data: data1\n",
       "\n",
       "     AIC      BIC   logLik deviance df.resid \n",
       " 45365.3  45449.0 -22671.6  45343.3    14976 \n",
       "\n",
       "Scaled residuals: \n",
       "    Min      1Q  Median      3Q     Max \n",
       "-1.4657 -0.6080 -0.2821  0.2771 12.9894 \n",
       "\n",
       "Random effects:\n",
       " Groups   Name        Variance Std.Dev.\n",
       " subject  (Intercept) 0.2476   0.4976  \n",
       " Residual             0.3967   0.6299  \n",
       "Number of obs: 14987, groups:  subject, 72\n",
       "\n",
       "Fixed effects:\n",
       "                                         Estimate Std. Error t value Pr(>|z|)\n",
       "(Intercept)                              2.408269   0.090711  26.549  < 2e-16\n",
       "scale(value_diff):treatmentA            -0.027844   0.011680  -2.384  0.01713\n",
       "scale(value_diff):treatmentE            -0.095728   0.015094  -6.342 2.27e-10\n",
       "scale(WTP):treatmentA                   -0.040191   0.014954  -2.688  0.00720\n",
       "scale(WTP):treatmentE                    0.014635   0.014612   1.002  0.31655\n",
       "slc_lot:treatmentA                       0.026118   0.024462   1.068  0.28566\n",
       "slc_lot:treatmentE                       0.074389   0.027223   2.733  0.00628\n",
       "scale(value_diff):scale(WTP):treatmentA  0.023460   0.009495   2.471  0.01348\n",
       "scale(value_diff):scale(WTP):treatmentE  0.053261   0.011513   4.626 3.73e-06\n",
       "                                           \n",
       "(Intercept)                             ***\n",
       "scale(value_diff):treatmentA            *  \n",
       "scale(value_diff):treatmentE            ***\n",
       "scale(WTP):treatmentA                   ** \n",
       "scale(WTP):treatmentE                      \n",
       "slc_lot:treatmentA                         \n",
       "slc_lot:treatmentE                      ** \n",
       "scale(value_diff):scale(WTP):treatmentA *  \n",
       "scale(value_diff):scale(WTP):treatmentE ***\n",
       "---\n",
       "Signif. codes:  0 ‘***’ 0.001 ‘**’ 0.01 ‘*’ 0.05 ‘.’ 0.1 ‘ ’ 1\n",
       "\n",
       "Correlation of Fixed Effects:\n",
       "             (Intr) s(_):A s(_):E s(WTP):A s(WTP):E slc_:A slc_:E s(_):(WTP):A\n",
       "scl(vl_d):A  -0.010                                                           \n",
       "scl(vl_d):E   0.004  0.000                                                    \n",
       "scl(WTP):tA   0.015 -0.229  0.000                                             \n",
       "scl(WTP):tE  -0.007  0.000 -0.248  0.000                                      \n",
       "slc_lt:trtA  -0.064  0.103  0.000 -0.041    0.000                             \n",
       "slc_lt:trtE  -0.064  0.001  0.012 -0.001   -0.010    0.004                    \n",
       "s(_):(WTP):A -0.004 -0.029  0.000 -0.203    0.000   -0.110  0.000             \n",
       "s(_):(WTP):E -0.008  0.000 -0.409  0.000   -0.119    0.001 -0.123  0.000      "
      ]
     },
     "metadata": {},
     "output_type": "display_data"
    }
   ],
   "source": [
    "# all subjects\n",
    "summary(glmer(RT ~ scale(value_diff)*scale(WTP) + slc_lot + treatment + (1|subject), data1, family = Gamma(link = \"identity\")))\n",
    "summary(glmer(RT ~ (scale(value_diff)*scale(WTP) + slc_lot):treatment + (1|subject), data1, family = Gamma(link = \"identity\")))\n"
   ]
  },
  {
   "cell_type": "code",
   "execution_count": 11,
   "metadata": {
    "scrolled": true
   },
   "outputs": [
    {
     "data": {
      "text/plain": [
       "Generalized linear mixed model fit by maximum likelihood (Laplace\n",
       "  Approximation) [glmerMod]\n",
       " Family: Gamma  ( identity )\n",
       "Formula: RT ~ scale(value_diff) * scale(WTP) + slc_lot + treatment + (1 |  \n",
       "    subject)\n",
       "   Data: data2\n",
       "\n",
       "     AIC      BIC   logLik deviance df.resid \n",
       "   31904    31962   -15944    31888    10417 \n",
       "\n",
       "Scaled residuals: \n",
       "    Min      1Q  Median      3Q     Max \n",
       "-1.5540 -0.6314 -0.2898  0.2860  9.6850 \n",
       "\n",
       "Random effects:\n",
       " Groups   Name        Variance Std.Dev.\n",
       " subject  (Intercept) 0.1784   0.4224  \n",
       " Residual             0.3525   0.5937  \n",
       "Number of obs: 10425, groups:  subject, 50\n",
       "\n",
       "Fixed effects:\n",
       "                              Estimate Std. Error t value Pr(>|z|)    \n",
       "(Intercept)                   2.311732   0.142426  16.231  < 2e-16 ***\n",
       "scale(value_diff)            -0.075203   0.010458  -7.191 6.45e-13 ***\n",
       "scale(WTP)                    0.008714   0.012691   0.687 0.492307    \n",
       "slc_lot                       0.141210   0.023631   5.976 2.29e-09 ***\n",
       "treatmentE                    0.296417   0.192917   1.536 0.124416    \n",
       "scale(value_diff):scale(WTP)  0.032325   0.008480   3.812 0.000138 ***\n",
       "---\n",
       "Signif. codes:  0 ‘***’ 0.001 ‘**’ 0.01 ‘*’ 0.05 ‘.’ 0.1 ‘ ’ 1\n",
       "\n",
       "Correlation of Fixed Effects:\n",
       "            (Intr) scl(_) s(WTP) slc_lt trtmnE\n",
       "scl(vl_dff) -0.014                            \n",
       "scale(WTP)   0.016 -0.253                     \n",
       "slc_lot     -0.064  0.067  0.025              \n",
       "treatmentE  -0.735  0.009 -0.020  0.000       \n",
       "sc(_):(WTP)  0.006 -0.088 -0.218 -0.231 -0.005"
      ]
     },
     "metadata": {},
     "output_type": "display_data"
    },
    {
     "data": {
      "text/plain": [
       "Generalized linear mixed model fit by maximum likelihood (Laplace\n",
       "  Approximation) [glmerMod]\n",
       " Family: Gamma  ( identity )\n",
       "Formula: RT ~ (scale(value_diff) * scale(WTP) + slc_lot):treatment + (1 |  \n",
       "    subject)\n",
       "   Data: data2\n",
       "\n",
       "     AIC      BIC   logLik deviance df.resid \n",
       " 31893.8  31973.6 -15935.9  31871.8    10414 \n",
       "\n",
       "Scaled residuals: \n",
       "    Min      1Q  Median      3Q     Max \n",
       "-1.5552 -0.6302 -0.2888  0.2841  9.6825 \n",
       "\n",
       "Random effects:\n",
       " Groups   Name        Variance Std.Dev.\n",
       " subject  (Intercept) 0.1876   0.4331  \n",
       " Residual             0.3514   0.5928  \n",
       "Number of obs: 10425, groups:  subject, 50\n",
       "\n",
       "Fixed effects:\n",
       "                                        Estimate Std. Error t value Pr(>|z|)\n",
       "(Intercept)                              2.46408    0.09928  24.819  < 2e-16\n",
       "scale(value_diff):treatmentA            -0.04637    0.01536  -3.019  0.00254\n",
       "scale(value_diff):treatmentE            -0.13035    0.01625  -8.022 1.04e-15\n",
       "scale(WTP):treatmentA                   -0.01490    0.01995  -0.747  0.45509\n",
       "scale(WTP):treatmentE                    0.03120    0.01652   1.889  0.05886\n",
       "slc_lot:treatmentA                       0.14055    0.03432   4.095 4.23e-05\n",
       "slc_lot:treatmentE                       0.15569    0.03276   4.753 2.00e-06\n",
       "scale(value_diff):scale(WTP):treatmentA  0.02442    0.01384   1.765  0.07763\n",
       "scale(value_diff):scale(WTP):treatmentE  0.05881    0.01219   4.824 1.41e-06\n",
       "                                           \n",
       "(Intercept)                             ***\n",
       "scale(value_diff):treatmentA            ** \n",
       "scale(value_diff):treatmentE            ***\n",
       "scale(WTP):treatmentA                      \n",
       "scale(WTP):treatmentE                   .  \n",
       "slc_lot:treatmentA                      ***\n",
       "slc_lot:treatmentE                      ***\n",
       "scale(value_diff):scale(WTP):treatmentA .  \n",
       "scale(value_diff):scale(WTP):treatmentE ***\n",
       "---\n",
       "Signif. codes:  0 ‘***’ 0.001 ‘**’ 0.01 ‘*’ 0.05 ‘.’ 0.1 ‘ ’ 1\n",
       "\n",
       "Correlation of Fixed Effects:\n",
       "             (Intr) s(_):A s(_):E s(WTP):A s(WTP):E slc_:A slc_:E s(_):(WTP):A\n",
       "scl(vl_d):A  -0.014                                                           \n",
       "scl(vl_d):E   0.000  0.000                                                    \n",
       "scl(WTP):tA   0.020 -0.224  0.000                                             \n",
       "scl(WTP):tE  -0.012  0.000 -0.242  0.000                                      \n",
       "slc_lt:trtA  -0.062  0.111  0.000 -0.063    0.001                             \n",
       "slc_lt:trtE  -0.069  0.001  0.005 -0.001    0.089    0.004                    \n",
       "s(_):(WTP):A  0.002  0.184  0.000 -0.189    0.000   -0.232  0.000             \n",
       "s(_):(WTP):E  0.001  0.000 -0.367  0.000   -0.194    0.000 -0.198  0.000      "
      ]
     },
     "metadata": {},
     "output_type": "display_data"
    }
   ],
   "source": [
    "# without low-attention individuals\n",
    "summary(glmer(RT ~ scale(value_diff)*scale(WTP) + slc_lot + treatment + (1|subject), data2, family = Gamma(link = \"identity\")))\n",
    "summary(glmer(RT ~ (scale(value_diff)*scale(WTP) + slc_lot):treatment + (1|subject), data2, family = Gamma(link = \"identity\")))\n"
   ]
  },
  {
   "cell_type": "markdown",
   "metadata": {},
   "source": [
    "### Is chance of choosing lottery affected by treatments?\n",
    "NO (marginal significance with all subjects)"
   ]
  },
  {
   "cell_type": "code",
   "execution_count": 12,
   "metadata": {
    "scrolled": true
   },
   "outputs": [
    {
     "data": {
      "text/plain": [
       "Generalized linear mixed model fit by maximum likelihood (Laplace\n",
       "  Approximation) [glmerMod]\n",
       " Family: binomial  ( logit )\n",
       "Formula: slc_lot ~ scale(lottery_favour) * scale(WTP) + treatment + (1 |  \n",
       "    subject)\n",
       "   Data: data1\n",
       "\n",
       "     AIC      BIC   logLik deviance df.resid \n",
       " 16845.0  16890.7  -8416.5  16833.0    14981 \n",
       "\n",
       "Scaled residuals: \n",
       "    Min      1Q  Median      3Q     Max \n",
       "-5.1540 -0.7438 -0.1979  0.7181 17.7392 \n",
       "\n",
       "Random effects:\n",
       " Groups  Name        Variance Std.Dev.\n",
       " subject (Intercept) 0.8703   0.9329  \n",
       "Number of obs: 14987, groups:  subject, 72\n",
       "\n",
       "Fixed effects:\n",
       "                                 Estimate Std. Error z value Pr(>|z|)    \n",
       "(Intercept)                       0.12832    0.15838   0.810 0.417791    \n",
       "scale(lottery_favour)             1.24103    0.03118  39.801  < 2e-16 ***\n",
       "scale(WTP)                       -0.08056    0.02384  -3.379 0.000728 ***\n",
       "treatmentE                       -0.40199    0.22347  -1.799 0.072049 .  \n",
       "scale(lottery_favour):scale(WTP) -0.27586    0.02244 -12.292  < 2e-16 ***\n",
       "---\n",
       "Signif. codes:  0 ‘***’ 0.001 ‘**’ 0.01 ‘*’ 0.05 ‘.’ 0.1 ‘ ’ 1\n",
       "\n",
       "Correlation of Fixed Effects:\n",
       "            (Intr) scl(_) s(WTP) trtmnE\n",
       "scl(lttry_)  0.025                     \n",
       "scale(WTP)   0.038 -0.233              \n",
       "treatmentE  -0.707 -0.031 -0.022       \n",
       "sc(_):(WTP) -0.068 -0.371 -0.314  0.019"
      ]
     },
     "metadata": {},
     "output_type": "display_data"
    }
   ],
   "source": [
    "# All subjects\n",
    "summary(glmer(slc_lot ~ scale(lottery_favour)*scale(WTP) + treatment + (1|subject), data1, family=binomial(link = \"logit\")))\n"
   ]
  },
  {
   "cell_type": "code",
   "execution_count": 13,
   "metadata": {
    "scrolled": true
   },
   "outputs": [
    {
     "data": {
      "text/plain": [
       "Generalized linear mixed model fit by maximum likelihood (Laplace\n",
       "  Approximation) [glmerMod]\n",
       " Family: binomial  ( logit )\n",
       "Formula: slc_lot ~ scale(lottery_favour) * scale(WTP) + treatment + (1 |  \n",
       "    subject)\n",
       "   Data: data2\n",
       "\n",
       "     AIC      BIC   logLik deviance df.resid \n",
       " 10178.5  10222.0  -5083.2  10166.5    10419 \n",
       "\n",
       "Scaled residuals: \n",
       "   Min     1Q Median     3Q    Max \n",
       "-4.637 -0.603 -0.159  0.584 72.646 \n",
       "\n",
       "Random effects:\n",
       " Groups  Name        Variance Std.Dev.\n",
       " subject (Intercept) 1.311    1.145   \n",
       "Number of obs: 10425, groups:  subject, 50\n",
       "\n",
       "Fixed effects:\n",
       "                                 Estimate Std. Error z value Pr(>|z|)    \n",
       "(Intercept)                      -0.19176    0.24227  -0.791    0.429    \n",
       "scale(lottery_favour)             2.03704    0.04979  40.913   <2e-16 ***\n",
       "scale(WTP)                       -0.37003    0.03264 -11.338   <2e-16 ***\n",
       "treatmentE                       -0.34282    0.32923  -1.041    0.298    \n",
       "scale(lottery_favour):scale(WTP) -0.39882    0.03187 -12.513   <2e-16 ***\n",
       "---\n",
       "Signif. codes:  0 ‘***’ 0.001 ‘**’ 0.01 ‘*’ 0.05 ‘.’ 0.1 ‘ ’ 1\n",
       "\n",
       "Correlation of Fixed Effects:\n",
       "            (Intr) scl(_) s(WTP) trtmnE\n",
       "scl(lttry_)  0.005                     \n",
       "scale(WTP)   0.039 -0.251              \n",
       "treatmentE  -0.734 -0.026 -0.015       \n",
       "sc(_):(WTP) -0.050 -0.441 -0.354  0.013"
      ]
     },
     "metadata": {},
     "output_type": "display_data"
    }
   ],
   "source": [
    "# without low-attention individuals\n",
    "summary(glmer(slc_lot ~ scale(lottery_favour)*scale(WTP) + treatment + (1|subject), data2, family=binomial(link = \"logit\")))\n"
   ]
  },
  {
   "cell_type": "markdown",
   "metadata": {},
   "source": [
    "# Split by the pre-evaluation bias"
   ]
  },
  {
   "cell_type": "code",
   "execution_count": 14,
   "metadata": {},
   "outputs": [],
   "source": [
    "# split data by whether the subject has a positive or negative pre-evaluation bias\n",
    "# L: risk-lover; H: risk-hater\n",
    "data1L <- subset(data1, x0 > 0)\n",
    "data1H <- subset(data1, x0 < 0)\n",
    "\n",
    "# data2L <- subset(data2, x0 > 0)\n",
    "# data2H <- subset(data2, x0 < 0)"
   ]
  },
  {
   "cell_type": "code",
   "execution_count": 15,
   "metadata": {},
   "outputs": [
    {
     "name": "stderr",
     "output_type": "stream",
     "text": [
      "\n",
      "Correlation matrix not shown by default, as p = 13 > 12.\n",
      "Use print(obj, correlation=TRUE)  or\n",
      "    vcov(obj)        if you need it\n",
      "\n"
     ]
    },
    {
     "data": {
      "text/plain": [
       "Linear mixed model fit by REML. t-tests use Satterthwaite's method [\n",
       "lmerModLmerTest]\n",
       "Formula: slc_lot ~ (scale(lottery_favour) * scale(WTP) + scale(d) + scale(B) +  \n",
       "    scale(x0)):treatment + (1 | subject)\n",
       "   Data: data1L\n",
       "\n",
       "REML criterion at convergence: 7995.1\n",
       "\n",
       "Scaled residuals: \n",
       "    Min      1Q  Median      3Q     Max \n",
       "-2.4057 -1.0579  0.3721  0.7847  3.0905 \n",
       "\n",
       "Random effects:\n",
       " Groups   Name        Variance Std.Dev.\n",
       " subject  (Intercept) 0.008847 0.09406 \n",
       " Residual             0.198294 0.44530 \n",
       "Number of obs: 6438, groups:  subject, 31\n",
       "\n",
       "Fixed effects:\n",
       "                                              Estimate Std. Error         df\n",
       "(Intercept)                                  6.382e-01  1.912e-02  2.416e+01\n",
       "scale(lottery_favour):treatmentA             1.899e-01  8.292e-03  6.228e+03\n",
       "scale(lottery_favour):treatmentE             2.427e-01  1.378e-02  6.032e+03\n",
       "scale(WTP):treatmentA                        2.193e-02  8.723e-03  6.233e+03\n",
       "scale(WTP):treatmentE                        8.606e-03  1.180e-02  6.397e+03\n",
       "scale(d):treatmentA                          3.033e-02  2.411e-02  2.294e+01\n",
       "scale(d):treatmentE                          1.311e-01  4.512e-02  2.335e+01\n",
       "scale(B):treatmentA                          3.480e-02  2.198e-02  2.318e+01\n",
       "scale(B):treatmentE                         -5.362e-02  4.680e-02  2.354e+01\n",
       "scale(x0):treatmentA                         6.400e-02  2.543e-02  2.293e+01\n",
       "scale(x0):treatmentE                         9.234e-02  4.456e-02  2.331e+01\n",
       "scale(lottery_favour):scale(WTP):treatmentA -5.295e-02  7.278e-03  6.161e+03\n",
       "scale(lottery_favour):scale(WTP):treatmentE -6.787e-02  9.677e-03  5.634e+03\n",
       "                                            t value Pr(>|t|)    \n",
       "(Intercept)                                  33.374  < 2e-16 ***\n",
       "scale(lottery_favour):treatmentA             22.897  < 2e-16 ***\n",
       "scale(lottery_favour):treatmentE             17.610  < 2e-16 ***\n",
       "scale(WTP):treatmentA                         2.514  0.01195 *  \n",
       "scale(WTP):treatmentE                         0.730  0.46567    \n",
       "scale(d):treatmentA                           1.258  0.22107    \n",
       "scale(d):treatmentE                           2.906  0.00789 ** \n",
       "scale(B):treatmentA                           1.583  0.12693    \n",
       "scale(B):treatmentE                          -1.146  0.26344    \n",
       "scale(x0):treatmentA                          2.517  0.01929 *  \n",
       "scale(x0):treatmentE                          2.072  0.04948 *  \n",
       "scale(lottery_favour):scale(WTP):treatmentA  -7.276 3.88e-13 ***\n",
       "scale(lottery_favour):scale(WTP):treatmentE  -7.014 2.60e-12 ***\n",
       "---\n",
       "Signif. codes:  0 ‘***’ 0.001 ‘**’ 0.01 ‘*’ 0.05 ‘.’ 0.1 ‘ ’ 1"
      ]
     },
     "metadata": {},
     "output_type": "display_data"
    },
    {
     "name": "stderr",
     "output_type": "stream",
     "text": [
      "\n",
      "Correlation matrix not shown by default, as p = 13 > 12.\n",
      "Use print(obj, correlation=TRUE)  or\n",
      "    vcov(obj)        if you need it\n",
      "\n"
     ]
    },
    {
     "data": {
      "text/plain": [
       "Linear mixed model fit by REML. t-tests use Satterthwaite's method [\n",
       "lmerModLmerTest]\n",
       "Formula: slc_lot ~ (scale(lottery_favour) * scale(WTP) + scale(d) + scale(B) +  \n",
       "    scale(x0)):treatment + (1 | subject)\n",
       "   Data: data1H\n",
       "\n",
       "REML criterion at convergence: 9917.5\n",
       "\n",
       "Scaled residuals: \n",
       "    Min      1Q  Median      3Q     Max \n",
       "-2.2320 -0.8391 -0.2931  0.9316  3.2178 \n",
       "\n",
       "Random effects:\n",
       " Groups   Name        Variance Std.Dev.\n",
       " subject  (Intercept) 0.005743 0.07578 \n",
       " Residual             0.183304 0.42814 \n",
       "Number of obs: 8549, groups:  subject, 41\n",
       "\n",
       "Fixed effects:\n",
       "                                              Estimate Std. Error         df\n",
       "(Intercept)                                  3.840e-01  1.334e-02  3.569e+01\n",
       "scale(lottery_favour):treatmentA             1.734e-01  8.842e-03  8.290e+03\n",
       "scale(lottery_favour):treatmentE             2.327e-01  7.593e-03  7.966e+03\n",
       "scale(WTP):treatmentA                       -3.934e-02  9.855e-03  7.676e+03\n",
       "scale(WTP):treatmentE                       -4.635e-02  7.188e-03  8.364e+03\n",
       "scale(d):treatmentA                          1.089e-03  2.453e-02  3.404e+01\n",
       "scale(d):treatmentE                          5.298e-02  1.630e-02  3.322e+01\n",
       "scale(B):treatmentA                          1.656e-02  2.792e-02  3.332e+01\n",
       "scale(B):treatmentE                          2.701e-02  1.657e-02  3.348e+01\n",
       "scale(x0):treatmentA                         1.232e-01  2.458e-02  3.354e+01\n",
       "scale(x0):treatmentE                         1.326e-01  1.961e-02  3.331e+01\n",
       "scale(lottery_favour):scale(WTP):treatmentA  1.101e-02  7.380e-03  4.942e+03\n",
       "scale(lottery_favour):scale(WTP):treatmentE -3.426e-02  6.242e-03  7.185e+03\n",
       "                                            t value Pr(>|t|)    \n",
       "(Intercept)                                  28.771  < 2e-16 ***\n",
       "scale(lottery_favour):treatmentA             19.612  < 2e-16 ***\n",
       "scale(lottery_favour):treatmentE             30.650  < 2e-16 ***\n",
       "scale(WTP):treatmentA                        -3.992 6.60e-05 ***\n",
       "scale(WTP):treatmentE                        -6.448 1.20e-10 ***\n",
       "scale(d):treatmentA                           0.044  0.96485    \n",
       "scale(d):treatmentE                           3.250  0.00265 ** \n",
       "scale(B):treatmentA                           0.593  0.55723    \n",
       "scale(B):treatmentE                           1.629  0.11259    \n",
       "scale(x0):treatmentA                          5.011 1.72e-05 ***\n",
       "scale(x0):treatmentE                          6.761 9.99e-08 ***\n",
       "scale(lottery_favour):scale(WTP):treatmentA   1.492  0.13566    \n",
       "scale(lottery_favour):scale(WTP):treatmentE  -5.489 4.17e-08 ***\n",
       "---\n",
       "Signif. codes:  0 ‘***’ 0.001 ‘**’ 0.01 ‘*’ 0.05 ‘.’ 0.1 ‘ ’ 1"
      ]
     },
     "metadata": {},
     "output_type": "display_data"
    }
   ],
   "source": [
    "# All subjects (without psychometrics)\n",
    "summary(lmer(slc_lot ~ (scale(lottery_favour)*scale(WTP) + scale(d) + scale(B) + scale(x0)):treatment + (1|subject), data1L))\n",
    "summary(lmer(slc_lot ~ (scale(lottery_favour)*scale(WTP) + scale(d) + scale(B) + scale(x0)):treatment + (1|subject), data1H))\n"
   ]
  },
  {
   "cell_type": "code",
   "execution_count": 16,
   "metadata": {},
   "outputs": [
    {
     "name": "stderr",
     "output_type": "stream",
     "text": [
      "\n",
      "Correlation matrix not shown by default, as p = 21 > 12.\n",
      "Use print(obj, correlation=TRUE)  or\n",
      "    vcov(obj)        if you need it\n",
      "\n"
     ]
    },
    {
     "data": {
      "text/plain": [
       "Linear mixed model fit by REML. t-tests use Satterthwaite's method [\n",
       "lmerModLmerTest]\n",
       "Formula: slc_lot ~ (scale(lottery_favour) * scale(WTP) + scale(d) + scale(B) +  \n",
       "    scale(x0) + scale(reflection) + scale(BNT) + scale(NFC) +  \n",
       "    scale(FI)):treatment + (1 | subject)\n",
       "   Data: data1L\n",
       "\n",
       "REML criterion at convergence: 8026.6\n",
       "\n",
       "Scaled residuals: \n",
       "    Min      1Q  Median      3Q     Max \n",
       "-2.4152 -1.0536  0.3674  0.7859  3.0859 \n",
       "\n",
       "Random effects:\n",
       " Groups   Name        Variance Std.Dev.\n",
       " subject  (Intercept) 0.008904 0.09436 \n",
       " Residual             0.198286 0.44529 \n",
       "Number of obs: 6438, groups:  subject, 31\n",
       "\n",
       "Fixed effects:\n",
       "                                              Estimate Std. Error         df\n",
       "(Intercept)                                  6.385e-01  1.989e-02  1.623e+01\n",
       "scale(lottery_favour):treatmentA             1.909e-01  8.325e-03  6.372e+03\n",
       "scale(lottery_favour):treatmentE             2.449e-01  1.383e-02  6.178e+03\n",
       "scale(WTP):treatmentA                        2.288e-02  8.759e-03  6.378e+03\n",
       "scale(WTP):treatmentE                        9.765e-03  1.181e-02  6.401e+03\n",
       "scale(d):treatmentA                          4.038e-02  2.500e-02  1.559e+01\n",
       "scale(d):treatmentE                          1.142e-01  4.651e-02  1.581e+01\n",
       "scale(B):treatmentA                          3.955e-02  2.612e-02  1.567e+01\n",
       "scale(B):treatmentE                         -1.621e-02  9.195e-02  1.572e+01\n",
       "scale(x0):treatmentA                         5.850e-02  2.920e-02  1.563e+01\n",
       "scale(x0):treatmentE                         8.949e-02  6.228e-02  1.559e+01\n",
       "scale(reflection):treatmentA                 1.389e-03  2.570e-02  1.555e+01\n",
       "scale(reflection):treatmentE                -3.079e-02  6.323e-02  1.555e+01\n",
       "scale(BNT):treatmentA                        3.027e-02  3.376e-02  1.562e+01\n",
       "scale(BNT):treatmentE                       -9.799e-03  4.307e-02  1.564e+01\n",
       "scale(NFC):treatmentA                        4.120e-02  2.463e-02  1.615e+01\n",
       "scale(NFC):treatmentE                        6.713e-02  4.465e-02  1.592e+01\n",
       "scale(FI):treatmentA                         1.244e-02  2.481e-02  1.556e+01\n",
       "scale(FI):treatmentE                         1.852e-02  4.610e-02  1.588e+01\n",
       "scale(lottery_favour):scale(WTP):treatmentA -5.318e-02  7.299e-03  6.251e+03\n",
       "scale(lottery_favour):scale(WTP):treatmentE -6.965e-02  9.727e-03  5.974e+03\n",
       "                                            t value Pr(>|t|)    \n",
       "(Intercept)                                  32.105 4.07e-16 ***\n",
       "scale(lottery_favour):treatmentA             22.928  < 2e-16 ***\n",
       "scale(lottery_favour):treatmentE             17.709  < 2e-16 ***\n",
       "scale(WTP):treatmentA                         2.613   0.0090 ** \n",
       "scale(WTP):treatmentE                         0.827   0.4085    \n",
       "scale(d):treatmentA                           1.615   0.1264    \n",
       "scale(d):treatmentE                           2.454   0.0261 *  \n",
       "scale(B):treatmentA                           1.514   0.1500    \n",
       "scale(B):treatmentE                          -0.176   0.8623    \n",
       "scale(x0):treatmentA                          2.003   0.0628 .  \n",
       "scale(x0):treatmentE                          1.437   0.1705    \n",
       "scale(reflection):treatmentA                  0.054   0.9576    \n",
       "scale(reflection):treatmentE                 -0.487   0.6331    \n",
       "scale(BNT):treatmentA                         0.897   0.3834    \n",
       "scale(BNT):treatmentE                        -0.227   0.8230    \n",
       "scale(NFC):treatmentA                         1.673   0.1136    \n",
       "scale(NFC):treatmentE                         1.504   0.1523    \n",
       "scale(FI):treatmentA                          0.501   0.6231    \n",
       "scale(FI):treatmentE                          0.402   0.6933    \n",
       "scale(lottery_favour):scale(WTP):treatmentA  -7.286 3.58e-13 ***\n",
       "scale(lottery_favour):scale(WTP):treatmentE  -7.161 8.99e-13 ***\n",
       "---\n",
       "Signif. codes:  0 ‘***’ 0.001 ‘**’ 0.01 ‘*’ 0.05 ‘.’ 0.1 ‘ ’ 1"
      ]
     },
     "metadata": {},
     "output_type": "display_data"
    },
    {
     "name": "stderr",
     "output_type": "stream",
     "text": [
      "\n",
      "Correlation matrix not shown by default, as p = 21 > 12.\n",
      "Use print(obj, correlation=TRUE)  or\n",
      "    vcov(obj)        if you need it\n",
      "\n"
     ]
    },
    {
     "data": {
      "text/plain": [
       "Linear mixed model fit by REML. t-tests use Satterthwaite's method [\n",
       "lmerModLmerTest]\n",
       "Formula: slc_lot ~ (scale(lottery_favour) * scale(WTP) + scale(d) + scale(B) +  \n",
       "    scale(x0) + scale(reflection) + scale(BNT) + scale(NFC) +  \n",
       "    scale(FI)):treatment + (1 | subject)\n",
       "   Data: data1H\n",
       "\n",
       "REML criterion at convergence: 9945.2\n",
       "\n",
       "Scaled residuals: \n",
       "    Min      1Q  Median      3Q     Max \n",
       "-2.2592 -0.8411 -0.2870  0.9368  3.2137 \n",
       "\n",
       "Random effects:\n",
       " Groups   Name        Variance Std.Dev.\n",
       " subject  (Intercept) 0.00381  0.06173 \n",
       " Residual             0.18330  0.42814 \n",
       "Number of obs: 8549, groups:  subject, 41\n",
       "\n",
       "Fixed effects:\n",
       "                                              Estimate Std. Error         df\n",
       "(Intercept)                                  3.922e-01  1.268e-02  2.785e+01\n",
       "scale(lottery_favour):treatmentA             1.736e-01  8.834e-03  8.054e+03\n",
       "scale(lottery_favour):treatmentE             2.334e-01  7.603e-03  7.923e+03\n",
       "scale(WTP):treatmentA                       -3.967e-02  9.823e-03  6.832e+03\n",
       "scale(WTP):treatmentE                       -4.568e-02  7.196e-03  8.354e+03\n",
       "scale(d):treatmentA                         -4.072e-02  3.297e-02  2.592e+01\n",
       "scale(d):treatmentE                          4.443e-02  1.559e-02  2.584e+01\n",
       "scale(B):treatmentA                         -8.993e-03  2.758e-02  2.550e+01\n",
       "scale(B):treatmentE                          3.265e-02  1.512e-02  2.559e+01\n",
       "scale(x0):treatmentA                         1.342e-01  2.480e-02  2.558e+01\n",
       "scale(x0):treatmentE                         1.057e-01  1.887e-02  2.543e+01\n",
       "scale(reflection):treatmentA                 7.343e-02  3.957e-02  2.574e+01\n",
       "scale(reflection):treatmentE                 5.440e-02  1.856e-02  2.625e+01\n",
       "scale(BNT):treatmentA                       -1.100e-02  3.139e-02  2.573e+01\n",
       "scale(BNT):treatmentE                       -4.749e-02  1.669e-02  2.523e+01\n",
       "scale(NFC):treatmentA                       -7.198e-02  3.804e-02  2.609e+01\n",
       "scale(NFC):treatmentE                       -2.056e-02  1.258e-02  2.537e+01\n",
       "scale(FI):treatmentA                         8.665e-03  2.127e-02  2.543e+01\n",
       "scale(FI):treatmentE                         4.805e-02  1.852e-02  2.579e+01\n",
       "scale(lottery_favour):scale(WTP):treatmentA  1.221e-02  7.327e-03  3.413e+03\n",
       "scale(lottery_favour):scale(WTP):treatmentE -3.589e-02  6.254e-03  7.142e+03\n",
       "                                            t value Pr(>|t|)    \n",
       "(Intercept)                                  30.932  < 2e-16 ***\n",
       "scale(lottery_favour):treatmentA             19.652  < 2e-16 ***\n",
       "scale(lottery_favour):treatmentE             30.699  < 2e-16 ***\n",
       "scale(WTP):treatmentA                        -4.038 5.45e-05 ***\n",
       "scale(WTP):treatmentE                        -6.348 2.30e-10 ***\n",
       "scale(d):treatmentA                          -1.235  0.22782    \n",
       "scale(d):treatmentE                           2.850  0.00847 ** \n",
       "scale(B):treatmentA                          -0.326  0.74702    \n",
       "scale(B):treatmentE                           2.160  0.04033 *  \n",
       "scale(x0):treatmentA                          5.412 1.20e-05 ***\n",
       "scale(x0):treatmentE                          5.598 7.55e-06 ***\n",
       "scale(reflection):treatmentA                  1.856  0.07494 .  \n",
       "scale(reflection):treatmentE                  2.930  0.00693 ** \n",
       "scale(BNT):treatmentA                        -0.350  0.72888    \n",
       "scale(BNT):treatmentE                        -2.845  0.00868 ** \n",
       "scale(NFC):treatmentA                        -1.892  0.06959 .  \n",
       "scale(NFC):treatmentE                        -1.635  0.11448    \n",
       "scale(FI):treatmentA                          0.407  0.68718    \n",
       "scale(FI):treatmentE                          2.594  0.01544 *  \n",
       "scale(lottery_favour):scale(WTP):treatmentA   1.666  0.09582 .  \n",
       "scale(lottery_favour):scale(WTP):treatmentE  -5.739 9.94e-09 ***\n",
       "---\n",
       "Signif. codes:  0 ‘***’ 0.001 ‘**’ 0.01 ‘*’ 0.05 ‘.’ 0.1 ‘ ’ 1"
      ]
     },
     "metadata": {},
     "output_type": "display_data"
    }
   ],
   "source": [
    "# All subjects (with psychometrics)\n",
    "summary(lmer(slc_lot ~ (scale(lottery_favour)*scale(WTP) + scale(d) + scale(B) + scale(x0) + scale(reflection) + scale(BNT) + scale(NFC) + scale(FI)):treatment + (1|subject), data1L))\n",
    "summary(lmer(slc_lot ~ (scale(lottery_favour)*scale(WTP) + scale(d) + scale(B) + scale(x0) + scale(reflection) + scale(BNT) + scale(NFC) + scale(FI)):treatment + (1|subject), data1H))\n"
   ]
  },
  {
   "cell_type": "markdown",
   "metadata": {},
   "source": [
    "# Accuracy as a proxy of cognitive uncertainty\n",
    "In this \"standard appraoch\", the accuracy predicts choosing the lotteries in both treatments."
   ]
  },
  {
   "cell_type": "markdown",
   "metadata": {},
   "source": [
    "### Without psychometrics"
   ]
  },
  {
   "cell_type": "code",
   "execution_count": 7,
   "metadata": {},
   "outputs": [
    {
     "data": {
      "text/plain": [
       "Linear mixed model fit by REML. t-tests use Satterthwaite's method [\n",
       "lmerModLmerTest]\n",
       "Formula: \n",
       "slc_lot ~ (scale(lottery_favour) * scale(WTP) + scale(accuracy)):treatment +  \n",
       "    (1 | subject)\n",
       "   Data: data1\n",
       "\n",
       "REML criterion at convergence: 17991.3\n",
       "\n",
       "Scaled residuals: \n",
       "    Min      1Q  Median      3Q     Max \n",
       "-2.4855 -0.9161  0.0343  0.8609  3.1866 \n",
       "\n",
       "Random effects:\n",
       " Groups   Name        Variance Std.Dev.\n",
       " subject  (Intercept) 0.02549  0.1597  \n",
       " Residual             0.19062  0.4366  \n",
       "Number of obs: 14987, groups:  subject, 72\n",
       "\n",
       "Fixed effects:\n",
       "                                              Estimate Std. Error         df\n",
       "(Intercept)                                  4.898e-01  1.927e-02  7.012e+01\n",
       "scale(lottery_favour):treatmentA             1.827e-01  6.054e-03  1.498e+04\n",
       "scale(lottery_favour):treatmentE             2.372e-01  6.767e-03  1.497e+04\n",
       "scale(WTP):treatmentA                       -2.218e-03  6.552e-03  1.496e+04\n",
       "scale(WTP):treatmentE                       -2.911e-02  6.212e-03  1.497e+04\n",
       "scale(accuracy):treatmentA                   6.759e-02  2.719e-02  6.876e+01\n",
       "scale(accuracy):treatmentE                   8.732e-02  2.671e-02  6.884e+01\n",
       "scale(lottery_favour):scale(WTP):treatmentA -2.350e-02  5.219e-03  1.473e+04\n",
       "scale(lottery_favour):scale(WTP):treatmentE -4.654e-02  5.326e-03  1.489e+04\n",
       "                                            t value Pr(>|t|)    \n",
       "(Intercept)                                  25.423  < 2e-16 ***\n",
       "scale(lottery_favour):treatmentA             30.177  < 2e-16 ***\n",
       "scale(lottery_favour):treatmentE             35.043  < 2e-16 ***\n",
       "scale(WTP):treatmentA                        -0.339  0.73495    \n",
       "scale(WTP):treatmentE                        -4.686 2.81e-06 ***\n",
       "scale(accuracy):treatmentA                    2.486  0.01536 *  \n",
       "scale(accuracy):treatmentE                    3.270  0.00168 ** \n",
       "scale(lottery_favour):scale(WTP):treatmentA  -4.503 6.76e-06 ***\n",
       "scale(lottery_favour):scale(WTP):treatmentE  -8.738  < 2e-16 ***\n",
       "---\n",
       "Signif. codes:  0 ‘***’ 0.001 ‘**’ 0.01 ‘*’ 0.05 ‘.’ 0.1 ‘ ’ 1\n",
       "\n",
       "Correlation of Fixed Effects:\n",
       "             (Intr) s(_):A s(_):E s(WTP):A s(WTP):E sc():A sc():E s(_):(WTP):A\n",
       "scl(ltt_):A   0.016                                                           \n",
       "scl(ltt_):E   0.002  0.000                                                    \n",
       "scl(WTP):tA   0.036 -0.343  0.000                                             \n",
       "scl(WTP):tE   0.006  0.000 -0.275  0.000                                      \n",
       "scl(ccrc):A  -0.027  0.003  0.000  0.004    0.000                             \n",
       "scl(ccrc):E   0.029  0.000 -0.003  0.001   -0.004   -0.001                    \n",
       "s(_):(WTP):A -0.076 -0.001  0.000 -0.282    0.000   -0.002 -0.002             \n",
       "s(_):(WTP):E -0.055 -0.001 -0.325 -0.002   -0.309    0.002  0.020  0.004      "
      ]
     },
     "metadata": {},
     "output_type": "display_data"
    },
    {
     "data": {
      "text/plain": [
       "Linear mixed model fit by REML. t-tests use Satterthwaite's method [\n",
       "lmerModLmerTest]\n",
       "Formula: \n",
       "slc_lot ~ (scale(lottery_favour) * scale(WTP) + scale(accuracy)):treatment +  \n",
       "    (1 | subject)\n",
       "   Data: data2\n",
       "\n",
       "REML criterion at convergence: 11221\n",
       "\n",
       "Scaled residuals: \n",
       "    Min      1Q  Median      3Q     Max \n",
       "-2.4756 -0.8689 -0.0503  0.8383  3.8079 \n",
       "\n",
       "Random effects:\n",
       " Groups   Name        Variance Std.Dev.\n",
       " subject  (Intercept) 0.0231   0.152   \n",
       " Residual             0.1681   0.410   \n",
       "Number of obs: 10425, groups:  subject, 50\n",
       "\n",
       "Fixed effects:\n",
       "                                              Estimate Std. Error         df\n",
       "(Intercept)                                  4.433e-01  2.210e-02  4.767e+01\n",
       "scale(lottery_favour):treatmentA             2.396e-01  7.053e-03  1.042e+04\n",
       "scale(lottery_favour):treatmentE             2.892e-01  7.278e-03  1.040e+04\n",
       "scale(WTP):treatmentA                       -4.097e-02  7.630e-03  1.041e+04\n",
       "scale(WTP):treatmentE                       -7.486e-02  6.754e-03  1.042e+04\n",
       "scale(accuracy):treatmentA                   1.095e-01  3.288e-02  4.684e+01\n",
       "scale(accuracy):treatmentE                   9.897e-02  2.908e-02  4.692e+01\n",
       "scale(lottery_favour):scale(WTP):treatmentA -1.244e-02  6.179e-03  1.024e+04\n",
       "scale(lottery_favour):scale(WTP):treatmentE -3.722e-02  5.653e-03  1.035e+04\n",
       "                                            t value Pr(>|t|)    \n",
       "(Intercept)                                  20.059  < 2e-16 ***\n",
       "scale(lottery_favour):treatmentA             33.969  < 2e-16 ***\n",
       "scale(lottery_favour):treatmentE             39.739  < 2e-16 ***\n",
       "scale(WTP):treatmentA                        -5.370 8.05e-08 ***\n",
       "scale(WTP):treatmentE                       -11.083  < 2e-16 ***\n",
       "scale(accuracy):treatmentA                    3.331  0.00169 ** \n",
       "scale(accuracy):treatmentE                    3.403  0.00137 ** \n",
       "scale(lottery_favour):scale(WTP):treatmentA  -2.013  0.04409 *  \n",
       "scale(lottery_favour):scale(WTP):treatmentE  -6.585 4.78e-11 ***\n",
       "---\n",
       "Signif. codes:  0 ‘***’ 0.001 ‘**’ 0.01 ‘*’ 0.05 ‘.’ 0.1 ‘ ’ 1\n",
       "\n",
       "Correlation of Fixed Effects:\n",
       "             (Intr) s(_):A s(_):E s(WTP):A s(WTP):E sc():A sc():E s(_):(WTP):A\n",
       "scl(ltt_):A   0.018                                                           \n",
       "scl(ltt_):E   0.003  0.000                                                    \n",
       "scl(WTP):tA   0.033 -0.343  0.000                                             \n",
       "scl(WTP):tE   0.008  0.000 -0.273  0.000                                      \n",
       "scl(ccrc):A  -0.082  0.005  0.000  0.006   -0.001                             \n",
       "scl(ccrc):E   0.069  0.001 -0.013  0.002   -0.011   -0.006                    \n",
       "s(_):(WTP):A -0.069 -0.015  0.000 -0.264   -0.001   -0.003 -0.005             \n",
       "s(_):(WTP):E -0.057 -0.001 -0.328 -0.002   -0.324    0.005  0.029  0.004      "
      ]
     },
     "metadata": {},
     "output_type": "display_data"
    }
   ],
   "source": [
    "# All subjects\n",
    "summary(lmer(slc_lot ~ (scale(lottery_favour)*scale(WTP) + scale(accuracy)):treatment + (1|subject), data1))\n",
    "\n",
    "# without low-attention individuals\n",
    "summary(lmer(slc_lot ~ (scale(lottery_favour)*scale(WTP) + scale(accuracy)):treatment + (1|subject), data2))\n"
   ]
  },
  {
   "cell_type": "markdown",
   "metadata": {},
   "source": [
    "### With psychometrics"
   ]
  },
  {
   "cell_type": "code",
   "execution_count": 8,
   "metadata": {
    "scrolled": true
   },
   "outputs": [
    {
     "name": "stderr",
     "output_type": "stream",
     "text": [
      "\n",
      "Correlation matrix not shown by default, as p = 17 > 12.\n",
      "Use print(obj, correlation=TRUE)  or\n",
      "    vcov(obj)        if you need it\n",
      "\n"
     ]
    },
    {
     "data": {
      "text/plain": [
       "Linear mixed model fit by REML. t-tests use Satterthwaite's method [\n",
       "lmerModLmerTest]\n",
       "Formula: slc_lot ~ (scale(lottery_favour) * scale(WTP) + scale(accuracy) +  \n",
       "    scale(reflection) + scale(BNT) + scale(NFC) + scale(FI)):treatment +  \n",
       "    (1 | subject)\n",
       "   Data: data1\n",
       "\n",
       "REML criterion at convergence: 18024.3\n",
       "\n",
       "Scaled residuals: \n",
       "    Min      1Q  Median      3Q     Max \n",
       "-2.4807 -0.9168  0.0364  0.8598  3.1866 \n",
       "\n",
       "Random effects:\n",
       " Groups   Name        Variance Std.Dev.\n",
       " subject  (Intercept) 0.02537  0.1593  \n",
       " Residual             0.19062  0.4366  \n",
       "Number of obs: 14987, groups:  subject, 72\n",
       "\n",
       "Fixed effects:\n",
       "                                              Estimate Std. Error         df\n",
       "(Intercept)                                  4.883e-01  1.971e-02  6.192e+01\n",
       "scale(lottery_favour):treatmentA             1.828e-01  6.055e-03  1.497e+04\n",
       "scale(lottery_favour):treatmentE             2.374e-01  6.772e-03  1.496e+04\n",
       "scale(WTP):treatmentA                       -2.025e-03  6.554e-03  1.495e+04\n",
       "scale(WTP):treatmentE                       -2.893e-02  6.214e-03  1.496e+04\n",
       "scale(accuracy):treatmentA                   8.302e-02  3.043e-02  6.091e+01\n",
       "scale(accuracy):treatmentE                   6.823e-02  3.075e-02  6.102e+01\n",
       "scale(reflection):treatmentA                -2.857e-02  3.566e-02  6.089e+01\n",
       "scale(reflection):treatmentE                 3.191e-02  3.600e-02  6.111e+01\n",
       "scale(BNT):treatmentA                        5.026e-03  3.981e-02  6.086e+01\n",
       "scale(BNT):treatmentE                       -1.307e-02  2.915e-02  6.085e+01\n",
       "scale(NFC):treatmentA                        2.145e-02  3.529e-02  6.093e+01\n",
       "scale(NFC):treatmentE                        6.206e-03  2.437e-02  6.090e+01\n",
       "scale(FI):treatmentA                        -3.932e-02  2.704e-02  6.083e+01\n",
       "scale(FI):treatmentE                         6.780e-02  3.011e-02  6.091e+01\n",
       "scale(lottery_favour):scale(WTP):treatmentA -2.370e-02  5.222e-03  1.473e+04\n",
       "scale(lottery_favour):scale(WTP):treatmentE -4.680e-02  5.332e-03  1.492e+04\n",
       "                                            t value Pr(>|t|)    \n",
       "(Intercept)                                  24.768  < 2e-16 ***\n",
       "scale(lottery_favour):treatmentA             30.191  < 2e-16 ***\n",
       "scale(lottery_favour):treatmentE             35.061  < 2e-16 ***\n",
       "scale(WTP):treatmentA                        -0.309  0.75735    \n",
       "scale(WTP):treatmentE                        -4.655 3.26e-06 ***\n",
       "scale(accuracy):treatmentA                    2.728  0.00832 ** \n",
       "scale(accuracy):treatmentE                    2.219  0.03021 *  \n",
       "scale(reflection):treatmentA                 -0.801  0.42624    \n",
       "scale(reflection):treatmentE                  0.886  0.37886    \n",
       "scale(BNT):treatmentA                         0.126  0.89996    \n",
       "scale(BNT):treatmentE                        -0.448  0.65541    \n",
       "scale(NFC):treatmentA                         0.608  0.54548    \n",
       "scale(NFC):treatmentE                         0.255  0.79986    \n",
       "scale(FI):treatmentA                         -1.454  0.15097    \n",
       "scale(FI):treatmentE                          2.252  0.02797 *  \n",
       "scale(lottery_favour):scale(WTP):treatmentA  -4.538 5.72e-06 ***\n",
       "scale(lottery_favour):scale(WTP):treatmentE  -8.779  < 2e-16 ***\n",
       "---\n",
       "Signif. codes:  0 ‘***’ 0.001 ‘**’ 0.01 ‘*’ 0.05 ‘.’ 0.1 ‘ ’ 1"
      ]
     },
     "metadata": {},
     "output_type": "display_data"
    },
    {
     "name": "stderr",
     "output_type": "stream",
     "text": [
      "\n",
      "Correlation matrix not shown by default, as p = 17 > 12.\n",
      "Use print(obj, correlation=TRUE)  or\n",
      "    vcov(obj)        if you need it\n",
      "\n"
     ]
    },
    {
     "data": {
      "text/plain": [
       "Linear mixed model fit by REML. t-tests use Satterthwaite's method [\n",
       "lmerModLmerTest]\n",
       "Formula: slc_lot ~ (scale(lottery_favour) * scale(WTP) + scale(accuracy) +  \n",
       "    scale(reflection) + scale(BNT) + scale(NFC) + scale(FI)):treatment +  \n",
       "    (1 | subject)\n",
       "   Data: data2\n",
       "\n",
       "REML criterion at convergence: 11248.2\n",
       "\n",
       "Scaled residuals: \n",
       "    Min      1Q  Median      3Q     Max \n",
       "-2.4715 -0.8712 -0.0473  0.8374  3.8079 \n",
       "\n",
       "Random effects:\n",
       " Groups   Name        Variance Std.Dev.\n",
       " subject  (Intercept) 0.02114  0.1454  \n",
       " Residual             0.16810  0.4100  \n",
       "Number of obs: 10425, groups:  subject, 50\n",
       "\n",
       "Fixed effects:\n",
       "                                              Estimate Std. Error         df\n",
       "(Intercept)                                  4.321e-01  2.322e-02  3.953e+01\n",
       "scale(lottery_favour):treatmentA             2.394e-01  7.054e-03  1.041e+04\n",
       "scale(lottery_favour):treatmentE             2.900e-01  7.285e-03  1.040e+04\n",
       "scale(WTP):treatmentA                       -4.113e-02  7.631e-03  1.040e+04\n",
       "scale(WTP):treatmentE                       -7.429e-02  6.758e-03  1.041e+04\n",
       "scale(accuracy):treatmentA                   1.273e-01  3.553e-02  3.902e+01\n",
       "scale(accuracy):treatmentE                   5.140e-02  3.311e-02  3.925e+01\n",
       "scale(reflection):treatmentA                -4.568e-02  4.421e-02  3.908e+01\n",
       "scale(reflection):treatmentE                 9.307e-02  4.263e-02  3.931e+01\n",
       "scale(BNT):treatmentA                        1.741e-02  5.213e-02  3.902e+01\n",
       "scale(BNT):treatmentE                       -3.474e-02  3.289e-02  3.900e+01\n",
       "scale(NFC):treatmentA                        3.267e-02  4.208e-02  3.901e+01\n",
       "scale(NFC):treatmentE                       -6.565e-03  2.604e-02  3.897e+01\n",
       "scale(FI):treatmentA                        -3.360e-02  3.178e-02  3.907e+01\n",
       "scale(FI):treatmentE                         9.495e-02  3.376e-02  3.918e+01\n",
       "scale(lottery_favour):scale(WTP):treatmentA -1.259e-02  6.186e-03  1.026e+04\n",
       "scale(lottery_favour):scale(WTP):treatmentE -3.797e-02  5.661e-03  1.038e+04\n",
       "                                            t value Pr(>|t|)    \n",
       "(Intercept)                                  18.610  < 2e-16 ***\n",
       "scale(lottery_favour):treatmentA             33.933  < 2e-16 ***\n",
       "scale(lottery_favour):treatmentE             39.809  < 2e-16 ***\n",
       "scale(WTP):treatmentA                        -5.390 7.20e-08 ***\n",
       "scale(WTP):treatmentE                       -10.992  < 2e-16 ***\n",
       "scale(accuracy):treatmentA                    3.584 0.000928 ***\n",
       "scale(accuracy):treatmentE                    1.552 0.128577    \n",
       "scale(reflection):treatmentA                 -1.033 0.307898    \n",
       "scale(reflection):treatmentE                  2.183 0.035068 *  \n",
       "scale(BNT):treatmentA                         0.334 0.740155    \n",
       "scale(BNT):treatmentE                        -1.056 0.297298    \n",
       "scale(NFC):treatmentA                         0.776 0.442147    \n",
       "scale(NFC):treatmentE                        -0.252 0.802274    \n",
       "scale(FI):treatmentA                         -1.057 0.296860    \n",
       "scale(FI):treatmentE                          2.813 0.007643 ** \n",
       "scale(lottery_favour):scale(WTP):treatmentA  -2.035 0.041912 *  \n",
       "scale(lottery_favour):scale(WTP):treatmentE  -6.708 2.08e-11 ***\n",
       "---\n",
       "Signif. codes:  0 ‘***’ 0.001 ‘**’ 0.01 ‘*’ 0.05 ‘.’ 0.1 ‘ ’ 1"
      ]
     },
     "metadata": {},
     "output_type": "display_data"
    }
   ],
   "source": [
    "# All subjects\n",
    "summary(lmer(slc_lot ~ (scale(lottery_favour)*scale(WTP) + scale(accuracy) + scale(reflection) + scale(BNT) + scale(NFC) + scale(FI)):treatment + (1|subject), data1))\n",
    "\n",
    "# without low-attention individuals\n",
    "summary(lmer(slc_lot ~ (scale(lottery_favour)*scale(WTP) + scale(accuracy) + scale(reflection) + scale(BNT) + scale(NFC) + scale(FI)):treatment + (1|subject), data2))\n"
   ]
  },
  {
   "cell_type": "code",
   "execution_count": null,
   "metadata": {},
   "outputs": [],
   "source": [
    "\n"
   ]
  },
  {
   "cell_type": "code",
   "execution_count": null,
   "metadata": {},
   "outputs": [],
   "source": []
  }
 ],
 "metadata": {
  "kernelspec": {
   "display_name": "R [conda env:renv]",
   "language": "R",
   "name": "conda-env-renv-r"
  },
  "language_info": {
   "codemirror_mode": "r",
   "file_extension": ".r",
   "mimetype": "text/x-r-source",
   "name": "R",
   "pygments_lexer": "r",
   "version": "3.6.1"
  }
 },
 "nbformat": 4,
 "nbformat_minor": 4
}
