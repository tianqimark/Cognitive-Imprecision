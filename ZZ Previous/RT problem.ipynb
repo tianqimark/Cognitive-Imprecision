{
 "cells": [
  {
   "cell_type": "code",
   "execution_count": 6,
   "metadata": {},
   "outputs": [],
   "source": [
    "library(lme4)\n",
    "library(lmerTest)\n",
    "library(nlme)\n",
    "library(ggplot2)\n",
    "library(grid)\n",
    "library(gridExtra)\n",
    "library(lattice)\n",
    "library(plyr)\n",
    "library(MASS)\n",
    "library(stats4)\n",
    "library(dplyr)\n",
    "library(car)"
   ]
  },
  {
   "cell_type": "markdown",
   "metadata": {},
   "source": [
    "## Load data and preprocessing"
   ]
  },
  {
   "cell_type": "code",
   "execution_count": 7,
   "metadata": {},
   "outputs": [],
   "source": [
    "data_raw <- read.table(\"/Users/hutianqi/Desktop/Project Cognitive Imprecision/Z1 Dataset_AU/trialsAUM_10s_B1.csv\", header=TRUE, sep=\",\")\n",
    "\n",
    "data_raw$logRT <- log(1 + data_raw$RT)\n",
    "\n",
    "# make a copy of mydata where less than 300ms and more than 10s rounds are rejected\n",
    "data1 <- subset(data_raw, RT > .3 & RT < 10)\n",
    "\n",
    "# create another dataset in wh subjects with error_choice > 5 are rejected\n",
    "data2 <- subset(data1, error_choice <= 5)\n"
   ]
  },
  {
   "cell_type": "markdown",
   "metadata": {},
   "source": [
    "## 1 Predicting choice with RT and lottery's advantage"
   ]
  },
  {
   "cell_type": "code",
   "execution_count": 8,
   "metadata": {},
   "outputs": [
    {
     "data": {
      "text/plain": [
       "Linear mixed model fit by REML. t-tests use Satterthwaite's method [\n",
       "lmerModLmerTest]\n",
       "Formula: slc_lot ~ (lottery_favour + RT):treatment + (1 | subject)\n",
       "   Data: data1\n",
       "\n",
       "REML criterion at convergence: 18141.5\n",
       "\n",
       "Scaled residuals: \n",
       "     Min       1Q   Median       3Q      Max \n",
       "-2.57785 -0.90411 -0.04839  0.87875  3.07439 \n",
       "\n",
       "Random effects:\n",
       " Groups   Name        Variance Std.Dev.\n",
       " subject  (Intercept) 0.03071  0.1752  \n",
       " Residual             0.19258  0.4388  \n",
       "Number of obs: 14987, groups:  subject, 72\n",
       "\n",
       "Fixed effects:\n",
       "                           Estimate Std. Error        df t value Pr(>|t|)    \n",
       "(Intercept)               4.382e-01  2.174e-02 8.165e+01  20.155   <2e-16 ***\n",
       "lottery_favour:treatmentA 3.685e-02  1.169e-03 1.493e+04  31.509   <2e-16 ***\n",
       "lottery_favour:treatmentE 4.054e-02  1.204e-03 1.495e+04  33.667   <2e-16 ***\n",
       "RT:treatmentA             8.104e-03  3.329e-03 1.217e+04   2.434   0.0149 *  \n",
       "RT:treatmentE             7.219e-04  3.267e-03 1.162e+04   0.221   0.8251    \n",
       "---\n",
       "Signif. codes:  0 ‘***’ 0.001 ‘**’ 0.01 ‘*’ 0.05 ‘.’ 0.1 ‘ ’ 1\n",
       "\n",
       "Correlation of Fixed Effects:\n",
       "            (Intr) ltt_:A ltt_:E RT:trA\n",
       "lttry_fvr:A  0.003                     \n",
       "lttry_fvr:E -0.028  0.000              \n",
       "RT:tretmntA -0.185  0.004  0.005       \n",
       "RT:tretmntE -0.193 -0.001 -0.055  0.036"
      ]
     },
     "metadata": {},
     "output_type": "display_data"
    },
    {
     "data": {
      "text/plain": [
       "Linear mixed model fit by REML. t-tests use Satterthwaite's method [\n",
       "lmerModLmerTest]\n",
       "Formula: slc_lot ~ (lottery_favour + RT):treatment + (1 | subject)\n",
       "   Data: data2\n",
       "\n",
       "REML criterion at convergence: 11478.4\n",
       "\n",
       "Scaled residuals: \n",
       "    Min      1Q  Median      3Q     Max \n",
       "-2.8267 -0.8445 -0.1079  0.8620  3.4767 \n",
       "\n",
       "Random effects:\n",
       " Groups   Name        Variance Std.Dev.\n",
       " subject  (Intercept) 0.03399  0.1844  \n",
       " Residual             0.17225  0.4150  \n",
       "Number of obs: 10425, groups:  subject, 50\n",
       "\n",
       "Fixed effects:\n",
       "                           Estimate Std. Error        df t value Pr(>|t|)    \n",
       "(Intercept)               3.860e-01  2.724e-02 5.544e+01  14.172  < 2e-16 ***\n",
       "lottery_favour:treatmentA 4.603e-02  1.379e-03 1.042e+04  33.387  < 2e-16 ***\n",
       "lottery_favour:treatmentE 4.807e-02  1.307e-03 1.041e+04  36.781  < 2e-16 ***\n",
       "RT:treatmentA             1.719e-02  3.925e-03 9.067e+03   4.378 1.21e-05 ***\n",
       "RT:treatmentE             4.975e-03  3.550e-03 8.762e+03   1.401    0.161    \n",
       "---\n",
       "Signif. codes:  0 ‘***’ 0.001 ‘**’ 0.01 ‘*’ 0.05 ‘.’ 0.1 ‘ ’ 1\n",
       "\n",
       "Correlation of Fixed Effects:\n",
       "            (Intr) ltt_:A ltt_:E RT:trA\n",
       "lttry_fvr:A  0.016                     \n",
       "lttry_fvr:E -0.017  0.000              \n",
       "RT:tretmntA -0.162 -0.036  0.003       \n",
       "RT:tretmntE -0.189 -0.003 -0.073  0.031"
      ]
     },
     "metadata": {},
     "output_type": "display_data"
    }
   ],
   "source": [
    "summary(lmer(slc_lot ~ (lottery_favour + RT):treatment + (1|subject), data1))\n",
    "\n",
    "summary(lmer(slc_lot ~ (lottery_favour + RT):treatment + (1|subject), data2))\n"
   ]
  },
  {
   "cell_type": "markdown",
   "metadata": {},
   "source": [
    "## 2 Predicting RT with choice and value difference"
   ]
  },
  {
   "cell_type": "code",
   "execution_count": 9,
   "metadata": {},
   "outputs": [
    {
     "data": {
      "text/plain": [
       "Generalized linear mixed model fit by maximum likelihood (Laplace\n",
       "  Approximation) [glmerMod]\n",
       " Family: Gamma  ( identity )\n",
       "Formula: RT ~ (value_diff + slc_lot):treatment + (1 | subject)\n",
       "   Data: data1\n",
       "\n",
       "     AIC      BIC   logLik deviance df.resid \n",
       " 45391.8  45445.1 -22688.9  45377.8    14980 \n",
       "\n",
       "Scaled residuals: \n",
       "    Min      1Q  Median      3Q     Max \n",
       "-1.4638 -0.6095 -0.2836  0.2773 12.6967 \n",
       "\n",
       "Random effects:\n",
       " Groups   Name        Variance Std.Dev.\n",
       " subject  (Intercept) 0.2493   0.4993  \n",
       " Residual             0.3978   0.6307  \n",
       "Number of obs: 14987, groups:  subject, 72\n",
       "\n",
       "Fixed effects:\n",
       "                       Estimate Std. Error t value Pr(>|z|)    \n",
       "(Intercept)            2.468215   0.091459  26.987  < 2e-16 ***\n",
       "value_diff:treatmentA -0.010601   0.003503  -3.026  0.00248 ** \n",
       "value_diff:treatmentE -0.015780   0.003926  -4.019 5.84e-05 ***\n",
       "slc_lot:treatmentA     0.028436   0.024319   1.169  0.24228    \n",
       "slc_lot:treatmentE     0.088093   0.027111   3.249  0.00116 ** \n",
       "---\n",
       "Signif. codes:  0 ‘***’ 0.001 ‘**’ 0.01 ‘*’ 0.05 ‘.’ 0.1 ‘ ’ 1\n",
       "\n",
       "Correlation of Fixed Effects:\n",
       "            (Intr) vl_d:A vl_d:E slc_:A\n",
       "vl_dff:trtA -0.079                     \n",
       "vl_dff:trtE -0.078  0.006              \n",
       "slc_lt:trtA -0.071  0.090  0.005       \n",
       "slc_lt:trtE -0.060  0.004 -0.076  0.004"
      ]
     },
     "metadata": {},
     "output_type": "display_data"
    },
    {
     "data": {
      "text/plain": [
       "Generalized linear mixed model fit by maximum likelihood (Laplace\n",
       "  Approximation) [glmerMod]\n",
       " Family: Gamma  ( identity )\n",
       "Formula: RT ~ (value_diff + slc_lot):treatment + (1 | subject)\n",
       "   Data: data2\n",
       "\n",
       "     AIC      BIC   logLik deviance df.resid \n",
       " 31920.3  31971.1 -15953.2  31906.3    10418 \n",
       "\n",
       "Scaled residuals: \n",
       "    Min      1Q  Median      3Q     Max \n",
       "-1.5537 -0.6323 -0.2914  0.2845  9.8051 \n",
       "\n",
       "Random effects:\n",
       " Groups   Name        Variance Std.Dev.\n",
       " subject  (Intercept) 0.1890   0.4348  \n",
       " Residual             0.3529   0.5941  \n",
       "Number of obs: 10425, groups:  subject, 50\n",
       "\n",
       "Fixed effects:\n",
       "                       Estimate Std. Error t value Pr(>|z|)    \n",
       "(Intercept)            2.543583   0.100218  25.380  < 2e-16 ***\n",
       "value_diff:treatmentA -0.016743   0.004628  -3.618 0.000297 ***\n",
       "value_diff:treatmentE -0.022221   0.004237  -5.245 1.56e-07 ***\n",
       "slc_lot:treatmentA     0.152278   0.033199   4.587 4.50e-06 ***\n",
       "slc_lot:treatmentE     0.176637   0.032315   5.466 4.60e-08 ***\n",
       "---\n",
       "Signif. codes:  0 ‘***’ 0.001 ‘**’ 0.01 ‘*’ 0.05 ‘.’ 0.1 ‘ ’ 1\n",
       "\n",
       "Correlation of Fixed Effects:\n",
       "            (Intr) vl_d:A vl_d:E slc_:A\n",
       "vl_dff:trtA -0.088                     \n",
       "vl_dff:trtE -0.084  0.007              \n",
       "slc_lt:trtA -0.072  0.127  0.005       \n",
       "slc_lt:trtE -0.064  0.005 -0.083  0.004"
      ]
     },
     "metadata": {},
     "output_type": "display_data"
    }
   ],
   "source": [
    "summary(glmer(RT ~ (value_diff + slc_lot):treatment + (1|subject), data1, family = Gamma(link = \"identity\")))\n",
    "\n",
    "summary(glmer(RT ~ (value_diff + slc_lot):treatment + (1|subject), data2, family = Gamma(link = \"identity\")))\n"
   ]
  },
  {
   "cell_type": "markdown",
   "metadata": {},
   "source": [
    "## 3 Treatment Effects on RT and Preference"
   ]
  },
  {
   "cell_type": "markdown",
   "metadata": {},
   "source": [
    "### Do RTs differ by treatments?\n",
    "No"
   ]
  },
  {
   "cell_type": "code",
   "execution_count": 10,
   "metadata": {},
   "outputs": [
    {
     "data": {
      "text/plain": [
       "Generalized linear mixed model fit by maximum likelihood (Laplace\n",
       "  Approximation) [glmerMod]\n",
       " Family: Gamma  ( identity )\n",
       "Formula: RT ~ value_diff + slc_lot + treatment + (1 | subject)\n",
       "   Data: data1\n",
       "\n",
       "     AIC      BIC   logLik deviance df.resid \n",
       " 45392.3  45438.0 -22690.1  45380.3    14981 \n",
       "\n",
       "Scaled residuals: \n",
       "    Min      1Q  Median      3Q     Max \n",
       "-1.4632 -0.6092 -0.2828  0.2783 12.7789 \n",
       "\n",
       "Random effects:\n",
       " Groups   Name        Variance Std.Dev.\n",
       " subject  (Intercept) 0.2455   0.4955  \n",
       " Residual             0.3982   0.6310  \n",
       "Number of obs: 14987, groups:  subject, 72\n",
       "\n",
       "Fixed effects:\n",
       "             Estimate Std. Error t value Pr(>|z|)    \n",
       "(Intercept)  2.369114   0.127839  18.532  < 2e-16 ***\n",
       "value_diff  -0.012500   0.002608  -4.793 1.64e-06 ***\n",
       "slc_lot      0.053675   0.018020   2.979  0.00289 ** \n",
       "treatmentE   0.195395   0.179506   1.089  0.27637    \n",
       "---\n",
       "Signif. codes:  0 ‘***’ 0.001 ‘**’ 0.01 ‘*’ 0.05 ‘.’ 0.1 ‘ ’ 1\n",
       "\n",
       "Correlation of Fixed Effects:\n",
       "           (Intr) vl_dff slc_lt\n",
       "value_diff -0.079              \n",
       "slc_lot    -0.068  0.022       \n",
       "treatmentE -0.705  0.001  0.001"
      ]
     },
     "metadata": {},
     "output_type": "display_data"
    },
    {
     "data": {
      "text/plain": [
       "Generalized linear mixed model fit by maximum likelihood (Laplace\n",
       "  Approximation) [glmerMod]\n",
       " Family: Gamma  ( identity )\n",
       "Formula: RT ~ value_diff + slc_lot + treatment + (1 | subject)\n",
       "   Data: data2\n",
       "\n",
       "     AIC      BIC   logLik deviance df.resid \n",
       " 31917.0  31960.5 -15952.5  31905.0    10419 \n",
       "\n",
       "Scaled residuals: \n",
       "    Min      1Q  Median      3Q     Max \n",
       "-1.5532 -0.6328 -0.2917  0.2851  9.8423 \n",
       "\n",
       "Random effects:\n",
       " Groups   Name        Variance Std.Dev.\n",
       " subject  (Intercept) 0.1787   0.4228  \n",
       " Residual             0.3532   0.5943  \n",
       "Number of obs: 10425, groups:  subject, 50\n",
       "\n",
       "Fixed effects:\n",
       "             Estimate Std. Error t value Pr(>|z|)    \n",
       "(Intercept)  2.377370   0.142925  16.634  < 2e-16 ***\n",
       "value_diff  -0.019504   0.003114  -6.264 3.75e-10 ***\n",
       "slc_lot      0.162591   0.023013   7.065 1.60e-12 ***\n",
       "treatmentE   0.306033   0.192899   1.586    0.113    \n",
       "---\n",
       "Signif. codes:  0 ‘***’ 0.001 ‘**’ 0.01 ‘*’ 0.05 ‘.’ 0.1 ‘ ’ 1\n",
       "\n",
       "Correlation of Fixed Effects:\n",
       "           (Intr) vl_dff slc_lt\n",
       "value_diff -0.084              \n",
       "slc_lot    -0.065  0.022       \n",
       "treatmentE -0.732  0.000 -0.002"
      ]
     },
     "metadata": {},
     "output_type": "display_data"
    }
   ],
   "source": [
    "summary(glmer(RT ~ value_diff + slc_lot + treatment + (1|subject), data1, family = Gamma(link = \"identity\")))\n",
    "\n",
    "summary(glmer(RT ~ value_diff + slc_lot + treatment + (1|subject), data2, family = Gamma(link = \"identity\")))\n"
   ]
  },
  {
   "cell_type": "markdown",
   "metadata": {},
   "source": [
    "### Do risk preferences differ by treatments?\n",
    "No"
   ]
  },
  {
   "cell_type": "code",
   "execution_count": 11,
   "metadata": {},
   "outputs": [
    {
     "data": {
      "text/plain": [
       "Generalized linear mixed model fit by maximum likelihood (Laplace\n",
       "  Approximation) [glmerMod]\n",
       " Family: binomial  ( logit )\n",
       "Formula: slc_lot ~ lottery_favour + RT + treatment + (1 | subject)\n",
       "   Data: data1\n",
       "\n",
       "     AIC      BIC   logLik deviance df.resid \n",
       " 17045.6  17083.7  -8517.8  17035.6    14982 \n",
       "\n",
       "Scaled residuals: \n",
       "    Min      1Q  Median      3Q     Max \n",
       "-5.9730 -0.7530 -0.2375  0.7477 12.4468 \n",
       "\n",
       "Random effects:\n",
       " Groups  Name        Variance Std.Dev.\n",
       " subject (Intercept) 0.8254   0.9085  \n",
       "Number of obs: 14987, groups:  subject, 72\n",
       "\n",
       "Fixed effects:\n",
       "                Estimate Std. Error z value Pr(>|z|)    \n",
       "(Intercept)    -0.175869   0.156670  -1.123   0.2616    \n",
       "lottery_favour  0.216383   0.005448  39.716   <2e-16 ***\n",
       "RT              0.027034   0.012438   2.173   0.0297 *  \n",
       "treatmentE     -0.395955   0.217716  -1.819   0.0690 .  \n",
       "---\n",
       "Signif. codes:  0 ‘***’ 0.001 ‘**’ 0.01 ‘*’ 0.05 ‘.’ 0.1 ‘ ’ 1\n",
       "\n",
       "Correlation of Fixed Effects:\n",
       "            (Intr) lttry_ RT    \n",
       "lottery_fvr -0.008              \n",
       "RT          -0.187  0.004       \n",
       "treatmentE  -0.692 -0.038 -0.011"
      ]
     },
     "metadata": {},
     "output_type": "display_data"
    },
    {
     "data": {
      "text/plain": [
       "Generalized linear mixed model fit by maximum likelihood (Laplace\n",
       "  Approximation) [glmerMod]\n",
       " Family: binomial  ( logit )\n",
       "Formula: slc_lot ~ lottery_favour + RT + treatment + (1 | subject)\n",
       "   Data: data2\n",
       "\n",
       "     AIC      BIC   logLik deviance df.resid \n",
       " 10607.6  10643.9  -5298.8  10597.6    10420 \n",
       "\n",
       "Scaled residuals: \n",
       "    Min      1Q  Median      3Q     Max \n",
       "-9.8674 -0.6274 -0.2165  0.6487 25.8303 \n",
       "\n",
       "Random effects:\n",
       " Groups  Name        Variance Std.Dev.\n",
       " subject (Intercept) 1.177    1.085   \n",
       "Number of obs: 10425, groups:  subject, 50\n",
       "\n",
       "Fixed effects:\n",
       "                Estimate Std. Error z value Pr(>|z|)    \n",
       "(Intercept)    -0.553305   0.232413  -2.381   0.0173 *  \n",
       "lottery_favour  0.316395   0.008059  39.260  < 2e-16 ***\n",
       "RT              0.071003   0.015821   4.488 7.19e-06 ***\n",
       "treatmentE     -0.408461   0.311955  -1.309   0.1904    \n",
       "---\n",
       "Signif. codes:  0 ‘***’ 0.001 ‘**’ 0.01 ‘*’ 0.05 ‘.’ 0.1 ‘ ’ 1\n",
       "\n",
       "Correlation of Fixed Effects:\n",
       "            (Intr) lttry_ RT    \n",
       "lottery_fvr -0.015              \n",
       "RT          -0.166  0.019       \n",
       "treatmentE  -0.721 -0.037 -0.014"
      ]
     },
     "metadata": {},
     "output_type": "display_data"
    }
   ],
   "source": [
    "summary(glmer(slc_lot ~ lottery_favour + RT + treatment + (1|subject), data1, family=binomial(link = \"logit\")))\n",
    "\n",
    "summary(glmer(slc_lot ~ lottery_favour + RT + treatment + (1|subject), data2, family=binomial(link = \"logit\")))\n"
   ]
  },
  {
   "cell_type": "code",
   "execution_count": null,
   "metadata": {},
   "outputs": [],
   "source": []
  }
 ],
 "metadata": {
  "kernelspec": {
   "display_name": "R [conda env:jupy]",
   "language": "R",
   "name": "conda-env-jupy-r"
  },
  "language_info": {
   "codemirror_mode": "r",
   "file_extension": ".r",
   "mimetype": "text/x-r-source",
   "name": "R",
   "pygments_lexer": "r",
   "version": "3.6.1"
  }
 },
 "nbformat": 4,
 "nbformat_minor": 4
}
