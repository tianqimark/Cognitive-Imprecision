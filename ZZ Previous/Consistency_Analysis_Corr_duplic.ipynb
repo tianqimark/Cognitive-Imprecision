{
 "cells": [
  {
   "cell_type": "code",
   "execution_count": 25,
   "metadata": {},
   "outputs": [],
   "source": [
    "import numpy as np\n",
    "import pandas as pd\n",
    "import matplotlib.pyplot as plt\n",
    "\n",
    "from scipy.stats import ttest_ind, ttest_rel, mannwhitneyu, pearsonr\n",
    "import pingouin as pg\n"
   ]
  },
  {
   "cell_type": "code",
   "execution_count": 26,
   "metadata": {},
   "outputs": [],
   "source": [
    "# read data idt = individual difference table\n",
    "idt_address = '/Users/hutianqi/Desktop/Project Cognitive Imprecision/Z1D Dataset_Base/IDT_base.csv'\n",
    "idt = pd.read_csv(idt_address)\n",
    "\n",
    "# Create subsets from the id table based on the treatments\n",
    "idt_A = idt[idt['treatment'] == 'A']\n",
    "idt_E = idt[idt['treatment'] == 'E']\n",
    "\n",
    "idt_A.reset_index(drop = True, inplace = True)\n",
    "idt_E.reset_index(drop = True, inplace = True)\n",
    "\n",
    "# idt and subsets without the low attention individuals (wla)\n",
    "idt_wla = idt[idt['attention_check'] <= 5]\n",
    "idt_A_wla = idt_wla[idt_wla['treatment'] == 'A']\n",
    "idt_E_wla = idt_wla[idt_wla['treatment'] == 'E']\n",
    "\n",
    "idt_wla.reset_index(drop = True, inplace = True)\n",
    "idt_A_wla.reset_index(drop = True, inplace = True)\n",
    "idt_E_wla.reset_index(drop = True, inplace = True)\n"
   ]
  },
  {
   "cell_type": "code",
   "execution_count": 27,
   "metadata": {},
   "outputs": [
    {
     "data": {
      "text/plain": [
       "Index(['subject', 'treatment', 'reflection', 'intuition', 'BNT', 'NFC', 'FI',\n",
       "       'decmode', 'accuracy', 'lottery_freq', 'mean_RT', 'attention_check',\n",
       "       'pairs', 'pai_consis', 'pai_consis_rate', 'NPCR', 'd', 'inv_d', 'B',\n",
       "       'nondectime'],\n",
       "      dtype='object')"
      ]
     },
     "execution_count": 27,
     "metadata": {},
     "output_type": "execute_result"
    }
   ],
   "source": [
    "idt.columns"
   ]
  },
  {
   "cell_type": "markdown",
   "metadata": {},
   "source": [
    "### Treatmnet A"
   ]
  },
  {
   "cell_type": "code",
   "execution_count": 28,
   "metadata": {},
   "outputs": [
    {
     "name": "stdout",
     "output_type": "stream",
     "text": [
      "           reflection     BNT     NFC      FI   inv_d  B\n",
      "reflection          -     ***                       *   \n",
      "BNT             0.662       -                           \n",
      "NFC             0.155   0.247       -                   \n",
      "FI             -0.107   -0.17  -0.111       -           \n",
      "inv_d          -0.406  -0.323   0.119  -0.121       -   \n",
      "B               0.291   0.124   0.022  -0.103  -0.228  -\n"
     ]
    }
   ],
   "source": [
    "# Treatment A; all subjects\n",
    "idt_A_corr_pv = idt_A[['reflection', 'BNT', 'NFC', 'FI', 'inv_d', 'B']].rcorr()\n",
    "print(idt_A_corr_pv)\n"
   ]
  },
  {
   "cell_type": "code",
   "execution_count": 29,
   "metadata": {},
   "outputs": [
    {
     "name": "stdout",
     "output_type": "stream",
     "text": [
      "           reflection     BNT     NFC      FI   inv_d  B\n",
      "reflection          -     ***                          *\n",
      "BNT             0.795       -                           \n",
      "NFC             0.276   0.315       -                   \n",
      "FI             -0.138  -0.189  -0.003       -           \n",
      "inv_d          -0.384  -0.293   0.102  -0.085       -   \n",
      "B               0.482    0.39  -0.251   0.131  -0.205  -\n"
     ]
    }
   ],
   "source": [
    "# Treatment A; without the low-attention subjects\n",
    "idt_A_wla_corr_pv = idt_A_wla[['reflection', 'BNT', 'NFC', 'FI', 'inv_d', 'B']].rcorr()\n",
    "print(idt_A_wla_corr_pv)\n"
   ]
  },
  {
   "cell_type": "markdown",
   "metadata": {},
   "source": [
    "### Treatment E"
   ]
  },
  {
   "cell_type": "code",
   "execution_count": 30,
   "metadata": {},
   "outputs": [
    {
     "name": "stdout",
     "output_type": "stream",
     "text": [
      "           reflection     BNT     NFC      FI   inv_d   B\n",
      "reflection          -      **                       *  **\n",
      "BNT             0.429       -                           *\n",
      "NFC             0.099  -0.168       -                    \n",
      "FI             -0.257  -0.043  -0.038       -            \n",
      "inv_d          -0.386  -0.318  -0.172  -0.173       -    \n",
      "B               0.426   0.335   0.067  -0.118  -0.296   -\n"
     ]
    }
   ],
   "source": [
    "# Treatment E; all subjects\n",
    "idt_E_corr_pv = idt_E[['reflection', 'BNT', 'NFC', 'FI', 'inv_d', 'B']].rcorr()\n",
    "print(idt_E_corr_pv)\n"
   ]
  },
  {
   "cell_type": "code",
   "execution_count": 31,
   "metadata": {},
   "outputs": [
    {
     "name": "stdout",
     "output_type": "stream",
     "text": [
      "           reflection     BNT     NFC      FI   inv_d  B\n",
      "reflection          -      **                           \n",
      "BNT             0.519       -                           \n",
      "NFC             0.099   -0.04       -                   \n",
      "FI             -0.297  -0.189   0.097       -           \n",
      "inv_d           -0.29  -0.253  -0.224   -0.31       -   \n",
      "B               0.288   0.327   0.033  -0.183  -0.189  -\n"
     ]
    }
   ],
   "source": [
    "# Treatment E; without the low-attention subjects\n",
    "idt_E_wla_corr_pv = idt_E_wla[['reflection', 'BNT', 'NFC', 'FI', 'inv_d', 'B']].rcorr()\n",
    "print(idt_E_wla_corr_pv)\n"
   ]
  },
  {
   "cell_type": "markdown",
   "metadata": {},
   "source": [
    "### Aggregate Level"
   ]
  },
  {
   "cell_type": "code",
   "execution_count": 32,
   "metadata": {},
   "outputs": [
    {
     "name": "stdout",
     "output_type": "stream",
     "text": [
      "           reflection     BNT     NFC      FI  inv_d   B\n",
      "reflection          -     ***                    ***  **\n",
      "BNT             0.528       -                     **    \n",
      "NFC             0.115   0.001       -                   \n",
      "FI             -0.181  -0.098  -0.065       -           \n",
      "inv_d          -0.389  -0.324  -0.048  -0.148      -   *\n",
      "B                0.36   0.218   0.039  -0.115  -0.25   -\n"
     ]
    }
   ],
   "source": [
    "# Aggregate Level; all subjects\n",
    "idt_corr_pv = idt[['reflection', 'BNT', 'NFC', 'FI', 'inv_d', 'B']].rcorr()\n",
    "print(idt_corr_pv)\n"
   ]
  },
  {
   "cell_type": "code",
   "execution_count": 33,
   "metadata": {},
   "outputs": [
    {
     "name": "stdout",
     "output_type": "stream",
     "text": [
      "           reflection     BNT     NFC      FI   inv_d   B\n",
      "reflection          -     ***                       *  **\n",
      "BNT             0.609       -                       *   *\n",
      "NFC             0.167   0.095       -                    \n",
      "FI             -0.222  -0.165    0.06       -            \n",
      "inv_d          -0.305  -0.303  -0.098  -0.219       -    \n",
      "B               0.383   0.309  -0.069  -0.063  -0.157   -\n"
     ]
    }
   ],
   "source": [
    "# Aggregate Level; without the low-attention subjects\n",
    "idt_wla_corr_pv = idt_wla[['reflection', 'BNT', 'NFC', 'FI', 'inv_d', 'B']].rcorr()\n",
    "print(idt_wla_corr_pv)\n"
   ]
  },
  {
   "cell_type": "code",
   "execution_count": null,
   "metadata": {},
   "outputs": [],
   "source": []
  }
 ],
 "metadata": {
  "kernelspec": {
   "display_name": "Python [conda env:root] *",
   "language": "python",
   "name": "conda-root-py"
  },
  "language_info": {
   "codemirror_mode": {
    "name": "ipython",
    "version": 3
   },
   "file_extension": ".py",
   "mimetype": "text/x-python",
   "name": "python",
   "nbconvert_exporter": "python",
   "pygments_lexer": "ipython3",
   "version": "3.8.5"
  }
 },
 "nbformat": 4,
 "nbformat_minor": 4
}
