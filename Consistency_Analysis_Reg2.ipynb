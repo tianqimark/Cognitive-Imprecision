{
 "cells": [
  {
   "cell_type": "code",
   "execution_count": 26,
   "metadata": {},
   "outputs": [],
   "source": [
    "library(lme4)\n",
    "library(lmerTest)\n",
    "library(nlme)\n",
    "library(ggplot2)\n",
    "library(grid)\n",
    "library(gridExtra)\n",
    "library(lattice)\n",
    "library(plyr)\n",
    "library(MASS)\n",
    "library(stats4)\n",
    "library(dplyr)\n",
    "library(car)\n",
    "library(tidyr)\n",
    "library(broom)\n"
   ]
  },
  {
   "cell_type": "markdown",
   "metadata": {},
   "source": [
    "# Results from the sDDM modelling for decision consistency analysis"
   ]
  },
  {
   "cell_type": "markdown",
   "metadata": {},
   "source": [
    "## Load data and preprocessing"
   ]
  },
  {
   "cell_type": "code",
   "execution_count": 2,
   "metadata": {},
   "outputs": [],
   "source": [
    "# trials table\n",
    "data_raw <- read.table(\"/Users/hutianqi/Desktop/Project Cognitive Imprecision/Z1D Dataset_Base/trials_base.csv\", header=TRUE, sep=\",\")\n",
    "\n",
    "data_raw$logRT <- log(1 + data_raw$RT)\n",
    "\n",
    "# make a copy of the data where less than 300ms and more than 10s rounds are rejected\n",
    "data1 <- subset(data_raw, RT > .3 & RT < 10)\n",
    "\n",
    "# create another dataset in wh subjects with error_choice > 5 are rejected\n",
    "data2 <- subset(data1, error_choice <= 5)\n"
   ]
  },
  {
   "cell_type": "code",
   "execution_count": 3,
   "metadata": {
    "scrolled": true
   },
   "outputs": [
    {
     "data": {
      "text/html": [
       "<ol class=list-inline>\n",
       "\t<li>'subject'</li>\n",
       "\t<li>'trial'</li>\n",
       "\t<li>'treatment'</li>\n",
       "\t<li>'lot_code'</li>\n",
       "\t<li>'risk'</li>\n",
       "\t<li>'reward'</li>\n",
       "\t<li>'WTP'</li>\n",
       "\t<li>'certainty'</li>\n",
       "\t<li>'RT'</li>\n",
       "\t<li>'choice'</li>\n",
       "\t<li>'slc_lot'</li>\n",
       "\t<li>'display'</li>\n",
       "\t<li>'correct'</li>\n",
       "\t<li>'incorrect'</li>\n",
       "\t<li>'decmode'</li>\n",
       "\t<li>'reflection'</li>\n",
       "\t<li>'intuition'</li>\n",
       "\t<li>'BNT'</li>\n",
       "\t<li>'NFC'</li>\n",
       "\t<li>'FI'</li>\n",
       "\t<li>'value_diff'</li>\n",
       "\t<li>'value_sum'</li>\n",
       "\t<li>'lottery_favour'</li>\n",
       "\t<li>'lot_correct'</li>\n",
       "\t<li>'error_choice'</li>\n",
       "\t<li>'accuracy'</li>\n",
       "\t<li>'risk_level'</li>\n",
       "\t<li>'pairs'</li>\n",
       "\t<li>'pai_consis'</li>\n",
       "\t<li>'pai_consis_rate'</li>\n",
       "\t<li>'NPCR'</li>\n",
       "\t<li>'d'</li>\n",
       "\t<li>'inv_d'</li>\n",
       "\t<li>'B'</li>\n",
       "\t<li>'nondectime'</li>\n",
       "\t<li>'logRT'</li>\n",
       "</ol>\n"
      ],
      "text/latex": [
       "\\begin{enumerate*}\n",
       "\\item 'subject'\n",
       "\\item 'trial'\n",
       "\\item 'treatment'\n",
       "\\item 'lot\\_code'\n",
       "\\item 'risk'\n",
       "\\item 'reward'\n",
       "\\item 'WTP'\n",
       "\\item 'certainty'\n",
       "\\item 'RT'\n",
       "\\item 'choice'\n",
       "\\item 'slc\\_lot'\n",
       "\\item 'display'\n",
       "\\item 'correct'\n",
       "\\item 'incorrect'\n",
       "\\item 'decmode'\n",
       "\\item 'reflection'\n",
       "\\item 'intuition'\n",
       "\\item 'BNT'\n",
       "\\item 'NFC'\n",
       "\\item 'FI'\n",
       "\\item 'value\\_diff'\n",
       "\\item 'value\\_sum'\n",
       "\\item 'lottery\\_favour'\n",
       "\\item 'lot\\_correct'\n",
       "\\item 'error\\_choice'\n",
       "\\item 'accuracy'\n",
       "\\item 'risk\\_level'\n",
       "\\item 'pairs'\n",
       "\\item 'pai\\_consis'\n",
       "\\item 'pai\\_consis\\_rate'\n",
       "\\item 'NPCR'\n",
       "\\item 'd'\n",
       "\\item 'inv\\_d'\n",
       "\\item 'B'\n",
       "\\item 'nondectime'\n",
       "\\item 'logRT'\n",
       "\\end{enumerate*}\n"
      ],
      "text/markdown": [
       "1. 'subject'\n",
       "2. 'trial'\n",
       "3. 'treatment'\n",
       "4. 'lot_code'\n",
       "5. 'risk'\n",
       "6. 'reward'\n",
       "7. 'WTP'\n",
       "8. 'certainty'\n",
       "9. 'RT'\n",
       "10. 'choice'\n",
       "11. 'slc_lot'\n",
       "12. 'display'\n",
       "13. 'correct'\n",
       "14. 'incorrect'\n",
       "15. 'decmode'\n",
       "16. 'reflection'\n",
       "17. 'intuition'\n",
       "18. 'BNT'\n",
       "19. 'NFC'\n",
       "20. 'FI'\n",
       "21. 'value_diff'\n",
       "22. 'value_sum'\n",
       "23. 'lottery_favour'\n",
       "24. 'lot_correct'\n",
       "25. 'error_choice'\n",
       "26. 'accuracy'\n",
       "27. 'risk_level'\n",
       "28. 'pairs'\n",
       "29. 'pai_consis'\n",
       "30. 'pai_consis_rate'\n",
       "31. 'NPCR'\n",
       "32. 'd'\n",
       "33. 'inv_d'\n",
       "34. 'B'\n",
       "35. 'nondectime'\n",
       "36. 'logRT'\n",
       "\n",
       "\n"
      ],
      "text/plain": [
       " [1] \"subject\"         \"trial\"           \"treatment\"       \"lot_code\"       \n",
       " [5] \"risk\"            \"reward\"          \"WTP\"             \"certainty\"      \n",
       " [9] \"RT\"              \"choice\"          \"slc_lot\"         \"display\"        \n",
       "[13] \"correct\"         \"incorrect\"       \"decmode\"         \"reflection\"     \n",
       "[17] \"intuition\"       \"BNT\"             \"NFC\"             \"FI\"             \n",
       "[21] \"value_diff\"      \"value_sum\"       \"lottery_favour\"  \"lot_correct\"    \n",
       "[25] \"error_choice\"    \"accuracy\"        \"risk_level\"      \"pairs\"          \n",
       "[29] \"pai_consis\"      \"pai_consis_rate\" \"NPCR\"            \"d\"              \n",
       "[33] \"inv_d\"           \"B\"               \"nondectime\"      \"logRT\"          "
      ]
     },
     "metadata": {},
     "output_type": "display_data"
    }
   ],
   "source": [
    "names(data1)"
   ]
  },
  {
   "cell_type": "code",
   "execution_count": 4,
   "metadata": {},
   "outputs": [],
   "source": [
    "# individual difference table\n",
    "idt1 <- read.table(\"/Users/hutianqi/Desktop/Project Cognitive Imprecision/Z1D Dataset_Base/IDT_base.csv\", header=TRUE, sep=\",\")\n",
    "\n",
    "idt2 <- subset(idt1, attention_check <= 5)\n"
   ]
  },
  {
   "cell_type": "code",
   "execution_count": 5,
   "metadata": {},
   "outputs": [
    {
     "data": {
      "text/html": [
       "<ol class=list-inline>\n",
       "\t<li>'subject'</li>\n",
       "\t<li>'treatment'</li>\n",
       "\t<li>'reflection'</li>\n",
       "\t<li>'intuition'</li>\n",
       "\t<li>'BNT'</li>\n",
       "\t<li>'NFC'</li>\n",
       "\t<li>'FI'</li>\n",
       "\t<li>'decmode'</li>\n",
       "\t<li>'accuracy'</li>\n",
       "\t<li>'lottery_freq'</li>\n",
       "\t<li>'mean_RT'</li>\n",
       "\t<li>'attention_check'</li>\n",
       "\t<li>'pairs'</li>\n",
       "\t<li>'pai_consis'</li>\n",
       "\t<li>'pai_consis_rate'</li>\n",
       "\t<li>'NPCR'</li>\n",
       "\t<li>'d'</li>\n",
       "\t<li>'inv_d'</li>\n",
       "\t<li>'B'</li>\n",
       "\t<li>'nondectime'</li>\n",
       "</ol>\n"
      ],
      "text/latex": [
       "\\begin{enumerate*}\n",
       "\\item 'subject'\n",
       "\\item 'treatment'\n",
       "\\item 'reflection'\n",
       "\\item 'intuition'\n",
       "\\item 'BNT'\n",
       "\\item 'NFC'\n",
       "\\item 'FI'\n",
       "\\item 'decmode'\n",
       "\\item 'accuracy'\n",
       "\\item 'lottery\\_freq'\n",
       "\\item 'mean\\_RT'\n",
       "\\item 'attention\\_check'\n",
       "\\item 'pairs'\n",
       "\\item 'pai\\_consis'\n",
       "\\item 'pai\\_consis\\_rate'\n",
       "\\item 'NPCR'\n",
       "\\item 'd'\n",
       "\\item 'inv\\_d'\n",
       "\\item 'B'\n",
       "\\item 'nondectime'\n",
       "\\end{enumerate*}\n"
      ],
      "text/markdown": [
       "1. 'subject'\n",
       "2. 'treatment'\n",
       "3. 'reflection'\n",
       "4. 'intuition'\n",
       "5. 'BNT'\n",
       "6. 'NFC'\n",
       "7. 'FI'\n",
       "8. 'decmode'\n",
       "9. 'accuracy'\n",
       "10. 'lottery_freq'\n",
       "11. 'mean_RT'\n",
       "12. 'attention_check'\n",
       "13. 'pairs'\n",
       "14. 'pai_consis'\n",
       "15. 'pai_consis_rate'\n",
       "16. 'NPCR'\n",
       "17. 'd'\n",
       "18. 'inv_d'\n",
       "19. 'B'\n",
       "20. 'nondectime'\n",
       "\n",
       "\n"
      ],
      "text/plain": [
       " [1] \"subject\"         \"treatment\"       \"reflection\"      \"intuition\"      \n",
       " [5] \"BNT\"             \"NFC\"             \"FI\"              \"decmode\"        \n",
       " [9] \"accuracy\"        \"lottery_freq\"    \"mean_RT\"         \"attention_check\"\n",
       "[13] \"pairs\"           \"pai_consis\"      \"pai_consis_rate\" \"NPCR\"           \n",
       "[17] \"d\"               \"inv_d\"           \"B\"               \"nondectime\"     "
      ]
     },
     "metadata": {},
     "output_type": "display_data"
    }
   ],
   "source": [
    "names(idt1)"
   ]
  },
  {
   "cell_type": "markdown",
   "metadata": {},
   "source": [
    "###  All continuous variables are scaled due to the inclusion of interactive terms and to avoid the error \"Model failed to converge with max|grad|\"."
   ]
  },
  {
   "cell_type": "markdown",
   "metadata": {},
   "source": [
    "# Predicting decision consistency\n"
   ]
  },
  {
   "cell_type": "markdown",
   "metadata": {},
   "source": [
    "### Does the decision consistency differ by the treatments?"
   ]
  },
  {
   "cell_type": "code",
   "execution_count": 6,
   "metadata": {
    "scrolled": true
   },
   "outputs": [
    {
     "data": {
      "text/plain": [
       "Generalized linear mixed model fit by maximum likelihood (Laplace\n",
       "  Approximation) [glmerMod]\n",
       " Family: binomial  ( logit )\n",
       "Formula: incorrect ~ scale(value_diff) * scale(WTP) + treatment + (1 |  \n",
       "    subject)\n",
       "   Data: data1\n",
       "\n",
       "     AIC      BIC   logLik deviance df.resid \n",
       " 17689.2  17734.8  -8838.6  17677.2    14981 \n",
       "\n",
       "Scaled residuals: \n",
       "    Min      1Q  Median      3Q     Max \n",
       "-1.8171 -0.7271 -0.4535  0.9741  7.9535 \n",
       "\n",
       "Random effects:\n",
       " Groups  Name        Variance Std.Dev.\n",
       " subject (Intercept) 0.5099   0.7141  \n",
       "Number of obs: 14987, groups:  subject, 72\n",
       "\n",
       "Fixed effects:\n",
       "                             Estimate Std. Error z value Pr(>|z|)    \n",
       "(Intercept)                  -0.79516    0.12221  -6.506 7.70e-11 ***\n",
       "scale(value_diff)            -0.52918    0.02458 -21.528  < 2e-16 ***\n",
       "scale(WTP)                    0.16560    0.02148   7.709 1.26e-14 ***\n",
       "treatmentE                   -0.01436    0.17256  -0.083    0.934    \n",
       "scale(value_diff):scale(WTP)  0.17677    0.01746  10.122  < 2e-16 ***\n",
       "---\n",
       "Signif. codes:  0 ‘***’ 0.001 ‘**’ 0.01 ‘*’ 0.05 ‘.’ 0.1 ‘ ’ 1\n",
       "\n",
       "Correlation of Fixed Effects:\n",
       "            (Intr) scl(_) s(WTP) trtmnE\n",
       "scl(vl_dff)  0.043                     \n",
       "scale(WTP)   0.014 -0.321              \n",
       "treatmentE  -0.706  0.004 -0.032       \n",
       "sc(_):(WTP) -0.058 -0.385 -0.054  0.000"
      ]
     },
     "metadata": {},
     "output_type": "display_data"
    }
   ],
   "source": [
    "# All subjects\n",
    "summary(glmer(incorrect ~ scale(value_diff)*scale(WTP) + treatment + (1|subject), data1, family=binomial(link = \"logit\")))\n"
   ]
  },
  {
   "cell_type": "code",
   "execution_count": 7,
   "metadata": {
    "scrolled": true
   },
   "outputs": [
    {
     "data": {
      "text/plain": [
       "Generalized linear mixed model fit by maximum likelihood (Laplace\n",
       "  Approximation) [glmerMod]\n",
       " Family: binomial  ( logit )\n",
       "Formula: incorrect ~ scale(value_diff) * scale(WTP) + scale(reflection) +  \n",
       "    scale(BNT) + scale(NFC) + scale(FI) + treatment + (1 | subject)\n",
       "   Data: data1\n",
       "\n",
       "     AIC      BIC   logLik deviance df.resid \n",
       " 17679.5  17755.6  -8829.7  17659.5    14977 \n",
       "\n",
       "Scaled residuals: \n",
       "    Min      1Q  Median      3Q     Max \n",
       "-1.8230 -0.7279 -0.4537  0.9761  7.8397 \n",
       "\n",
       "Random effects:\n",
       " Groups  Name        Variance Std.Dev.\n",
       " subject (Intercept) 0.3951   0.6286  \n",
       "Number of obs: 14987, groups:  subject, 72\n",
       "\n",
       "Fixed effects:\n",
       "                              Estimate Std. Error z value Pr(>|z|)    \n",
       "(Intercept)                  -0.803011   0.109664  -7.322 2.43e-13 ***\n",
       "scale(value_diff)            -0.528724   0.024575 -21.514  < 2e-16 ***\n",
       "scale(WTP)                    0.164999   0.021458   7.689 1.48e-14 ***\n",
       "scale(reflection)            -0.283632   0.093129  -3.046  0.00232 ** \n",
       "scale(BNT)                   -0.082866   0.091780  -0.903  0.36659    \n",
       "scale(NFC)                    0.088709   0.077808   1.140  0.25425    \n",
       "scale(FI)                    -0.133317   0.077745  -1.715  0.08638 .  \n",
       "treatmentE                    0.006196   0.156605   0.040  0.96844    \n",
       "scale(value_diff):scale(WTP)  0.176919   0.017456  10.135  < 2e-16 ***\n",
       "---\n",
       "Signif. codes:  0 ‘***’ 0.001 ‘**’ 0.01 ‘*’ 0.05 ‘.’ 0.1 ‘ ’ 1\n",
       "\n",
       "Correlation of Fixed Effects:\n",
       "            (Intr) scl(_) s(WTP) scl(r) s(BNT) s(NFC) sc(FI) trtmnE\n",
       "scl(vl_dff)  0.048                                                 \n",
       "scale(WTP)   0.014 -0.321                                          \n",
       "scl(rflctn)  0.112  0.008  0.001                                   \n",
       "scale(BNT)  -0.131  0.008  0.001 -0.534                            \n",
       "scale(NFC)  -0.067 -0.006  0.024 -0.139  0.086                     \n",
       "scale(FI)   -0.032  0.002  0.002  0.138  0.018  0.049              \n",
       "treatmentE  -0.714  0.005 -0.033 -0.157  0.183  0.092  0.047       \n",
       "sc(_):(WTP) -0.065 -0.385 -0.054 -0.006  0.001  0.010  0.000  0.001"
      ]
     },
     "metadata": {},
     "output_type": "display_data"
    }
   ],
   "source": [
    "# All subjects; with Psychometrics\n",
    "summary(glmer(incorrect ~ scale(value_diff)*scale(WTP) + scale(reflection) + scale(BNT) + scale(NFC) + scale(FI) + treatment + (1|subject), data1, family=binomial(link = \"logit\")))\n"
   ]
  },
  {
   "cell_type": "markdown",
   "metadata": {},
   "source": [
    "### What factors affect the decision inconsistency in each treatment?"
   ]
  },
  {
   "cell_type": "markdown",
   "metadata": {},
   "source": [
    "### Psychometircs"
   ]
  },
  {
   "cell_type": "code",
   "execution_count": 8,
   "metadata": {
    "scrolled": true
   },
   "outputs": [
    {
     "name": "stderr",
     "output_type": "stream",
     "text": [
      "\n",
      "Correlation matrix not shown by default, as p = 15 > 12.\n",
      "Use print(obj, correlation=TRUE)  or\n",
      "    vcov(obj)        if you need it\n",
      "\n"
     ]
    },
    {
     "data": {
      "text/plain": [
       "Linear mixed model fit by REML. t-tests use Satterthwaite's method [\n",
       "lmerModLmerTest]\n",
       "Formula: incorrect ~ (scale(value_diff) * scale(WTP) + scale(reflection) +  \n",
       "    scale(BNT) + scale(NFC) + scale(FI)):treatment + (1 | subject)\n",
       "   Data: data1\n",
       "\n",
       "REML criterion at convergence: 18699.5\n",
       "\n",
       "Scaled residuals: \n",
       "    Min      1Q  Median      3Q     Max \n",
       "-1.6448 -0.7876 -0.4071  1.1023  2.4746 \n",
       "\n",
       "Random effects:\n",
       " Groups   Name        Variance Std.Dev.\n",
       " subject  (Intercept) 0.01807  0.1344  \n",
       " Residual             0.19981  0.4470  \n",
       "Number of obs: 14987, groups:  subject, 72\n",
       "\n",
       "Fixed effects:\n",
       "                                          Estimate Std. Error         df\n",
       "(Intercept)                              3.340e-01  1.671e-02  6.341e+01\n",
       "scale(value_diff):treatmentA            -8.313e-02  5.320e-03  1.497e+04\n",
       "scale(value_diff):treatmentE            -1.057e-01  6.228e-03  1.496e+04\n",
       "scale(WTP):treatmentA                    6.772e-03  6.334e-03  1.466e+04\n",
       "scale(WTP):treatmentE                    4.899e-02  5.908e-03  1.495e+04\n",
       "scale(reflection):treatmentA            -4.151e-02  2.961e-02  6.285e+01\n",
       "scale(reflection):treatmentE            -6.080e-02  2.777e-02  6.295e+01\n",
       "scale(BNT):treatmentA                   -2.886e-02  3.340e-02  6.296e+01\n",
       "scale(BNT):treatmentE                   -1.205e-02  2.476e-02  6.286e+01\n",
       "scale(NFC):treatmentA                    4.555e-02  2.900e-02  6.292e+01\n",
       "scale(NFC):treatmentE                    3.193e-03  2.074e-02  6.295e+01\n",
       "scale(FI):treatmentA                    -1.788e-02  2.279e-02  6.289e+01\n",
       "scale(FI):treatmentE                    -3.061e-02  2.456e-02  6.293e+01\n",
       "scale(value_diff):scale(WTP):treatmentA  1.590e-02  4.484e-03  1.497e+04\n",
       "scale(value_diff):scale(WTP):treatmentE  3.942e-02  4.734e-03  1.497e+04\n",
       "                                        t value Pr(>|t|)    \n",
       "(Intercept)                              19.991  < 2e-16 ***\n",
       "scale(value_diff):treatmentA            -15.626  < 2e-16 ***\n",
       "scale(value_diff):treatmentE            -16.976  < 2e-16 ***\n",
       "scale(WTP):treatmentA                     1.069 0.285021    \n",
       "scale(WTP):treatmentE                     8.292  < 2e-16 ***\n",
       "scale(reflection):treatmentA             -1.402 0.165927    \n",
       "scale(reflection):treatmentE             -2.190 0.032271 *  \n",
       "scale(BNT):treatmentA                    -0.864 0.390928    \n",
       "scale(BNT):treatmentE                    -0.487 0.628186    \n",
       "scale(NFC):treatmentA                     1.571 0.121288    \n",
       "scale(NFC):treatmentE                     0.154 0.878149    \n",
       "scale(FI):treatmentA                     -0.784 0.435787    \n",
       "scale(FI):treatmentE                     -1.246 0.217318    \n",
       "scale(value_diff):scale(WTP):treatmentA   3.545 0.000394 ***\n",
       "scale(value_diff):scale(WTP):treatmentE   8.328  < 2e-16 ***\n",
       "---\n",
       "Signif. codes:  0 ‘***’ 0.001 ‘**’ 0.01 ‘*’ 0.05 ‘.’ 0.1 ‘ ’ 1"
      ]
     },
     "metadata": {},
     "output_type": "display_data"
    }
   ],
   "source": [
    "# All subjects; with Psychometrics\n",
    "summary(lmer(incorrect ~ (scale(value_diff)*scale(WTP) + scale(reflection) + scale(BNT) + scale(NFC) + scale(FI)):treatment + (1|subject), data1))\n"
   ]
  },
  {
   "cell_type": "code",
   "execution_count": 9,
   "metadata": {
    "scrolled": true
   },
   "outputs": [
    {
     "name": "stderr",
     "output_type": "stream",
     "text": [
      "\n",
      "Correlation matrix not shown by default, as p = 15 > 12.\n",
      "Use print(obj, correlation=TRUE)  or\n",
      "    vcov(obj)        if you need it\n",
      "\n"
     ]
    },
    {
     "data": {
      "text/plain": [
       "Linear mixed model fit by REML. t-tests use Satterthwaite's method [\n",
       "lmerModLmerTest]\n",
       "Formula: incorrect ~ (scale(value_diff) * scale(WTP) + scale(reflection) +  \n",
       "    scale(BNT) + scale(NFC) + scale(FI)):treatment + (1 | subject)\n",
       "   Data: data2\n",
       "\n",
       "REML criterion at convergence: 12260.5\n",
       "\n",
       "Scaled residuals: \n",
       "    Min      1Q  Median      3Q     Max \n",
       "-1.8326 -0.7499 -0.3974  1.0977  2.9988 \n",
       "\n",
       "Random effects:\n",
       " Groups   Name        Variance Std.Dev.\n",
       " subject  (Intercept) 0.0192   0.1386  \n",
       " Residual             0.1855   0.4307  \n",
       "Number of obs: 10425, groups:  subject, 50\n",
       "\n",
       "Fixed effects:\n",
       "                                          Estimate Std. Error         df\n",
       "(Intercept)                              3.035e-01  2.202e-02  4.113e+01\n",
       "scale(value_diff):treatmentA            -1.107e-01  6.426e-03  1.040e+04\n",
       "scale(value_diff):treatmentE            -1.278e-01  6.743e-03  1.040e+04\n",
       "scale(WTP):treatmentA                    1.375e-02  7.619e-03  1.034e+04\n",
       "scale(WTP):treatmentE                    7.193e-02  6.559e-03  1.040e+04\n",
       "scale(reflection):treatmentA            -3.372e-02  4.177e-02  4.086e+01\n",
       "scale(reflection):treatmentE            -5.509e-02  3.712e-02  4.094e+01\n",
       "scale(BNT):treatmentA                   -3.611e-02  4.897e-02  4.090e+01\n",
       "scale(BNT):treatmentE                   -1.250e-02  3.143e-02  4.087e+01\n",
       "scale(NFC):treatmentA                    6.614e-02  3.788e-02  4.082e+01\n",
       "scale(NFC):treatmentE                    1.487e-02  2.475e-02  4.088e+01\n",
       "scale(FI):treatmentA                    -1.007e-02  3.020e-02  4.096e+01\n",
       "scale(FI):treatmentE                    -4.778e-02  2.895e-02  4.094e+01\n",
       "scale(value_diff):scale(WTP):treatmentA  2.739e-02  5.458e-03  1.041e+04\n",
       "scale(value_diff):scale(WTP):treatmentE  4.029e-02  5.112e-03  1.041e+04\n",
       "                                        t value Pr(>|t|)    \n",
       "(Intercept)                              13.781  < 2e-16 ***\n",
       "scale(value_diff):treatmentA            -17.232  < 2e-16 ***\n",
       "scale(value_diff):treatmentE            -18.946  < 2e-16 ***\n",
       "scale(WTP):treatmentA                     1.804   0.0712 .  \n",
       "scale(WTP):treatmentE                    10.966  < 2e-16 ***\n",
       "scale(reflection):treatmentA             -0.807   0.4241    \n",
       "scale(reflection):treatmentE             -1.484   0.1454    \n",
       "scale(BNT):treatmentA                    -0.737   0.4652    \n",
       "scale(BNT):treatmentE                    -0.398   0.6930    \n",
       "scale(NFC):treatmentA                     1.746   0.0883 .  \n",
       "scale(NFC):treatmentE                     0.601   0.5513    \n",
       "scale(FI):treatmentA                     -0.333   0.7405    \n",
       "scale(FI):treatmentE                     -1.651   0.1065    \n",
       "scale(value_diff):scale(WTP):treatmentA   5.018 5.31e-07 ***\n",
       "scale(value_diff):scale(WTP):treatmentE   7.880 3.60e-15 ***\n",
       "---\n",
       "Signif. codes:  0 ‘***’ 0.001 ‘**’ 0.01 ‘*’ 0.05 ‘.’ 0.1 ‘ ’ 1"
      ]
     },
     "metadata": {},
     "output_type": "display_data"
    }
   ],
   "source": [
    "# Low-attention subjects removed; with Psychometrics\n",
    "summary(lmer(incorrect ~ (scale(value_diff)*scale(WTP) + scale(reflection) + scale(BNT) + scale(NFC) + scale(FI)):treatment + (1|subject), data2))\n"
   ]
  },
  {
   "cell_type": "markdown",
   "metadata": {},
   "source": [
    "### DDM parameters - cognitive uncertainty and response caution"
   ]
  },
  {
   "cell_type": "code",
   "execution_count": 10,
   "metadata": {
    "scrolled": true
   },
   "outputs": [
    {
     "data": {
      "text/plain": [
       "Linear mixed model fit by REML. t-tests use Satterthwaite's method [\n",
       "lmerModLmerTest]\n",
       "Formula: incorrect ~ (scale(value_diff) * scale(WTP) + scale(inv_d) +  \n",
       "    scale(B)):treatment + (1 | subject)\n",
       "   Data: data1\n",
       "\n",
       "REML criterion at convergence: 18586\n",
       "\n",
       "Scaled residuals: \n",
       "    Min      1Q  Median      3Q     Max \n",
       "-1.5946 -0.7887 -0.4044  1.1018  2.5047 \n",
       "\n",
       "Random effects:\n",
       " Groups   Name        Variance Std.Dev.\n",
       " subject  (Intercept) 0.003547 0.05956 \n",
       " Residual             0.199823 0.44702 \n",
       "Number of obs: 14987, groups:  subject, 72\n",
       "\n",
       "Fixed effects:\n",
       "                                          Estimate Std. Error         df\n",
       "(Intercept)                              3.344e-01  8.083e-03  6.794e+01\n",
       "scale(value_diff):treatmentA            -8.326e-02  5.294e-03  1.474e+04\n",
       "scale(value_diff):treatmentE            -1.045e-01  6.200e-03  1.483e+04\n",
       "scale(WTP):treatmentA                    4.575e-03  6.197e-03  9.341e+03\n",
       "scale(WTP):treatmentE                    4.686e-02  5.831e-03  1.272e+04\n",
       "scale(inv_d):treatmentA                  1.213e-01  1.110e-02  6.588e+01\n",
       "scale(inv_d):treatmentE                  1.177e-01  1.222e-02  6.573e+01\n",
       "scale(B):treatmentA                     -2.329e-02  1.119e-02  6.645e+01\n",
       "scale(B):treatmentE                     -3.248e-02  1.188e-02  6.666e+01\n",
       "scale(value_diff):scale(WTP):treatmentA  1.569e-02  4.462e-03  1.477e+04\n",
       "scale(value_diff):scale(WTP):treatmentE  3.762e-02  4.704e-03  1.452e+04\n",
       "                                        t value Pr(>|t|)    \n",
       "(Intercept)                              41.364  < 2e-16 ***\n",
       "scale(value_diff):treatmentA            -15.728  < 2e-16 ***\n",
       "scale(value_diff):treatmentE            -16.858  < 2e-16 ***\n",
       "scale(WTP):treatmentA                     0.738 0.460414    \n",
       "scale(WTP):treatmentE                     8.036 1.01e-15 ***\n",
       "scale(inv_d):treatmentA                  10.927  < 2e-16 ***\n",
       "scale(inv_d):treatmentE                   9.629 3.50e-14 ***\n",
       "scale(B):treatmentA                      -2.082 0.041210 *  \n",
       "scale(B):treatmentE                      -2.733 0.008024 ** \n",
       "scale(value_diff):scale(WTP):treatmentA   3.515 0.000441 ***\n",
       "scale(value_diff):scale(WTP):treatmentE   7.997 1.37e-15 ***\n",
       "---\n",
       "Signif. codes:  0 ‘***’ 0.001 ‘**’ 0.01 ‘*’ 0.05 ‘.’ 0.1 ‘ ’ 1\n",
       "\n",
       "Correlation of Fixed Effects:\n",
       "             (Intr) scl(v_):A scl(v_):E s(WTP):A s(WTP):E scl(n_):A scl(n_):E\n",
       "scl(vl_d):A  -0.016                                                          \n",
       "scl(vl_d):E   0.049 -0.001                                                   \n",
       "scl(WTP):tA   0.073 -0.241     0.004                                         \n",
       "scl(WTP):tE  -0.036  0.001    -0.265    -0.003                               \n",
       "scl(nv_d):A   0.062 -0.037     0.003     0.003   -0.002                      \n",
       "scl(nv_d):E  -0.082  0.001    -0.010    -0.006   -0.016   -0.005             \n",
       "scl(B):trtA   0.077  0.008     0.004     0.050   -0.003    0.228    -0.006   \n",
       "scl(B):trtE  -0.111  0.002     0.005    -0.008   -0.001   -0.007     0.289   \n",
       "s(_):(WTP):A -0.073  0.060    -0.004    -0.226    0.003    0.002     0.006   \n",
       "s(_):(WTP):E -0.089  0.001    -0.372    -0.006   -0.142   -0.006    -0.037   \n",
       "             s(B):A s(B):E s(_):(WTP):A\n",
       "scl(vl_d):A                            \n",
       "scl(vl_d):E                            \n",
       "scl(WTP):tA                            \n",
       "scl(WTP):tE                            \n",
       "scl(nv_d):A                            \n",
       "scl(nv_d):E                            \n",
       "scl(B):trtA                            \n",
       "scl(B):trtE  -0.009                    \n",
       "s(_):(WTP):A  0.001  0.008             \n",
       "s(_):(WTP):E -0.007 -0.012  0.007      "
      ]
     },
     "metadata": {},
     "output_type": "display_data"
    },
    {
     "name": "stderr",
     "output_type": "stream",
     "text": [
      "\n",
      "Correlation matrix not shown by default, as p = 13 > 12.\n",
      "Use print(obj, correlation=TRUE)  or\n",
      "    vcov(obj)        if you need it\n",
      "\n"
     ]
    },
    {
     "data": {
      "text/plain": [
       "Linear mixed model fit by REML. t-tests use Satterthwaite's method [\n",
       "lmerModLmerTest]\n",
       "Formula: incorrect ~ (scale(value_diff) * scale(WTP) + scale(inv_d) *  \n",
       "    scale(B)):treatment + (1 | subject)\n",
       "   Data: data1\n",
       "\n",
       "REML criterion at convergence: 18592.3\n",
       "\n",
       "Scaled residuals: \n",
       "    Min      1Q  Median      3Q     Max \n",
       "-1.5886 -0.7933 -0.4028  1.1049  2.5037 \n",
       "\n",
       "Random effects:\n",
       " Groups   Name        Variance Std.Dev.\n",
       " subject  (Intercept) 0.003156 0.05618 \n",
       " Residual             0.199823 0.44702 \n",
       "Number of obs: 14987, groups:  subject, 72\n",
       "\n",
       "Fixed effects:\n",
       "                                          Estimate Std. Error         df\n",
       "(Intercept)                              3.383e-01  7.942e-03  6.612e+01\n",
       "scale(value_diff):treatmentA            -8.328e-02  5.291e-03  1.466e+04\n",
       "scale(value_diff):treatmentE            -1.048e-01  6.200e-03  1.480e+04\n",
       "scale(WTP):treatmentA                    4.606e-03  6.192e-03  9.015e+03\n",
       "scale(WTP):treatmentE                    4.664e-02  5.822e-03  1.223e+04\n",
       "scale(inv_d):treatmentA                  1.220e-01  1.091e-02  6.370e+01\n",
       "scale(inv_d):treatmentE                  1.116e-01  1.188e-02  6.370e+01\n",
       "scale(B):treatmentA                     -2.218e-02  1.167e-02  6.366e+01\n",
       "scale(B):treatmentE                     -2.862e-02  1.144e-02  6.458e+01\n",
       "scale(value_diff):scale(WTP):treatmentA  1.547e-02  4.460e-03  1.470e+04\n",
       "scale(value_diff):scale(WTP):treatmentE  3.802e-02  4.705e-03  1.452e+04\n",
       "scale(inv_d):scale(B):treatmentA        -1.643e-03  1.106e-02  6.379e+01\n",
       "scale(inv_d):scale(B):treatmentE         3.093e-02  1.073e-02  6.422e+01\n",
       "                                        t value Pr(>|t|)    \n",
       "(Intercept)                              42.600  < 2e-16 ***\n",
       "scale(value_diff):treatmentA            -15.740  < 2e-16 ***\n",
       "scale(value_diff):treatmentE            -16.910  < 2e-16 ***\n",
       "scale(WTP):treatmentA                     0.744 0.456998    \n",
       "scale(WTP):treatmentE                     8.010 1.25e-15 ***\n",
       "scale(inv_d):treatmentA                  11.182  < 2e-16 ***\n",
       "scale(inv_d):treatmentE                   9.402 1.18e-13 ***\n",
       "scale(B):treatmentA                      -1.900 0.062004 .  \n",
       "scale(B):treatmentE                      -2.502 0.014895 *  \n",
       "scale(value_diff):scale(WTP):treatmentA   3.469 0.000524 ***\n",
       "scale(value_diff):scale(WTP):treatmentE   8.081 6.95e-16 ***\n",
       "scale(inv_d):scale(B):treatmentA         -0.149 0.882402    \n",
       "scale(inv_d):scale(B):treatmentE          2.882 0.005368 ** \n",
       "---\n",
       "Signif. codes:  0 ‘***’ 0.001 ‘**’ 0.01 ‘*’ 0.05 ‘.’ 0.1 ‘ ’ 1"
      ]
     },
     "metadata": {},
     "output_type": "display_data"
    }
   ],
   "source": [
    "# All subjects; with DDM parameters\n",
    "summary(lmer(incorrect ~ (scale(value_diff)*scale(WTP) + scale(inv_d) + scale(B)):treatment + (1|subject), data1))\n",
    "summary(lmer(incorrect ~ (scale(value_diff)*scale(WTP) + scale(inv_d)*scale(B)):treatment + (1|subject), data1))\n"
   ]
  },
  {
   "cell_type": "code",
   "execution_count": 11,
   "metadata": {
    "scrolled": true
   },
   "outputs": [
    {
     "data": {
      "text/plain": [
       "Linear mixed model fit by REML. t-tests use Satterthwaite's method [\n",
       "lmerModLmerTest]\n",
       "Formula: incorrect ~ (scale(value_diff) * scale(WTP) + scale(inv_d) +  \n",
       "    scale(B)):treatment + (1 | subject)\n",
       "   Data: data2\n",
       "\n",
       "REML criterion at convergence: 12193.8\n",
       "\n",
       "Scaled residuals: \n",
       "    Min      1Q  Median      3Q     Max \n",
       "-1.7892 -0.7553 -0.3967  1.0991  3.0268 \n",
       "\n",
       "Random effects:\n",
       " Groups   Name        Variance Std.Dev.\n",
       " subject  (Intercept) 0.005481 0.07403 \n",
       " Residual             0.185526 0.43073 \n",
       "Number of obs: 10425, groups:  subject, 50\n",
       "\n",
       "Fixed effects:\n",
       "                                          Estimate Std. Error         df\n",
       "(Intercept)                              3.031e-01  1.182e-02  4.499e+01\n",
       "scale(value_diff):treatmentA            -1.110e-01  6.408e-03  1.039e+04\n",
       "scale(value_diff):treatmentE            -1.269e-01  6.725e-03  1.039e+04\n",
       "scale(WTP):treatmentA                    1.269e-02  7.529e-03  8.764e+03\n",
       "scale(WTP):treatmentE                    7.024e-02  6.499e-03  9.505e+03\n",
       "scale(inv_d):treatmentA                  1.175e-01  1.687e-02  4.421e+01\n",
       "scale(inv_d):treatmentE                  1.125e-01  1.607e-02  4.410e+01\n",
       "scale(B):treatmentA                     -2.405e-02  1.834e-02  4.385e+01\n",
       "scale(B):treatmentE                     -3.240e-02  1.457e-02  4.473e+01\n",
       "scale(value_diff):scale(WTP):treatmentA  2.730e-02  5.440e-03  1.036e+04\n",
       "scale(value_diff):scale(WTP):treatmentE  3.890e-02  5.095e-03  1.035e+04\n",
       "                                        t value Pr(>|t|)    \n",
       "(Intercept)                              25.637  < 2e-16 ***\n",
       "scale(value_diff):treatmentA            -17.317  < 2e-16 ***\n",
       "scale(value_diff):treatmentE            -18.868  < 2e-16 ***\n",
       "scale(WTP):treatmentA                     1.686   0.0918 .  \n",
       "scale(WTP):treatmentE                    10.807  < 2e-16 ***\n",
       "scale(inv_d):treatmentA                   6.964 1.26e-08 ***\n",
       "scale(inv_d):treatmentE                   7.001 1.13e-08 ***\n",
       "scale(B):treatmentA                      -1.311   0.1967    \n",
       "scale(B):treatmentE                      -2.224   0.0312 *  \n",
       "scale(value_diff):scale(WTP):treatmentA   5.019 5.28e-07 ***\n",
       "scale(value_diff):scale(WTP):treatmentE   7.634 2.47e-14 ***\n",
       "---\n",
       "Signif. codes:  0 ‘***’ 0.001 ‘**’ 0.01 ‘*’ 0.05 ‘.’ 0.1 ‘ ’ 1\n",
       "\n",
       "Correlation of Fixed Effects:\n",
       "             (Intr) scl(v_):A scl(v_):E s(WTP):A s(WTP):E scl(n_):A scl(n_):E\n",
       "scl(vl_d):A  -0.013                                                          \n",
       "scl(vl_d):E   0.033  0.000                                                   \n",
       "scl(WTP):tA   0.057 -0.239     0.002                                         \n",
       "scl(WTP):tE  -0.028  0.000    -0.256    -0.002                               \n",
       "scl(nv_d):A   0.173 -0.035     0.006    -0.008   -0.005                      \n",
       "scl(nv_d):E  -0.168  0.002    -0.010    -0.010   -0.001   -0.029             \n",
       "scl(B):trtA   0.131  0.009     0.004    -0.004   -0.004    0.184    -0.022   \n",
       "scl(B):trtE  -0.137  0.002     0.009    -0.008   -0.001   -0.024     0.172   \n",
       "s(_):(WTP):A -0.057  0.069    -0.002    -0.233    0.002   -0.007     0.010   \n",
       "s(_):(WTP):E -0.065  0.001    -0.345    -0.004   -0.170   -0.011    -0.032   \n",
       "             s(B):A s(B):E s(_):(WTP):A\n",
       "scl(vl_d):A                            \n",
       "scl(vl_d):E                            \n",
       "scl(WTP):tA                            \n",
       "scl(WTP):tE                            \n",
       "scl(nv_d):A                            \n",
       "scl(nv_d):E                            \n",
       "scl(B):trtA                            \n",
       "scl(B):trtE  -0.018                    \n",
       "s(_):(WTP):A  0.003  0.008             \n",
       "s(_):(WTP):E -0.009 -0.008  0.004      "
      ]
     },
     "metadata": {},
     "output_type": "display_data"
    },
    {
     "name": "stderr",
     "output_type": "stream",
     "text": [
      "\n",
      "Correlation matrix not shown by default, as p = 13 > 12.\n",
      "Use print(obj, correlation=TRUE)  or\n",
      "    vcov(obj)        if you need it\n",
      "\n"
     ]
    },
    {
     "data": {
      "text/plain": [
       "Linear mixed model fit by REML. t-tests use Satterthwaite's method [\n",
       "lmerModLmerTest]\n",
       "Formula: incorrect ~ (scale(value_diff) * scale(WTP) + scale(inv_d) *  \n",
       "    scale(B)):treatment + (1 | subject)\n",
       "   Data: data2\n",
       "\n",
       "REML criterion at convergence: 12200.2\n",
       "\n",
       "Scaled residuals: \n",
       "    Min      1Q  Median      3Q     Max \n",
       "-1.8087 -0.7563 -0.3963  1.0985  3.0246 \n",
       "\n",
       "Random effects:\n",
       " Groups   Name        Variance Std.Dev.\n",
       " subject  (Intercept) 0.004914 0.0701  \n",
       " Residual             0.185527 0.4307  \n",
       "Number of obs: 10425, groups:  subject, 50\n",
       "\n",
       "Fixed effects:\n",
       "                                          Estimate Std. Error         df\n",
       "(Intercept)                              3.054e-01  1.142e-02  4.290e+01\n",
       "scale(value_diff):treatmentA            -1.109e-01  6.406e-03  1.037e+04\n",
       "scale(value_diff):treatmentE            -1.270e-01  6.724e-03  1.038e+04\n",
       "scale(WTP):treatmentA                    1.242e-02  7.523e-03  8.528e+03\n",
       "scale(WTP):treatmentE                    6.977e-02  6.492e-03  9.254e+03\n",
       "scale(inv_d):treatmentA                  1.258e-01  1.784e-02  4.203e+01\n",
       "scale(inv_d):treatmentE                  1.108e-01  1.536e-02  4.195e+01\n",
       "scale(B):treatmentA                     -2.501e-02  1.759e-02  4.171e+01\n",
       "scale(B):treatmentE                     -3.571e-02  1.399e-02  4.273e+01\n",
       "scale(value_diff):scale(WTP):treatmentA  2.720e-02  5.438e-03  1.032e+04\n",
       "scale(value_diff):scale(WTP):treatmentE  3.910e-02  5.095e-03  1.033e+04\n",
       "scale(inv_d):scale(B):treatmentA        -2.232e-02  2.271e-02  4.186e+01\n",
       "scale(inv_d):scale(B):treatmentE         2.942e-02  1.278e-02  4.231e+01\n",
       "                                        t value Pr(>|t|)    \n",
       "(Intercept)                              26.734  < 2e-16 ***\n",
       "scale(value_diff):treatmentA            -17.312  < 2e-16 ***\n",
       "scale(value_diff):treatmentE            -18.888  < 2e-16 ***\n",
       "scale(WTP):treatmentA                     1.651   0.0988 .  \n",
       "scale(WTP):treatmentE                    10.747  < 2e-16 ***\n",
       "scale(inv_d):treatmentA                   7.053 1.22e-08 ***\n",
       "scale(inv_d):treatmentE                   7.211 7.31e-09 ***\n",
       "scale(B):treatmentA                      -1.422   0.1624    \n",
       "scale(B):treatmentE                      -2.552   0.0144 *  \n",
       "scale(value_diff):scale(WTP):treatmentA   5.002 5.77e-07 ***\n",
       "scale(value_diff):scale(WTP):treatmentE   7.675 1.80e-14 ***\n",
       "scale(inv_d):scale(B):treatmentA         -0.983   0.3313    \n",
       "scale(inv_d):scale(B):treatmentE          2.302   0.0263 *  \n",
       "---\n",
       "Signif. codes:  0 ‘***’ 0.001 ‘**’ 0.01 ‘*’ 0.05 ‘.’ 0.1 ‘ ’ 1"
      ]
     },
     "metadata": {},
     "output_type": "display_data"
    }
   ],
   "source": [
    "# Low-attention subjects removed; with DDM parameters\n",
    "summary(lmer(incorrect ~ (scale(value_diff)*scale(WTP) + scale(inv_d) + scale(B)):treatment + (1|subject), data2))\n",
    "summary(lmer(incorrect ~ (scale(value_diff)*scale(WTP) + scale(inv_d)*scale(B)):treatment + (1|subject), data2))\n"
   ]
  },
  {
   "cell_type": "code",
   "execution_count": null,
   "metadata": {},
   "outputs": [],
   "source": []
  },
  {
   "cell_type": "markdown",
   "metadata": {},
   "source": [
    "# Predicting cognitive uncertainty and response caution using psychomerics\n",
    "Becuase the reflectiveness score and the BNT scores are correlated, the significace is affected by collinearity. Therefore, analyses are pereformed by dropping the BNT and refection columns."
   ]
  },
  {
   "cell_type": "markdown",
   "metadata": {},
   "source": [
    "### !!! TO NOTE: In this version the scale() processing is removed. The results are not entirely consistent with the analysis when the scale() function is used."
   ]
  },
  {
   "cell_type": "markdown",
   "metadata": {},
   "source": [
    "### Predicting cognitive uncertainty"
   ]
  },
  {
   "cell_type": "code",
   "execution_count": 12,
   "metadata": {
    "scrolled": true
   },
   "outputs": [
    {
     "data": {
      "text/plain": [
       "\n",
       "Call:\n",
       "lm(formula = inv_d ~ (reflection + BNT + NFC + FI):treatment, \n",
       "    data = idt1)\n",
       "\n",
       "Residuals:\n",
       "      Min        1Q    Median        3Q       Max \n",
       "-0.147228 -0.041694  0.001567  0.045064  0.115113 \n",
       "\n",
       "Coefficients:\n",
       "                        Estimate Std. Error t value Pr(>|t|)  \n",
       "(Intercept)            0.0732337  0.0787529   0.930   0.3560  \n",
       "reflection:treatmentA -0.0108812  0.0064190  -1.695   0.0950 .\n",
       "reflection:treatmentE -0.0098060  0.0059406  -1.651   0.1038  \n",
       "BNT:treatmentA        -0.0124233  0.0133550  -0.930   0.3558  \n",
       "BNT:treatmentE        -0.0097059  0.0098184  -0.989   0.3267  \n",
       "NFC:treatmentA         0.0005836  0.0010425   0.560   0.5776  \n",
       "NFC:treatmentE        -0.0004796  0.0008212  -0.584   0.5613  \n",
       "FI:treatmentA         -0.0031412  0.0014210  -2.211   0.0307 *\n",
       "FI:treatmentE         -0.0015824  0.0015371  -1.030   0.3072  \n",
       "---\n",
       "Signif. codes:  0 ‘***’ 0.001 ‘**’ 0.01 ‘*’ 0.05 ‘.’ 0.1 ‘ ’ 1\n",
       "\n",
       "Residual standard error: 0.06246 on 63 degrees of freedom\n",
       "Multiple R-squared:  0.2348,\tAdjusted R-squared:  0.1377 \n",
       "F-statistic: 2.417 on 8 and 63 DF,  p-value: 0.02411\n"
      ]
     },
     "metadata": {},
     "output_type": "display_data"
    },
    {
     "data": {
      "text/plain": [
       "\n",
       "Call:\n",
       "lm(formula = inv_d ~ (reflection + BNT + NFC + FI):treatment, \n",
       "    data = idt2)\n",
       "\n",
       "Residuals:\n",
       "      Min        1Q    Median        3Q       Max \n",
       "-0.119126 -0.033604 -0.001707  0.042509  0.111867 \n",
       "\n",
       "Coefficients:\n",
       "                        Estimate Std. Error t value Pr(>|t|)  \n",
       "(Intercept)            0.0750988  0.0861250   0.872    0.388  \n",
       "reflection:treatmentA -0.0103445  0.0090013  -1.149    0.257  \n",
       "reflection:treatmentE -0.0076858  0.0075441  -1.019    0.314  \n",
       "BNT:treatmentA        -0.0068641  0.0191242  -0.359    0.721  \n",
       "BNT:treatmentE        -0.0074120  0.0115883  -0.640    0.526  \n",
       "NFC:treatmentA         0.0003492  0.0012773   0.273    0.786  \n",
       "NFC:treatmentE        -0.0002855  0.0009165  -0.312    0.757  \n",
       "FI:treatmentA         -0.0036523  0.0017922  -2.038    0.048 *\n",
       "FI:treatmentE         -0.0023767  0.0017597  -1.351    0.184  \n",
       "---\n",
       "Signif. codes:  0 ‘***’ 0.001 ‘**’ 0.01 ‘*’ 0.05 ‘.’ 0.1 ‘ ’ 1\n",
       "\n",
       "Residual standard error: 0.06222 on 41 degrees of freedom\n",
       "Multiple R-squared:  0.2346,\tAdjusted R-squared:  0.08529 \n",
       "F-statistic: 1.571 on 8 and 41 DF,  p-value: 0.1636\n"
      ]
     },
     "metadata": {},
     "output_type": "display_data"
    }
   ],
   "source": [
    "# all the four measurements included\n",
    "summary(lm(inv_d ~ (reflection + BNT + NFC + FI):treatment, idt1))\n",
    "summary(lm(inv_d ~ (reflection + BNT + NFC + FI):treatment, idt2))\n"
   ]
  },
  {
   "cell_type": "code",
   "execution_count": 13,
   "metadata": {
    "scrolled": true
   },
   "outputs": [
    {
     "data": {
      "text/plain": [
       "\n",
       "Call:\n",
       "lm(formula = inv_d ~ (reflection + NFC + FI):treatment, data = idt1)\n",
       "\n",
       "Residuals:\n",
       "      Min        1Q    Median        3Q       Max \n",
       "-0.147968 -0.045070  0.004892  0.042796  0.106253 \n",
       "\n",
       "Coefficients:\n",
       "                        Estimate Std. Error t value Pr(>|t|)   \n",
       "(Intercept)            0.0607539  0.0780234   0.779  0.43900   \n",
       "reflection:treatmentA -0.0147317  0.0048731  -3.023  0.00358 **\n",
       "reflection:treatmentE -0.0125605  0.0052107  -2.411  0.01877 * \n",
       "NFC:treatmentA         0.0004085  0.0010049   0.406  0.68572   \n",
       "NFC:treatmentE        -0.0002931  0.0008015  -0.366  0.71576   \n",
       "FI:treatmentA         -0.0029093  0.0014081  -2.066  0.04280 * \n",
       "FI:treatmentE         -0.0017701  0.0015157  -1.168  0.24714   \n",
       "---\n",
       "Signif. codes:  0 ‘***’ 0.001 ‘**’ 0.01 ‘*’ 0.05 ‘.’ 0.1 ‘ ’ 1\n",
       "\n",
       "Residual standard error: 0.06238 on 65 degrees of freedom\n",
       "Multiple R-squared:  0.2126,\tAdjusted R-squared:  0.1399 \n",
       "F-statistic: 2.925 on 6 and 65 DF,  p-value: 0.01376\n"
      ]
     },
     "metadata": {},
     "output_type": "display_data"
    },
    {
     "data": {
      "text/plain": [
       "\n",
       "Call:\n",
       "lm(formula = inv_d ~ (reflection + NFC + FI):treatment, data = idt2)\n",
       "\n",
       "Residuals:\n",
       "     Min       1Q   Median       3Q      Max \n",
       "-0.11667 -0.03454  0.00012  0.03994  0.10176 \n",
       "\n",
       "Coefficients:\n",
       "                        Estimate Std. Error t value Pr(>|t|)  \n",
       "(Intercept)            0.0667133  0.0838747   0.795   0.4308  \n",
       "reflection:treatmentA -0.0128264  0.0056401  -2.274   0.0280 *\n",
       "reflection:treatmentE -0.0101615  0.0063094  -1.611   0.1146  \n",
       "NFC:treatmentA         0.0002752  0.0012125   0.227   0.8215  \n",
       "NFC:treatmentE        -0.0002288  0.0008974  -0.255   0.8000  \n",
       "FI:treatmentA         -0.0035216  0.0017492  -2.013   0.0504 .\n",
       "FI:treatmentE         -0.0023603  0.0017263  -1.367   0.1787  \n",
       "---\n",
       "Signif. codes:  0 ‘***’ 0.001 ‘**’ 0.01 ‘*’ 0.05 ‘.’ 0.1 ‘ ’ 1\n",
       "\n",
       "Residual standard error: 0.06115 on 43 degrees of freedom\n",
       "Multiple R-squared:  0.2247,\tAdjusted R-squared:  0.1165 \n",
       "F-statistic: 2.077 on 6 and 43 DF,  p-value: 0.0759\n"
      ]
     },
     "metadata": {},
     "output_type": "display_data"
    }
   ],
   "source": [
    "# keep the reflection; drop the BNT\n",
    "summary(lm(inv_d ~ (reflection + NFC + FI):treatment, idt1))\n",
    "summary(lm(inv_d ~ (reflection + NFC + FI):treatment, idt2))\n"
   ]
  },
  {
   "cell_type": "code",
   "execution_count": 14,
   "metadata": {
    "scrolled": true
   },
   "outputs": [
    {
     "data": {
      "text/plain": [
       "\n",
       "Call:\n",
       "lm(formula = inv_d ~ (BNT + NFC + FI):treatment, data = idt1)\n",
       "\n",
       "Residuals:\n",
       "      Min        1Q    Median        3Q       Max \n",
       "-0.154925 -0.046134  0.006694  0.047634  0.104450 \n",
       "\n",
       "Coefficients:\n",
       "                 Estimate Std. Error t value Pr(>|t|)  \n",
       "(Intercept)     0.0523155  0.0799586   0.654   0.5152  \n",
       "BNT:treatmentA -0.0269577  0.0104281  -2.585   0.0120 *\n",
       "BNT:treatmentE -0.0174251  0.0088587  -1.967   0.0535 .\n",
       "NFC:treatmentA  0.0007439  0.0010669   0.697   0.4881  \n",
       "NFC:treatmentE -0.0008221  0.0008152  -1.008   0.3170  \n",
       "FI:treatmentA  -0.0029738  0.0014541  -2.045   0.0449 *\n",
       "FI:treatmentE  -0.0009953  0.0015384  -0.647   0.5199  \n",
       "---\n",
       "Signif. codes:  0 ‘***’ 0.001 ‘**’ 0.01 ‘*’ 0.05 ‘.’ 0.1 ‘ ’ 1\n",
       "\n",
       "Residual standard error: 0.06416 on 65 degrees of freedom\n",
       "Multiple R-squared:  0.1669,\tAdjusted R-squared:  0.09004 \n",
       "F-statistic: 2.171 on 6 and 65 DF,  p-value: 0.05706\n"
      ]
     },
     "metadata": {},
     "output_type": "display_data"
    },
    {
     "data": {
      "text/plain": [
       "\n",
       "Call:\n",
       "lm(formula = inv_d ~ (BNT + NFC + FI):treatment, data = idt2)\n",
       "\n",
       "Residuals:\n",
       "      Min        1Q    Median        3Q       Max \n",
       "-0.140409 -0.029435  0.000365  0.045473  0.106206 \n",
       "\n",
       "Coefficients:\n",
       "                 Estimate Std. Error t value Pr(>|t|)  \n",
       "(Intercept)     0.0621725  0.0845927   0.735   0.4664  \n",
       "BNT:treatmentA -0.0236278  0.0122460  -1.929   0.0603 .\n",
       "BNT:treatmentE -0.0137557  0.0099074  -1.388   0.1722  \n",
       "NFC:treatmentA  0.0004535  0.0012772   0.355   0.7242  \n",
       "NFC:treatmentE -0.0005209  0.0008962  -0.581   0.5641  \n",
       "FI:treatmentA  -0.0034125  0.0017893  -1.907   0.0632 .\n",
       "FI:treatmentE  -0.0020892  0.0017310  -1.207   0.2341  \n",
       "---\n",
       "Signif. codes:  0 ‘***’ 0.001 ‘**’ 0.01 ‘*’ 0.05 ‘.’ 0.1 ‘ ’ 1\n",
       "\n",
       "Residual standard error: 0.0625 on 43 degrees of freedom\n",
       "Multiple R-squared:  0.1901,\tAdjusted R-squared:  0.07713 \n",
       "F-statistic: 1.683 on 6 and 43 DF,  p-value: 0.1485\n"
      ]
     },
     "metadata": {},
     "output_type": "display_data"
    }
   ],
   "source": [
    "# keep the BNT; drop the reflection\n",
    "summary(lm(inv_d ~ (BNT + NFC + FI):treatment, idt1))\n",
    "summary(lm(inv_d ~ (BNT + NFC + FI):treatment, idt2))\n"
   ]
  },
  {
   "cell_type": "markdown",
   "metadata": {},
   "source": [
    "### Predicting response caution"
   ]
  },
  {
   "cell_type": "code",
   "execution_count": 15,
   "metadata": {
    "scrolled": true
   },
   "outputs": [
    {
     "data": {
      "text/plain": [
       "\n",
       "Call:\n",
       "lm(formula = B ~ (reflection + BNT + NFC + FI):treatment, data = idt1)\n",
       "\n",
       "Residuals:\n",
       "     Min       1Q   Median       3Q      Max \n",
       "-0.57428 -0.18414  0.02643  0.16896  0.59445 \n",
       "\n",
       "Coefficients:\n",
       "                        Estimate Std. Error t value Pr(>|t|)   \n",
       "(Intercept)            1.2185042  0.3531252   3.451   0.0010 **\n",
       "reflection:treatmentA  0.0502161  0.0287824   1.745   0.0859 . \n",
       "reflection:treatmentE  0.0426053  0.0266374   1.599   0.1147   \n",
       "BNT:treatmentA        -0.0350229  0.0598834  -0.585   0.5607   \n",
       "BNT:treatmentE         0.0452114  0.0440255   1.027   0.3084   \n",
       "NFC:treatmentA         0.0011070  0.0046744   0.237   0.8136   \n",
       "NFC:treatmentE         0.0008192  0.0036823   0.222   0.8247   \n",
       "FI:treatmentA         -0.0019663  0.0063715  -0.309   0.7586   \n",
       "FI:treatmentE         -0.0032648  0.0068921  -0.474   0.6374   \n",
       "---\n",
       "Signif. codes:  0 ‘***’ 0.001 ‘**’ 0.01 ‘*’ 0.05 ‘.’ 0.1 ‘ ’ 1\n",
       "\n",
       "Residual standard error: 0.2801 on 63 degrees of freedom\n",
       "Multiple R-squared:  0.1613,\tAdjusted R-squared:  0.05483 \n",
       "F-statistic: 1.515 on 8 and 63 DF,  p-value: 0.1701\n"
      ]
     },
     "metadata": {},
     "output_type": "display_data"
    },
    {
     "data": {
      "text/plain": [
       "\n",
       "Call:\n",
       "lm(formula = B ~ (reflection + BNT + NFC + FI):treatment, data = idt2)\n",
       "\n",
       "Residuals:\n",
       "    Min      1Q  Median      3Q     Max \n",
       "-0.5231 -0.1494  0.0012  0.1480  0.6183 \n",
       "\n",
       "Coefficients:\n",
       "                        Estimate Std. Error t value Pr(>|t|)    \n",
       "(Intercept)            1.3914027  0.3391349   4.103 0.000189 ***\n",
       "reflection:treatmentA  0.0482937  0.0354443   1.363 0.180471    \n",
       "reflection:treatmentE  0.0177466  0.0297065   0.597 0.553528    \n",
       "BNT:treatmentA         0.0389402  0.0753057   0.517 0.607868    \n",
       "BNT:treatmentE         0.0545446  0.0456314   1.195 0.238826    \n",
       "NFC:treatmentA        -0.0108646  0.0050295  -2.160 0.036657 *  \n",
       "NFC:treatmentE         0.0007381  0.0036090   0.205 0.838954    \n",
       "FI:treatmentA          0.0093175  0.0070572   1.320 0.194063    \n",
       "FI:treatmentE         -0.0049813  0.0069294  -0.719 0.476297    \n",
       "---\n",
       "Signif. codes:  0 ‘***’ 0.001 ‘**’ 0.01 ‘*’ 0.05 ‘.’ 0.1 ‘ ’ 1\n",
       "\n",
       "Residual standard error: 0.245 on 41 degrees of freedom\n",
       "Multiple R-squared:  0.273,\tAdjusted R-squared:  0.1311 \n",
       "F-statistic: 1.924 on 8 and 41 DF,  p-value: 0.08223\n"
      ]
     },
     "metadata": {},
     "output_type": "display_data"
    }
   ],
   "source": [
    "# all the four measurements included\n",
    "summary(lm(B ~ (reflection + BNT + NFC + FI):treatment, idt1))\n",
    "summary(lm(B ~ (reflection + BNT + NFC + FI):treatment, idt2))\n"
   ]
  },
  {
   "cell_type": "code",
   "execution_count": 16,
   "metadata": {
    "scrolled": true
   },
   "outputs": [
    {
     "data": {
      "text/plain": [
       "\n",
       "Call:\n",
       "lm(formula = B ~ (reflection + NFC + FI):treatment, data = idt1)\n",
       "\n",
       "Residuals:\n",
       "     Min       1Q   Median       3Q      Max \n",
       "-0.55196 -0.18824  0.02307  0.16127  0.64496 \n",
       "\n",
       "Coefficients:\n",
       "                        Estimate Std. Error t value Pr(>|t|)    \n",
       "(Intercept)            1.252e+00  3.487e-01   3.589 0.000637 ***\n",
       "reflection:treatmentA  3.914e-02  2.178e-02   1.797 0.076935 .  \n",
       "reflection:treatmentE  5.583e-02  2.329e-02   2.398 0.019383 *  \n",
       "NFC:treatmentA         8.897e-05  4.491e-03   0.020 0.984255    \n",
       "NFC:treatmentE         6.429e-05  3.582e-03   0.018 0.985736    \n",
       "FI:treatmentA         -2.005e-03  6.293e-03  -0.319 0.750977    \n",
       "FI:treatmentE         -2.033e-03  6.774e-03  -0.300 0.765008    \n",
       "---\n",
       "Signif. codes:  0 ‘***’ 0.001 ‘**’ 0.01 ‘*’ 0.05 ‘.’ 0.1 ‘ ’ 1\n",
       "\n",
       "Residual standard error: 0.2788 on 65 degrees of freedom\n",
       "Multiple R-squared:  0.1426,\tAdjusted R-squared:  0.06351 \n",
       "F-statistic: 1.802 on 6 and 65 DF,  p-value: 0.1124\n"
      ]
     },
     "metadata": {},
     "output_type": "display_data"
    },
    {
     "data": {
      "text/plain": [
       "\n",
       "Call:\n",
       "lm(formula = B ~ (reflection + NFC + FI):treatment, data = idt2)\n",
       "\n",
       "Residuals:\n",
       "     Min       1Q   Median       3Q      Max \n",
       "-0.54463 -0.13775  0.00366  0.12687  0.69320 \n",
       "\n",
       "Coefficients:\n",
       "                        Estimate Std. Error t value Pr(>|t|)    \n",
       "(Intercept)            1.4489100  0.3348210   4.327 8.83e-05 ***\n",
       "reflection:treatmentA  0.0623616  0.0225150   2.770  0.00825 ** \n",
       "reflection:treatmentE  0.0360624  0.0251867   1.432  0.15943    \n",
       "NFC:treatmentA        -0.0105166  0.0048401  -2.173  0.03535 *  \n",
       "NFC:treatmentE         0.0003366  0.0035825   0.094  0.92559    \n",
       "FI:treatmentA          0.0084672  0.0069825   1.213  0.23189    \n",
       "FI:treatmentE         -0.0050407  0.0068914  -0.731  0.46847    \n",
       "---\n",
       "Signif. codes:  0 ‘***’ 0.001 ‘**’ 0.01 ‘*’ 0.05 ‘.’ 0.1 ‘ ’ 1\n",
       "\n",
       "Residual standard error: 0.2441 on 43 degrees of freedom\n",
       "Multiple R-squared:  0.2431,\tAdjusted R-squared:  0.1375 \n",
       "F-statistic: 2.301 on 6 and 43 DF,  p-value: 0.0515\n"
      ]
     },
     "metadata": {},
     "output_type": "display_data"
    }
   ],
   "source": [
    "# keep the reflection; drop the BNT\n",
    "summary(lm(B ~ (reflection + NFC + FI):treatment, idt1))\n",
    "summary(lm(B ~ (reflection + NFC + FI):treatment, idt2))\n"
   ]
  },
  {
   "cell_type": "code",
   "execution_count": 17,
   "metadata": {
    "scrolled": true
   },
   "outputs": [
    {
     "data": {
      "text/plain": [
       "\n",
       "Call:\n",
       "lm(formula = B ~ (BNT + NFC + FI):treatment, data = idt1)\n",
       "\n",
       "Residuals:\n",
       "     Min       1Q   Median       3Q      Max \n",
       "-0.58659 -0.17639  0.01457  0.19674  0.66607 \n",
       "\n",
       "Coefficients:\n",
       "                 Estimate Std. Error t value Pr(>|t|)    \n",
       "(Intercept)     1.3097121  0.3585416   3.653 0.000519 ***\n",
       "BNT:treatmentA  0.0320997  0.0467607   0.686 0.494859    \n",
       "BNT:treatmentE  0.0787422  0.0397232   1.982 0.051679 .  \n",
       "NFC:treatmentA  0.0004072  0.0047840   0.085 0.932437    \n",
       "NFC:treatmentE  0.0023054  0.0036554   0.631 0.530456    \n",
       "FI:treatmentA  -0.0026843  0.0065204  -0.412 0.681935    \n",
       "FI:treatmentE  -0.0058199  0.0068982  -0.844 0.401938    \n",
       "---\n",
       "Signif. codes:  0 ‘***’ 0.001 ‘**’ 0.01 ‘*’ 0.05 ‘.’ 0.1 ‘ ’ 1\n",
       "\n",
       "Residual standard error: 0.2877 on 65 degrees of freedom\n",
       "Multiple R-squared:  0.08685,\tAdjusted R-squared:  0.002563 \n",
       "F-statistic:  1.03 on 6 and 65 DF,  p-value: 0.4138\n"
      ]
     },
     "metadata": {},
     "output_type": "display_data"
    },
    {
     "data": {
      "text/plain": [
       "\n",
       "Call:\n",
       "lm(formula = B ~ (BNT + NFC + FI):treatment, data = idt2)\n",
       "\n",
       "Residuals:\n",
       "     Min       1Q   Median       3Q      Max \n",
       "-0.52374 -0.14111 -0.00471  0.15575  0.63840 \n",
       "\n",
       "Coefficients:\n",
       "                Estimate Std. Error t value Pr(>|t|)    \n",
       "(Intercept)     1.409749   0.332514   4.240 0.000116 ***\n",
       "BNT:treatmentA  0.117594   0.048136   2.443 0.018749 *  \n",
       "BNT:treatmentE  0.069538   0.038944   1.786 0.081215 .  \n",
       "NFC:treatmentA -0.011063   0.005020  -2.204 0.032949 *  \n",
       "NFC:treatmentE  0.001335   0.003523   0.379 0.706621    \n",
       "FI:treatmentA   0.008664   0.007033   1.232 0.224673    \n",
       "FI:treatmentE  -0.005482   0.006804  -0.806 0.424892    \n",
       "---\n",
       "Signif. codes:  0 ‘***’ 0.001 ‘**’ 0.01 ‘*’ 0.05 ‘.’ 0.1 ‘ ’ 1\n",
       "\n",
       "Residual standard error: 0.2457 on 43 degrees of freedom\n",
       "Multiple R-squared:  0.2334,\tAdjusted R-squared:  0.1264 \n",
       "F-statistic: 2.182 on 6 and 43 DF,  p-value: 0.0633\n"
      ]
     },
     "metadata": {},
     "output_type": "display_data"
    }
   ],
   "source": [
    "# keep the BNT; drop the reflection\n",
    "summary(lm(B ~ (BNT + NFC + FI):treatment, idt1))\n",
    "summary(lm(B ~ (BNT + NFC + FI):treatment, idt2))\n"
   ]
  },
  {
   "cell_type": "code",
   "execution_count": null,
   "metadata": {},
   "outputs": [],
   "source": []
  },
  {
   "cell_type": "markdown",
   "metadata": {},
   "source": [
    "# RT analysis"
   ]
  },
  {
   "cell_type": "code",
   "execution_count": 18,
   "metadata": {
    "scrolled": true
   },
   "outputs": [
    {
     "data": {
      "text/plain": [
       "Generalized linear mixed model fit by maximum likelihood (Laplace\n",
       "  Approximation) [glmerMod]\n",
       " Family: Gamma  ( identity )\n",
       "Formula: RT ~ scale(value_diff) * scale(WTP) + slc_lot + treatment + (1 |  \n",
       "    subject)\n",
       "   Data: data1\n",
       "\n",
       "     AIC      BIC   logLik deviance df.resid \n",
       " 45378.7  45439.6 -22681.4  45362.7    14979 \n",
       "\n",
       "Scaled residuals: \n",
       "    Min      1Q  Median      3Q     Max \n",
       "-1.4641 -0.6078 -0.2815  0.2766 12.8588 \n",
       "\n",
       "Random effects:\n",
       " Groups   Name        Variance Std.Dev.\n",
       " subject  (Intercept) 0.2449   0.4949  \n",
       " Residual             0.3978   0.6307  \n",
       "Number of obs: 14987, groups:  subject, 72\n",
       "\n",
       "Fixed effects:\n",
       "                              Estimate Std. Error t value Pr(>|z|)    \n",
       "(Intercept)                   2.319494   0.127343  18.215  < 2e-16 ***\n",
       "scale(value_diff)            -0.047105   0.008963  -5.255 1.48e-07 ***\n",
       "scale(WTP)                   -0.014621   0.010495  -1.393   0.1636    \n",
       "slc_lot                       0.045321   0.018174   2.494   0.0126 *  \n",
       "treatmentE                    0.194114   0.179420   1.082   0.2793    \n",
       "scale(value_diff):scale(WTP)  0.029356   0.007086   4.143 3.43e-05 ***\n",
       "---\n",
       "Signif. codes:  0 ‘***’ 0.001 ‘**’ 0.01 ‘*’ 0.05 ‘.’ 0.1 ‘ ’ 1\n",
       "\n",
       "Correlation of Fixed Effects:\n",
       "            (Intr) scl(_) s(WTP) slc_lt trtmnE\n",
       "scl(vl_dff) -0.010                            \n",
       "scale(WTP)   0.016 -0.247                     \n",
       "slc_lot     -0.066  0.059 -0.023              \n",
       "treatmentE  -0.707  0.008 -0.018  0.002       \n",
       "sc(_):(WTP) -0.001 -0.177 -0.175 -0.126 -0.005"
      ]
     },
     "metadata": {},
     "output_type": "display_data"
    },
    {
     "data": {
      "text/plain": [
       "Generalized linear mixed model fit by maximum likelihood (Laplace\n",
       "  Approximation) [glmerMod]\n",
       " Family: Gamma  ( identity )\n",
       "Formula: RT ~ (scale(value_diff) * scale(WTP) + slc_lot):treatment + (1 |  \n",
       "    subject)\n",
       "   Data: data1\n",
       "\n",
       "     AIC      BIC   logLik deviance df.resid \n",
       " 45365.3  45449.0 -22671.6  45343.3    14976 \n",
       "\n",
       "Scaled residuals: \n",
       "    Min      1Q  Median      3Q     Max \n",
       "-1.4657 -0.6080 -0.2821  0.2771 12.9894 \n",
       "\n",
       "Random effects:\n",
       " Groups   Name        Variance Std.Dev.\n",
       " subject  (Intercept) 0.2476   0.4976  \n",
       " Residual             0.3967   0.6299  \n",
       "Number of obs: 14987, groups:  subject, 72\n",
       "\n",
       "Fixed effects:\n",
       "                                         Estimate Std. Error t value Pr(>|z|)\n",
       "(Intercept)                              2.408249   0.090715  26.547  < 2e-16\n",
       "scale(value_diff):treatmentA            -0.027841   0.011680  -2.384  0.01714\n",
       "scale(value_diff):treatmentE            -0.095725   0.015094  -6.342 2.27e-10\n",
       "scale(WTP):treatmentA                   -0.040187   0.014954  -2.687  0.00720\n",
       "scale(WTP):treatmentE                    0.014636   0.014612   1.002  0.31650\n",
       "slc_lot:treatmentA                       0.026114   0.024462   1.068  0.28573\n",
       "slc_lot:treatmentE                       0.074391   0.027223   2.733  0.00628\n",
       "scale(value_diff):scale(WTP):treatmentA  0.023461   0.009495   2.471  0.01348\n",
       "scale(value_diff):scale(WTP):treatmentE  0.053257   0.011513   4.626 3.73e-06\n",
       "                                           \n",
       "(Intercept)                             ***\n",
       "scale(value_diff):treatmentA            *  \n",
       "scale(value_diff):treatmentE            ***\n",
       "scale(WTP):treatmentA                   ** \n",
       "scale(WTP):treatmentE                      \n",
       "slc_lot:treatmentA                         \n",
       "slc_lot:treatmentE                      ** \n",
       "scale(value_diff):scale(WTP):treatmentA *  \n",
       "scale(value_diff):scale(WTP):treatmentE ***\n",
       "---\n",
       "Signif. codes:  0 ‘***’ 0.001 ‘**’ 0.01 ‘*’ 0.05 ‘.’ 0.1 ‘ ’ 1\n",
       "\n",
       "Correlation of Fixed Effects:\n",
       "             (Intr) s(_):A s(_):E s(WTP):A s(WTP):E slc_:A slc_:E s(_):(WTP):A\n",
       "scl(vl_d):A  -0.010                                                           \n",
       "scl(vl_d):E   0.004  0.000                                                    \n",
       "scl(WTP):tA   0.015 -0.229  0.000                                             \n",
       "scl(WTP):tE  -0.007  0.000 -0.248  0.000                                      \n",
       "slc_lt:trtA  -0.064  0.103  0.000 -0.041    0.000                             \n",
       "slc_lt:trtE  -0.064  0.001  0.012 -0.001   -0.010    0.004                    \n",
       "s(_):(WTP):A -0.004 -0.029  0.000 -0.203    0.000   -0.110  0.000             \n",
       "s(_):(WTP):E -0.008  0.000 -0.409  0.000   -0.119    0.001 -0.123  0.000      "
      ]
     },
     "metadata": {},
     "output_type": "display_data"
    }
   ],
   "source": [
    "# all subjects \n",
    "summary(glmer(RT ~ scale(value_diff)*scale(WTP) + slc_lot + treatment + (1|subject), data1, family = Gamma(link = \"identity\")))\n",
    "summary(glmer(RT ~ (scale(value_diff)*scale(WTP) + slc_lot):treatment + (1|subject), data1, family = Gamma(link = \"identity\")))\n"
   ]
  },
  {
   "cell_type": "code",
   "execution_count": 19,
   "metadata": {},
   "outputs": [
    {
     "data": {
      "text/plain": [
       "Generalized linear mixed model fit by maximum likelihood (Laplace\n",
       "  Approximation) [glmerMod]\n",
       " Family: Gamma  ( identity )\n",
       "Formula: RT ~ scale(value_diff) * scale(WTP) + slc_lot + scale(reflection) +  \n",
       "    scale(BNT) + scale(NFC) + scale(FI) + treatment + (1 | subject)\n",
       "   Data: data1\n",
       "\n",
       "     AIC      BIC   logLik deviance df.resid \n",
       " 45380.1  45471.5 -22678.1  45356.1    14975 \n",
       "\n",
       "Scaled residuals: \n",
       "    Min      1Q  Median      3Q     Max \n",
       "-1.4646 -0.6088 -0.2814  0.2765 12.8728 \n",
       "\n",
       "Random effects:\n",
       " Groups   Name        Variance Std.Dev.\n",
       " subject  (Intercept) 0.2236   0.4728  \n",
       " Residual             0.3975   0.6305  \n",
       "Number of obs: 14987, groups:  subject, 72\n",
       "\n",
       "Fixed effects:\n",
       "                              Estimate Std. Error t value Pr(>|z|)    \n",
       "(Intercept)                   2.326512   0.122903  18.930  < 2e-16 ***\n",
       "scale(value_diff)            -0.047015   0.008964  -5.245 1.57e-07 ***\n",
       "scale(WTP)                   -0.014546   0.010496  -1.386    0.166    \n",
       "slc_lot                       0.045161   0.018174   2.485    0.013 *  \n",
       "scale(reflection)             0.168152   0.104304   1.612    0.107    \n",
       "scale(BNT)                    0.031720   0.102289   0.310    0.756    \n",
       "scale(NFC)                    0.046857   0.087243   0.537    0.591    \n",
       "scale(FI)                    -0.078089   0.086956  -0.898    0.369    \n",
       "treatmentE                    0.173602   0.175141   0.991    0.322    \n",
       "scale(value_diff):scale(WTP)  0.029379   0.007087   4.145 3.39e-05 ***\n",
       "---\n",
       "Signif. codes:  0 ‘***’ 0.001 ‘**’ 0.01 ‘*’ 0.05 ‘.’ 0.1 ‘ ’ 1\n",
       "\n",
       "Correlation of Fixed Effects:\n",
       "            (Intr) scl(_) s(WTP) slc_lt scl(r) s(BNT) s(NFC) sc(FI) trtmnE\n",
       "scl(vl_dff) -0.010                                                        \n",
       "scale(WTP)   0.016 -0.247                                                 \n",
       "slc_lot     -0.069  0.059 -0.023                                          \n",
       "scl(rflctn)  0.104  0.004  0.001 -0.006                                   \n",
       "scale(BNT)  -0.131  0.003  0.001  0.000 -0.538                            \n",
       "scale(NFC)  -0.067 -0.003  0.010  0.002 -0.140  0.086                     \n",
       "scale(FI)   -0.031  0.001  0.002 -0.003  0.140  0.011  0.051              \n",
       "treatmentE  -0.715  0.008 -0.018  0.003 -0.158  0.181  0.091  0.045       \n",
       "sc(_):(WTP) -0.002 -0.177 -0.174 -0.126 -0.002  0.002  0.004  0.000 -0.005"
      ]
     },
     "metadata": {},
     "output_type": "display_data"
    },
    {
     "name": "stderr",
     "output_type": "stream",
     "text": [
      "Warning message in checkConv(attr(opt, \"derivs\"), opt$par, ctrl = control$checkConv, :\n",
      "“Model failed to converge with max|grad| = 0.0199534 (tol = 0.001, component 1)”\n",
      "Correlation matrix not shown by default, as p = 17 > 12.\n",
      "Use print(obj, correlation=TRUE)  or\n",
      "    vcov(obj)        if you need it\n",
      "\n"
     ]
    },
    {
     "data": {
      "text/plain": [
       "Generalized linear mixed model fit by maximum likelihood (Laplace\n",
       "  Approximation) [glmerMod]\n",
       " Family: Gamma  ( identity )\n",
       "Formula: RT ~ (scale(value_diff) * scale(WTP) + slc_lot + scale(reflection) +  \n",
       "    scale(BNT) + scale(NFC) + scale(FI)):treatment + (1 | subject)\n",
       "   Data: data1\n",
       "\n",
       "     AIC      BIC   logLik deviance df.resid \n",
       " 45370.0  45514.7 -22666.0  45332.0    14968 \n",
       "\n",
       "Scaled residuals: \n",
       "    Min      1Q  Median      3Q     Max \n",
       "-1.4667 -0.6085 -0.2822  0.2742 13.0033 \n",
       "\n",
       "Random effects:\n",
       " Groups   Name        Variance Std.Dev.\n",
       " subject  (Intercept) 0.2117   0.4601  \n",
       " Residual             0.3966   0.6298  \n",
       "Number of obs: 14987, groups:  subject, 72\n",
       "\n",
       "Fixed effects:\n",
       "                                         Estimate Std. Error t value Pr(>|z|)\n",
       "(Intercept)                              2.426209   0.085614  28.339  < 2e-16\n",
       "scale(value_diff):treatmentA            -0.027884   0.011680  -2.387   0.0170\n",
       "scale(value_diff):treatmentE            -0.095616   0.015101  -6.332 2.42e-10\n",
       "scale(WTP):treatmentA                   -0.040110   0.014951  -2.683   0.0073\n",
       "scale(WTP):treatmentE                    0.015138   0.014614   1.036   0.3003\n",
       "slc_lot:treatmentA                       0.026200   0.024459   1.071   0.2841\n",
       "slc_lot:treatmentE                       0.074060   0.027212   2.722   0.0065\n",
       "scale(reflection):treatmentA             0.231246   0.151801   1.523   0.1277\n",
       "scale(reflection):treatmentE             0.222223   0.141736   1.568   0.1169\n",
       "scale(BNT):treatmentA                   -0.222633   0.169902  -1.310   0.1901\n",
       "scale(BNT):treatmentE                    0.155871   0.126677   1.230   0.2185\n",
       "scale(NFC):treatmentA                    0.094062   0.148724   0.632   0.5271\n",
       "scale(NFC):treatmentE                    0.059922   0.106391   0.563   0.5733\n",
       "scale(FI):treatmentA                    -0.121471   0.116879  -1.039   0.2987\n",
       "scale(FI):treatmentE                    -0.045469   0.124597  -0.365   0.7152\n",
       "scale(value_diff):scale(WTP):treatmentA  0.023620   0.009499   2.487   0.0129\n",
       "scale(value_diff):scale(WTP):treatmentE  0.053277   0.011522   4.624 3.76e-06\n",
       "                                           \n",
       "(Intercept)                             ***\n",
       "scale(value_diff):treatmentA            *  \n",
       "scale(value_diff):treatmentE            ***\n",
       "scale(WTP):treatmentA                   ** \n",
       "scale(WTP):treatmentE                      \n",
       "slc_lot:treatmentA                         \n",
       "slc_lot:treatmentE                      ** \n",
       "scale(reflection):treatmentA               \n",
       "scale(reflection):treatmentE               \n",
       "scale(BNT):treatmentA                      \n",
       "scale(BNT):treatmentE                      \n",
       "scale(NFC):treatmentA                      \n",
       "scale(NFC):treatmentE                      \n",
       "scale(FI):treatmentA                       \n",
       "scale(FI):treatmentE                       \n",
       "scale(value_diff):scale(WTP):treatmentA *  \n",
       "scale(value_diff):scale(WTP):treatmentE ***\n",
       "---\n",
       "Signif. codes:  0 ‘***’ 0.001 ‘**’ 0.01 ‘*’ 0.05 ‘.’ 0.1 ‘ ’ 1\n",
       "convergence code: 0\n",
       "Model failed to converge with max|grad| = 0.0199534 (tol = 0.001, component 1)\n"
      ]
     },
     "metadata": {},
     "output_type": "display_data"
    }
   ],
   "source": [
    "# all subjects; with Psychometrics\n",
    "summary(glmer(RT ~ scale(value_diff)*scale(WTP) + slc_lot + scale(reflection) + scale(BNT) + scale(NFC) + scale(FI) + treatment + (1|subject), data1, family = Gamma(link = \"identity\")))\n",
    "summary(glmer(RT ~ (scale(value_diff)*scale(WTP) + slc_lot + scale(reflection) + scale(BNT) + scale(NFC) + scale(FI)):treatment + (1|subject), data1, family = Gamma(link = \"identity\")))\n"
   ]
  },
  {
   "cell_type": "code",
   "execution_count": 20,
   "metadata": {
    "scrolled": true
   },
   "outputs": [
    {
     "data": {
      "text/plain": [
       "Generalized linear mixed model fit by maximum likelihood (Laplace\n",
       "  Approximation) [glmerMod]\n",
       " Family: Gamma  ( identity )\n",
       "Formula: RT ~ scale(value_diff) * scale(WTP) + slc_lot + correct + treatment +  \n",
       "    (1 | subject)\n",
       "   Data: data1\n",
       "\n",
       "     AIC      BIC   logLik deviance df.resid \n",
       " 45169.1  45237.6 -22575.5  45151.1    14918 \n",
       "\n",
       "Scaled residuals: \n",
       "    Min      1Q  Median      3Q     Max \n",
       "-1.4652 -0.6064 -0.2789  0.2750 13.5606 \n",
       "\n",
       "Random effects:\n",
       " Groups   Name        Variance Std.Dev.\n",
       " subject  (Intercept) 0.2460   0.4959  \n",
       " Residual             0.3979   0.6308  \n",
       "Number of obs: 14927, groups:  subject, 72\n",
       "\n",
       "Fixed effects:\n",
       "                              Estimate Std. Error t value Pr(>|z|)    \n",
       "(Intercept)                   2.359134   0.128026  18.427  < 2e-16 ***\n",
       "scale(value_diff)            -0.042014   0.009099  -4.618 3.88e-06 ***\n",
       "scale(WTP)                   -0.018101   0.010520  -1.721 0.085318 .  \n",
       "slc_lot                       0.061071   0.018830   3.243 0.001181 ** \n",
       "correct                      -0.071649   0.019470  -3.680 0.000233 ***\n",
       "treatmentE                    0.193145   0.179687   1.075 0.282421    \n",
       "scale(value_diff):scale(WTP)  0.027435   0.007175   3.824 0.000131 ***\n",
       "---\n",
       "Signif. codes:  0 ‘***’ 0.001 ‘**’ 0.01 ‘*’ 0.05 ‘.’ 0.1 ‘ ’ 1\n",
       "\n",
       "Correlation of Fixed Effects:\n",
       "            (Intr) scl(_) s(WTP) slc_lt corrct trtmnE\n",
       "scl(vl_dff)  0.004                                   \n",
       "scale(WTP)   0.011 -0.250                            \n",
       "slc_lot     -0.042  0.093 -0.045                     \n",
       "correct     -0.085 -0.152  0.063 -0.248              \n",
       "treatmentE  -0.704  0.007 -0.018  0.001  0.001       \n",
       "sc(_):(WTP) -0.009 -0.194 -0.168 -0.156  0.098 -0.005"
      ]
     },
     "metadata": {},
     "output_type": "display_data"
    },
    {
     "data": {
      "text/plain": [
       "Generalized linear mixed model fit by maximum likelihood (Laplace\n",
       "  Approximation) [glmerMod]\n",
       " Family: Gamma  ( identity )\n",
       "Formula: RT ~ (scale(value_diff) * scale(WTP) + slc_lot + correct):treatment +  \n",
       "    (1 | subject)\n",
       "   Data: data1\n",
       "\n",
       "     AIC      BIC   logLik deviance df.resid \n",
       "   45156    45255   -22565    45130    14914 \n",
       "\n",
       "Scaled residuals: \n",
       "    Min      1Q  Median      3Q     Max \n",
       "-1.4674 -0.6078 -0.2793  0.2723 13.4339 \n",
       "\n",
       "Random effects:\n",
       " Groups   Name        Variance Std.Dev.\n",
       " subject  (Intercept) 0.2494   0.4994  \n",
       " Residual             0.3967   0.6298  \n",
       "Number of obs: 14927, groups:  subject, 72\n",
       "\n",
       "Fixed effects:\n",
       "                                         Estimate Std. Error t value Pr(>|z|)\n",
       "(Intercept)                              2.449656   0.091732  26.705  < 2e-16\n",
       "scale(value_diff):treatmentA            -0.025027   0.011779  -2.125 0.033616\n",
       "scale(value_diff):treatmentE            -0.085575   0.015490  -5.525 3.30e-08\n",
       "scale(WTP):treatmentA                   -0.039905   0.014964  -2.667 0.007659\n",
       "scale(WTP):treatmentE                    0.005161   0.014759   0.350 0.726563\n",
       "slc_lot:treatmentA                       0.030456   0.024635   1.236 0.216353\n",
       "slc_lot:treatmentE                       0.115118   0.030273   3.803 0.000143\n",
       "correct:treatmentA                      -0.051342   0.025453  -2.017 0.043684\n",
       "correct:treatmentE                      -0.104373   0.031207  -3.345 0.000824\n",
       "scale(value_diff):scale(WTP):treatmentA  0.022120   0.009572   2.311 0.020832\n",
       "scale(value_diff):scale(WTP):treatmentE  0.048416   0.011757   4.118 3.82e-05\n",
       "                                           \n",
       "(Intercept)                             ***\n",
       "scale(value_diff):treatmentA            *  \n",
       "scale(value_diff):treatmentE            ***\n",
       "scale(WTP):treatmentA                   ** \n",
       "scale(WTP):treatmentE                      \n",
       "slc_lot:treatmentA                         \n",
       "slc_lot:treatmentE                      ***\n",
       "correct:treatmentA                      *  \n",
       "correct:treatmentE                      ***\n",
       "scale(value_diff):scale(WTP):treatmentA *  \n",
       "scale(value_diff):scale(WTP):treatmentE ***\n",
       "---\n",
       "Signif. codes:  0 ‘***’ 0.001 ‘**’ 0.01 ‘*’ 0.05 ‘.’ 0.1 ‘ ’ 1\n",
       "\n",
       "Correlation of Fixed Effects:\n",
       "             (Intr) s(_):A s(_):E s(WTP):A s(WTP):E slc_:A slc_:E crrc:A crrc:E\n",
       "scl(vl_d):A   0.000                                                            \n",
       "scl(vl_d):E   0.022  0.000                                                     \n",
       "scl(WTP):tA   0.016 -0.228  0.000                                              \n",
       "scl(WTP):tE  -0.019  0.000 -0.262  0.000                                       \n",
       "slc_lt:trtA  -0.055  0.112 -0.001 -0.046    0.001                              \n",
       "slc_lt:trtE  -0.021  0.000  0.100  0.000   -0.085    0.001                     \n",
       "crrct:trtmA  -0.088 -0.117 -0.002 -0.007    0.002   -0.096  0.002              \n",
       "crrct:trtmE  -0.086  0.000 -0.210 -0.001    0.151    0.005 -0.428  0.007       \n",
       "s(_):(WTP):A -0.010 -0.037  0.000 -0.205    0.000   -0.124  0.000  0.069  0.001\n",
       "s(_):(WTP):E -0.021  0.000 -0.433  0.000   -0.091    0.001 -0.196  0.002  0.172\n",
       "             s(_):(WTP):A\n",
       "scl(vl_d):A              \n",
       "scl(vl_d):E              \n",
       "scl(WTP):tA              \n",
       "scl(WTP):tE              \n",
       "slc_lt:trtA              \n",
       "slc_lt:trtE              \n",
       "crrct:trtmA              \n",
       "crrct:trtmE              \n",
       "s(_):(WTP):A             \n",
       "s(_):(WTP):E  0.000      "
      ]
     },
     "metadata": {},
     "output_type": "display_data"
    }
   ],
   "source": [
    "# all subjects; adding the variable \"correct\" –– whether the higher values option is chosen.\n",
    "summary(glmer(RT ~ scale(value_diff)*scale(WTP) + slc_lot + correct + treatment + (1|subject), data1, family = Gamma(link = \"identity\")))\n",
    "summary(glmer(RT ~ (scale(value_diff)*scale(WTP) + slc_lot + correct):treatment + (1|subject), data1, family = Gamma(link = \"identity\")))\n"
   ]
  },
  {
   "cell_type": "code",
   "execution_count": 21,
   "metadata": {
    "scrolled": true
   },
   "outputs": [
    {
     "name": "stderr",
     "output_type": "stream",
     "text": [
      "Warning message in checkConv(attr(opt, \"derivs\"), opt$par, ctrl = control$checkConv, :\n",
      "“Model failed to converge with max|grad| = 0.00131282 (tol = 0.001, component 1)”"
     ]
    },
    {
     "data": {
      "text/plain": [
       "Generalized linear mixed model fit by maximum likelihood (Laplace\n",
       "  Approximation) [glmerMod]\n",
       " Family: Gamma  ( identity )\n",
       "Formula: \n",
       "RT ~ scale(value_diff) * scale(WTP) + slc_lot + correct + scale(reflection) +  \n",
       "    scale(BNT) + scale(NFC) + scale(FI) + treatment + (1 | subject)\n",
       "   Data: data1\n",
       "\n",
       "     AIC      BIC   logLik deviance df.resid \n",
       " 45170.4  45269.3 -22572.2  45144.4    14914 \n",
       "\n",
       "Scaled residuals: \n",
       "    Min      1Q  Median      3Q     Max \n",
       "-1.4658 -0.6067 -0.2797  0.2751 13.5778 \n",
       "\n",
       "Random effects:\n",
       " Groups   Name        Variance Std.Dev.\n",
       " subject  (Intercept) 0.2243   0.4736  \n",
       " Residual             0.3976   0.6305  \n",
       "Number of obs: 14927, groups:  subject, 72\n",
       "\n",
       "Fixed effects:\n",
       "                              Estimate Std. Error t value Pr(>|z|)    \n",
       "(Intercept)                   2.366565   0.123510  19.161  < 2e-16 ***\n",
       "scale(value_diff)            -0.041909   0.009100  -4.606 4.11e-06 ***\n",
       "scale(WTP)                   -0.018029   0.010521  -1.714 0.086594 .  \n",
       "slc_lot                       0.060975   0.018830   3.238 0.001203 ** \n",
       "correct                      -0.071869   0.019471  -3.691 0.000223 ***\n",
       "scale(reflection)             0.170841   0.104414   1.636 0.101801    \n",
       "scale(BNT)                    0.031612   0.102392   0.309 0.757519    \n",
       "scale(NFC)                    0.044839   0.087349   0.513 0.607716    \n",
       "scale(FI)                    -0.077356   0.087060  -0.889 0.374250    \n",
       "treatmentE                    0.171967   0.175265   0.981 0.326503    \n",
       "scale(value_diff):scale(WTP)  0.027445   0.007177   3.824 0.000131 ***\n",
       "---\n",
       "Signif. codes:  0 ‘***’ 0.001 ‘**’ 0.01 ‘*’ 0.05 ‘.’ 0.1 ‘ ’ 1\n",
       "\n",
       "Correlation of Fixed Effects:\n",
       "            (Intr) scl(_) s(WTP) slc_lt corrct scl(r) s(BNT) s(NFC) sc(FI)\n",
       "scl(vl_dff)  0.004                                                        \n",
       "scale(WTP)   0.011 -0.250                                                 \n",
       "slc_lot     -0.044  0.093 -0.045                                          \n",
       "correct     -0.089 -0.152  0.063 -0.248                                   \n",
       "scl(rflctn)  0.104  0.005  0.001 -0.004 -0.006                            \n",
       "scale(BNT)  -0.130  0.003  0.001  0.000 -0.002 -0.538                     \n",
       "scale(NFC)  -0.067 -0.004  0.010  0.001  0.005 -0.140  0.086              \n",
       "scale(FI)   -0.030  0.001  0.002 -0.003 -0.003  0.140  0.011  0.051       \n",
       "treatmentE  -0.712  0.007 -0.017  0.002  0.001 -0.158  0.181  0.090  0.045\n",
       "sc(_):(WTP) -0.010 -0.194 -0.168 -0.156  0.098 -0.003  0.002  0.004  0.000\n",
       "            trtmnE\n",
       "scl(vl_dff)       \n",
       "scale(WTP)        \n",
       "slc_lot           \n",
       "correct           \n",
       "scl(rflctn)       \n",
       "scale(BNT)        \n",
       "scale(NFC)        \n",
       "scale(FI)         \n",
       "treatmentE        \n",
       "sc(_):(WTP) -0.004\n",
       "convergence code: 0\n",
       "Model failed to converge with max|grad| = 0.00131282 (tol = 0.001, component 1)\n"
      ]
     },
     "metadata": {},
     "output_type": "display_data"
    },
    {
     "name": "stderr",
     "output_type": "stream",
     "text": [
      "Warning message in checkConv(attr(opt, \"derivs\"), opt$par, ctrl = control$checkConv, :\n",
      "“Model failed to converge with max|grad| = 0.0101913 (tol = 0.001, component 1)”\n",
      "Correlation matrix not shown by default, as p = 19 > 12.\n",
      "Use print(obj, correlation=TRUE)  or\n",
      "    vcov(obj)        if you need it\n",
      "\n"
     ]
    },
    {
     "data": {
      "text/plain": [
       "Generalized linear mixed model fit by maximum likelihood (Laplace\n",
       "  Approximation) [glmerMod]\n",
       " Family: Gamma  ( identity )\n",
       "Formula: \n",
       "RT ~ (scale(value_diff) * scale(WTP) + slc_lot + correct + scale(reflection) +  \n",
       "    scale(BNT) + scale(NFC) + scale(FI)):treatment + (1 | subject)\n",
       "   Data: data1\n",
       "\n",
       "     AIC      BIC   logLik deviance df.resid \n",
       " 45160.6  45320.5 -22559.3  45118.6    14906 \n",
       "\n",
       "Scaled residuals: \n",
       "    Min      1Q  Median      3Q     Max \n",
       "-1.4685 -0.6090 -0.2796  0.2726 13.4444 \n",
       "\n",
       "Random effects:\n",
       " Groups   Name        Variance Std.Dev.\n",
       " subject  (Intercept) 0.2132   0.4617  \n",
       " Residual             0.3966   0.6297  \n",
       "Number of obs: 14927, groups:  subject, 72\n",
       "\n",
       "Fixed effects:\n",
       "                                         Estimate Std. Error t value Pr(>|z|)\n",
       "(Intercept)                              2.467429   0.086629  28.483  < 2e-16\n",
       "scale(value_diff):treatmentA            -0.025070   0.011780  -2.128 0.033331\n",
       "scale(value_diff):treatmentE            -0.085402   0.015492  -5.512 3.54e-08\n",
       "scale(WTP):treatmentA                   -0.039912   0.014960  -2.668 0.007633\n",
       "scale(WTP):treatmentE                    0.005513   0.014759   0.374 0.708774\n",
       "slc_lot:treatmentA                       0.030492   0.024633   1.238 0.215761\n",
       "slc_lot:treatmentE                       0.115405   0.030272   3.812 0.000138\n",
       "correct:treatmentA                      -0.050826   0.025440  -1.998 0.045732\n",
       "correct:treatmentE                      -0.105554   0.031193  -3.384 0.000715\n",
       "scale(reflection):treatmentA             0.235765   0.152261   1.548 0.121519\n",
       "scale(reflection):treatmentE             0.228020   0.142245   1.603 0.108933\n",
       "scale(BNT):treatmentA                   -0.226014   0.170393  -1.326 0.184698\n",
       "scale(BNT):treatmentE                    0.153547   0.127100   1.208 0.227017\n",
       "scale(NFC):treatmentA                    0.091302   0.149170   0.612 0.540495\n",
       "scale(NFC):treatmentE                    0.056887   0.106753   0.533 0.594112\n",
       "scale(FI):treatmentA                    -0.121890   0.117235  -1.040 0.298474\n",
       "scale(FI):treatmentE                    -0.044398   0.125002  -0.355 0.722455\n",
       "scale(value_diff):scale(WTP):treatmentA  0.022204   0.009574   2.319 0.020378\n",
       "scale(value_diff):scale(WTP):treatmentE  0.048387   0.011763   4.114 3.90e-05\n",
       "                                           \n",
       "(Intercept)                             ***\n",
       "scale(value_diff):treatmentA            *  \n",
       "scale(value_diff):treatmentE            ***\n",
       "scale(WTP):treatmentA                   ** \n",
       "scale(WTP):treatmentE                      \n",
       "slc_lot:treatmentA                         \n",
       "slc_lot:treatmentE                      ***\n",
       "correct:treatmentA                      *  \n",
       "correct:treatmentE                      ***\n",
       "scale(reflection):treatmentA               \n",
       "scale(reflection):treatmentE               \n",
       "scale(BNT):treatmentA                      \n",
       "scale(BNT):treatmentE                      \n",
       "scale(NFC):treatmentA                      \n",
       "scale(NFC):treatmentE                      \n",
       "scale(FI):treatmentA                       \n",
       "scale(FI):treatmentE                       \n",
       "scale(value_diff):scale(WTP):treatmentA *  \n",
       "scale(value_diff):scale(WTP):treatmentE ***\n",
       "---\n",
       "Signif. codes:  0 ‘***’ 0.001 ‘**’ 0.01 ‘*’ 0.05 ‘.’ 0.1 ‘ ’ 1\n",
       "convergence code: 0\n",
       "Model failed to converge with max|grad| = 0.0101913 (tol = 0.001, component 1)\n"
      ]
     },
     "metadata": {},
     "output_type": "display_data"
    }
   ],
   "source": [
    "# all subjects; adding the variable \"correct\"; with Psychometrics\n",
    "summary(glmer(RT ~ scale(value_diff)*scale(WTP) + slc_lot + correct + scale(reflection) + scale(BNT) + scale(NFC) + scale(FI) + treatment + (1|subject), data1, family = Gamma(link = \"identity\")))\n",
    "summary(glmer(RT ~ (scale(value_diff)*scale(WTP) + slc_lot + correct + scale(reflection) + scale(BNT) + scale(NFC) + scale(FI)):treatment + (1|subject), data1, family = Gamma(link = \"identity\")))\n"
   ]
  },
  {
   "cell_type": "markdown",
   "metadata": {},
   "source": [
    "# Prdicting the probability of choosing the lottery options"
   ]
  },
  {
   "cell_type": "markdown",
   "metadata": {},
   "source": [
    "### Is the chance of choosing lottery affected by the treatments?"
   ]
  },
  {
   "cell_type": "code",
   "execution_count": 22,
   "metadata": {
    "scrolled": true
   },
   "outputs": [
    {
     "data": {
      "text/plain": [
       "Generalized linear mixed model fit by maximum likelihood (Laplace\n",
       "  Approximation) [glmerMod]\n",
       " Family: binomial  ( logit )\n",
       "Formula: slc_lot ~ scale(lottery_favour) * scale(WTP) + treatment + (1 |  \n",
       "    subject)\n",
       "   Data: data1\n",
       "\n",
       "     AIC      BIC   logLik deviance df.resid \n",
       " 16845.0  16890.7  -8416.5  16833.0    14981 \n",
       "\n",
       "Scaled residuals: \n",
       "    Min      1Q  Median      3Q     Max \n",
       "-5.1540 -0.7438 -0.1979  0.7181 17.7393 \n",
       "\n",
       "Random effects:\n",
       " Groups  Name        Variance Std.Dev.\n",
       " subject (Intercept) 0.8703   0.9329  \n",
       "Number of obs: 14987, groups:  subject, 72\n",
       "\n",
       "Fixed effects:\n",
       "                                 Estimate Std. Error z value Pr(>|z|)    \n",
       "(Intercept)                       0.12833    0.15834   0.810 0.417677    \n",
       "scale(lottery_favour)             1.24103    0.03118  39.801  < 2e-16 ***\n",
       "scale(WTP)                       -0.08056    0.02384  -3.379 0.000728 ***\n",
       "treatmentE                       -0.40199    0.22341  -1.799 0.071962 .  \n",
       "scale(lottery_favour):scale(WTP) -0.27586    0.02244 -12.292  < 2e-16 ***\n",
       "---\n",
       "Signif. codes:  0 ‘***’ 0.001 ‘**’ 0.01 ‘*’ 0.05 ‘.’ 0.1 ‘ ’ 1\n",
       "\n",
       "Correlation of Fixed Effects:\n",
       "            (Intr) scl(_) s(WTP) trtmnE\n",
       "scl(lttry_)  0.025                     \n",
       "scale(WTP)   0.038 -0.233              \n",
       "treatmentE  -0.707 -0.031 -0.022       \n",
       "sc(_):(WTP) -0.068 -0.371 -0.314  0.019"
      ]
     },
     "metadata": {},
     "output_type": "display_data"
    }
   ],
   "source": [
    "# All subjects\n",
    "summary(glmer(slc_lot ~ scale(lottery_favour)*scale(WTP) + treatment + (1|subject), data1, family=binomial(link = \"logit\")))\n"
   ]
  },
  {
   "cell_type": "code",
   "execution_count": 23,
   "metadata": {
    "scrolled": true
   },
   "outputs": [
    {
     "data": {
      "text/plain": [
       "Generalized linear mixed model fit by maximum likelihood (Laplace\n",
       "  Approximation) [glmerMod]\n",
       " Family: binomial  ( logit )\n",
       "Formula: \n",
       "slc_lot ~ scale(lottery_favour) * scale(WTP) + treatment + scale(reflection) +  \n",
       "    scale(BNT) + scale(NFC) + scale(FI) + (1 | subject)\n",
       "   Data: data1\n",
       "\n",
       "     AIC      BIC   logLik deviance df.resid \n",
       " 16850.9  16927.0  -8415.4  16830.9    14977 \n",
       "\n",
       "Scaled residuals: \n",
       "    Min      1Q  Median      3Q     Max \n",
       "-5.1803 -0.7442 -0.1977  0.7183 17.7803 \n",
       "\n",
       "Random effects:\n",
       " Groups  Name        Variance Std.Dev.\n",
       " subject (Intercept) 0.8436   0.9185  \n",
       "Number of obs: 14987, groups:  subject, 72\n",
       "\n",
       "Fixed effects:\n",
       "                                   Estimate Std. Error z value Pr(>|z|)    \n",
       "(Intercept)                       0.1282090  0.1578054   0.812 0.416533    \n",
       "scale(lottery_favour)             1.2411467  0.0311809  39.805  < 2e-16 ***\n",
       "scale(WTP)                       -0.0804728  0.0238446  -3.375 0.000738 ***\n",
       "treatmentE                       -0.4040850  0.2252312  -1.794 0.072799 .  \n",
       "scale(reflection)                 0.1332754  0.1338225   0.996 0.319293    \n",
       "scale(BNT)                       -0.0006891  0.1318357  -0.005 0.995830    \n",
       "scale(NFC)                        0.0479075  0.1118469   0.428 0.668410    \n",
       "scale(FI)                         0.1058226  0.1120677   0.944 0.345030    \n",
       "scale(lottery_favour):scale(WTP) -0.2756307  0.0224418 -12.282  < 2e-16 ***\n",
       "---\n",
       "Signif. codes:  0 ‘***’ 0.001 ‘**’ 0.01 ‘*’ 0.05 ‘.’ 0.1 ‘ ’ 1\n",
       "\n",
       "Correlation of Fixed Effects:\n",
       "            (Intr) scl(_) s(WTP) trtmnE scl(r) s(BNT) s(NFC) sc(FI)\n",
       "scl(lttry_)  0.024                                                 \n",
       "scale(WTP)   0.037 -0.233                                          \n",
       "treatmentE  -0.715 -0.031 -0.020                                   \n",
       "scl(rflctn)  0.109  0.008  0.000 -0.158                            \n",
       "scale(BNT)  -0.132 -0.002  0.000  0.182 -0.537                     \n",
       "scale(NFC)  -0.066  0.016  0.014  0.093 -0.140  0.088              \n",
       "scale(FI)   -0.033  0.005  0.001  0.044  0.137  0.014  0.049       \n",
       "sc(_):(WTP) -0.069 -0.370 -0.313  0.019 -0.002  0.007 -0.007  0.004"
      ]
     },
     "metadata": {},
     "output_type": "display_data"
    }
   ],
   "source": [
    "# All subjects; with Psychometrics\n",
    "summary(glmer(slc_lot ~ scale(lottery_favour)*scale(WTP) + treatment + scale(reflection) + scale(BNT) + scale(NFC) + scale(FI) + (1|subject), data1, family=binomial(link = \"logit\")))\n"
   ]
  },
  {
   "cell_type": "markdown",
   "metadata": {},
   "source": [
    "### What factors affect the choice probability in each treatment?"
   ]
  },
  {
   "cell_type": "code",
   "execution_count": 24,
   "metadata": {
    "scrolled": true
   },
   "outputs": [
    {
     "data": {
      "text/plain": [
       "Linear mixed model fit by REML. t-tests use Satterthwaite's method [\n",
       "lmerModLmerTest]\n",
       "Formula: slc_lot ~ (scale(lottery_favour) * scale(WTP)):treatment + (1 |  \n",
       "    subject)\n",
       "   Data: data1\n",
       "\n",
       "REML criterion at convergence: 17996\n",
       "\n",
       "Scaled residuals: \n",
       "    Min      1Q  Median      3Q     Max \n",
       "-2.4851 -0.9156  0.0319  0.8620  3.1793 \n",
       "\n",
       "Random effects:\n",
       " Groups   Name        Variance Std.Dev.\n",
       " subject  (Intercept) 0.03104  0.1762  \n",
       " Residual             0.19062  0.4366  \n",
       "Number of obs: 14987, groups:  subject, 72\n",
       "\n",
       "Fixed effects:\n",
       "                                              Estimate Std. Error         df\n",
       "(Intercept)                                  4.893e-01  2.116e-02  7.197e+01\n",
       "scale(lottery_favour):treatmentA             1.827e-01  6.057e-03  1.498e+04\n",
       "scale(lottery_favour):treatmentE             2.374e-01  6.771e-03  1.498e+04\n",
       "scale(WTP):treatmentA                       -2.112e-03  6.556e-03  1.498e+04\n",
       "scale(WTP):treatmentE                       -2.892e-02  6.214e-03  1.497e+04\n",
       "scale(lottery_favour):scale(WTP):treatmentA -2.365e-02  5.225e-03  1.485e+04\n",
       "scale(lottery_favour):scale(WTP):treatmentE -4.691e-02  5.330e-03  1.494e+04\n",
       "                                            t value Pr(>|t|)    \n",
       "(Intercept)                                  23.127  < 2e-16 ***\n",
       "scale(lottery_favour):treatmentA             30.172  < 2e-16 ***\n",
       "scale(lottery_favour):treatmentE             35.060  < 2e-16 ***\n",
       "scale(WTP):treatmentA                        -0.322    0.747    \n",
       "scale(WTP):treatmentE                        -4.654 3.28e-06 ***\n",
       "scale(lottery_favour):scale(WTP):treatmentA  -4.526 6.05e-06 ***\n",
       "scale(lottery_favour):scale(WTP):treatmentE  -8.801  < 2e-16 ***\n",
       "---\n",
       "Signif. codes:  0 ‘***’ 0.001 ‘**’ 0.01 ‘*’ 0.05 ‘.’ 0.1 ‘ ’ 1\n",
       "\n",
       "Correlation of Fixed Effects:\n",
       "             (Intr) s(_):A s(_):E s(WTP):A s(WTP):E s(_):(WTP):A\n",
       "scl(ltt_):A   0.015                                             \n",
       "scl(ltt_):E   0.002  0.000                                      \n",
       "scl(WTP):tA   0.033 -0.341  0.000                               \n",
       "scl(WTP):tE   0.006  0.000 -0.274  0.000                        \n",
       "s(_):(WTP):A -0.070 -0.002  0.000 -0.283    0.000               \n",
       "s(_):(WTP):E -0.050 -0.001 -0.325 -0.002   -0.309    0.004      "
      ]
     },
     "metadata": {},
     "output_type": "display_data"
    }
   ],
   "source": [
    "# All subjects; Baseline\n",
    "summary(lmer(slc_lot ~ (scale(lottery_favour)*scale(WTP)):treatment + (1|subject), data1))\n"
   ]
  },
  {
   "cell_type": "code",
   "execution_count": 25,
   "metadata": {
    "scrolled": true
   },
   "outputs": [
    {
     "name": "stderr",
     "output_type": "stream",
     "text": [
      "\n",
      "Correlation matrix not shown by default, as p = 15 > 12.\n",
      "Use print(obj, correlation=TRUE)  or\n",
      "    vcov(obj)        if you need it\n",
      "\n"
     ]
    },
    {
     "data": {
      "text/plain": [
       "Linear mixed model fit by REML. t-tests use Satterthwaite's method [\n",
       "lmerModLmerTest]\n",
       "Formula: slc_lot ~ (scale(lottery_favour) * scale(WTP) + scale(reflection) +  \n",
       "    scale(BNT) + scale(NFC) + scale(FI)):treatment + (1 | subject)\n",
       "   Data: data1\n",
       "\n",
       "REML criterion at convergence: 18025.6\n",
       "\n",
       "Scaled residuals: \n",
       "    Min      1Q  Median      3Q     Max \n",
       "-2.4841 -0.9171  0.0361  0.8613  3.1753 \n",
       "\n",
       "Random effects:\n",
       " Groups   Name        Variance Std.Dev.\n",
       " subject  (Intercept) 0.0297   0.1723  \n",
       " Residual             0.1906   0.4366  \n",
       "Number of obs: 14987, groups:  subject, 72\n",
       "\n",
       "Fixed effects:\n",
       "                                              Estimate Std. Error         df\n",
       "(Intercept)                                  4.879e-01  2.123e-02  6.380e+01\n",
       "scale(lottery_favour):treatmentA             1.827e-01  6.057e-03  1.497e+04\n",
       "scale(lottery_favour):treatmentE             2.378e-01  6.773e-03  1.497e+04\n",
       "scale(WTP):treatmentA                       -2.141e-03  6.557e-03  1.496e+04\n",
       "scale(WTP):treatmentE                       -2.867e-02  6.215e-03  1.496e+04\n",
       "scale(reflection):treatmentA                -7.892e-03  3.756e-02  6.283e+01\n",
       "scale(reflection):treatmentE                 6.530e-02  3.523e-02  6.296e+01\n",
       "scale(BNT):treatmentA                        2.384e-02  4.236e-02  6.286e+01\n",
       "scale(BNT):treatmentE                       -9.304e-03  3.141e-02  6.284e+01\n",
       "scale(NFC):treatmentA                       -3.302e-03  3.679e-02  6.288e+01\n",
       "scale(NFC):treatmentE                        6.073e-03  2.630e-02  6.288e+01\n",
       "scale(FI):treatmentA                        -2.916e-02  2.891e-02  6.281e+01\n",
       "scale(FI):treatmentE                         8.691e-02  3.115e-02  6.282e+01\n",
       "scale(lottery_favour):scale(WTP):treatmentA -2.361e-02  5.226e-03  1.482e+04\n",
       "scale(lottery_favour):scale(WTP):treatmentE -4.721e-02  5.331e-03  1.493e+04\n",
       "                                            t value Pr(>|t|)    \n",
       "(Intercept)                                  22.987  < 2e-16 ***\n",
       "scale(lottery_favour):treatmentA             30.168  < 2e-16 ***\n",
       "scale(lottery_favour):treatmentE             35.104  < 2e-16 ***\n",
       "scale(WTP):treatmentA                        -0.327  0.74399    \n",
       "scale(WTP):treatmentE                        -4.613 4.00e-06 ***\n",
       "scale(reflection):treatmentA                 -0.210  0.83426    \n",
       "scale(reflection):treatmentE                  1.854  0.06846 .  \n",
       "scale(BNT):treatmentA                         0.563  0.57560    \n",
       "scale(BNT):treatmentE                        -0.296  0.76804    \n",
       "scale(NFC):treatmentA                        -0.090  0.92877    \n",
       "scale(NFC):treatmentE                         0.231  0.81815    \n",
       "scale(FI):treatmentA                         -1.009  0.31700    \n",
       "scale(FI):treatmentE                          2.790  0.00697 ** \n",
       "scale(lottery_favour):scale(WTP):treatmentA  -4.519 6.27e-06 ***\n",
       "scale(lottery_favour):scale(WTP):treatmentE  -8.856  < 2e-16 ***\n",
       "---\n",
       "Signif. codes:  0 ‘***’ 0.001 ‘**’ 0.01 ‘*’ 0.05 ‘.’ 0.1 ‘ ’ 1"
      ]
     },
     "metadata": {},
     "output_type": "display_data"
    }
   ],
   "source": [
    "# All subjects; with psychometrics\n",
    "summary(lmer(slc_lot ~ (scale(lottery_favour)*scale(WTP) + scale(reflection) + scale(BNT) + scale(NFC) + scale(FI)):treatment + (1|subject), data1))\n"
   ]
  },
  {
   "cell_type": "code",
   "execution_count": null,
   "metadata": {},
   "outputs": [],
   "source": []
  }
 ],
 "metadata": {
  "kernelspec": {
   "display_name": "R [conda env:renv]",
   "language": "R",
   "name": "conda-env-renv-r"
  },
  "language_info": {
   "codemirror_mode": "r",
   "file_extension": ".r",
   "mimetype": "text/x-r-source",
   "name": "R",
   "pygments_lexer": "r",
   "version": "3.6.1"
  }
 },
 "nbformat": 4,
 "nbformat_minor": 4
}
