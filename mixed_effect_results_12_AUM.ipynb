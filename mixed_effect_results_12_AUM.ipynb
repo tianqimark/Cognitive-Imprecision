{
 "cells": [
  {
   "cell_type": "code",
   "execution_count": 5,
   "metadata": {},
   "outputs": [],
   "source": [
    "library(lme4)\n",
    "library(lmerTest)\n",
    "library(nlme)\n",
    "library(ggplot2)\n",
    "library(grid)\n",
    "library(gridExtra)\n",
    "library(lattice)\n",
    "library(plyr)\n",
    "library(MASS)\n",
    "library(stats4)\n",
    "library(dplyr)\n",
    "library(car)"
   ]
  },
  {
   "cell_type": "markdown",
   "metadata": {},
   "source": [
    "# This analysis is for the version AM_n001_10s_B1, SNR, risk division"
   ]
  },
  {
   "cell_type": "markdown",
   "metadata": {},
   "source": [
    "## Load data and preprocessing"
   ]
  },
  {
   "cell_type": "code",
   "execution_count": 6,
   "metadata": {},
   "outputs": [],
   "source": [
    "data_raw <- read.table(\"/Users/hutianqi/Desktop/Project Cognitive Imprecision/Z1 Dataset_AU/trialsAUM_10s_B1.csv\", header=TRUE, sep=\",\")\n",
    "\n",
    "data_raw$logRT <- log(1 + data_raw$RT)\n",
    "\n",
    "# make a copy of mydata where less than 300ms and more than 10s rounds are rejected\n",
    "data1 <- subset(data_raw, RT > .3 & RT < 10)\n",
    "\n",
    "# create another dataset in wh subjects with error_choice > 5 are rejected\n",
    "data2 <- subset(data1, error_choice <= 5)\n",
    "\n"
   ]
  },
  {
   "cell_type": "code",
   "execution_count": 7,
   "metadata": {},
   "outputs": [
    {
     "data": {
      "text/html": [
       "<ol class=list-inline>\n",
       "\t<li>'subject'</li>\n",
       "\t<li>'trial'</li>\n",
       "\t<li>'treatment'</li>\n",
       "\t<li>'lot_code'</li>\n",
       "\t<li>'risk'</li>\n",
       "\t<li>'reward'</li>\n",
       "\t<li>'WTP'</li>\n",
       "\t<li>'certainty'</li>\n",
       "\t<li>'RT'</li>\n",
       "\t<li>'choice'</li>\n",
       "\t<li>'slc_lot'</li>\n",
       "\t<li>'display'</li>\n",
       "\t<li>'correct'</li>\n",
       "\t<li>'decmode'</li>\n",
       "\t<li>'reflection'</li>\n",
       "\t<li>'intuition'</li>\n",
       "\t<li>'BNT'</li>\n",
       "\t<li>'NFC'</li>\n",
       "\t<li>'FI'</li>\n",
       "\t<li>'value_diff'</li>\n",
       "\t<li>'value_sum'</li>\n",
       "\t<li>'lottery_favour'</li>\n",
       "\t<li>'lot_correct'</li>\n",
       "\t<li>'d'</li>\n",
       "\t<li>'noise'</li>\n",
       "\t<li>'x0'</li>\n",
       "\t<li>'nondectime'</li>\n",
       "\t<li>'error_choice'</li>\n",
       "\t<li>'accuracy'</li>\n",
       "\t<li>'risk_level'</li>\n",
       "\t<li>'SNR'</li>\n",
       "\t<li>'logRT'</li>\n",
       "</ol>\n"
      ],
      "text/latex": [
       "\\begin{enumerate*}\n",
       "\\item 'subject'\n",
       "\\item 'trial'\n",
       "\\item 'treatment'\n",
       "\\item 'lot\\_code'\n",
       "\\item 'risk'\n",
       "\\item 'reward'\n",
       "\\item 'WTP'\n",
       "\\item 'certainty'\n",
       "\\item 'RT'\n",
       "\\item 'choice'\n",
       "\\item 'slc\\_lot'\n",
       "\\item 'display'\n",
       "\\item 'correct'\n",
       "\\item 'decmode'\n",
       "\\item 'reflection'\n",
       "\\item 'intuition'\n",
       "\\item 'BNT'\n",
       "\\item 'NFC'\n",
       "\\item 'FI'\n",
       "\\item 'value\\_diff'\n",
       "\\item 'value\\_sum'\n",
       "\\item 'lottery\\_favour'\n",
       "\\item 'lot\\_correct'\n",
       "\\item 'd'\n",
       "\\item 'noise'\n",
       "\\item 'x0'\n",
       "\\item 'nondectime'\n",
       "\\item 'error\\_choice'\n",
       "\\item 'accuracy'\n",
       "\\item 'risk\\_level'\n",
       "\\item 'SNR'\n",
       "\\item 'logRT'\n",
       "\\end{enumerate*}\n"
      ],
      "text/markdown": [
       "1. 'subject'\n",
       "2. 'trial'\n",
       "3. 'treatment'\n",
       "4. 'lot_code'\n",
       "5. 'risk'\n",
       "6. 'reward'\n",
       "7. 'WTP'\n",
       "8. 'certainty'\n",
       "9. 'RT'\n",
       "10. 'choice'\n",
       "11. 'slc_lot'\n",
       "12. 'display'\n",
       "13. 'correct'\n",
       "14. 'decmode'\n",
       "15. 'reflection'\n",
       "16. 'intuition'\n",
       "17. 'BNT'\n",
       "18. 'NFC'\n",
       "19. 'FI'\n",
       "20. 'value_diff'\n",
       "21. 'value_sum'\n",
       "22. 'lottery_favour'\n",
       "23. 'lot_correct'\n",
       "24. 'd'\n",
       "25. 'noise'\n",
       "26. 'x0'\n",
       "27. 'nondectime'\n",
       "28. 'error_choice'\n",
       "29. 'accuracy'\n",
       "30. 'risk_level'\n",
       "31. 'SNR'\n",
       "32. 'logRT'\n",
       "\n",
       "\n"
      ],
      "text/plain": [
       " [1] \"subject\"        \"trial\"          \"treatment\"      \"lot_code\"      \n",
       " [5] \"risk\"           \"reward\"         \"WTP\"            \"certainty\"     \n",
       " [9] \"RT\"             \"choice\"         \"slc_lot\"        \"display\"       \n",
       "[13] \"correct\"        \"decmode\"        \"reflection\"     \"intuition\"     \n",
       "[17] \"BNT\"            \"NFC\"            \"FI\"             \"value_diff\"    \n",
       "[21] \"value_sum\"      \"lottery_favour\" \"lot_correct\"    \"d\"             \n",
       "[25] \"noise\"          \"x0\"             \"nondectime\"     \"error_choice\"  \n",
       "[29] \"accuracy\"       \"risk_level\"     \"SNR\"            \"logRT\"         "
      ]
     },
     "metadata": {},
     "output_type": "display_data"
    }
   ],
   "source": [
    "names(data1)"
   ]
  },
  {
   "cell_type": "markdown",
   "metadata": {},
   "source": [
    "# Predicting choice with the full set of DDM paramerters (SNR, x0)"
   ]
  },
  {
   "cell_type": "markdown",
   "metadata": {},
   "source": [
    "###  All continuous variables are scaled due to the inclusion of interactive terms and to avoid the error \"Model failed to converge with max|grad|\".\n",
    "Interactive effects between the \"lottery_favour and WTP\", \"SNR and x0\" are included."
   ]
  },
  {
   "cell_type": "code",
   "execution_count": 8,
   "metadata": {
    "scrolled": true
   },
   "outputs": [
    {
     "data": {
      "text/plain": [
       "Linear mixed model fit by REML. t-tests use Satterthwaite's method [\n",
       "lmerModLmerTest]\n",
       "Formula: slc_lot ~ (scale(lottery_favour) * scale(WTP) + scale(SNR) +  \n",
       "    scale(x0)):treatment + (1 | subject)\n",
       "   Data: data1\n",
       "\n",
       "REML criterion at convergence: 17924.9\n",
       "\n",
       "Scaled residuals: \n",
       "    Min      1Q  Median      3Q     Max \n",
       "-2.4850 -0.9170  0.0362  0.8622  3.1730 \n",
       "\n",
       "Random effects:\n",
       " Groups   Name        Variance Std.Dev.\n",
       " subject  (Intercept) 0.007579 0.08706 \n",
       " Residual             0.190629 0.43661 \n",
       "Number of obs: 14987, groups:  subject, 72\n",
       "\n",
       "Fixed effects:\n",
       "                                              Estimate Std. Error         df\n",
       "(Intercept)                                  4.905e-01  1.121e-02  6.865e+01\n",
       "scale(lottery_favour):treatmentA             1.809e-01  6.021e-03  1.453e+04\n",
       "scale(lottery_favour):treatmentE             2.347e-01  6.723e-03  1.425e+04\n",
       "scale(WTP):treatmentA                       -4.254e-03  6.505e-03  1.413e+04\n",
       "scale(WTP):treatmentE                       -3.082e-02  6.190e-03  1.485e+04\n",
       "scale(SNR):treatmentA                        1.552e-02  1.561e-02  6.479e+01\n",
       "scale(SNR):treatmentE                        6.396e-02  1.573e-02  6.497e+01\n",
       "scale(x0):treatmentA                         1.414e-01  1.420e-02  6.490e+01\n",
       "scale(x0):treatmentE                         1.493e-01  1.808e-02  6.462e+01\n",
       "scale(lottery_favour):scale(WTP):treatmentA -2.238e-02  5.151e-03  1.182e+04\n",
       "scale(lottery_favour):scale(WTP):treatmentE -4.469e-02  5.277e-03  1.329e+04\n",
       "                                            t value Pr(>|t|)    \n",
       "(Intercept)                                  43.739  < 2e-16 ***\n",
       "scale(lottery_favour):treatmentA             30.048  < 2e-16 ***\n",
       "scale(lottery_favour):treatmentE             34.910  < 2e-16 ***\n",
       "scale(WTP):treatmentA                        -0.654 0.513195    \n",
       "scale(WTP):treatmentE                        -4.979 6.47e-07 ***\n",
       "scale(SNR):treatmentA                         0.995 0.323670    \n",
       "scale(SNR):treatmentE                         4.065 0.000132 ***\n",
       "scale(x0):treatmentA                          9.959 1.07e-14 ***\n",
       "scale(x0):treatmentE                          8.256 1.07e-11 ***\n",
       "scale(lottery_favour):scale(WTP):treatmentA  -4.346 1.40e-05 ***\n",
       "scale(lottery_favour):scale(WTP):treatmentE  -8.469  < 2e-16 ***\n",
       "---\n",
       "Signif. codes:  0 ‘***’ 0.001 ‘**’ 0.01 ‘*’ 0.05 ‘.’ 0.1 ‘ ’ 1\n",
       "\n",
       "Correlation of Fixed Effects:\n",
       "             (Intr) s(_):A s(_):E s(WTP):A s(WTP):E s(SNR):A s(SNR):E s(0):A\n",
       "scl(ltt_):A   0.028                                                         \n",
       "scl(ltt_):E   0.003  0.000                                                  \n",
       "scl(WTP):tA   0.061 -0.359  0.000                                           \n",
       "scl(WTP):tE   0.010  0.000 -0.288  0.001                                    \n",
       "scl(SNR):tA   0.003  0.010  0.000  0.001    0.000                           \n",
       "scl(SNR):tE   0.029  0.001  0.000  0.002   -0.005    0.000                  \n",
       "scl(x0):trA  -0.104 -0.012  0.000 -0.003   -0.001   -0.250   -0.003         \n",
       "scl(x0):trE   0.142  0.004 -0.006  0.009   -0.007    0.000    0.026   -0.015\n",
       "s(_):(WTP):A -0.131  0.007  0.000 -0.273   -0.001    0.029   -0.004   -0.020\n",
       "s(_):(WTP):E -0.093 -0.003 -0.318 -0.006   -0.304    0.000    0.050    0.010\n",
       "             s(0):E s(_):(WTP):A\n",
       "scl(ltt_):A                     \n",
       "scl(ltt_):E                     \n",
       "scl(WTP):tA                     \n",
       "scl(WTP):tE                     \n",
       "scl(SNR):tA                     \n",
       "scl(SNR):tE                     \n",
       "scl(x0):trA                     \n",
       "scl(x0):trE                     \n",
       "s(_):(WTP):A -0.019             \n",
       "s(_):(WTP):E  0.016  0.012      "
      ]
     },
     "metadata": {},
     "output_type": "display_data"
    }
   ],
   "source": [
    "# All subjects\n",
    "summary(lmer(slc_lot ~ (scale(lottery_favour)*scale(WTP) + scale(SNR) + scale(x0)):treatment + (1|subject), data1))\n"
   ]
  },
  {
   "cell_type": "code",
   "execution_count": 9,
   "metadata": {
    "scrolled": true
   },
   "outputs": [
    {
     "data": {
      "text/plain": [
       "Linear mixed model fit by REML. t-tests use Satterthwaite's method [\n",
       "lmerModLmerTest]\n",
       "Formula: slc_lot ~ (scale(lottery_favour) * scale(WTP) + scale(SNR) +  \n",
       "    scale(x0)):treatment + (1 | subject)\n",
       "   Data: data2\n",
       "\n",
       "REML criterion at convergence: 11175.1\n",
       "\n",
       "Scaled residuals: \n",
       "    Min      1Q  Median      3Q     Max \n",
       "-2.4600 -0.8687 -0.0501  0.8387  3.7803 \n",
       "\n",
       "Random effects:\n",
       " Groups   Name        Variance Std.Dev.\n",
       " subject  (Intercept) 0.006371 0.07982 \n",
       " Residual             0.168106 0.41001 \n",
       "Number of obs: 10425, groups:  subject, 50\n",
       "\n",
       "Fixed effects:\n",
       "                                              Estimate Std. Error         df\n",
       "(Intercept)                                  4.495e-01  1.236e-02  4.632e+01\n",
       "scale(lottery_favour):treatmentA             2.383e-01  7.019e-03  1.020e+04\n",
       "scale(lottery_favour):treatmentE             2.871e-01  7.221e-03  9.703e+03\n",
       "scale(WTP):treatmentA                       -4.240e-02  7.583e-03  1.003e+04\n",
       "scale(WTP):treatmentE                       -7.641e-02  6.725e-03  1.026e+04\n",
       "scale(SNR):treatmentA                        2.097e-02  2.149e-02  4.365e+01\n",
       "scale(SNR):treatmentE                        5.746e-02  1.661e-02  4.400e+01\n",
       "scale(x0):treatmentA                         1.307e-01  1.765e-02  4.364e+01\n",
       "scale(x0):treatmentE                         1.786e-01  2.118e-02  4.373e+01\n",
       "scale(lottery_favour):scale(WTP):treatmentA -1.176e-02  6.095e-03  8.016e+03\n",
       "scale(lottery_favour):scale(WTP):treatmentE -3.539e-02  5.597e-03  9.088e+03\n",
       "                                            t value Pr(>|t|)    \n",
       "(Intercept)                                  36.365  < 2e-16 ***\n",
       "scale(lottery_favour):treatmentA             33.944  < 2e-16 ***\n",
       "scale(lottery_favour):treatmentE             39.759  < 2e-16 ***\n",
       "scale(WTP):treatmentA                        -5.592 2.31e-08 ***\n",
       "scale(WTP):treatmentE                       -11.362  < 2e-16 ***\n",
       "scale(SNR):treatmentA                         0.976  0.33444    \n",
       "scale(SNR):treatmentE                         3.460  0.00121 ** \n",
       "scale(x0):treatmentA                          7.401 3.11e-09 ***\n",
       "scale(x0):treatmentE                          8.434 1.02e-10 ***\n",
       "scale(lottery_favour):scale(WTP):treatmentA  -1.930  0.05360 .  \n",
       "scale(lottery_favour):scale(WTP):treatmentE  -6.323 2.69e-10 ***\n",
       "---\n",
       "Signif. codes:  0 ‘***’ 0.001 ‘**’ 0.01 ‘*’ 0.05 ‘.’ 0.1 ‘ ’ 1\n",
       "\n",
       "Correlation of Fixed Effects:\n",
       "             (Intr) s(_):A s(_):E s(WTP):A s(WTP):E s(SNR):A s(SNR):E s(0):A\n",
       "scl(ltt_):A   0.032                                                         \n",
       "scl(ltt_):E   0.006  0.000                                                  \n",
       "scl(WTP):tA   0.060 -0.357  0.000                                           \n",
       "scl(WTP):tE   0.014  0.000 -0.288  0.001                                    \n",
       "scl(SNR):tA  -0.079  0.003  0.000 -0.009   -0.001                           \n",
       "scl(SNR):tE   0.082  0.003 -0.021  0.005   -0.022   -0.006                  \n",
       "scl(x0):trA  -0.018 -0.008  0.000  0.004    0.000   -0.562   -0.001         \n",
       "scl(x0):trE   0.100  0.003  0.019  0.006    0.012   -0.008   -0.113   -0.002\n",
       "s(_):(WTP):A -0.127 -0.009 -0.001 -0.257   -0.002    0.049   -0.010   -0.032\n",
       "s(_):(WTP):E -0.101 -0.003 -0.320 -0.006   -0.318    0.008    0.076    0.002\n",
       "             s(0):E s(_):(WTP):A\n",
       "scl(ltt_):A                     \n",
       "scl(ltt_):E                     \n",
       "scl(WTP):tA                     \n",
       "scl(WTP):tE                     \n",
       "scl(SNR):tA                     \n",
       "scl(SNR):tE                     \n",
       "scl(x0):trA                     \n",
       "scl(x0):trE                     \n",
       "s(_):(WTP):A -0.013             \n",
       "s(_):(WTP):E -0.018  0.013      "
      ]
     },
     "metadata": {},
     "output_type": "display_data"
    }
   ],
   "source": [
    "# without low-attention individuals\n",
    "summary(lmer(slc_lot ~ (scale(lottery_favour)*scale(WTP) + scale(SNR) + scale(x0)):treatment + (1|subject), data2))\n"
   ]
  },
  {
   "cell_type": "markdown",
   "metadata": {},
   "source": [
    "#  Predicting choice with the DDM paramerters and psychometric measurements\n",
    "Interactive effects between the \"lottery_favour and WTP\", \"SNR and x0, reflection and BNT\"; and reflection and BNT are included."
   ]
  },
  {
   "cell_type": "code",
   "execution_count": 10,
   "metadata": {
    "scrolled": true
   },
   "outputs": [
    {
     "name": "stderr",
     "output_type": "stream",
     "text": [
      "\n",
      "Correlation matrix not shown by default, as p = 25 > 12.\n",
      "Use print(obj, correlation=TRUE)  or\n",
      "    vcov(obj)        if you need it\n",
      "\n"
     ]
    },
    {
     "data": {
      "text/plain": [
       "Linear mixed model fit by REML. t-tests use Satterthwaite's method [\n",
       "lmerModLmerTest]\n",
       "Formula: slc_lot ~ (scale(lottery_favour) * scale(WTP) + scale(SNR) +  \n",
       "    scale(x0) + scale(reflection) * scale(BNT) + scale(NFC) +  \n",
       "    scale(FI) + scale(SNR):scale(reflection) + scale(SNR):scale(BNT)):treatment +  \n",
       "    (1 | subject)\n",
       "   Data: data1\n",
       "\n",
       "REML criterion at convergence: 17996.8\n",
       "\n",
       "Scaled residuals: \n",
       "    Min      1Q  Median      3Q     Max \n",
       "-2.4922 -0.9187  0.0378  0.8610  3.1733 \n",
       "\n",
       "Random effects:\n",
       " Groups   Name        Variance Std.Dev.\n",
       " subject  (Intercept) 0.007467 0.08641 \n",
       " Residual             0.190625 0.43661 \n",
       "Number of obs: 14987, groups:  subject, 72\n",
       "\n",
       "Fixed effects:\n",
       "                                              Estimate Std. Error         df\n",
       "(Intercept)                                  4.854e-01  1.426e-02  5.292e+01\n",
       "scale(lottery_favour):treatmentA             1.812e-01  6.027e-03  1.448e+04\n",
       "scale(lottery_favour):treatmentE             2.353e-01  6.739e-03  1.443e+04\n",
       "scale(WTP):treatmentA                       -3.705e-03  6.522e-03  1.433e+04\n",
       "scale(WTP):treatmentE                       -3.043e-02  6.198e-03  1.488e+04\n",
       "scale(SNR):treatmentA                        6.549e-03  1.860e-02  5.166e+01\n",
       "scale(SNR):treatmentE                        6.042e-02  1.862e-02  5.184e+01\n",
       "scale(x0):treatmentA                         1.480e-01  1.554e-02  5.177e+01\n",
       "scale(x0):treatmentE                         1.436e-01  2.096e-02  5.146e+01\n",
       "scale(reflection):treatmentA                 3.009e-03  2.165e-02  5.182e+01\n",
       "scale(reflection):treatmentE                 4.220e-02  2.019e-02  5.207e+01\n",
       "scale(BNT):treatmentA                        2.713e-03  2.305e-02  5.166e+01\n",
       "scale(BNT):treatmentE                       -3.594e-02  1.813e-02  5.148e+01\n",
       "scale(NFC):treatmentA                        1.512e-02  1.995e-02  5.149e+01\n",
       "scale(NFC):treatmentE                       -1.057e-02  1.480e-02  5.147e+01\n",
       "scale(FI):treatmentA                        -1.437e-02  1.655e-02  5.167e+01\n",
       "scale(FI):treatmentE                         2.797e-02  1.880e-02  5.172e+01\n",
       "scale(lottery_favour):scale(WTP):treatmentA -2.311e-02  5.191e-03  1.337e+04\n",
       "scale(lottery_favour):scale(WTP):treatmentE -4.533e-02  5.301e-03  1.397e+04\n",
       "scale(reflection):scale(BNT):treatmentA      2.193e-02  1.954e-02  5.293e+01\n",
       "scale(reflection):scale(BNT):treatmentE     -1.046e-02  1.756e-02  5.150e+01\n",
       "scale(SNR):scale(reflection):treatmentA     -2.021e-02  2.356e-02  5.146e+01\n",
       "scale(SNR):scale(reflection):treatmentE     -1.977e-02  1.969e-02  5.125e+01\n",
       "scale(SNR):scale(BNT):treatmentA             1.784e-02  3.067e-02  5.162e+01\n",
       "scale(SNR):scale(BNT):treatmentE             6.227e-03  1.673e-02  5.137e+01\n",
       "                                            t value Pr(>|t|)    \n",
       "(Intercept)                                  34.041  < 2e-16 ***\n",
       "scale(lottery_favour):treatmentA             30.072  < 2e-16 ***\n",
       "scale(lottery_favour):treatmentE             34.918  < 2e-16 ***\n",
       "scale(WTP):treatmentA                        -0.568  0.56996    \n",
       "scale(WTP):treatmentE                        -4.910 9.20e-07 ***\n",
       "scale(SNR):treatmentA                         0.352  0.72626    \n",
       "scale(SNR):treatmentE                         3.244  0.00206 ** \n",
       "scale(x0):treatmentA                          9.521 5.75e-13 ***\n",
       "scale(x0):treatmentE                          6.852 8.95e-09 ***\n",
       "scale(reflection):treatmentA                  0.139  0.88998    \n",
       "scale(reflection):treatmentE                  2.090  0.04152 *  \n",
       "scale(BNT):treatmentA                         0.118  0.90675    \n",
       "scale(BNT):treatmentE                        -1.982  0.05282 .  \n",
       "scale(NFC):treatmentA                         0.758  0.45202    \n",
       "scale(NFC):treatmentE                        -0.714  0.47848    \n",
       "scale(FI):treatmentA                         -0.868  0.38929    \n",
       "scale(FI):treatmentE                          1.488  0.14282    \n",
       "scale(lottery_favour):scale(WTP):treatmentA  -4.453 8.54e-06 ***\n",
       "scale(lottery_favour):scale(WTP):treatmentE  -8.553  < 2e-16 ***\n",
       "scale(reflection):scale(BNT):treatmentA       1.123  0.26665    \n",
       "scale(reflection):scale(BNT):treatmentE      -0.595  0.55418    \n",
       "scale(SNR):scale(reflection):treatmentA      -0.858  0.39509    \n",
       "scale(SNR):scale(reflection):treatmentE      -1.004  0.31994    \n",
       "scale(SNR):scale(BNT):treatmentA              0.582  0.56341    \n",
       "scale(SNR):scale(BNT):treatmentE              0.372  0.71123    \n",
       "---\n",
       "Signif. codes:  0 ‘***’ 0.001 ‘**’ 0.01 ‘*’ 0.05 ‘.’ 0.1 ‘ ’ 1"
      ]
     },
     "metadata": {},
     "output_type": "display_data"
    }
   ],
   "source": [
    "# All subjects\n",
    "summary(lmer(slc_lot ~ (scale(lottery_favour)*scale(WTP) + scale(SNR) + scale(x0) + scale(reflection)*scale(BNT) + scale(NFC) + scale(FI) + scale(SNR):scale(reflection) + scale(SNR):scale(BNT)):treatment + (1|subject), data1))\n"
   ]
  },
  {
   "cell_type": "code",
   "execution_count": 11,
   "metadata": {
    "scrolled": true
   },
   "outputs": [
    {
     "name": "stderr",
     "output_type": "stream",
     "text": [
      "\n",
      "Correlation matrix not shown by default, as p = 25 > 12.\n",
      "Use print(obj, correlation=TRUE)  or\n",
      "    vcov(obj)        if you need it\n",
      "\n"
     ]
    },
    {
     "data": {
      "text/plain": [
       "Linear mixed model fit by REML. t-tests use Satterthwaite's method [\n",
       "lmerModLmerTest]\n",
       "Formula: slc_lot ~ (scale(lottery_favour) * scale(WTP) + scale(SNR) +  \n",
       "    scale(x0) + scale(reflection) * scale(BNT) + scale(NFC) +  \n",
       "    scale(FI) + scale(SNR):scale(reflection) + scale(SNR):scale(BNT)):treatment +  \n",
       "    (1 | subject)\n",
       "   Data: data2\n",
       "\n",
       "REML criterion at convergence: 11232.7\n",
       "\n",
       "Scaled residuals: \n",
       "    Min      1Q  Median      3Q     Max \n",
       "-2.4854 -0.8705 -0.0454  0.8345  3.7914 \n",
       "\n",
       "Random effects:\n",
       " Groups   Name        Variance Std.Dev.\n",
       " subject  (Intercept) 0.004337 0.06585 \n",
       " Residual             0.168102 0.41000 \n",
       "Number of obs: 10425, groups:  subject, 50\n",
       "\n",
       "Fixed effects:\n",
       "                                              Estimate Std. Error         df\n",
       "(Intercept)                                  4.599e-01  1.592e-02  3.094e+01\n",
       "scale(lottery_favour):treatmentA             2.388e-01  7.016e-03  9.937e+03\n",
       "scale(lottery_favour):treatmentE             2.879e-01  7.235e-03  9.612e+03\n",
       "scale(WTP):treatmentA                       -4.182e-02  7.591e-03  9.896e+03\n",
       "scale(WTP):treatmentE                       -7.592e-02  6.731e-03  1.021e+04\n",
       "scale(SNR):treatmentA                       -7.742e-03  2.624e-02  3.026e+01\n",
       "scale(SNR):treatmentE                        4.144e-02  1.698e-02  3.087e+01\n",
       "scale(x0):treatmentA                         1.538e-01  2.027e-02  3.040e+01\n",
       "scale(x0):treatmentE                         1.476e-01  2.140e-02  3.019e+01\n",
       "scale(reflection):treatmentA                 4.465e-02  2.435e-02  3.033e+01\n",
       "scale(reflection):treatmentE                 4.799e-02  2.229e-02  3.067e+01\n",
       "scale(BNT):treatmentA                       -1.634e-02  2.603e-02  3.024e+01\n",
       "scale(BNT):treatmentE                       -1.295e-02  1.965e-02  3.014e+01\n",
       "scale(NFC):treatmentA                       -4.594e-03  2.014e-02  2.998e+01\n",
       "scale(NFC):treatmentE                       -2.703e-02  1.371e-02  3.001e+01\n",
       "scale(FI):treatmentA                         3.516e-02  1.928e-02  3.028e+01\n",
       "scale(FI):treatmentE                         5.542e-02  1.958e-02  3.066e+01\n",
       "scale(lottery_favour):scale(WTP):treatmentA -1.201e-02  6.147e-03  9.099e+03\n",
       "scale(lottery_favour):scale(WTP):treatmentE -3.633e-02  5.613e-03  9.056e+03\n",
       "scale(reflection):scale(BNT):treatmentA      5.814e-03  1.787e-02  3.125e+01\n",
       "scale(reflection):scale(BNT):treatmentE     -3.651e-02  2.030e-02  3.031e+01\n",
       "scale(SNR):scale(reflection):treatmentA     -3.219e-02  2.971e-02  2.999e+01\n",
       "scale(SNR):scale(reflection):treatmentE     -3.088e-02  1.774e-02  3.000e+01\n",
       "scale(SNR):scale(BNT):treatmentA             2.551e-02  3.810e-02  3.000e+01\n",
       "scale(SNR):scale(BNT):treatmentE            -4.119e-03  1.552e-02  3.001e+01\n",
       "                                            t value Pr(>|t|)    \n",
       "(Intercept)                                  28.893  < 2e-16 ***\n",
       "scale(lottery_favour):treatmentA             34.038  < 2e-16 ***\n",
       "scale(lottery_favour):treatmentE             39.790  < 2e-16 ***\n",
       "scale(WTP):treatmentA                        -5.509 3.71e-08 ***\n",
       "scale(WTP):treatmentE                       -11.279  < 2e-16 ***\n",
       "scale(SNR):treatmentA                        -0.295  0.76997    \n",
       "scale(SNR):treatmentE                         2.441  0.02059 *  \n",
       "scale(x0):treatmentA                          7.591 1.68e-08 ***\n",
       "scale(x0):treatmentE                          6.898 1.13e-07 ***\n",
       "scale(reflection):treatmentA                  1.834  0.07655 .  \n",
       "scale(reflection):treatmentE                  2.153  0.03932 *  \n",
       "scale(BNT):treatmentA                        -0.628  0.53483    \n",
       "scale(BNT):treatmentE                        -0.659  0.51484    \n",
       "scale(NFC):treatmentA                        -0.228  0.82113    \n",
       "scale(NFC):treatmentE                        -1.972  0.05789 .  \n",
       "scale(FI):treatmentA                          1.824  0.07807 .  \n",
       "scale(FI):treatmentE                          2.831  0.00813 ** \n",
       "scale(lottery_favour):scale(WTP):treatmentA  -1.954  0.05079 .  \n",
       "scale(lottery_favour):scale(WTP):treatmentE  -6.472 1.02e-10 ***\n",
       "scale(reflection):scale(BNT):treatmentA       0.325  0.74713    \n",
       "scale(reflection):scale(BNT):treatmentE      -1.799  0.08200 .  \n",
       "scale(SNR):scale(reflection):treatmentA      -1.083  0.28731    \n",
       "scale(SNR):scale(reflection):treatmentE      -1.741  0.09185 .  \n",
       "scale(SNR):scale(BNT):treatmentA              0.670  0.50828    \n",
       "scale(SNR):scale(BNT):treatmentE             -0.265  0.79250    \n",
       "---\n",
       "Signif. codes:  0 ‘***’ 0.001 ‘**’ 0.01 ‘*’ 0.05 ‘.’ 0.1 ‘ ’ 1"
      ]
     },
     "metadata": {},
     "output_type": "display_data"
    }
   ],
   "source": [
    "# without low-attention individuals\n",
    "summary(lmer(slc_lot ~ (scale(lottery_favour)*scale(WTP) + scale(SNR) + scale(x0) + scale(reflection)*scale(BNT) + scale(NFC) + scale(FI) + scale(SNR):scale(reflection) + scale(SNR):scale(BNT)):treatment + (1|subject), data2))\n"
   ]
  },
  {
   "cell_type": "markdown",
   "metadata": {},
   "source": [
    "# Predicting choice with psychometric measurements alone"
   ]
  },
  {
   "cell_type": "code",
   "execution_count": 12,
   "metadata": {
    "scrolled": true
   },
   "outputs": [
    {
     "name": "stderr",
     "output_type": "stream",
     "text": [
      "\n",
      "Correlation matrix not shown by default, as p = 17 > 12.\n",
      "Use print(obj, correlation=TRUE)  or\n",
      "    vcov(obj)        if you need it\n",
      "\n"
     ]
    },
    {
     "data": {
      "text/plain": [
       "Linear mixed model fit by REML. t-tests use Satterthwaite's method [\n",
       "lmerModLmerTest]\n",
       "Formula: slc_lot ~ (scale(lottery_favour) * scale(WTP) + scale(reflection) *  \n",
       "    scale(BNT) + scale(NFC) + scale(FI)):treatment + (1 | subject)\n",
       "   Data: data1\n",
       "\n",
       "REML criterion at convergence: 18033.4\n",
       "\n",
       "Scaled residuals: \n",
       "    Min      1Q  Median      3Q     Max \n",
       "-2.4841 -0.9170  0.0365  0.8612  3.1744 \n",
       "\n",
       "Random effects:\n",
       " Groups   Name        Variance Std.Dev.\n",
       " subject  (Intercept) 0.02946  0.1716  \n",
       " Residual             0.19062  0.4366  \n",
       "Number of obs: 14987, groups:  subject, 72\n",
       "\n",
       "Fixed effects:\n",
       "                                              Estimate Std. Error         df\n",
       "(Intercept)                                  5.038e-01  2.477e-02  6.133e+01\n",
       "scale(lottery_favour):treatmentA             1.827e-01  6.058e-03  1.497e+04\n",
       "scale(lottery_favour):treatmentE             2.378e-01  6.773e-03  1.497e+04\n",
       "scale(WTP):treatmentA                       -2.161e-03  6.560e-03  1.497e+04\n",
       "scale(WTP):treatmentE                       -2.864e-02  6.215e-03  1.496e+04\n",
       "scale(reflection):treatmentA                 1.619e-03  3.973e-02  6.096e+01\n",
       "scale(reflection):treatmentE                 6.633e-02  3.514e-02  6.094e+01\n",
       "scale(BNT):treatmentA                        2.654e-02  4.351e-02  6.087e+01\n",
       "scale(BNT):treatmentE                        6.283e-03  3.281e-02  6.085e+01\n",
       "scale(NFC):treatmentA                       -1.613e-03  3.689e-02  6.083e+01\n",
       "scale(NFC):treatmentE                        3.386e-03  2.628e-02  6.085e+01\n",
       "scale(FI):treatmentA                        -2.341e-02  3.118e-02  6.090e+01\n",
       "scale(FI):treatmentE                         9.446e-02  3.140e-02  6.082e+01\n",
       "scale(lottery_favour):scale(WTP):treatmentA -2.363e-02  5.233e-03  1.492e+04\n",
       "scale(lottery_favour):scale(WTP):treatmentE -4.718e-02  5.333e-03  1.493e+04\n",
       "scale(reflection):scale(BNT):treatmentA     -1.821e-02  3.363e-02  6.126e+01\n",
       "scale(reflection):scale(BNT):treatmentE     -4.415e-02  2.854e-02  6.087e+01\n",
       "                                            t value Pr(>|t|)    \n",
       "(Intercept)                                  20.338  < 2e-16 ***\n",
       "scale(lottery_favour):treatmentA             30.159  < 2e-16 ***\n",
       "scale(lottery_favour):treatmentE             35.114  < 2e-16 ***\n",
       "scale(WTP):treatmentA                        -0.329  0.74188    \n",
       "scale(WTP):treatmentE                        -4.609 4.08e-06 ***\n",
       "scale(reflection):treatmentA                  0.041  0.96764    \n",
       "scale(reflection):treatmentE                  1.888  0.06384 .  \n",
       "scale(BNT):treatmentA                         0.610  0.54419    \n",
       "scale(BNT):treatmentE                         0.191  0.84878    \n",
       "scale(NFC):treatmentA                        -0.044  0.96528    \n",
       "scale(NFC):treatmentE                         0.129  0.89792    \n",
       "scale(FI):treatmentA                         -0.751  0.45562    \n",
       "scale(FI):treatmentE                          3.008  0.00382 ** \n",
       "scale(lottery_favour):scale(WTP):treatmentA  -4.515 6.38e-06 ***\n",
       "scale(lottery_favour):scale(WTP):treatmentE  -8.846  < 2e-16 ***\n",
       "scale(reflection):scale(BNT):treatmentA      -0.541  0.59013    \n",
       "scale(reflection):scale(BNT):treatmentE      -1.547  0.12702    \n",
       "---\n",
       "Signif. codes:  0 ‘***’ 0.001 ‘**’ 0.01 ‘*’ 0.05 ‘.’ 0.1 ‘ ’ 1"
      ]
     },
     "metadata": {},
     "output_type": "display_data"
    }
   ],
   "source": [
    "# all subjects\n",
    "summary(lmer(slc_lot ~ (scale(lottery_favour)*scale(WTP) + scale(reflection)*scale(BNT) + scale(NFC) + scale(FI)):treatment + (1|subject), data1))\n"
   ]
  },
  {
   "cell_type": "code",
   "execution_count": 13,
   "metadata": {
    "scrolled": true
   },
   "outputs": [
    {
     "name": "stderr",
     "output_type": "stream",
     "text": [
      "\n",
      "Correlation matrix not shown by default, as p = 17 > 12.\n",
      "Use print(obj, correlation=TRUE)  or\n",
      "    vcov(obj)        if you need it\n",
      "\n"
     ]
    },
    {
     "data": {
      "text/plain": [
       "Linear mixed model fit by REML. t-tests use Satterthwaite's method [\n",
       "lmerModLmerTest]\n",
       "Formula: slc_lot ~ (scale(lottery_favour) * scale(WTP) + scale(reflection) *  \n",
       "    scale(BNT) + scale(NFC) + scale(FI)):treatment + (1 | subject)\n",
       "   Data: data2\n",
       "\n",
       "REML criterion at convergence: 11257.5\n",
       "\n",
       "Scaled residuals: \n",
       "    Min      1Q  Median      3Q     Max \n",
       "-2.4759 -0.8720 -0.0499  0.8366  3.7830 \n",
       "\n",
       "Random effects:\n",
       " Groups   Name        Variance Std.Dev.\n",
       " subject  (Intercept) 0.02725  0.1651  \n",
       " Residual             0.16810  0.4100  \n",
       "Number of obs: 10425, groups:  subject, 50\n",
       "\n",
       "Fixed effects:\n",
       "                                              Estimate Std. Error         df\n",
       "(Intercept)                                  4.692e-01  3.495e-02  3.915e+01\n",
       "scale(lottery_favour):treatmentA             2.394e-01  7.058e-03  1.041e+04\n",
       "scale(lottery_favour):treatmentE             2.907e-01  7.286e-03  1.040e+04\n",
       "scale(WTP):treatmentA                       -4.115e-02  7.638e-03  1.041e+04\n",
       "scale(WTP):treatmentE                       -7.387e-02  6.758e-03  1.041e+04\n",
       "scale(reflection):treatmentA                -2.088e-03  5.179e-02  3.908e+01\n",
       "scale(reflection):treatmentE                 1.005e-01  4.516e-02  3.908e+01\n",
       "scale(BNT):treatmentA                        3.869e-02  5.930e-02  3.898e+01\n",
       "scale(BNT):treatmentE                        9.098e-03  4.317e-02  3.899e+01\n",
       "scale(NFC):treatmentA                       -1.412e-02  4.512e-02  3.895e+01\n",
       "scale(NFC):treatmentE                       -2.785e-02  3.064e-02  3.894e+01\n",
       "scale(FI):treatmentA                        -1.406e-02  3.944e-02  3.901e+01\n",
       "scale(FI):treatmentE                         1.366e-01  3.556e-02  3.902e+01\n",
       "scale(lottery_favour):scale(WTP):treatmentA -1.241e-02  6.203e-03  1.040e+04\n",
       "scale(lottery_favour):scale(WTP):treatmentE -3.835e-02  5.661e-03  1.038e+04\n",
       "scale(reflection):scale(BNT):treatmentA     -2.174e-02  3.928e-02  3.919e+01\n",
       "scale(reflection):scale(BNT):treatmentE     -8.326e-02  4.453e-02  3.899e+01\n",
       "                                            t value Pr(>|t|)    \n",
       "(Intercept)                                  13.425 3.11e-16 ***\n",
       "scale(lottery_favour):treatmentA             33.924  < 2e-16 ***\n",
       "scale(lottery_favour):treatmentE             39.895  < 2e-16 ***\n",
       "scale(WTP):treatmentA                        -5.388 7.29e-08 ***\n",
       "scale(WTP):treatmentE                       -10.931  < 2e-16 ***\n",
       "scale(reflection):treatmentA                 -0.040 0.968045    \n",
       "scale(reflection):treatmentE                  2.225 0.031891 *  \n",
       "scale(BNT):treatmentA                         0.652 0.517977    \n",
       "scale(BNT):treatmentE                         0.211 0.834195    \n",
       "scale(NFC):treatmentA                        -0.313 0.755930    \n",
       "scale(NFC):treatmentE                        -0.909 0.369007    \n",
       "scale(FI):treatmentA                         -0.357 0.723379    \n",
       "scale(FI):treatmentE                          3.842 0.000438 ***\n",
       "scale(lottery_favour):scale(WTP):treatmentA  -2.000 0.045497 *  \n",
       "scale(lottery_favour):scale(WTP):treatmentE  -6.775 1.31e-11 ***\n",
       "scale(reflection):scale(BNT):treatmentA      -0.553 0.583070    \n",
       "scale(reflection):scale(BNT):treatmentE      -1.869 0.069079 .  \n",
       "---\n",
       "Signif. codes:  0 ‘***’ 0.001 ‘**’ 0.01 ‘*’ 0.05 ‘.’ 0.1 ‘ ’ 1"
      ]
     },
     "metadata": {},
     "output_type": "display_data"
    }
   ],
   "source": [
    "# without low-attention individuals\n",
    "summary(lmer(slc_lot ~ (scale(lottery_favour)*scale(WTP) + scale(reflection)*scale(BNT) + scale(NFC) + scale(FI)):treatment + (1|subject), data2))\n"
   ]
  },
  {
   "cell_type": "markdown",
   "metadata": {},
   "source": [
    "# Others"
   ]
  },
  {
   "cell_type": "markdown",
   "metadata": {},
   "source": [
    "### Is RT affected by treatments?\n",
    "No difference for RT per trial, but choosing lottery takes longer time only in the treatment E."
   ]
  },
  {
   "cell_type": "code",
   "execution_count": 14,
   "metadata": {
    "scrolled": true
   },
   "outputs": [
    {
     "data": {
      "text/plain": [
       "Generalized linear mixed model fit by maximum likelihood (Laplace\n",
       "  Approximation) [glmerMod]\n",
       " Family: Gamma  ( identity )\n",
       "Formula: RT ~ scale(value_diff) * scale(WTP) + slc_lot + treatment + (1 |  \n",
       "    subject)\n",
       "   Data: data1\n",
       "\n",
       "     AIC      BIC   logLik deviance df.resid \n",
       " 45378.7  45439.6 -22681.4  45362.7    14979 \n",
       "\n",
       "Scaled residuals: \n",
       "    Min      1Q  Median      3Q     Max \n",
       "-1.4641 -0.6078 -0.2815  0.2766 12.8588 \n",
       "\n",
       "Random effects:\n",
       " Groups   Name        Variance Std.Dev.\n",
       " subject  (Intercept) 0.2449   0.4949  \n",
       " Residual             0.3978   0.6307  \n",
       "Number of obs: 14987, groups:  subject, 72\n",
       "\n",
       "Fixed effects:\n",
       "                              Estimate Std. Error t value Pr(>|z|)    \n",
       "(Intercept)                   2.319506   0.127346  18.214  < 2e-16 ***\n",
       "scale(value_diff)            -0.047105   0.008963  -5.256 1.48e-07 ***\n",
       "scale(WTP)                   -0.014622   0.010495  -1.393   0.1635    \n",
       "slc_lot                       0.045320   0.018174   2.494   0.0126 *  \n",
       "treatmentE                    0.194103   0.179439   1.082   0.2794    \n",
       "scale(value_diff):scale(WTP)  0.029356   0.007086   4.143 3.43e-05 ***\n",
       "---\n",
       "Signif. codes:  0 ‘***’ 0.001 ‘**’ 0.01 ‘*’ 0.05 ‘.’ 0.1 ‘ ’ 1\n",
       "\n",
       "Correlation of Fixed Effects:\n",
       "            (Intr) scl(_) s(WTP) slc_lt trtmnE\n",
       "scl(vl_dff) -0.010                            \n",
       "scale(WTP)   0.016 -0.247                     \n",
       "slc_lot     -0.066  0.059 -0.023              \n",
       "treatmentE  -0.707  0.008 -0.018  0.002       \n",
       "sc(_):(WTP) -0.001 -0.177 -0.175 -0.126 -0.005"
      ]
     },
     "metadata": {},
     "output_type": "display_data"
    },
    {
     "data": {
      "text/plain": [
       "Generalized linear mixed model fit by maximum likelihood (Laplace\n",
       "  Approximation) [glmerMod]\n",
       " Family: Gamma  ( identity )\n",
       "Formula: RT ~ (scale(value_diff) * scale(WTP) + slc_lot):treatment + (1 |  \n",
       "    subject)\n",
       "   Data: data1\n",
       "\n",
       "     AIC      BIC   logLik deviance df.resid \n",
       " 45365.3  45449.0 -22671.6  45343.3    14976 \n",
       "\n",
       "Scaled residuals: \n",
       "    Min      1Q  Median      3Q     Max \n",
       "-1.4657 -0.6080 -0.2821  0.2771 12.9894 \n",
       "\n",
       "Random effects:\n",
       " Groups   Name        Variance Std.Dev.\n",
       " subject  (Intercept) 0.2477   0.4976  \n",
       " Residual             0.3967   0.6299  \n",
       "Number of obs: 14987, groups:  subject, 72\n",
       "\n",
       "Fixed effects:\n",
       "                                         Estimate Std. Error t value Pr(>|z|)\n",
       "(Intercept)                              2.408276   0.090727  26.544  < 2e-16\n",
       "scale(value_diff):treatmentA            -0.027843   0.011680  -2.384  0.01714\n",
       "scale(value_diff):treatmentE            -0.095729   0.015094  -6.342 2.27e-10\n",
       "scale(WTP):treatmentA                   -0.040189   0.014954  -2.687  0.00720\n",
       "scale(WTP):treatmentE                    0.014635   0.014612   1.002  0.31654\n",
       "slc_lot:treatmentA                       0.026117   0.024462   1.068  0.28568\n",
       "slc_lot:treatmentE                       0.074382   0.027223   2.732  0.00629\n",
       "scale(value_diff):scale(WTP):treatmentA  0.023461   0.009495   2.471  0.01348\n",
       "scale(value_diff):scale(WTP):treatmentE  0.053261   0.011513   4.626 3.73e-06\n",
       "                                           \n",
       "(Intercept)                             ***\n",
       "scale(value_diff):treatmentA            *  \n",
       "scale(value_diff):treatmentE            ***\n",
       "scale(WTP):treatmentA                   ** \n",
       "scale(WTP):treatmentE                      \n",
       "slc_lot:treatmentA                         \n",
       "slc_lot:treatmentE                      ** \n",
       "scale(value_diff):scale(WTP):treatmentA *  \n",
       "scale(value_diff):scale(WTP):treatmentE ***\n",
       "---\n",
       "Signif. codes:  0 ‘***’ 0.001 ‘**’ 0.01 ‘*’ 0.05 ‘.’ 0.1 ‘ ’ 1\n",
       "\n",
       "Correlation of Fixed Effects:\n",
       "             (Intr) s(_):A s(_):E s(WTP):A s(WTP):E slc_:A slc_:E s(_):(WTP):A\n",
       "scl(vl_d):A  -0.010                                                           \n",
       "scl(vl_d):E   0.004  0.000                                                    \n",
       "scl(WTP):tA   0.015 -0.229  0.000                                             \n",
       "scl(WTP):tE  -0.007  0.000 -0.248  0.000                                      \n",
       "slc_lt:trtA  -0.064  0.103  0.000 -0.041    0.000                             \n",
       "slc_lt:trtE  -0.064  0.001  0.012 -0.001   -0.010    0.004                    \n",
       "s(_):(WTP):A -0.004 -0.029  0.000 -0.203    0.000   -0.110  0.000             \n",
       "s(_):(WTP):E -0.008  0.000 -0.409  0.000   -0.119    0.000 -0.123  0.000      "
      ]
     },
     "metadata": {},
     "output_type": "display_data"
    }
   ],
   "source": [
    "# all subjects\n",
    "summary(glmer(RT ~ scale(value_diff)*scale(WTP) + slc_lot + treatment + (1|subject), data1, family = Gamma(link = \"identity\")))\n",
    "summary(glmer(RT ~ (scale(value_diff)*scale(WTP) + slc_lot):treatment + (1|subject), data1, family = Gamma(link = \"identity\")))\n"
   ]
  },
  {
   "cell_type": "code",
   "execution_count": 15,
   "metadata": {
    "scrolled": true
   },
   "outputs": [
    {
     "data": {
      "text/plain": [
       "Generalized linear mixed model fit by maximum likelihood (Laplace\n",
       "  Approximation) [glmerMod]\n",
       " Family: Gamma  ( identity )\n",
       "Formula: RT ~ scale(value_diff) * scale(WTP) + slc_lot + treatment + (1 |  \n",
       "    subject)\n",
       "   Data: data2\n",
       "\n",
       "     AIC      BIC   logLik deviance df.resid \n",
       "   31904    31962   -15944    31888    10417 \n",
       "\n",
       "Scaled residuals: \n",
       "    Min      1Q  Median      3Q     Max \n",
       "-1.5540 -0.6314 -0.2898  0.2860  9.6850 \n",
       "\n",
       "Random effects:\n",
       " Groups   Name        Variance Std.Dev.\n",
       " subject  (Intercept) 0.1784   0.4224  \n",
       " Residual             0.3525   0.5937  \n",
       "Number of obs: 10425, groups:  subject, 50\n",
       "\n",
       "Fixed effects:\n",
       "                              Estimate Std. Error t value Pr(>|z|)    \n",
       "(Intercept)                   2.311736   0.142510  16.222  < 2e-16 ***\n",
       "scale(value_diff)            -0.075203   0.010458  -7.191 6.45e-13 ***\n",
       "scale(WTP)                    0.008714   0.012691   0.687 0.492305    \n",
       "slc_lot                       0.141208   0.023632   5.975 2.30e-09 ***\n",
       "treatmentE                    0.296418   0.193039   1.536 0.124653    \n",
       "scale(value_diff):scale(WTP)  0.032326   0.008480   3.812 0.000138 ***\n",
       "---\n",
       "Signif. codes:  0 ‘***’ 0.001 ‘**’ 0.01 ‘*’ 0.05 ‘.’ 0.1 ‘ ’ 1\n",
       "\n",
       "Correlation of Fixed Effects:\n",
       "            (Intr) scl(_) s(WTP) slc_lt trtmnE\n",
       "scl(vl_dff) -0.014                            \n",
       "scale(WTP)   0.017 -0.253                     \n",
       "slc_lot     -0.064  0.067  0.025              \n",
       "treatmentE  -0.735  0.009 -0.020  0.000       \n",
       "sc(_):(WTP)  0.006 -0.088 -0.218 -0.231 -0.005"
      ]
     },
     "metadata": {},
     "output_type": "display_data"
    },
    {
     "data": {
      "text/plain": [
       "Generalized linear mixed model fit by maximum likelihood (Laplace\n",
       "  Approximation) [glmerMod]\n",
       " Family: Gamma  ( identity )\n",
       "Formula: RT ~ (scale(value_diff) * scale(WTP) + slc_lot):treatment + (1 |  \n",
       "    subject)\n",
       "   Data: data2\n",
       "\n",
       "     AIC      BIC   logLik deviance df.resid \n",
       " 31893.8  31973.6 -15935.9  31871.8    10414 \n",
       "\n",
       "Scaled residuals: \n",
       "    Min      1Q  Median      3Q     Max \n",
       "-1.5552 -0.6302 -0.2888  0.2841  9.6825 \n",
       "\n",
       "Random effects:\n",
       " Groups   Name        Variance Std.Dev.\n",
       " subject  (Intercept) 0.1876   0.4331  \n",
       " Residual             0.3514   0.5928  \n",
       "Number of obs: 10425, groups:  subject, 50\n",
       "\n",
       "Fixed effects:\n",
       "                                        Estimate Std. Error t value Pr(>|z|)\n",
       "(Intercept)                              2.46409    0.09929  24.816  < 2e-16\n",
       "scale(value_diff):treatmentA            -0.04637    0.01536  -3.019  0.00254\n",
       "scale(value_diff):treatmentE            -0.13035    0.01625  -8.022 1.04e-15\n",
       "scale(WTP):treatmentA                   -0.01490    0.01995  -0.747  0.45515\n",
       "scale(WTP):treatmentE                    0.03120    0.01652   1.889  0.05886\n",
       "slc_lot:treatmentA                       0.14056    0.03433   4.095 4.23e-05\n",
       "slc_lot:treatmentE                       0.15569    0.03276   4.753 2.00e-06\n",
       "scale(value_diff):scale(WTP):treatmentA  0.02442    0.01384   1.765  0.07765\n",
       "scale(value_diff):scale(WTP):treatmentE  0.05881    0.01219   4.824 1.41e-06\n",
       "                                           \n",
       "(Intercept)                             ***\n",
       "scale(value_diff):treatmentA            ** \n",
       "scale(value_diff):treatmentE            ***\n",
       "scale(WTP):treatmentA                      \n",
       "scale(WTP):treatmentE                   .  \n",
       "slc_lot:treatmentA                      ***\n",
       "slc_lot:treatmentE                      ***\n",
       "scale(value_diff):scale(WTP):treatmentA .  \n",
       "scale(value_diff):scale(WTP):treatmentE ***\n",
       "---\n",
       "Signif. codes:  0 ‘***’ 0.001 ‘**’ 0.01 ‘*’ 0.05 ‘.’ 0.1 ‘ ’ 1\n",
       "\n",
       "Correlation of Fixed Effects:\n",
       "             (Intr) s(_):A s(_):E s(WTP):A s(WTP):E slc_:A slc_:E s(_):(WTP):A\n",
       "scl(vl_d):A  -0.014                                                           \n",
       "scl(vl_d):E   0.000  0.000                                                    \n",
       "scl(WTP):tA   0.020 -0.224  0.000                                             \n",
       "scl(WTP):tE  -0.012  0.000 -0.242  0.000                                      \n",
       "slc_lt:trtA  -0.062  0.111  0.000 -0.063    0.001                             \n",
       "slc_lt:trtE  -0.069  0.001  0.005 -0.001    0.089    0.004                    \n",
       "s(_):(WTP):A  0.002  0.184  0.000 -0.189    0.000   -0.232  0.000             \n",
       "s(_):(WTP):E  0.001  0.000 -0.367  0.000   -0.194    0.000 -0.198  0.000      "
      ]
     },
     "metadata": {},
     "output_type": "display_data"
    }
   ],
   "source": [
    "# without low-attention individuals\n",
    "summary(glmer(RT ~ scale(value_diff)*scale(WTP) + slc_lot + treatment + (1|subject), data2, family = Gamma(link = \"identity\")))\n",
    "summary(glmer(RT ~ (scale(value_diff)*scale(WTP) + slc_lot):treatment + (1|subject), data2, family = Gamma(link = \"identity\")))\n"
   ]
  },
  {
   "cell_type": "markdown",
   "metadata": {},
   "source": [
    "### Is chance of choosing lottery affected by treatments?\n",
    "NO (marginal significance with all subjects)"
   ]
  },
  {
   "cell_type": "code",
   "execution_count": 16,
   "metadata": {
    "scrolled": true
   },
   "outputs": [
    {
     "data": {
      "text/plain": [
       "Generalized linear mixed model fit by maximum likelihood (Laplace\n",
       "  Approximation) [glmerMod]\n",
       " Family: binomial  ( logit )\n",
       "Formula: slc_lot ~ scale(lottery_favour) * scale(WTP) + treatment + (1 |  \n",
       "    subject)\n",
       "   Data: data1\n",
       "\n",
       "     AIC      BIC   logLik deviance df.resid \n",
       " 16845.0  16890.7  -8416.5  16833.0    14981 \n",
       "\n",
       "Scaled residuals: \n",
       "    Min      1Q  Median      3Q     Max \n",
       "-5.1540 -0.7438 -0.1979  0.7181 17.7393 \n",
       "\n",
       "Random effects:\n",
       " Groups  Name        Variance Std.Dev.\n",
       " subject (Intercept) 0.8703   0.9329  \n",
       "Number of obs: 14987, groups:  subject, 72\n",
       "\n",
       "Fixed effects:\n",
       "                                 Estimate Std. Error z value Pr(>|z|)    \n",
       "(Intercept)                       0.12833    0.15838   0.810 0.417785    \n",
       "scale(lottery_favour)             1.24103    0.03118  39.801  < 2e-16 ***\n",
       "scale(WTP)                       -0.08056    0.02384  -3.379 0.000728 ***\n",
       "treatmentE                       -0.40199    0.22348  -1.799 0.072048 .  \n",
       "scale(lottery_favour):scale(WTP) -0.27586    0.02244 -12.292  < 2e-16 ***\n",
       "---\n",
       "Signif. codes:  0 ‘***’ 0.001 ‘**’ 0.01 ‘*’ 0.05 ‘.’ 0.1 ‘ ’ 1\n",
       "\n",
       "Correlation of Fixed Effects:\n",
       "            (Intr) scl(_) s(WTP) trtmnE\n",
       "scl(lttry_)  0.025                     \n",
       "scale(WTP)   0.038 -0.233              \n",
       "treatmentE  -0.707 -0.031 -0.022       \n",
       "sc(_):(WTP) -0.068 -0.371 -0.314  0.019"
      ]
     },
     "metadata": {},
     "output_type": "display_data"
    }
   ],
   "source": [
    "# All subjects\n",
    "summary(glmer(slc_lot ~ scale(lottery_favour)*scale(WTP) + treatment + (1|subject), data1, family=binomial(link = \"logit\")))\n"
   ]
  },
  {
   "cell_type": "code",
   "execution_count": 17,
   "metadata": {
    "scrolled": true
   },
   "outputs": [
    {
     "data": {
      "text/plain": [
       "Generalized linear mixed model fit by maximum likelihood (Laplace\n",
       "  Approximation) [glmerMod]\n",
       " Family: binomial  ( logit )\n",
       "Formula: slc_lot ~ scale(lottery_favour) * scale(WTP) + treatment + (1 |  \n",
       "    subject)\n",
       "   Data: data2\n",
       "\n",
       "     AIC      BIC   logLik deviance df.resid \n",
       " 10178.5  10222.0  -5083.2  10166.5    10419 \n",
       "\n",
       "Scaled residuals: \n",
       "   Min     1Q Median     3Q    Max \n",
       "-4.637 -0.603 -0.159  0.584 72.646 \n",
       "\n",
       "Random effects:\n",
       " Groups  Name        Variance Std.Dev.\n",
       " subject (Intercept) 1.311    1.145   \n",
       "Number of obs: 10425, groups:  subject, 50\n",
       "\n",
       "Fixed effects:\n",
       "                                 Estimate Std. Error z value Pr(>|z|)    \n",
       "(Intercept)                      -0.19176    0.24217  -0.792    0.428    \n",
       "scale(lottery_favour)             2.03704    0.04979  40.914   <2e-16 ***\n",
       "scale(WTP)                       -0.37003    0.03263 -11.339   <2e-16 ***\n",
       "treatmentE                       -0.34282    0.32906  -1.042    0.298    \n",
       "scale(lottery_favour):scale(WTP) -0.39882    0.03187 -12.513   <2e-16 ***\n",
       "---\n",
       "Signif. codes:  0 ‘***’ 0.001 ‘**’ 0.01 ‘*’ 0.05 ‘.’ 0.1 ‘ ’ 1\n",
       "\n",
       "Correlation of Fixed Effects:\n",
       "            (Intr) scl(_) s(WTP) trtmnE\n",
       "scl(lttry_)  0.005                     \n",
       "scale(WTP)   0.039 -0.251              \n",
       "treatmentE  -0.734 -0.026 -0.015       \n",
       "sc(_):(WTP) -0.050 -0.441 -0.354  0.013"
      ]
     },
     "metadata": {},
     "output_type": "display_data"
    }
   ],
   "source": [
    "# without low-attention individuals\n",
    "summary(glmer(slc_lot ~ scale(lottery_favour)*scale(WTP) + treatment + (1|subject), data2, family=binomial(link = \"logit\")))\n"
   ]
  },
  {
   "cell_type": "code",
   "execution_count": null,
   "metadata": {},
   "outputs": [],
   "source": []
  }
 ],
 "metadata": {
  "kernelspec": {
   "display_name": "R [conda env:jupy]",
   "language": "R",
   "name": "conda-env-jupy-r"
  },
  "language_info": {
   "codemirror_mode": "r",
   "file_extension": ".r",
   "mimetype": "text/x-r-source",
   "name": "R",
   "pygments_lexer": "r",
   "version": "3.6.1"
  }
 },
 "nbformat": 4,
 "nbformat_minor": 4
}
