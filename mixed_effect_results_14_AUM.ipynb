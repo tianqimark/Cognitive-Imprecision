{
 "cells": [
  {
   "cell_type": "code",
   "execution_count": 19,
   "metadata": {},
   "outputs": [],
   "source": [
    "library(lme4)\n",
    "library(lmerTest)\n",
    "library(nlme)\n",
    "library(ggplot2)\n",
    "library(grid)\n",
    "library(gridExtra)\n",
    "library(lattice)\n",
    "library(plyr)\n",
    "library(MASS)\n",
    "library(stats4)\n",
    "library(dplyr)\n",
    "library(car)"
   ]
  },
  {
   "cell_type": "markdown",
   "metadata": {},
   "source": [
    "# This analysis is for the version AM_n001_10s_B1, SNR, risk division"
   ]
  },
  {
   "cell_type": "markdown",
   "metadata": {},
   "source": [
    "## Load data and preprocessing"
   ]
  },
  {
   "cell_type": "code",
   "execution_count": 20,
   "metadata": {},
   "outputs": [],
   "source": [
    "data_raw <- read.table(\"/Users/hutianqi/Desktop/Project Cognitive Imprecision/Z1 Dataset_AU/trialsAUM_10s_B1.csv\", header=TRUE, sep=\",\")\n",
    "\n",
    "data_raw$logRT <- log(1 + data_raw$RT)\n",
    "\n",
    "# make a copy of mydata where less than 300ms and more than 10s rounds are rejected\n",
    "data1 <- subset(data_raw, RT > .3 & RT < 10)\n",
    "\n",
    "# create another dataset in wh subjects with error_choice > 5 are rejected\n",
    "data2 <- subset(data1, error_choice <= 5)\n",
    "\n"
   ]
  },
  {
   "cell_type": "code",
   "execution_count": 21,
   "metadata": {},
   "outputs": [
    {
     "data": {
      "text/html": [
       "<ol class=list-inline>\n",
       "\t<li>'subject'</li>\n",
       "\t<li>'trial'</li>\n",
       "\t<li>'treatment'</li>\n",
       "\t<li>'lot_code'</li>\n",
       "\t<li>'risk'</li>\n",
       "\t<li>'reward'</li>\n",
       "\t<li>'WTP'</li>\n",
       "\t<li>'certainty'</li>\n",
       "\t<li>'RT'</li>\n",
       "\t<li>'choice'</li>\n",
       "\t<li>'slc_lot'</li>\n",
       "\t<li>'display'</li>\n",
       "\t<li>'correct'</li>\n",
       "\t<li>'decmode'</li>\n",
       "\t<li>'reflection'</li>\n",
       "\t<li>'intuition'</li>\n",
       "\t<li>'BNT'</li>\n",
       "\t<li>'NFC'</li>\n",
       "\t<li>'FI'</li>\n",
       "\t<li>'value_diff'</li>\n",
       "\t<li>'value_sum'</li>\n",
       "\t<li>'lottery_favour'</li>\n",
       "\t<li>'lot_correct'</li>\n",
       "\t<li>'d'</li>\n",
       "\t<li>'noise'</li>\n",
       "\t<li>'x0'</li>\n",
       "\t<li>'nondectime'</li>\n",
       "\t<li>'error_choice'</li>\n",
       "\t<li>'accuracy'</li>\n",
       "\t<li>'risk_level'</li>\n",
       "\t<li>'SNR'</li>\n",
       "\t<li>'logRT'</li>\n",
       "</ol>\n"
      ],
      "text/latex": [
       "\\begin{enumerate*}\n",
       "\\item 'subject'\n",
       "\\item 'trial'\n",
       "\\item 'treatment'\n",
       "\\item 'lot\\_code'\n",
       "\\item 'risk'\n",
       "\\item 'reward'\n",
       "\\item 'WTP'\n",
       "\\item 'certainty'\n",
       "\\item 'RT'\n",
       "\\item 'choice'\n",
       "\\item 'slc\\_lot'\n",
       "\\item 'display'\n",
       "\\item 'correct'\n",
       "\\item 'decmode'\n",
       "\\item 'reflection'\n",
       "\\item 'intuition'\n",
       "\\item 'BNT'\n",
       "\\item 'NFC'\n",
       "\\item 'FI'\n",
       "\\item 'value\\_diff'\n",
       "\\item 'value\\_sum'\n",
       "\\item 'lottery\\_favour'\n",
       "\\item 'lot\\_correct'\n",
       "\\item 'd'\n",
       "\\item 'noise'\n",
       "\\item 'x0'\n",
       "\\item 'nondectime'\n",
       "\\item 'error\\_choice'\n",
       "\\item 'accuracy'\n",
       "\\item 'risk\\_level'\n",
       "\\item 'SNR'\n",
       "\\item 'logRT'\n",
       "\\end{enumerate*}\n"
      ],
      "text/markdown": [
       "1. 'subject'\n",
       "2. 'trial'\n",
       "3. 'treatment'\n",
       "4. 'lot_code'\n",
       "5. 'risk'\n",
       "6. 'reward'\n",
       "7. 'WTP'\n",
       "8. 'certainty'\n",
       "9. 'RT'\n",
       "10. 'choice'\n",
       "11. 'slc_lot'\n",
       "12. 'display'\n",
       "13. 'correct'\n",
       "14. 'decmode'\n",
       "15. 'reflection'\n",
       "16. 'intuition'\n",
       "17. 'BNT'\n",
       "18. 'NFC'\n",
       "19. 'FI'\n",
       "20. 'value_diff'\n",
       "21. 'value_sum'\n",
       "22. 'lottery_favour'\n",
       "23. 'lot_correct'\n",
       "24. 'd'\n",
       "25. 'noise'\n",
       "26. 'x0'\n",
       "27. 'nondectime'\n",
       "28. 'error_choice'\n",
       "29. 'accuracy'\n",
       "30. 'risk_level'\n",
       "31. 'SNR'\n",
       "32. 'logRT'\n",
       "\n",
       "\n"
      ],
      "text/plain": [
       " [1] \"subject\"        \"trial\"          \"treatment\"      \"lot_code\"      \n",
       " [5] \"risk\"           \"reward\"         \"WTP\"            \"certainty\"     \n",
       " [9] \"RT\"             \"choice\"         \"slc_lot\"        \"display\"       \n",
       "[13] \"correct\"        \"decmode\"        \"reflection\"     \"intuition\"     \n",
       "[17] \"BNT\"            \"NFC\"            \"FI\"             \"value_diff\"    \n",
       "[21] \"value_sum\"      \"lottery_favour\" \"lot_correct\"    \"d\"             \n",
       "[25] \"noise\"          \"x0\"             \"nondectime\"     \"error_choice\"  \n",
       "[29] \"accuracy\"       \"risk_level\"     \"SNR\"            \"logRT\"         "
      ]
     },
     "metadata": {},
     "output_type": "display_data"
    }
   ],
   "source": [
    "names(data1)"
   ]
  },
  {
   "cell_type": "markdown",
   "metadata": {},
   "source": [
    "# Predicting choice with the full set of DDM paramerters (SNR, x0)"
   ]
  },
  {
   "cell_type": "markdown",
   "metadata": {},
   "source": [
    "###  All continuous variables are scaled due to the inclusion of interactive terms and to avoid the error \"Model failed to converge with max|grad|\".\n",
    "Interactive effects between the \"lottery_favour and WTP\"."
   ]
  },
  {
   "cell_type": "code",
   "execution_count": 22,
   "metadata": {
    "scrolled": true
   },
   "outputs": [
    {
     "data": {
      "text/plain": [
       "Linear mixed model fit by REML. t-tests use Satterthwaite's method [\n",
       "lmerModLmerTest]\n",
       "Formula: slc_lot ~ (scale(lottery_favour) * scale(WTP) + scale(SNR) +  \n",
       "    scale(x0)):treatment + (1 | subject)\n",
       "   Data: data1\n",
       "\n",
       "REML criterion at convergence: 17924.9\n",
       "\n",
       "Scaled residuals: \n",
       "    Min      1Q  Median      3Q     Max \n",
       "-2.4850 -0.9170  0.0362  0.8622  3.1730 \n",
       "\n",
       "Random effects:\n",
       " Groups   Name        Variance Std.Dev.\n",
       " subject  (Intercept) 0.007579 0.08706 \n",
       " Residual             0.190629 0.43661 \n",
       "Number of obs: 14987, groups:  subject, 72\n",
       "\n",
       "Fixed effects:\n",
       "                                              Estimate Std. Error         df\n",
       "(Intercept)                                  4.905e-01  1.121e-02  6.865e+01\n",
       "scale(lottery_favour):treatmentA             1.809e-01  6.021e-03  1.453e+04\n",
       "scale(lottery_favour):treatmentE             2.347e-01  6.723e-03  1.425e+04\n",
       "scale(WTP):treatmentA                       -4.254e-03  6.505e-03  1.413e+04\n",
       "scale(WTP):treatmentE                       -3.082e-02  6.190e-03  1.485e+04\n",
       "scale(SNR):treatmentA                        1.552e-02  1.561e-02  6.479e+01\n",
       "scale(SNR):treatmentE                        6.396e-02  1.573e-02  6.497e+01\n",
       "scale(x0):treatmentA                         1.414e-01  1.420e-02  6.490e+01\n",
       "scale(x0):treatmentE                         1.493e-01  1.808e-02  6.462e+01\n",
       "scale(lottery_favour):scale(WTP):treatmentA -2.238e-02  5.151e-03  1.182e+04\n",
       "scale(lottery_favour):scale(WTP):treatmentE -4.469e-02  5.277e-03  1.329e+04\n",
       "                                            t value Pr(>|t|)    \n",
       "(Intercept)                                  43.739  < 2e-16 ***\n",
       "scale(lottery_favour):treatmentA             30.048  < 2e-16 ***\n",
       "scale(lottery_favour):treatmentE             34.910  < 2e-16 ***\n",
       "scale(WTP):treatmentA                        -0.654 0.513195    \n",
       "scale(WTP):treatmentE                        -4.979 6.47e-07 ***\n",
       "scale(SNR):treatmentA                         0.995 0.323670    \n",
       "scale(SNR):treatmentE                         4.065 0.000132 ***\n",
       "scale(x0):treatmentA                          9.959 1.07e-14 ***\n",
       "scale(x0):treatmentE                          8.256 1.07e-11 ***\n",
       "scale(lottery_favour):scale(WTP):treatmentA  -4.346 1.40e-05 ***\n",
       "scale(lottery_favour):scale(WTP):treatmentE  -8.469  < 2e-16 ***\n",
       "---\n",
       "Signif. codes:  0 ‘***’ 0.001 ‘**’ 0.01 ‘*’ 0.05 ‘.’ 0.1 ‘ ’ 1\n",
       "\n",
       "Correlation of Fixed Effects:\n",
       "             (Intr) s(_):A s(_):E s(WTP):A s(WTP):E s(SNR):A s(SNR):E s(0):A\n",
       "scl(ltt_):A   0.028                                                         \n",
       "scl(ltt_):E   0.003  0.000                                                  \n",
       "scl(WTP):tA   0.061 -0.359  0.000                                           \n",
       "scl(WTP):tE   0.010  0.000 -0.288  0.001                                    \n",
       "scl(SNR):tA   0.003  0.010  0.000  0.001    0.000                           \n",
       "scl(SNR):tE   0.029  0.001  0.000  0.002   -0.005    0.000                  \n",
       "scl(x0):trA  -0.104 -0.012  0.000 -0.003   -0.001   -0.250   -0.003         \n",
       "scl(x0):trE   0.142  0.004 -0.006  0.009   -0.007    0.000    0.026   -0.015\n",
       "s(_):(WTP):A -0.131  0.007  0.000 -0.273   -0.001    0.029   -0.004   -0.020\n",
       "s(_):(WTP):E -0.093 -0.003 -0.318 -0.006   -0.304    0.000    0.050    0.010\n",
       "             s(0):E s(_):(WTP):A\n",
       "scl(ltt_):A                     \n",
       "scl(ltt_):E                     \n",
       "scl(WTP):tA                     \n",
       "scl(WTP):tE                     \n",
       "scl(SNR):tA                     \n",
       "scl(SNR):tE                     \n",
       "scl(x0):trA                     \n",
       "scl(x0):trE                     \n",
       "s(_):(WTP):A -0.019             \n",
       "s(_):(WTP):E  0.016  0.012      "
      ]
     },
     "metadata": {},
     "output_type": "display_data"
    }
   ],
   "source": [
    "# All subjects\n",
    "summary(lmer(slc_lot ~ (scale(lottery_favour)*scale(WTP) + scale(SNR) + scale(x0)):treatment + (1|subject), data1))\n"
   ]
  },
  {
   "cell_type": "code",
   "execution_count": 23,
   "metadata": {
    "scrolled": true
   },
   "outputs": [
    {
     "data": {
      "text/plain": [
       "Linear mixed model fit by REML. t-tests use Satterthwaite's method [\n",
       "lmerModLmerTest]\n",
       "Formula: slc_lot ~ (scale(lottery_favour) * scale(WTP) + scale(SNR) +  \n",
       "    scale(x0)):treatment + (1 | subject)\n",
       "   Data: data2\n",
       "\n",
       "REML criterion at convergence: 11175.1\n",
       "\n",
       "Scaled residuals: \n",
       "    Min      1Q  Median      3Q     Max \n",
       "-2.4600 -0.8687 -0.0501  0.8387  3.7803 \n",
       "\n",
       "Random effects:\n",
       " Groups   Name        Variance Std.Dev.\n",
       " subject  (Intercept) 0.006371 0.07982 \n",
       " Residual             0.168106 0.41001 \n",
       "Number of obs: 10425, groups:  subject, 50\n",
       "\n",
       "Fixed effects:\n",
       "                                              Estimate Std. Error         df\n",
       "(Intercept)                                  4.495e-01  1.236e-02  4.632e+01\n",
       "scale(lottery_favour):treatmentA             2.383e-01  7.019e-03  1.020e+04\n",
       "scale(lottery_favour):treatmentE             2.871e-01  7.221e-03  9.703e+03\n",
       "scale(WTP):treatmentA                       -4.240e-02  7.583e-03  1.003e+04\n",
       "scale(WTP):treatmentE                       -7.641e-02  6.725e-03  1.026e+04\n",
       "scale(SNR):treatmentA                        2.097e-02  2.149e-02  4.365e+01\n",
       "scale(SNR):treatmentE                        5.746e-02  1.661e-02  4.400e+01\n",
       "scale(x0):treatmentA                         1.307e-01  1.765e-02  4.364e+01\n",
       "scale(x0):treatmentE                         1.786e-01  2.118e-02  4.373e+01\n",
       "scale(lottery_favour):scale(WTP):treatmentA -1.176e-02  6.095e-03  8.016e+03\n",
       "scale(lottery_favour):scale(WTP):treatmentE -3.539e-02  5.597e-03  9.088e+03\n",
       "                                            t value Pr(>|t|)    \n",
       "(Intercept)                                  36.365  < 2e-16 ***\n",
       "scale(lottery_favour):treatmentA             33.944  < 2e-16 ***\n",
       "scale(lottery_favour):treatmentE             39.759  < 2e-16 ***\n",
       "scale(WTP):treatmentA                        -5.592 2.31e-08 ***\n",
       "scale(WTP):treatmentE                       -11.362  < 2e-16 ***\n",
       "scale(SNR):treatmentA                         0.976  0.33444    \n",
       "scale(SNR):treatmentE                         3.460  0.00121 ** \n",
       "scale(x0):treatmentA                          7.401 3.11e-09 ***\n",
       "scale(x0):treatmentE                          8.434 1.02e-10 ***\n",
       "scale(lottery_favour):scale(WTP):treatmentA  -1.930  0.05360 .  \n",
       "scale(lottery_favour):scale(WTP):treatmentE  -6.323 2.69e-10 ***\n",
       "---\n",
       "Signif. codes:  0 ‘***’ 0.001 ‘**’ 0.01 ‘*’ 0.05 ‘.’ 0.1 ‘ ’ 1\n",
       "\n",
       "Correlation of Fixed Effects:\n",
       "             (Intr) s(_):A s(_):E s(WTP):A s(WTP):E s(SNR):A s(SNR):E s(0):A\n",
       "scl(ltt_):A   0.032                                                         \n",
       "scl(ltt_):E   0.006  0.000                                                  \n",
       "scl(WTP):tA   0.060 -0.357  0.000                                           \n",
       "scl(WTP):tE   0.014  0.000 -0.288  0.001                                    \n",
       "scl(SNR):tA  -0.079  0.003  0.000 -0.009   -0.001                           \n",
       "scl(SNR):tE   0.082  0.003 -0.021  0.005   -0.022   -0.006                  \n",
       "scl(x0):trA  -0.018 -0.008  0.000  0.004    0.000   -0.562   -0.001         \n",
       "scl(x0):trE   0.100  0.003  0.019  0.006    0.012   -0.008   -0.113   -0.002\n",
       "s(_):(WTP):A -0.127 -0.009 -0.001 -0.257   -0.002    0.049   -0.010   -0.032\n",
       "s(_):(WTP):E -0.101 -0.003 -0.320 -0.006   -0.318    0.008    0.076    0.002\n",
       "             s(0):E s(_):(WTP):A\n",
       "scl(ltt_):A                     \n",
       "scl(ltt_):E                     \n",
       "scl(WTP):tA                     \n",
       "scl(WTP):tE                     \n",
       "scl(SNR):tA                     \n",
       "scl(SNR):tE                     \n",
       "scl(x0):trA                     \n",
       "scl(x0):trE                     \n",
       "s(_):(WTP):A -0.013             \n",
       "s(_):(WTP):E -0.018  0.013      "
      ]
     },
     "metadata": {},
     "output_type": "display_data"
    }
   ],
   "source": [
    "# without low-attention individuals\n",
    "summary(lmer(slc_lot ~ (scale(lottery_favour)*scale(WTP) + scale(SNR) + scale(x0)):treatment + (1|subject), data2))\n"
   ]
  },
  {
   "cell_type": "markdown",
   "metadata": {},
   "source": [
    "#  Predicting choice with the DDM paramerters and psychometric measurements\n",
    "Interactive effects between the \"lottery_favour and WTP\" are included."
   ]
  },
  {
   "cell_type": "code",
   "execution_count": 24,
   "metadata": {
    "scrolled": true
   },
   "outputs": [
    {
     "name": "stderr",
     "output_type": "stream",
     "text": [
      "\n",
      "Correlation matrix not shown by default, as p = 19 > 12.\n",
      "Use print(obj, correlation=TRUE)  or\n",
      "    vcov(obj)        if you need it\n",
      "\n"
     ]
    },
    {
     "data": {
      "text/plain": [
       "Linear mixed model fit by REML. t-tests use Satterthwaite's method [\n",
       "lmerModLmerTest]\n",
       "Formula: slc_lot ~ (scale(lottery_favour) * scale(WTP) + scale(SNR) +  \n",
       "    scale(x0) + scale(reflection) + scale(BNT) + scale(NFC) +  \n",
       "    scale(FI)):treatment + (1 | subject)\n",
       "   Data: data1\n",
       "\n",
       "REML criterion at convergence: 17964.3\n",
       "\n",
       "Scaled residuals: \n",
       "    Min      1Q  Median      3Q     Max \n",
       "-2.4872 -0.9163  0.0366  0.8608  3.1712 \n",
       "\n",
       "Random effects:\n",
       " Groups   Name        Variance Std.Dev.\n",
       " subject  (Intercept) 0.007188 0.08478 \n",
       " Residual             0.190629 0.43661 \n",
       "Number of obs: 14987, groups:  subject, 72\n",
       "\n",
       "Fixed effects:\n",
       "                                              Estimate Std. Error         df\n",
       "(Intercept)                                  4.859e-01  1.121e-02  6.002e+01\n",
       "scale(lottery_favour):treatmentA             1.809e-01  6.022e-03  1.445e+04\n",
       "scale(lottery_favour):treatmentE             2.350e-01  6.733e-03  1.438e+04\n",
       "scale(WTP):treatmentA                       -4.405e-03  6.508e-03  1.403e+04\n",
       "scale(WTP):treatmentE                       -3.058e-02  6.196e-03  1.488e+04\n",
       "scale(SNR):treatmentA                        1.180e-02  1.704e-02  5.684e+01\n",
       "scale(SNR):treatmentE                        5.774e-02  1.773e-02  5.731e+01\n",
       "scale(x0):treatmentA                         1.431e-01  1.437e-02  5.694e+01\n",
       "scale(x0):treatmentE                         1.455e-01  1.958e-02  5.677e+01\n",
       "scale(reflection):treatmentA                 5.878e-03  2.002e-02  5.690e+01\n",
       "scale(reflection):treatmentE                 4.430e-02  1.911e-02  5.766e+01\n",
       "scale(BNT):treatmentA                        1.047e-02  2.204e-02  5.694e+01\n",
       "scale(BNT):treatmentE                       -3.870e-02  1.664e-02  5.679e+01\n",
       "scale(NFC):treatmentA                        1.557e-02  1.920e-02  5.701e+01\n",
       "scale(NFC):treatmentE                       -7.152e-03  1.394e-02  5.702e+01\n",
       "scale(FI):treatmentA                        -6.750e-03  1.537e-02  5.678e+01\n",
       "scale(FI):treatmentE                         2.471e-02  1.801e-02  5.707e+01\n",
       "scale(lottery_favour):scale(WTP):treatmentA -2.213e-02  5.152e-03  1.146e+04\n",
       "scale(lottery_favour):scale(WTP):treatmentE -4.557e-02  5.292e-03  1.376e+04\n",
       "                                            t value Pr(>|t|)    \n",
       "(Intercept)                                  43.337  < 2e-16 ***\n",
       "scale(lottery_favour):treatmentA             30.033  < 2e-16 ***\n",
       "scale(lottery_favour):treatmentE             34.899  < 2e-16 ***\n",
       "scale(WTP):treatmentA                        -0.677   0.4985    \n",
       "scale(WTP):treatmentE                        -4.935 8.09e-07 ***\n",
       "scale(SNR):treatmentA                         0.693   0.4912    \n",
       "scale(SNR):treatmentE                         3.256   0.0019 ** \n",
       "scale(x0):treatmentA                          9.961 4.38e-14 ***\n",
       "scale(x0):treatmentE                          7.434 6.14e-10 ***\n",
       "scale(reflection):treatmentA                  0.294   0.7702    \n",
       "scale(reflection):treatmentE                  2.318   0.0240 *  \n",
       "scale(BNT):treatmentA                         0.475   0.6366    \n",
       "scale(BNT):treatmentE                        -2.326   0.0236 *  \n",
       "scale(NFC):treatmentA                         0.811   0.4206    \n",
       "scale(NFC):treatmentE                        -0.513   0.6100    \n",
       "scale(FI):treatmentA                         -0.439   0.6621    \n",
       "scale(FI):treatmentE                          1.372   0.1754    \n",
       "scale(lottery_favour):scale(WTP):treatmentA  -4.295 1.76e-05 ***\n",
       "scale(lottery_favour):scale(WTP):treatmentE  -8.610  < 2e-16 ***\n",
       "---\n",
       "Signif. codes:  0 ‘***’ 0.001 ‘**’ 0.01 ‘*’ 0.05 ‘.’ 0.1 ‘ ’ 1"
      ]
     },
     "metadata": {},
     "output_type": "display_data"
    }
   ],
   "source": [
    "# All subjects\n",
    "summary(lmer(slc_lot ~ (scale(lottery_favour)*scale(WTP) + scale(SNR) + scale(x0) + scale(reflection) + scale(BNT) + scale(NFC) + scale(FI)):treatment + (1|subject), data1))\n"
   ]
  },
  {
   "cell_type": "code",
   "execution_count": 25,
   "metadata": {
    "scrolled": true
   },
   "outputs": [
    {
     "name": "stderr",
     "output_type": "stream",
     "text": [
      "\n",
      "Correlation matrix not shown by default, as p = 19 > 12.\n",
      "Use print(obj, correlation=TRUE)  or\n",
      "    vcov(obj)        if you need it\n",
      "\n"
     ]
    },
    {
     "data": {
      "text/plain": [
       "Linear mixed model fit by REML. t-tests use Satterthwaite's method [\n",
       "lmerModLmerTest]\n",
       "Formula: slc_lot ~ (scale(lottery_favour) * scale(WTP) + scale(SNR) +  \n",
       "    scale(x0) + scale(reflection) + scale(BNT) + scale(NFC) +  \n",
       "    scale(FI)):treatment + (1 | subject)\n",
       "   Data: data2\n",
       "\n",
       "REML criterion at convergence: 11205.9\n",
       "\n",
       "Scaled residuals: \n",
       "    Min      1Q  Median      3Q     Max \n",
       "-2.4766 -0.8719 -0.0405  0.8384  3.7983 \n",
       "\n",
       "Random effects:\n",
       " Groups   Name        Variance Std.Dev.\n",
       " subject  (Intercept) 0.004848 0.06963 \n",
       " Residual             0.168104 0.41001 \n",
       "Number of obs: 10425, groups:  subject, 50\n",
       "\n",
       "Fixed effects:\n",
       "                                              Estimate Std. Error         df\n",
       "(Intercept)                                  4.414e-01  1.208e-02  3.796e+01\n",
       "scale(lottery_favour):treatmentA             2.385e-01  7.016e-03  1.006e+04\n",
       "scale(lottery_favour):treatmentE             2.875e-01  7.232e-03  9.716e+03\n",
       "scale(WTP):treatmentA                       -4.242e-02  7.580e-03  9.828e+03\n",
       "scale(WTP):treatmentE                       -7.608e-02  6.731e-03  1.027e+04\n",
       "scale(SNR):treatmentA                       -1.017e-02  2.346e-02  3.578e+01\n",
       "scale(SNR):treatmentE                        4.762e-02  1.681e-02  3.673e+01\n",
       "scale(x0):treatmentA                         1.592e-01  1.931e-02  3.589e+01\n",
       "scale(x0):treatmentE                         1.492e-01  2.171e-02  3.593e+01\n",
       "scale(reflection):treatmentA                 3.133e-02  2.468e-02  3.606e+01\n",
       "scale(reflection):treatmentE                 6.705e-02  2.126e-02  3.681e+01\n",
       "scale(BNT):treatmentA                        3.472e-04  2.639e-02  3.611e+01\n",
       "scale(BNT):treatmentE                       -3.373e-02  1.692e-02  3.591e+01\n",
       "scale(NFC):treatmentA                       -7.594e-03  2.036e-02  3.587e+01\n",
       "scale(NFC):treatmentE                       -1.926e-02  1.350e-02  3.598e+01\n",
       "scale(FI):treatmentA                         4.394e-02  1.860e-02  3.634e+01\n",
       "scale(FI):treatmentE                         4.333e-02  1.875e-02  3.645e+01\n",
       "scale(lottery_favour):scale(WTP):treatmentA -1.102e-02  6.092e-03  7.440e+03\n",
       "scale(lottery_favour):scale(WTP):treatmentE -3.644e-02  5.611e-03  9.225e+03\n",
       "                                            t value Pr(>|t|)    \n",
       "(Intercept)                                  36.526  < 2e-16 ***\n",
       "scale(lottery_favour):treatmentA             33.991  < 2e-16 ***\n",
       "scale(lottery_favour):treatmentE             39.752  < 2e-16 ***\n",
       "scale(WTP):treatmentA                        -5.597 2.24e-08 ***\n",
       "scale(WTP):treatmentE                       -11.303  < 2e-16 ***\n",
       "scale(SNR):treatmentA                        -0.434  0.66722    \n",
       "scale(SNR):treatmentE                         2.832  0.00746 ** \n",
       "scale(x0):treatmentA                          8.242 8.49e-10 ***\n",
       "scale(x0):treatmentE                          6.871 4.91e-08 ***\n",
       "scale(reflection):treatmentA                  1.270  0.21240    \n",
       "scale(reflection):treatmentE                  3.154  0.00320 ** \n",
       "scale(BNT):treatmentA                         0.013  0.98958    \n",
       "scale(BNT):treatmentE                        -1.994  0.05383 .  \n",
       "scale(NFC):treatmentA                        -0.373  0.71134    \n",
       "scale(NFC):treatmentE                        -1.427  0.16225    \n",
       "scale(FI):treatmentA                          2.362  0.02364 *  \n",
       "scale(FI):treatmentE                          2.312  0.02656 *  \n",
       "scale(lottery_favour):scale(WTP):treatmentA  -1.809  0.07046 .  \n",
       "scale(lottery_favour):scale(WTP):treatmentE  -6.495 8.70e-11 ***\n",
       "---\n",
       "Signif. codes:  0 ‘***’ 0.001 ‘**’ 0.01 ‘*’ 0.05 ‘.’ 0.1 ‘ ’ 1"
      ]
     },
     "metadata": {},
     "output_type": "display_data"
    }
   ],
   "source": [
    "# without low-attention individuals\n",
    "summary(lmer(slc_lot ~ (scale(lottery_favour)*scale(WTP) + scale(SNR) + scale(x0) + scale(reflection) + scale(BNT) + scale(NFC) + scale(FI)):treatment + (1|subject), data2))\n",
    "\n"
   ]
  },
  {
   "cell_type": "markdown",
   "metadata": {},
   "source": [
    "# Predicting choice with psychometric measurements alone"
   ]
  },
  {
   "cell_type": "code",
   "execution_count": 26,
   "metadata": {
    "scrolled": true
   },
   "outputs": [
    {
     "name": "stderr",
     "output_type": "stream",
     "text": [
      "\n",
      "Correlation matrix not shown by default, as p = 15 > 12.\n",
      "Use print(obj, correlation=TRUE)  or\n",
      "    vcov(obj)        if you need it\n",
      "\n"
     ]
    },
    {
     "data": {
      "text/plain": [
       "Linear mixed model fit by REML. t-tests use Satterthwaite's method [\n",
       "lmerModLmerTest]\n",
       "Formula: slc_lot ~ (scale(lottery_favour) * scale(WTP) + scale(reflection) +  \n",
       "    scale(BNT) + scale(NFC) + scale(FI)):treatment + (1 | subject)\n",
       "   Data: data1\n",
       "\n",
       "REML criterion at convergence: 18025.6\n",
       "\n",
       "Scaled residuals: \n",
       "    Min      1Q  Median      3Q     Max \n",
       "-2.4841 -0.9171  0.0361  0.8613  3.1753 \n",
       "\n",
       "Random effects:\n",
       " Groups   Name        Variance Std.Dev.\n",
       " subject  (Intercept) 0.0297   0.1723  \n",
       " Residual             0.1906   0.4366  \n",
       "Number of obs: 14987, groups:  subject, 72\n",
       "\n",
       "Fixed effects:\n",
       "                                              Estimate Std. Error         df\n",
       "(Intercept)                                  4.879e-01  2.123e-02  6.380e+01\n",
       "scale(lottery_favour):treatmentA             1.827e-01  6.057e-03  1.497e+04\n",
       "scale(lottery_favour):treatmentE             2.378e-01  6.773e-03  1.497e+04\n",
       "scale(WTP):treatmentA                       -2.141e-03  6.557e-03  1.496e+04\n",
       "scale(WTP):treatmentE                       -2.867e-02  6.215e-03  1.496e+04\n",
       "scale(reflection):treatmentA                -7.892e-03  3.756e-02  6.283e+01\n",
       "scale(reflection):treatmentE                 6.530e-02  3.523e-02  6.296e+01\n",
       "scale(BNT):treatmentA                        2.384e-02  4.236e-02  6.286e+01\n",
       "scale(BNT):treatmentE                       -9.304e-03  3.141e-02  6.284e+01\n",
       "scale(NFC):treatmentA                       -3.302e-03  3.679e-02  6.288e+01\n",
       "scale(NFC):treatmentE                        6.073e-03  2.630e-02  6.288e+01\n",
       "scale(FI):treatmentA                        -2.916e-02  2.891e-02  6.281e+01\n",
       "scale(FI):treatmentE                         8.691e-02  3.115e-02  6.282e+01\n",
       "scale(lottery_favour):scale(WTP):treatmentA -2.361e-02  5.226e-03  1.482e+04\n",
       "scale(lottery_favour):scale(WTP):treatmentE -4.721e-02  5.331e-03  1.493e+04\n",
       "                                            t value Pr(>|t|)    \n",
       "(Intercept)                                  22.987  < 2e-16 ***\n",
       "scale(lottery_favour):treatmentA             30.168  < 2e-16 ***\n",
       "scale(lottery_favour):treatmentE             35.104  < 2e-16 ***\n",
       "scale(WTP):treatmentA                        -0.327  0.74399    \n",
       "scale(WTP):treatmentE                        -4.613 4.00e-06 ***\n",
       "scale(reflection):treatmentA                 -0.210  0.83426    \n",
       "scale(reflection):treatmentE                  1.854  0.06846 .  \n",
       "scale(BNT):treatmentA                         0.563  0.57560    \n",
       "scale(BNT):treatmentE                        -0.296  0.76804    \n",
       "scale(NFC):treatmentA                        -0.090  0.92877    \n",
       "scale(NFC):treatmentE                         0.231  0.81815    \n",
       "scale(FI):treatmentA                         -1.009  0.31700    \n",
       "scale(FI):treatmentE                          2.790  0.00697 ** \n",
       "scale(lottery_favour):scale(WTP):treatmentA  -4.519 6.27e-06 ***\n",
       "scale(lottery_favour):scale(WTP):treatmentE  -8.856  < 2e-16 ***\n",
       "---\n",
       "Signif. codes:  0 ‘***’ 0.001 ‘**’ 0.01 ‘*’ 0.05 ‘.’ 0.1 ‘ ’ 1"
      ]
     },
     "metadata": {},
     "output_type": "display_data"
    }
   ],
   "source": [
    "# all subjects\n",
    "summary(lmer(slc_lot ~ (scale(lottery_favour)*scale(WTP) + scale(reflection) + scale(BNT) + scale(NFC) + scale(FI)):treatment + (1|subject), data1))\n"
   ]
  },
  {
   "cell_type": "code",
   "execution_count": 27,
   "metadata": {
    "scrolled": true
   },
   "outputs": [
    {
     "name": "stderr",
     "output_type": "stream",
     "text": [
      "\n",
      "Correlation matrix not shown by default, as p = 15 > 12.\n",
      "Use print(obj, correlation=TRUE)  or\n",
      "    vcov(obj)        if you need it\n",
      "\n"
     ]
    },
    {
     "data": {
      "text/plain": [
       "Linear mixed model fit by REML. t-tests use Satterthwaite's method [\n",
       "lmerModLmerTest]\n",
       "Formula: slc_lot ~ (scale(lottery_favour) * scale(WTP) + scale(reflection) +  \n",
       "    scale(BNT) + scale(NFC) + scale(FI)):treatment + (1 | subject)\n",
       "   Data: data2\n",
       "\n",
       "REML criterion at convergence: 11251.9\n",
       "\n",
       "Scaled residuals: \n",
       "    Min      1Q  Median      3Q     Max \n",
       "-2.4779 -0.8729 -0.0518  0.8370  3.7854 \n",
       "\n",
       "Random effects:\n",
       " Groups   Name        Variance Std.Dev.\n",
       " subject  (Intercept) 0.02827  0.1681  \n",
       " Residual             0.16810  0.4100  \n",
       "Number of obs: 10425, groups:  subject, 50\n",
       "\n",
       "Fixed effects:\n",
       "                                              Estimate Std. Error         df\n",
       "(Intercept)                                  4.331e-01  2.653e-02  4.143e+01\n",
       "scale(lottery_favour):treatmentA             2.394e-01  7.058e-03  1.041e+04\n",
       "scale(lottery_favour):treatmentE             2.905e-01  7.286e-03  1.041e+04\n",
       "scale(WTP):treatmentA                       -4.123e-02  7.636e-03  1.041e+04\n",
       "scale(WTP):treatmentE                       -7.391e-02  6.758e-03  1.041e+04\n",
       "scale(reflection):treatmentA                -2.386e-02  5.028e-02  4.104e+01\n",
       "scale(reflection):treatmentE                 1.191e-01  4.467e-02  4.109e+01\n",
       "scale(BNT):treatmentA                        5.453e-02  5.893e-02  4.101e+01\n",
       "scale(BNT):treatmentE                       -3.139e-02  3.782e-02  4.098e+01\n",
       "scale(NFC):treatmentA                       -1.829e-02  4.559e-02  4.097e+01\n",
       "scale(NFC):treatmentE                       -1.088e-02  2.978e-02  4.096e+01\n",
       "scale(FI):treatmentA                        -2.010e-02  3.633e-02  4.105e+01\n",
       "scale(FI):treatmentE                         1.184e-01  3.482e-02  4.101e+01\n",
       "scale(lottery_favour):scale(WTP):treatmentA -1.229e-02  6.193e-03  1.035e+04\n",
       "scale(lottery_favour):scale(WTP):treatmentE -3.846e-02  5.660e-03  1.038e+04\n",
       "                                            t value Pr(>|t|)    \n",
       "(Intercept)                                  16.322  < 2e-16 ***\n",
       "scale(lottery_favour):treatmentA             33.919  < 2e-16 ***\n",
       "scale(lottery_favour):treatmentE             39.877  < 2e-16 ***\n",
       "scale(WTP):treatmentA                        -5.400 6.81e-08 ***\n",
       "scale(WTP):treatmentE                       -10.936  < 2e-16 ***\n",
       "scale(reflection):treatmentA                 -0.474  0.63769    \n",
       "scale(reflection):treatmentE                  2.666  0.01093 *  \n",
       "scale(BNT):treatmentA                         0.925  0.36020    \n",
       "scale(BNT):treatmentE                        -0.830  0.41132    \n",
       "scale(NFC):treatmentA                        -0.401  0.69031    \n",
       "scale(NFC):treatmentE                        -0.365  0.71682    \n",
       "scale(FI):treatmentA                         -0.553  0.58317    \n",
       "scale(FI):treatmentE                          3.401  0.00151 ** \n",
       "scale(lottery_favour):scale(WTP):treatmentA  -1.984  0.04730 *  \n",
       "scale(lottery_favour):scale(WTP):treatmentE  -6.796 1.13e-11 ***\n",
       "---\n",
       "Signif. codes:  0 ‘***’ 0.001 ‘**’ 0.01 ‘*’ 0.05 ‘.’ 0.1 ‘ ’ 1"
      ]
     },
     "metadata": {},
     "output_type": "display_data"
    }
   ],
   "source": [
    "# without low-attention individuals\n",
    "summary(lmer(slc_lot ~ (scale(lottery_favour)*scale(WTP) + scale(reflection) + scale(BNT) + scale(NFC) + scale(FI)):treatment + (1|subject), data2))\n"
   ]
  },
  {
   "cell_type": "markdown",
   "metadata": {},
   "source": [
    "# Others"
   ]
  },
  {
   "cell_type": "markdown",
   "metadata": {},
   "source": [
    "### Is RT affected by treatments?\n",
    "No difference for RT per trial, but choosing lottery takes longer time only in the treatment E."
   ]
  },
  {
   "cell_type": "code",
   "execution_count": 28,
   "metadata": {
    "scrolled": true
   },
   "outputs": [
    {
     "data": {
      "text/plain": [
       "Generalized linear mixed model fit by maximum likelihood (Laplace\n",
       "  Approximation) [glmerMod]\n",
       " Family: Gamma  ( identity )\n",
       "Formula: RT ~ scale(value_diff) * scale(WTP) + slc_lot + treatment + (1 |  \n",
       "    subject)\n",
       "   Data: data1\n",
       "\n",
       "     AIC      BIC   logLik deviance df.resid \n",
       " 45378.7  45439.6 -22681.4  45362.7    14979 \n",
       "\n",
       "Scaled residuals: \n",
       "    Min      1Q  Median      3Q     Max \n",
       "-1.4641 -0.6078 -0.2815  0.2766 12.8588 \n",
       "\n",
       "Random effects:\n",
       " Groups   Name        Variance Std.Dev.\n",
       " subject  (Intercept) 0.2449   0.4949  \n",
       " Residual             0.3978   0.6307  \n",
       "Number of obs: 14987, groups:  subject, 72\n",
       "\n",
       "Fixed effects:\n",
       "                              Estimate Std. Error t value Pr(>|z|)    \n",
       "(Intercept)                   2.319506   0.127346  18.214  < 2e-16 ***\n",
       "scale(value_diff)            -0.047105   0.008963  -5.256 1.48e-07 ***\n",
       "scale(WTP)                   -0.014622   0.010495  -1.393   0.1635    \n",
       "slc_lot                       0.045320   0.018174   2.494   0.0126 *  \n",
       "treatmentE                    0.194103   0.179439   1.082   0.2794    \n",
       "scale(value_diff):scale(WTP)  0.029356   0.007086   4.143 3.43e-05 ***\n",
       "---\n",
       "Signif. codes:  0 ‘***’ 0.001 ‘**’ 0.01 ‘*’ 0.05 ‘.’ 0.1 ‘ ’ 1\n",
       "\n",
       "Correlation of Fixed Effects:\n",
       "            (Intr) scl(_) s(WTP) slc_lt trtmnE\n",
       "scl(vl_dff) -0.010                            \n",
       "scale(WTP)   0.016 -0.247                     \n",
       "slc_lot     -0.066  0.059 -0.023              \n",
       "treatmentE  -0.707  0.008 -0.018  0.002       \n",
       "sc(_):(WTP) -0.001 -0.177 -0.175 -0.126 -0.005"
      ]
     },
     "metadata": {},
     "output_type": "display_data"
    },
    {
     "data": {
      "text/plain": [
       "Generalized linear mixed model fit by maximum likelihood (Laplace\n",
       "  Approximation) [glmerMod]\n",
       " Family: Gamma  ( identity )\n",
       "Formula: RT ~ (scale(value_diff) * scale(WTP) + slc_lot):treatment + (1 |  \n",
       "    subject)\n",
       "   Data: data1\n",
       "\n",
       "     AIC      BIC   logLik deviance df.resid \n",
       " 45365.3  45449.0 -22671.6  45343.3    14976 \n",
       "\n",
       "Scaled residuals: \n",
       "    Min      1Q  Median      3Q     Max \n",
       "-1.4657 -0.6080 -0.2821  0.2771 12.9894 \n",
       "\n",
       "Random effects:\n",
       " Groups   Name        Variance Std.Dev.\n",
       " subject  (Intercept) 0.2477   0.4976  \n",
       " Residual             0.3967   0.6299  \n",
       "Number of obs: 14987, groups:  subject, 72\n",
       "\n",
       "Fixed effects:\n",
       "                                         Estimate Std. Error t value Pr(>|z|)\n",
       "(Intercept)                              2.408276   0.090727  26.544  < 2e-16\n",
       "scale(value_diff):treatmentA            -0.027843   0.011680  -2.384  0.01714\n",
       "scale(value_diff):treatmentE            -0.095729   0.015094  -6.342 2.27e-10\n",
       "scale(WTP):treatmentA                   -0.040189   0.014954  -2.687  0.00720\n",
       "scale(WTP):treatmentE                    0.014635   0.014612   1.002  0.31654\n",
       "slc_lot:treatmentA                       0.026117   0.024462   1.068  0.28568\n",
       "slc_lot:treatmentE                       0.074382   0.027223   2.732  0.00629\n",
       "scale(value_diff):scale(WTP):treatmentA  0.023461   0.009495   2.471  0.01348\n",
       "scale(value_diff):scale(WTP):treatmentE  0.053261   0.011513   4.626 3.73e-06\n",
       "                                           \n",
       "(Intercept)                             ***\n",
       "scale(value_diff):treatmentA            *  \n",
       "scale(value_diff):treatmentE            ***\n",
       "scale(WTP):treatmentA                   ** \n",
       "scale(WTP):treatmentE                      \n",
       "slc_lot:treatmentA                         \n",
       "slc_lot:treatmentE                      ** \n",
       "scale(value_diff):scale(WTP):treatmentA *  \n",
       "scale(value_diff):scale(WTP):treatmentE ***\n",
       "---\n",
       "Signif. codes:  0 ‘***’ 0.001 ‘**’ 0.01 ‘*’ 0.05 ‘.’ 0.1 ‘ ’ 1\n",
       "\n",
       "Correlation of Fixed Effects:\n",
       "             (Intr) s(_):A s(_):E s(WTP):A s(WTP):E slc_:A slc_:E s(_):(WTP):A\n",
       "scl(vl_d):A  -0.010                                                           \n",
       "scl(vl_d):E   0.004  0.000                                                    \n",
       "scl(WTP):tA   0.015 -0.229  0.000                                             \n",
       "scl(WTP):tE  -0.007  0.000 -0.248  0.000                                      \n",
       "slc_lt:trtA  -0.064  0.103  0.000 -0.041    0.000                             \n",
       "slc_lt:trtE  -0.064  0.001  0.012 -0.001   -0.010    0.004                    \n",
       "s(_):(WTP):A -0.004 -0.029  0.000 -0.203    0.000   -0.110  0.000             \n",
       "s(_):(WTP):E -0.008  0.000 -0.409  0.000   -0.119    0.000 -0.123  0.000      "
      ]
     },
     "metadata": {},
     "output_type": "display_data"
    }
   ],
   "source": [
    "# all subjects\n",
    "summary(glmer(RT ~ scale(value_diff)*scale(WTP) + slc_lot + treatment + (1|subject), data1, family = Gamma(link = \"identity\")))\n",
    "summary(glmer(RT ~ (scale(value_diff)*scale(WTP) + slc_lot):treatment + (1|subject), data1, family = Gamma(link = \"identity\")))\n"
   ]
  },
  {
   "cell_type": "code",
   "execution_count": 29,
   "metadata": {
    "scrolled": true
   },
   "outputs": [
    {
     "data": {
      "text/plain": [
       "Generalized linear mixed model fit by maximum likelihood (Laplace\n",
       "  Approximation) [glmerMod]\n",
       " Family: Gamma  ( identity )\n",
       "Formula: RT ~ scale(value_diff) * scale(WTP) + slc_lot + treatment + (1 |  \n",
       "    subject)\n",
       "   Data: data2\n",
       "\n",
       "     AIC      BIC   logLik deviance df.resid \n",
       "   31904    31962   -15944    31888    10417 \n",
       "\n",
       "Scaled residuals: \n",
       "    Min      1Q  Median      3Q     Max \n",
       "-1.5540 -0.6314 -0.2898  0.2860  9.6850 \n",
       "\n",
       "Random effects:\n",
       " Groups   Name        Variance Std.Dev.\n",
       " subject  (Intercept) 0.1784   0.4224  \n",
       " Residual             0.3525   0.5937  \n",
       "Number of obs: 10425, groups:  subject, 50\n",
       "\n",
       "Fixed effects:\n",
       "                              Estimate Std. Error t value Pr(>|z|)    \n",
       "(Intercept)                   2.311736   0.142510  16.222  < 2e-16 ***\n",
       "scale(value_diff)            -0.075203   0.010458  -7.191 6.45e-13 ***\n",
       "scale(WTP)                    0.008714   0.012691   0.687 0.492305    \n",
       "slc_lot                       0.141208   0.023632   5.975 2.30e-09 ***\n",
       "treatmentE                    0.296418   0.193039   1.536 0.124653    \n",
       "scale(value_diff):scale(WTP)  0.032326   0.008480   3.812 0.000138 ***\n",
       "---\n",
       "Signif. codes:  0 ‘***’ 0.001 ‘**’ 0.01 ‘*’ 0.05 ‘.’ 0.1 ‘ ’ 1\n",
       "\n",
       "Correlation of Fixed Effects:\n",
       "            (Intr) scl(_) s(WTP) slc_lt trtmnE\n",
       "scl(vl_dff) -0.014                            \n",
       "scale(WTP)   0.017 -0.253                     \n",
       "slc_lot     -0.064  0.067  0.025              \n",
       "treatmentE  -0.735  0.009 -0.020  0.000       \n",
       "sc(_):(WTP)  0.006 -0.088 -0.218 -0.231 -0.005"
      ]
     },
     "metadata": {},
     "output_type": "display_data"
    },
    {
     "data": {
      "text/plain": [
       "Generalized linear mixed model fit by maximum likelihood (Laplace\n",
       "  Approximation) [glmerMod]\n",
       " Family: Gamma  ( identity )\n",
       "Formula: RT ~ (scale(value_diff) * scale(WTP) + slc_lot):treatment + (1 |  \n",
       "    subject)\n",
       "   Data: data2\n",
       "\n",
       "     AIC      BIC   logLik deviance df.resid \n",
       " 31893.8  31973.6 -15935.9  31871.8    10414 \n",
       "\n",
       "Scaled residuals: \n",
       "    Min      1Q  Median      3Q     Max \n",
       "-1.5552 -0.6302 -0.2888  0.2841  9.6825 \n",
       "\n",
       "Random effects:\n",
       " Groups   Name        Variance Std.Dev.\n",
       " subject  (Intercept) 0.1876   0.4331  \n",
       " Residual             0.3514   0.5928  \n",
       "Number of obs: 10425, groups:  subject, 50\n",
       "\n",
       "Fixed effects:\n",
       "                                        Estimate Std. Error t value Pr(>|z|)\n",
       "(Intercept)                              2.46409    0.09929  24.816  < 2e-16\n",
       "scale(value_diff):treatmentA            -0.04637    0.01536  -3.019  0.00254\n",
       "scale(value_diff):treatmentE            -0.13035    0.01625  -8.022 1.04e-15\n",
       "scale(WTP):treatmentA                   -0.01490    0.01995  -0.747  0.45515\n",
       "scale(WTP):treatmentE                    0.03120    0.01652   1.889  0.05886\n",
       "slc_lot:treatmentA                       0.14056    0.03433   4.095 4.23e-05\n",
       "slc_lot:treatmentE                       0.15569    0.03276   4.753 2.00e-06\n",
       "scale(value_diff):scale(WTP):treatmentA  0.02442    0.01384   1.765  0.07765\n",
       "scale(value_diff):scale(WTP):treatmentE  0.05881    0.01219   4.824 1.41e-06\n",
       "                                           \n",
       "(Intercept)                             ***\n",
       "scale(value_diff):treatmentA            ** \n",
       "scale(value_diff):treatmentE            ***\n",
       "scale(WTP):treatmentA                      \n",
       "scale(WTP):treatmentE                   .  \n",
       "slc_lot:treatmentA                      ***\n",
       "slc_lot:treatmentE                      ***\n",
       "scale(value_diff):scale(WTP):treatmentA .  \n",
       "scale(value_diff):scale(WTP):treatmentE ***\n",
       "---\n",
       "Signif. codes:  0 ‘***’ 0.001 ‘**’ 0.01 ‘*’ 0.05 ‘.’ 0.1 ‘ ’ 1\n",
       "\n",
       "Correlation of Fixed Effects:\n",
       "             (Intr) s(_):A s(_):E s(WTP):A s(WTP):E slc_:A slc_:E s(_):(WTP):A\n",
       "scl(vl_d):A  -0.014                                                           \n",
       "scl(vl_d):E   0.000  0.000                                                    \n",
       "scl(WTP):tA   0.020 -0.224  0.000                                             \n",
       "scl(WTP):tE  -0.012  0.000 -0.242  0.000                                      \n",
       "slc_lt:trtA  -0.062  0.111  0.000 -0.063    0.001                             \n",
       "slc_lt:trtE  -0.069  0.001  0.005 -0.001    0.089    0.004                    \n",
       "s(_):(WTP):A  0.002  0.184  0.000 -0.189    0.000   -0.232  0.000             \n",
       "s(_):(WTP):E  0.001  0.000 -0.367  0.000   -0.194    0.000 -0.198  0.000      "
      ]
     },
     "metadata": {},
     "output_type": "display_data"
    }
   ],
   "source": [
    "# without low-attention individuals\n",
    "summary(glmer(RT ~ scale(value_diff)*scale(WTP) + slc_lot + treatment + (1|subject), data2, family = Gamma(link = \"identity\")))\n",
    "summary(glmer(RT ~ (scale(value_diff)*scale(WTP) + slc_lot):treatment + (1|subject), data2, family = Gamma(link = \"identity\")))\n"
   ]
  },
  {
   "cell_type": "markdown",
   "metadata": {},
   "source": [
    "### Is chance of choosing lottery affected by treatments?\n",
    "NO (marginal significance with all subjects)"
   ]
  },
  {
   "cell_type": "code",
   "execution_count": 30,
   "metadata": {
    "scrolled": true
   },
   "outputs": [
    {
     "data": {
      "text/plain": [
       "Generalized linear mixed model fit by maximum likelihood (Laplace\n",
       "  Approximation) [glmerMod]\n",
       " Family: binomial  ( logit )\n",
       "Formula: slc_lot ~ scale(lottery_favour) * scale(WTP) + treatment + (1 |  \n",
       "    subject)\n",
       "   Data: data1\n",
       "\n",
       "     AIC      BIC   logLik deviance df.resid \n",
       " 16845.0  16890.7  -8416.5  16833.0    14981 \n",
       "\n",
       "Scaled residuals: \n",
       "    Min      1Q  Median      3Q     Max \n",
       "-5.1540 -0.7438 -0.1979  0.7181 17.7393 \n",
       "\n",
       "Random effects:\n",
       " Groups  Name        Variance Std.Dev.\n",
       " subject (Intercept) 0.8703   0.9329  \n",
       "Number of obs: 14987, groups:  subject, 72\n",
       "\n",
       "Fixed effects:\n",
       "                                 Estimate Std. Error z value Pr(>|z|)    \n",
       "(Intercept)                       0.12833    0.15838   0.810 0.417785    \n",
       "scale(lottery_favour)             1.24103    0.03118  39.801  < 2e-16 ***\n",
       "scale(WTP)                       -0.08056    0.02384  -3.379 0.000728 ***\n",
       "treatmentE                       -0.40199    0.22348  -1.799 0.072048 .  \n",
       "scale(lottery_favour):scale(WTP) -0.27586    0.02244 -12.292  < 2e-16 ***\n",
       "---\n",
       "Signif. codes:  0 ‘***’ 0.001 ‘**’ 0.01 ‘*’ 0.05 ‘.’ 0.1 ‘ ’ 1\n",
       "\n",
       "Correlation of Fixed Effects:\n",
       "            (Intr) scl(_) s(WTP) trtmnE\n",
       "scl(lttry_)  0.025                     \n",
       "scale(WTP)   0.038 -0.233              \n",
       "treatmentE  -0.707 -0.031 -0.022       \n",
       "sc(_):(WTP) -0.068 -0.371 -0.314  0.019"
      ]
     },
     "metadata": {},
     "output_type": "display_data"
    }
   ],
   "source": [
    "# All subjects\n",
    "summary(glmer(slc_lot ~ scale(lottery_favour)*scale(WTP) + treatment + (1|subject), data1, family=binomial(link = \"logit\")))\n"
   ]
  },
  {
   "cell_type": "code",
   "execution_count": 31,
   "metadata": {
    "scrolled": true
   },
   "outputs": [
    {
     "data": {
      "text/plain": [
       "Generalized linear mixed model fit by maximum likelihood (Laplace\n",
       "  Approximation) [glmerMod]\n",
       " Family: binomial  ( logit )\n",
       "Formula: slc_lot ~ scale(lottery_favour) * scale(WTP) + treatment + (1 |  \n",
       "    subject)\n",
       "   Data: data2\n",
       "\n",
       "     AIC      BIC   logLik deviance df.resid \n",
       " 10178.5  10222.0  -5083.2  10166.5    10419 \n",
       "\n",
       "Scaled residuals: \n",
       "   Min     1Q Median     3Q    Max \n",
       "-4.637 -0.603 -0.159  0.584 72.646 \n",
       "\n",
       "Random effects:\n",
       " Groups  Name        Variance Std.Dev.\n",
       " subject (Intercept) 1.311    1.145   \n",
       "Number of obs: 10425, groups:  subject, 50\n",
       "\n",
       "Fixed effects:\n",
       "                                 Estimate Std. Error z value Pr(>|z|)    \n",
       "(Intercept)                      -0.19176    0.24217  -0.792    0.428    \n",
       "scale(lottery_favour)             2.03704    0.04979  40.914   <2e-16 ***\n",
       "scale(WTP)                       -0.37003    0.03263 -11.339   <2e-16 ***\n",
       "treatmentE                       -0.34282    0.32906  -1.042    0.298    \n",
       "scale(lottery_favour):scale(WTP) -0.39882    0.03187 -12.513   <2e-16 ***\n",
       "---\n",
       "Signif. codes:  0 ‘***’ 0.001 ‘**’ 0.01 ‘*’ 0.05 ‘.’ 0.1 ‘ ’ 1\n",
       "\n",
       "Correlation of Fixed Effects:\n",
       "            (Intr) scl(_) s(WTP) trtmnE\n",
       "scl(lttry_)  0.005                     \n",
       "scale(WTP)   0.039 -0.251              \n",
       "treatmentE  -0.734 -0.026 -0.015       \n",
       "sc(_):(WTP) -0.050 -0.441 -0.354  0.013"
      ]
     },
     "metadata": {},
     "output_type": "display_data"
    }
   ],
   "source": [
    "# without low-attention individuals\n",
    "summary(glmer(slc_lot ~ scale(lottery_favour)*scale(WTP) + treatment + (1|subject), data2, family=binomial(link = \"logit\")))\n"
   ]
  },
  {
   "cell_type": "code",
   "execution_count": null,
   "metadata": {},
   "outputs": [],
   "source": []
  },
  {
   "cell_type": "code",
   "execution_count": null,
   "metadata": {},
   "outputs": [],
   "source": []
  }
 ],
 "metadata": {
  "kernelspec": {
   "display_name": "R [conda env:jupy]",
   "language": "R",
   "name": "conda-env-jupy-r"
  },
  "language_info": {
   "codemirror_mode": "r",
   "file_extension": ".r",
   "mimetype": "text/x-r-source",
   "name": "R",
   "pygments_lexer": "r",
   "version": "3.6.1"
  }
 },
 "nbformat": 4,
 "nbformat_minor": 4
}
