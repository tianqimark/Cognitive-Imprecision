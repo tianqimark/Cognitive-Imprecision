{
 "cells": [
  {
   "cell_type": "markdown",
   "metadata": {},
   "source": [
    "<h1>Template for multilevel analysis</h1>"
   ]
  },
  {
   "cell_type": "code",
   "execution_count": 1,
   "metadata": {
    "collapsed": true
   },
   "outputs": [
    {
     "name": "stderr",
     "output_type": "stream",
     "text": [
      "Loading required package: Matrix\n",
      "\n",
      "Attaching package: ‘lmerTest’\n",
      "\n",
      "The following object is masked from ‘package:lme4’:\n",
      "\n",
      "    lmer\n",
      "\n",
      "The following object is masked from ‘package:stats’:\n",
      "\n",
      "    step\n",
      "\n",
      "\n",
      "Attaching package: ‘nlme’\n",
      "\n",
      "The following object is masked from ‘package:lme4’:\n",
      "\n",
      "    lmList\n",
      "\n",
      "\n",
      "Attaching package: ‘dplyr’\n",
      "\n",
      "The following object is masked from ‘package:MASS’:\n",
      "\n",
      "    select\n",
      "\n",
      "The following objects are masked from ‘package:plyr’:\n",
      "\n",
      "    arrange, count, desc, failwith, id, mutate, rename, summarise,\n",
      "    summarize\n",
      "\n",
      "The following object is masked from ‘package:gridExtra’:\n",
      "\n",
      "    combine\n",
      "\n",
      "The following object is masked from ‘package:nlme’:\n",
      "\n",
      "    collapse\n",
      "\n",
      "The following objects are masked from ‘package:stats’:\n",
      "\n",
      "    filter, lag\n",
      "\n",
      "The following objects are masked from ‘package:base’:\n",
      "\n",
      "    intersect, setdiff, setequal, union\n",
      "\n"
     ]
    }
   ],
   "source": [
    "library(lme4)\n",
    "library(lmerTest)\n",
    "library(nlme)\n",
    "library(ggplot2)\n",
    "library(grid)\n",
    "library(gridExtra)\n",
    "library(lattice)\n",
    "library(plyr)\n",
    "library(MASS)\n",
    "library(stats4)\n",
    "library(dplyr)"
   ]
  },
  {
   "cell_type": "markdown",
   "metadata": {},
   "source": [
    "<h2>Load data</h2>"
   ]
  },
  {
   "cell_type": "code",
   "execution_count": 41,
   "metadata": {},
   "outputs": [],
   "source": [
    "rm(list = ls())\n",
    "mydata <- read.table(\"data.csv\", header=TRUE, sep=\",\")\n",
    "mydata$choice <- as.factor(mydata$choice)\n",
    "# sessions: ebld7meg, brtqjddt, 6zu2rqqa, eziaa6hq"
   ]
  },
  {
   "cell_type": "code",
   "execution_count": 3,
   "metadata": {},
   "outputs": [],
   "source": [
    "# does someone need to be excluded? if so, then do this\n",
    "#mydata <- subset(mydata, code != \"xxxxxx\")\n",
    "\n",
    "# make sure there are NAs where the decision times are too slow (thousands of seconds)\n",
    "#mydata$dt <- ifelse(mydata$dt > 60, \"NA\", mydata$dt)"
   ]
  },
  {
   "cell_type": "code",
   "execution_count": 47,
   "metadata": {},
   "outputs": [],
   "source": [
    "# make a copy of mydata where less than 300ms and more than 10s rounds are rejected\n",
    "mydata2 <- subset(mydata, dt>.3 & dt<10)\n"
   ]
  },
  {
   "cell_type": "markdown",
   "metadata": {},
   "source": [
    "<h2>Summary statistics</h2>"
   ]
  },
  {
   "cell_type": "code",
   "execution_count": 49,
   "metadata": {},
   "outputs": [
    {
     "data": {
      "text/html": [
       "<table>\n",
       "<caption>A data.frame: 2 × 6</caption>\n",
       "<thead>\n",
       "\t<tr><th scope=col>treatment</th><th scope=col>N</th><th scope=col>mean DT</th><th scope=col>sd DT</th><th scope=col>mean dec. mode</th><th scope=col>mean accuracy</th></tr>\n",
       "\t<tr><th scope=col>&lt;fct&gt;</th><th scope=col>&lt;dbl&gt;</th><th scope=col>&lt;dbl&gt;</th><th scope=col>&lt;dbl&gt;</th><th scope=col>&lt;dbl&gt;</th><th scope=col>&lt;dbl&gt;</th></tr>\n",
       "</thead>\n",
       "<tbody>\n",
       "\t<tr><td>A</td><td>36</td><td>2.938477</td><td>5.320870</td><td>3.666667</td><td>0.6579218</td></tr>\n",
       "\t<tr><td>E</td><td>36</td><td>3.037160</td><td>4.251024</td><td>4.361111</td><td>0.6464884</td></tr>\n",
       "</tbody>\n",
       "</table>\n"
      ],
      "text/latex": [
       "A data.frame: 2 × 6\n",
       "\\begin{tabular}{r|llllll}\n",
       " treatment & N & mean DT & sd DT & mean dec. mode & mean accuracy\\\\\n",
       " <fct> & <dbl> & <dbl> & <dbl> & <dbl> & <dbl>\\\\\n",
       "\\hline\n",
       "\t A & 36 & 2.938477 & 5.320870 & 3.666667 & 0.6579218\\\\\n",
       "\t E & 36 & 3.037160 & 4.251024 & 4.361111 & 0.6464884\\\\\n",
       "\\end{tabular}\n"
      ],
      "text/markdown": [
       "\n",
       "A data.frame: 2 × 6\n",
       "\n",
       "| treatment &lt;fct&gt; | N &lt;dbl&gt; | mean DT &lt;dbl&gt; | sd DT &lt;dbl&gt; | mean dec. mode &lt;dbl&gt; | mean accuracy &lt;dbl&gt; |\n",
       "|---|---|---|---|---|---|\n",
       "| A | 36 | 2.938477 | 5.320870 | 3.666667 | 0.6579218 |\n",
       "| E | 36 | 3.037160 | 4.251024 | 4.361111 | 0.6464884 |\n",
       "\n"
      ],
      "text/plain": [
       "  treatment N  mean DT  sd DT    mean dec. mode mean accuracy\n",
       "1 A         36 2.938477 5.320870 3.666667       0.6579218    \n",
       "2 E         36 3.037160 4.251024 4.361111       0.6464884    "
      ]
     },
     "metadata": {},
     "output_type": "display_data"
    },
    {
     "data": {
      "text/html": [
       "<table>\n",
       "<caption>A data.frame: 2 × 6</caption>\n",
       "<thead>\n",
       "\t<tr><th scope=col>treatment</th><th scope=col>N</th><th scope=col>mean DT</th><th scope=col>sd DT</th><th scope=col>mean dec. mode</th><th scope=col>mean accuracy</th></tr>\n",
       "\t<tr><th scope=col>&lt;fct&gt;</th><th scope=col>&lt;dbl&gt;</th><th scope=col>&lt;dbl&gt;</th><th scope=col>&lt;dbl&gt;</th><th scope=col>&lt;dbl&gt;</th><th scope=col>&lt;dbl&gt;</th></tr>\n",
       "</thead>\n",
       "<tbody>\n",
       "\t<tr><td>A</td><td>34.64815</td><td>2.305364</td><td>1.649329</td><td>3.647916</td><td>0.6599462</td></tr>\n",
       "\t<tr><td>E</td><td>34.73611</td><td>2.491480</td><td>1.675729</td><td>4.363321</td><td>0.6451741</td></tr>\n",
       "</tbody>\n",
       "</table>\n"
      ],
      "text/latex": [
       "A data.frame: 2 × 6\n",
       "\\begin{tabular}{r|llllll}\n",
       " treatment & N & mean DT & sd DT & mean dec. mode & mean accuracy\\\\\n",
       " <fct> & <dbl> & <dbl> & <dbl> & <dbl> & <dbl>\\\\\n",
       "\\hline\n",
       "\t A & 34.64815 & 2.305364 & 1.649329 & 3.647916 & 0.6599462\\\\\n",
       "\t E & 34.73611 & 2.491480 & 1.675729 & 4.363321 & 0.6451741\\\\\n",
       "\\end{tabular}\n"
      ],
      "text/markdown": [
       "\n",
       "A data.frame: 2 × 6\n",
       "\n",
       "| treatment &lt;fct&gt; | N &lt;dbl&gt; | mean DT &lt;dbl&gt; | sd DT &lt;dbl&gt; | mean dec. mode &lt;dbl&gt; | mean accuracy &lt;dbl&gt; |\n",
       "|---|---|---|---|---|---|\n",
       "| A | 34.64815 | 2.305364 | 1.649329 | 3.647916 | 0.6599462 |\n",
       "| E | 34.73611 | 2.491480 | 1.675729 | 4.363321 | 0.6451741 |\n",
       "\n"
      ],
      "text/plain": [
       "  treatment N        mean DT  sd DT    mean dec. mode mean accuracy\n",
       "1 A         34.64815 2.305364 1.649329 3.647916       0.6599462    \n",
       "2 E         34.73611 2.491480 1.675729 4.363321       0.6451741    "
      ]
     },
     "metadata": {},
     "output_type": "display_data"
    }
   ],
   "source": [
    "# the plyr package has really useful summarising functions\n",
    "ddply(mydata, c(\"treatment\"), summarise, \n",
    "      N = length(choice)/216,\n",
    "      'mean DT' = mean(dt, na.rm=T),\n",
    "      'sd DT' = sd(dt, na.rm=T),\n",
    "      'mean dec. mode' = mean(decmode),\n",
    "      'mean accuracy' = mean(accuracy))\n",
    "\n",
    "ddply(mydata2, c(\"treatment\"), summarise, \n",
    "      N = length(choice)/216,\n",
    "      'mean DT' = mean(dt, na.rm=T),\n",
    "      'sd DT' = sd(dt, na.rm=T),\n",
    "      'mean dec. mode' = mean(decmode),\n",
    "      'mean accuracy' = mean(accuracy))"
   ]
  },
  {
   "cell_type": "markdown",
   "metadata": {},
   "source": [
    "<h2>Correlation matrix for psychometric measurements</h2>"
   ]
  },
  {
   "cell_type": "code",
   "execution_count": 11,
   "metadata": {},
   "outputs": [
    {
     "data": {
      "text/html": [
       "<table>\n",
       "<caption>A matrix: 5 × 5 of type dbl</caption>\n",
       "<thead>\n",
       "\t<tr><th></th><th scope=col>ref</th><th scope=col>int</th><th scope=col>nfc</th><th scope=col>fi</th><th scope=col>bnt</th></tr>\n",
       "</thead>\n",
       "<tbody>\n",
       "\t<tr><th scope=row>ref</th><td> 1.0000000</td><td>-0.88858377</td><td> 0.1150721514</td><td>-0.18074574</td><td> 0.5277104515</td></tr>\n",
       "\t<tr><th scope=row>int</th><td>-0.8885838</td><td> 1.00000000</td><td>-0.0361085404</td><td> 0.26342536</td><td>-0.3554411973</td></tr>\n",
       "\t<tr><th scope=row>nfc</th><td> 0.1150722</td><td>-0.03610854</td><td> 1.0000000000</td><td>-0.06474535</td><td> 0.0007635697</td></tr>\n",
       "\t<tr><th scope=row>fi</th><td>-0.1807457</td><td> 0.26342536</td><td>-0.0647453490</td><td> 1.00000000</td><td>-0.0978282379</td></tr>\n",
       "\t<tr><th scope=row>bnt</th><td> 0.5277105</td><td>-0.35544120</td><td> 0.0007635697</td><td>-0.09782824</td><td> 1.0000000000</td></tr>\n",
       "</tbody>\n",
       "</table>\n"
      ],
      "text/latex": [
       "A matrix: 5 × 5 of type dbl\n",
       "\\begin{tabular}{r|lllll}\n",
       "  & ref & int & nfc & fi & bnt\\\\\n",
       "\\hline\n",
       "\tref &  1.0000000 & -0.88858377 &  0.1150721514 & -0.18074574 &  0.5277104515\\\\\n",
       "\tint & -0.8885838 &  1.00000000 & -0.0361085404 &  0.26342536 & -0.3554411973\\\\\n",
       "\tnfc &  0.1150722 & -0.03610854 &  1.0000000000 & -0.06474535 &  0.0007635697\\\\\n",
       "\tfi & -0.1807457 &  0.26342536 & -0.0647453490 &  1.00000000 & -0.0978282379\\\\\n",
       "\tbnt &  0.5277105 & -0.35544120 &  0.0007635697 & -0.09782824 &  1.0000000000\\\\\n",
       "\\end{tabular}\n"
      ],
      "text/markdown": [
       "\n",
       "A matrix: 5 × 5 of type dbl\n",
       "\n",
       "| <!--/--> | ref | int | nfc | fi | bnt |\n",
       "|---|---|---|---|---|---|\n",
       "| ref |  1.0000000 | -0.88858377 |  0.1150721514 | -0.18074574 |  0.5277104515 |\n",
       "| int | -0.8885838 |  1.00000000 | -0.0361085404 |  0.26342536 | -0.3554411973 |\n",
       "| nfc |  0.1150722 | -0.03610854 |  1.0000000000 | -0.06474535 |  0.0007635697 |\n",
       "| fi | -0.1807457 |  0.26342536 | -0.0647453490 |  1.00000000 | -0.0978282379 |\n",
       "| bnt |  0.5277105 | -0.35544120 |  0.0007635697 | -0.09782824 |  1.0000000000 |\n",
       "\n"
      ],
      "text/plain": [
       "    ref        int         nfc           fi          bnt          \n",
       "ref  1.0000000 -0.88858377  0.1150721514 -0.18074574  0.5277104515\n",
       "int -0.8885838  1.00000000 -0.0361085404  0.26342536 -0.3554411973\n",
       "nfc  0.1150722 -0.03610854  1.0000000000 -0.06474535  0.0007635697\n",
       "fi  -0.1807457  0.26342536 -0.0647453490  1.00000000 -0.0978282379\n",
       "bnt  0.5277105 -0.35544120  0.0007635697 -0.09782824  1.0000000000"
      ]
     },
     "metadata": {},
     "output_type": "display_data"
    }
   ],
   "source": [
    "cordf <- mydata %>% select(ref,int,nfc,fi,bnt)\n",
    "cor(cordf)"
   ]
  },
  {
   "cell_type": "markdown",
   "metadata": {},
   "source": [
    "<h2>Accuracy correlates with reflectiveness when controlling interactions between ref and int</h2>"
   ]
  },
  {
   "cell_type": "code",
   "execution_count": 50,
   "metadata": {},
   "outputs": [
    {
     "data": {
      "text/plain": [
       "\n",
       "Call:\n",
       "lm(formula = accuracy ~ scale(ref) * scale(int), data = subset(mydata, \n",
       "    round == 1))\n",
       "\n",
       "Residuals:\n",
       "     Min       1Q   Median       3Q      Max \n",
       "-0.28922 -0.10573  0.01186  0.10184  0.26822 \n",
       "\n",
       "Coefficients:\n",
       "                      Estimate Std. Error t value Pr(>|t|)    \n",
       "(Intercept)            0.63698    0.02277  27.976   <2e-16 ***\n",
       "scale(ref)             0.08404    0.03653   2.301   0.0245 *  \n",
       "scale(int)             0.03718    0.03596   1.034   0.3048    \n",
       "scale(ref):scale(int) -0.01737    0.01917  -0.906   0.3681    \n",
       "---\n",
       "Signif. codes:  0 ‘***’ 0.001 ‘**’ 0.01 ‘*’ 0.05 ‘.’ 0.1 ‘ ’ 1\n",
       "\n",
       "Residual standard error: 0.1304 on 68 degrees of freedom\n",
       "Multiple R-squared:  0.1798,\tAdjusted R-squared:  0.1437 \n",
       "F-statistic:  4.97 on 3 and 68 DF,  p-value: 0.003539\n"
      ]
     },
     "metadata": {},
     "output_type": "display_data"
    },
    {
     "data": {
      "text/plain": [
       "\n",
       "Call:\n",
       "lm(formula = accuracy ~ scale(nfc) * scale(fi), data = subset(mydata, \n",
       "    round == 1))\n",
       "\n",
       "Residuals:\n",
       "    Min      1Q  Median      3Q     Max \n",
       "-0.3055 -0.1145  0.0205  0.1075  0.2348 \n",
       "\n",
       "Coefficients:\n",
       "                      Estimate Std. Error t value Pr(>|t|)    \n",
       "(Intercept)           0.652368   0.016881  38.645   <2e-16 ***\n",
       "scale(nfc)           -0.006592   0.017061  -0.386    0.700    \n",
       "scale(fi)             0.016344   0.017236   0.948    0.346    \n",
       "scale(nfc):scale(fi)  0.002553   0.020188   0.126    0.900    \n",
       "---\n",
       "Signif. codes:  0 ‘***’ 0.001 ‘**’ 0.01 ‘*’ 0.05 ‘.’ 0.1 ‘ ’ 1\n",
       "\n",
       "Residual standard error: 0.1428 on 68 degrees of freedom\n",
       "Multiple R-squared:  0.01611,\tAdjusted R-squared:  -0.02729 \n",
       "F-statistic: 0.3713 on 3 and 68 DF,  p-value: 0.774\n"
      ]
     },
     "metadata": {},
     "output_type": "display_data"
    }
   ],
   "source": [
    "summary(lm(accuracy ~ scale(ref)*scale(int), subset(mydata, round==1)))\n",
    "summary(lm(accuracy ~ scale(nfc)*scale(fi),  subset(mydata, round==1)))"
   ]
  },
  {
   "cell_type": "markdown",
   "metadata": {},
   "source": [
    "<h2>Decision mode does not differ between treatments</h2>"
   ]
  },
  {
   "cell_type": "code",
   "execution_count": 51,
   "metadata": {},
   "outputs": [
    {
     "data": {
      "text/plain": [
       "\n",
       "Call:\n",
       "lm(formula = decmode ~ treatment, data = subset(mydata, round == \n",
       "    1))\n",
       "\n",
       "Residuals:\n",
       "    Min      1Q  Median      3Q     Max \n",
       "-2.6667 -1.4375 -0.0139  1.3333  3.3333 \n",
       "\n",
       "Coefficients:\n",
       "            Estimate Std. Error t value Pr(>|t|)    \n",
       "(Intercept)   3.6667     0.2819  13.005   <2e-16 ***\n",
       "treatmentE    0.6944     0.3987   1.742    0.086 .  \n",
       "---\n",
       "Signif. codes:  0 ‘***’ 0.001 ‘**’ 0.01 ‘*’ 0.05 ‘.’ 0.1 ‘ ’ 1\n",
       "\n",
       "Residual standard error: 1.692 on 70 degrees of freedom\n",
       "Multiple R-squared:  0.04154,\tAdjusted R-squared:  0.02784 \n",
       "F-statistic: 3.034 on 1 and 70 DF,  p-value: 0.08595\n"
      ]
     },
     "metadata": {},
     "output_type": "display_data"
    }
   ],
   "source": [
    "summary(lm(decmode ~ treatment, subset(mydata, round==1)))"
   ]
  },
  {
   "cell_type": "markdown",
   "metadata": {},
   "source": [
    "<h2>Decision mode correlates only with FI</h2>\n",
    "<p>For NFC and FI we must look into interaction effects</p>"
   ]
  },
  {
   "cell_type": "code",
   "execution_count": 52,
   "metadata": {},
   "outputs": [
    {
     "data": {
      "text/plain": [
       "\n",
       "Call:\n",
       "lm(formula = decmode ~ scale(ref) + scale(int), data = subset(mydata, \n",
       "    round == 1))\n",
       "\n",
       "Residuals:\n",
       "     Min       1Q   Median       3Q      Max \n",
       "-3.03689 -1.27980 -0.02978  1.02797  3.02708 \n",
       "\n",
       "Coefficients:\n",
       "             Estimate Std. Error t value Pr(>|t|)    \n",
       "(Intercept)  4.013889   0.205074  19.573   <2e-16 ***\n",
       "scale(ref)   0.007562   0.450200   0.017    0.987    \n",
       "scale(int)  -0.020898   0.450200  -0.046    0.963    \n",
       "---\n",
       "Signif. codes:  0 ‘***’ 0.001 ‘**’ 0.01 ‘*’ 0.05 ‘.’ 0.1 ‘ ’ 1\n",
       "\n",
       "Residual standard error: 1.74 on 69 degrees of freedom\n",
       "Multiple R-squared:  0.0002632,\tAdjusted R-squared:  -0.02871 \n",
       "F-statistic: 0.009083 on 2 and 69 DF,  p-value: 0.991\n"
      ]
     },
     "metadata": {},
     "output_type": "display_data"
    },
    {
     "data": {
      "text/plain": [
       "\n",
       "Call:\n",
       "lm(formula = decmode ~ scale(nfc) * scale(fi), data = subset(mydata, \n",
       "    round == 1))\n",
       "\n",
       "Residuals:\n",
       "    Min      1Q  Median      3Q     Max \n",
       "-3.1420 -1.3533  0.0448  1.4616  3.4666 \n",
       "\n",
       "Coefficients:\n",
       "                     Estimate Std. Error t value Pr(>|t|)    \n",
       "(Intercept)            4.0211     0.2004  20.070   <2e-16 ***\n",
       "scale(nfc)             0.1601     0.2025   0.790   0.4320    \n",
       "scale(fi)              0.4257     0.2046   2.081   0.0412 *  \n",
       "scale(nfc):scale(fi)   0.1136     0.2396   0.474   0.6368    \n",
       "---\n",
       "Signif. codes:  0 ‘***’ 0.001 ‘**’ 0.01 ‘*’ 0.05 ‘.’ 0.1 ‘ ’ 1\n",
       "\n",
       "Residual standard error: 1.695 on 68 degrees of freedom\n",
       "Multiple R-squared:  0.06501,\tAdjusted R-squared:  0.02377 \n",
       "F-statistic: 1.576 on 3 and 68 DF,  p-value: 0.2032\n"
      ]
     },
     "metadata": {},
     "output_type": "display_data"
    },
    {
     "data": {
      "text/plain": [
       "\n",
       "Call:\n",
       "lm(formula = decmode ~ scale(bnt), data = subset(mydata, round == \n",
       "    1))\n",
       "\n",
       "Residuals:\n",
       "     Min       1Q   Median       3Q      Max \n",
       "-2.99956 -1.39696 -0.07326  1.29524  3.14784 \n",
       "\n",
       "Coefficients:\n",
       "            Estimate Std. Error t value Pr(>|t|)    \n",
       "(Intercept)   4.0139     0.2026  19.809   <2e-16 ***\n",
       "scale(bnt)   -0.1699     0.2041  -0.833    0.408    \n",
       "---\n",
       "Signif. codes:  0 ‘***’ 0.001 ‘**’ 0.01 ‘*’ 0.05 ‘.’ 0.1 ‘ ’ 1\n",
       "\n",
       "Residual standard error: 1.719 on 70 degrees of freedom\n",
       "Multiple R-squared:  0.009806,\tAdjusted R-squared:  -0.00434 \n",
       "F-statistic: 0.6932 on 1 and 70 DF,  p-value: 0.4079\n"
      ]
     },
     "metadata": {},
     "output_type": "display_data"
    }
   ],
   "source": [
    "summary(lm(decmode ~ scale(ref)+scale(int), subset(mydata, round==1)))\n",
    "summary(lm(decmode ~ scale(nfc)*scale(fi), subset(mydata, round==1)))\n",
    "summary(lm(decmode ~ scale(bnt), subset(mydata, round==1)))"
   ]
  },
  {
   "cell_type": "markdown",
   "metadata": {},
   "source": [
    "<h2>Decision mode vs. psychometrics scatter plots</h2>"
   ]
  },
  {
   "cell_type": "code",
   "execution_count": 53,
   "metadata": {},
   "outputs": [
    {
     "data": {
      "image/png": "[encoded data removed]",
      "text/plain": [
       "plot without title"
      ]
     },
     "metadata": {},
     "output_type": "display_data"
    }
   ],
   "source": [
    "options(repr.plot.width=7, repr.plot.height=5)\n",
    "\n",
    "\n",
    "gpl1 <- ggplot(subset(mydata, round==1), aes(x=ref, y=decmode)) + geom_point(shape=1) + geom_smooth(method=lm)\n",
    "gpl2 <- ggplot(subset(mydata, round==1), aes(x=int, y=decmode)) + geom_point(shape=1) + geom_smooth(method=lm)\n",
    "gpl3 <- ggplot(subset(mydata, round==1), aes(x=nfc, y=decmode)) + geom_point(shape=1) + geom_smooth(method=lm)\n",
    "gpl4 <- ggplot(subset(mydata, round==1), aes(x=fi,  y=decmode)) + geom_point(shape=1) + geom_smooth(method=lm)\n",
    "gpl5 <- ggplot(subset(mydata, round==1), aes(x=bnt, y=decmode)) + geom_point(shape=1) + geom_smooth(method=lm)\n",
    "\n",
    "\n",
    "grid.arrange(gpl1, gpl2, gpl3, gpl4, gpl5, nrow = 2)\n"
   ]
  },
  {
   "cell_type": "markdown",
   "metadata": {},
   "source": [
    "<h2>DT ecdf</h2>"
   ]
  },
  {
   "cell_type": "code",
   "execution_count": 57,
   "metadata": {},
   "outputs": [
    {
     "name": "stderr",
     "output_type": "stream",
     "text": [
      "Warning message:\n",
      "“Removed 520 rows containing non-finite values (stat_ecdf).”"
     ]
    },
    {
     "data": {
      "image/png": "[encoded data removed]",
      "text/plain": [
       "plot without title"
      ]
     },
     "metadata": {},
     "output_type": "display_data"
    }
   ],
   "source": [
    "options(repr.plot.width=6, repr.plot.height=4)\n",
    "\n",
    "\n",
    "ecdf <- ggplot(subset(mydata, (treatment==\"A\" | treatment==\"E\")), aes(dt, colour=treatment)) + \n",
    "        stat_ecdf(geom = \"step\") + \n",
    "        labs(title = \"All data\", y = \"\", x = \"Decision time (s)\") +\n",
    "        scale_x_continuous(expand= c(0, 0), limits = c(0, 10)) +\n",
    "        scale_y_continuous(expand = c(0, 0)) + \n",
    "        theme(legend.position=\"bottom\", legend.title=element_blank())\n",
    "\n",
    "ecdf2 <- ggplot(subset(mydata2, (treatment==\"A\" | treatment==\"E\")), aes(dt, colour=treatment)) + \n",
    "        stat_ecdf(geom = \"step\") + \n",
    "        labs(title = \"Short and long rounds excl\", y = \"\", x = \"Decision time (s)\") +\n",
    "        scale_x_continuous(expand= c(0, 0), limits = c(0, 10)) +\n",
    "        scale_y_continuous(expand = c(0, 0)) + \n",
    "        theme(legend.position=\"bottom\", legend.title=element_blank())\n",
    "\n",
    "\n",
    "grid.arrange(ecdf, ecdf2, nrow=1)"
   ]
  },
  {
   "cell_type": "markdown",
   "metadata": {},
   "source": [
    "<h2>DT distributions differ at the aggregate level</h2>"
   ]
  },
  {
   "cell_type": "code",
   "execution_count": 58,
   "metadata": {},
   "outputs": [
    {
     "name": "stderr",
     "output_type": "stream",
     "text": [
      "Warning message in ks.test(mydata$dt[mydata$treatment == \"A\"], mydata$dt[mydata$treatment == :\n",
      "“p-value will be approximate in the presence of ties”"
     ]
    },
    {
     "data": {
      "text/plain": [
       "\n",
       "\tTwo-sample Kolmogorov-Smirnov test\n",
       "\n",
       "data:  mydata$dt[mydata$treatment == \"A\"] and mydata$dt[mydata$treatment == \"E\"]\n",
       "D^+ = 0.075508, p-value < 2.2e-16\n",
       "alternative hypothesis: the CDF of x lies above that of y\n"
      ]
     },
     "metadata": {},
     "output_type": "display_data"
    },
    {
     "name": "stderr",
     "output_type": "stream",
     "text": [
      "Warning message in ks.test(mydata2$dt[mydata2$treatment == \"A\"], mydata2$dt[mydata2$treatment == :\n",
      "“p-value will be approximate in the presence of ties”"
     ]
    },
    {
     "data": {
      "text/plain": [
       "\n",
       "\tTwo-sample Kolmogorov-Smirnov test\n",
       "\n",
       "data:  mydata2$dt[mydata2$treatment == \"A\"] and mydata2$dt[mydata2$treatment == \"E\"]\n",
       "D^+ = 0.075991, p-value < 2.2e-16\n",
       "alternative hypothesis: the CDF of x lies above that of y\n"
      ]
     },
     "metadata": {},
     "output_type": "display_data"
    }
   ],
   "source": [
    "ks.test(mydata$dt[mydata$treatment==\"A\"], mydata$dt[mydata$treatment==\"E\"], alternative=\"greater\")\n",
    "\n",
    "ks.test(mydata2$dt[mydata2$treatment==\"A\"], mydata2$dt[mydata2$treatment==\"E\"], alternative=\"greater\")"
   ]
  },
  {
   "cell_type": "markdown",
   "metadata": {},
   "source": [
    "<h2>Simple linear regression with averaged DTs: DT is decreasing in decision mode</h2>\n",
    "<p>Determine the average DT for each participant, add this as a column in the data frame, and use a linear model without random effects</p>"
   ]
  },
  {
   "cell_type": "code",
   "execution_count": 8,
   "metadata": {},
   "outputs": [],
   "source": [
    "aggrdata <- mydata %>% group_by(code) %>% summarise(meandt = mean(dt, na.rm=T))\n",
    "mydata$meandt <- rep(aggrdata$meandt, each=216)"
   ]
  },
  {
   "cell_type": "code",
   "execution_count": 9,
   "metadata": {},
   "outputs": [
    {
     "data": {
      "text/plain": [
       "\n",
       "Call:\n",
       "lm(formula = meandt ~ decmode, data = mydata)\n",
       "\n",
       "Residuals:\n",
       "    Min      1Q  Median      3Q     Max \n",
       "-2.1344 -0.8222 -0.2512  0.5170  4.4861 \n",
       "\n",
       "Coefficients:\n",
       "             Estimate Std. Error t value Pr(>|t|)    \n",
       "(Intercept)  3.077356   0.026228 117.330  < 2e-16 ***\n",
       "decmode     -0.022346   0.006015  -3.715 0.000204 ***\n",
       "---\n",
       "Signif. codes:  0 ‘***’ 0.001 ‘**’ 0.01 ‘*’ 0.05 ‘.’ 0.1 ‘ ’ 1\n",
       "\n",
       "Residual standard error: 1.278 on 15550 degrees of freedom\n",
       "Multiple R-squared:  0.0008868,\tAdjusted R-squared:  0.0008226 \n",
       "F-statistic:  13.8 on 1 and 15550 DF,  p-value: 0.0002038\n"
      ]
     },
     "metadata": {},
     "output_type": "display_data"
    }
   ],
   "source": [
    "summary(lm(meandt ~ decmode, mydata))"
   ]
  },
  {
   "cell_type": "markdown",
   "metadata": {},
   "source": [
    "<h2>GLMM with subject random effects: DT is not dependent on decision mode</h2>\n",
    "<p>This uses a GLMM and recognises different variances in DTs over the subjects. The distribution family we use is Gamma distribution in accordance with Lo & Andrews (2015).</p>"
   ]
  },
  {
   "cell_type": "code",
   "execution_count": 60,
   "metadata": {
    "scrolled": false
   },
   "outputs": [
    {
     "data": {
      "text/plain": [
       "Generalized linear mixed model fit by maximum likelihood (Laplace\n",
       "  Approximation) [glmerMod]\n",
       " Family: Gamma  ( identity )\n",
       "Formula: dt ~ decmode + (1 | code)\n",
       "   Data: mydata\n",
       "\n",
       "     AIC      BIC   logLik deviance df.resid \n",
       " 59080.9  59111.6 -29536.5  59072.9    15544 \n",
       "\n",
       "Scaled residuals: \n",
       "   Min     1Q Median     3Q    Max \n",
       "-0.726 -0.350 -0.191  0.064 48.594 \n",
       "\n",
       "Random effects:\n",
       " Groups   Name        Variance Std.Dev.\n",
       " code     (Intercept) 3.040    1.744   \n",
       " Residual             1.895    1.377   \n",
       "Number of obs: 15548, groups:  code, 72\n",
       "\n",
       "Fixed effects:\n",
       "            Estimate Std. Error t value Pr(>|z|)    \n",
       "(Intercept)  2.47883    0.38223   6.485 8.86e-11 ***\n",
       "decmode      0.12894    0.08768   1.471    0.141    \n",
       "---\n",
       "Signif. codes:  0 ‘***’ 0.001 ‘**’ 0.01 ‘*’ 0.05 ‘.’ 0.1 ‘ ’ 1\n",
       "\n",
       "Correlation of Fixed Effects:\n",
       "        (Intr)\n",
       "decmode -0.920"
      ]
     },
     "metadata": {},
     "output_type": "display_data"
    },
    {
     "data": {
      "text/plain": [
       "Generalized linear mixed model fit by maximum likelihood (Laplace\n",
       "  Approximation) [glmerMod]\n",
       " Family: Gamma  ( identity )\n",
       "Formula: dt ~ decmode + (1 | code)\n",
       "   Data: mydata2\n",
       "\n",
       "     AIC      BIC   logLik deviance df.resid \n",
       " 45418.6  45449.1 -22705.3  45410.6    14983 \n",
       "\n",
       "Scaled residuals: \n",
       "    Min      1Q  Median      3Q     Max \n",
       "-1.4623 -0.6099 -0.2832  0.2801 12.8588 \n",
       "\n",
       "Random effects:\n",
       " Groups   Name        Variance Std.Dev.\n",
       " code     (Intercept) 0.2443   0.4943  \n",
       " Residual             0.3990   0.6317  \n",
       "Number of obs: 14987, groups:  code, 72\n",
       "\n",
       "Fixed effects:\n",
       "            Estimate Std. Error t value Pr(>|z|)    \n",
       "(Intercept)  2.15072    0.22927   9.381   <2e-16 ***\n",
       "decmode      0.07357    0.05249   1.402    0.161    \n",
       "---\n",
       "Signif. codes:  0 ‘***’ 0.001 ‘**’ 0.01 ‘*’ 0.05 ‘.’ 0.1 ‘ ’ 1\n",
       "\n",
       "Correlation of Fixed Effects:\n",
       "        (Intr)\n",
       "decmode -0.921"
      ]
     },
     "metadata": {},
     "output_type": "display_data"
    }
   ],
   "source": [
    "summary(glmer(dt ~ decmode + (1|code), mydata, family = Gamma(link = \"identity\")))\n",
    "\n",
    "summary(glmer(dt ~ decmode + (1|code), mydata2, family = Gamma(link = \"identity\")))\n"
   ]
  },
  {
   "cell_type": "markdown",
   "metadata": {},
   "source": [
    "<h2>DT is decreasing over time as expected</h2>"
   ]
  },
  {
   "cell_type": "code",
   "execution_count": 61,
   "metadata": {},
   "outputs": [
    {
     "data": {
      "text/plain": [
       "Linear mixed model fit by REML. t-tests use Satterthwaite's method [\n",
       "lmerModLmerTest]\n",
       "Formula: logdt ~ round + (1 | code)\n",
       "   Data: mydata\n",
       "\n",
       "REML criterion at convergence: 19927.4\n",
       "\n",
       "Scaled residuals: \n",
       "    Min      1Q  Median      3Q     Max \n",
       "-3.8002 -0.6048 -0.1956  0.3499  9.6846 \n",
       "\n",
       "Random effects:\n",
       " Groups   Name        Variance Std.Dev.\n",
       " code     (Intercept) 0.0577   0.2402  \n",
       " Residual             0.2067   0.4546  \n",
       "Number of obs: 15548, groups:  code, 72\n",
       "\n",
       "Fixed effects:\n",
       "              Estimate Std. Error         df t value Pr(>|t|)    \n",
       "(Intercept)  1.341e+00  2.924e-02  7.819e+01   45.85   <2e-16 ***\n",
       "round       -1.412e-03  5.847e-05  1.548e+04  -24.14   <2e-16 ***\n",
       "---\n",
       "Signif. codes:  0 ‘***’ 0.001 ‘**’ 0.01 ‘*’ 0.05 ‘.’ 0.1 ‘ ’ 1\n",
       "\n",
       "Correlation of Fixed Effects:\n",
       "      (Intr)\n",
       "round -0.217"
      ]
     },
     "metadata": {},
     "output_type": "display_data"
    }
   ],
   "source": [
    "# summary(glmer(dt ~ round + (1|code), mydata, family = Gamma(link = \"identity\")))\n",
    "mydata$logdt <- log(1+mydata$dt)\n",
    "summary(lmer(logdt ~ round + (1|code), mydata))"
   ]
  },
  {
   "cell_type": "markdown",
   "metadata": {},
   "source": [
    "<h2>Choice probabilities are not affected by the psychometric variables nor decision mode</h2>"
   ]
  },
  {
   "cell_type": "code",
   "execution_count": 63,
   "metadata": {},
   "outputs": [
    {
     "data": {
      "text/plain": [
       "Generalized linear mixed model fit by maximum likelihood (Laplace\n",
       "  Approximation) [glmerMod]\n",
       " Family: binomial  ( logit )\n",
       "Formula: choice ~ scale(ref) * scale(int) + (1 | code)\n",
       "   Data: mydata2\n",
       "\n",
       "     AIC      BIC   logLik deviance df.resid \n",
       " 19117.1  19155.2  -9553.5  19107.1    14982 \n",
       "\n",
       "Scaled residuals: \n",
       "    Min      1Q  Median      3Q     Max \n",
       "-2.1743 -0.9451 -0.3966  0.8979  2.9622 \n",
       "\n",
       "Random effects:\n",
       " Groups Name        Variance Std.Dev.\n",
       " code   (Intercept) 0.6095   0.7807  \n",
       "Number of obs: 14987, groups:  code, 72\n",
       "\n",
       "Fixed effects:\n",
       "                      Estimate Std. Error z value Pr(>|z|)\n",
       "(Intercept)           -0.12120    0.13880  -0.873    0.383\n",
       "scale(ref)             0.25720    0.22283   1.154    0.248\n",
       "scale(int)             0.20669    0.21917   0.943    0.346\n",
       "scale(ref):scale(int)  0.01891    0.11605   0.163    0.871\n",
       "\n",
       "Correlation of Fixed Effects:\n",
       "            (Intr) scl(r) scl(n)\n",
       "scale(ref)  0.281               \n",
       "scale(int)  0.251  0.903        \n",
       "scl(rf):s() 0.738  0.388  0.344 "
      ]
     },
     "metadata": {},
     "output_type": "display_data"
    },
    {
     "data": {
      "text/plain": [
       "Generalized linear mixed model fit by maximum likelihood (Laplace\n",
       "  Approximation) [glmerMod]\n",
       " Family: binomial  ( logit )\n",
       "Formula: choice ~ scale(nfc) * scale(fi) + (1 | code)\n",
       "   Data: mydata2\n",
       "\n",
       "     AIC      BIC   logLik deviance df.resid \n",
       " 19117.5  19155.5  -9553.7  19107.5    14982 \n",
       "\n",
       "Scaled residuals: \n",
       "    Min      1Q  Median      3Q     Max \n",
       "-2.1693 -0.9466 -0.3939  0.8961  2.9439 \n",
       "\n",
       "Random effects:\n",
       " Groups Name        Variance Std.Dev.\n",
       " code   (Intercept) 0.6128   0.7828  \n",
       "Number of obs: 14987, groups:  code, 72\n",
       "\n",
       "Fixed effects:\n",
       "                     Estimate Std. Error z value Pr(>|z|)\n",
       "(Intercept)          -0.13391    0.09422  -1.421    0.155\n",
       "scale(nfc)           -0.04210    0.09478  -0.444    0.657\n",
       "scale(fi)             0.08152    0.09568   0.852    0.394\n",
       "scale(nfc):scale(fi)  0.04714    0.11134   0.423    0.672\n",
       "\n",
       "Correlation of Fixed Effects:\n",
       "            (Intr) scl(n) scl(f)\n",
       "scale(nfc)  0.007               \n",
       "scale(fi)   0.013  0.079        \n",
       "scl(nfc):() 0.076  0.095  0.172 "
      ]
     },
     "metadata": {},
     "output_type": "display_data"
    },
    {
     "data": {
      "text/plain": [
       "Generalized linear mixed model fit by maximum likelihood (Laplace\n",
       "  Approximation) [glmerMod]\n",
       " Family: binomial  ( logit )\n",
       "Formula: choice ~ scale(bnt) + (1 | code)\n",
       "   Data: mydata2\n",
       "\n",
       "     AIC      BIC   logLik deviance df.resid \n",
       " 19114.3  19137.2  -9554.2  19108.3    14984 \n",
       "\n",
       "Scaled residuals: \n",
       "    Min      1Q  Median      3Q     Max \n",
       "-2.1705 -0.9446 -0.3954  0.8967  2.9638 \n",
       "\n",
       "Random effects:\n",
       " Groups Name        Variance Std.Dev.\n",
       " code   (Intercept) 0.6205   0.7877  \n",
       "Number of obs: 14987, groups:  code, 72\n",
       "\n",
       "Fixed effects:\n",
       "            Estimate Std. Error z value Pr(>|z|)\n",
       "(Intercept) -0.13731    0.09454  -1.452    0.146\n",
       "scale(bnt)   0.04671    0.09456   0.494    0.621\n",
       "\n",
       "Correlation of Fixed Effects:\n",
       "           (Intr)\n",
       "scale(bnt) -0.007"
      ]
     },
     "metadata": {},
     "output_type": "display_data"
    }
   ],
   "source": [
    "summary(glmer(choice ~ scale(ref)*scale(int) + (1|code), mydata2, family=binomial(link = \"logit\")))\n",
    "summary(glmer(choice ~ scale(nfc)*scale(fi) + (1|code), mydata2, family=binomial(link = \"logit\")))\n",
    "summary(glmer(choice ~ scale(bnt) + (1|code), mydata2, family=binomial(link = \"logit\")))"
   ]
  },
  {
   "cell_type": "markdown",
   "metadata": {},
   "source": [
    "<h2>Choice probabilities and WTP</h2>\n",
    "<p>These have a significant relationship in a GLMM and this relationship is also moderated by reflectiveness and NFC.</p>"
   ]
  },
  {
   "cell_type": "code",
   "execution_count": 66,
   "metadata": {},
   "outputs": [
    {
     "data": {
      "text/plain": [
       "Generalized linear mixed model fit by maximum likelihood (Laplace\n",
       "  Approximation) [glmerMod]\n",
       " Family: binomial  ( logit )\n",
       "Formula: choice ~ wtpcert + (1 | code)\n",
       "   Data: mydata\n",
       "\n",
       "     AIC      BIC   logLik deviance df.resid \n",
       " 17737.0  17759.9  -8865.5  17731.0    15549 \n",
       "\n",
       "Scaled residuals: \n",
       "    Min      1Q  Median      3Q     Max \n",
       "-5.8359 -0.7594 -0.2438  0.7476 13.3996 \n",
       "\n",
       "Random effects:\n",
       " Groups Name        Variance Std.Dev.\n",
       " code   (Intercept) 0.8521   0.9231  \n",
       "Number of obs: 15552, groups:  code, 72\n",
       "\n",
       "Fixed effects:\n",
       "            Estimate Std. Error z value Pr(>|z|)    \n",
       "(Intercept) -0.30794    0.11051  -2.787  0.00533 ** \n",
       "wtpcert      0.21466    0.00534  40.194  < 2e-16 ***\n",
       "---\n",
       "Signif. codes:  0 ‘***’ 0.001 ‘**’ 0.01 ‘*’ 0.05 ‘.’ 0.1 ‘ ’ 1\n",
       "\n",
       "Correlation of Fixed Effects:\n",
       "        (Intr)\n",
       "wtpcert -0.046"
      ]
     },
     "metadata": {},
     "output_type": "display_data"
    },
    {
     "data": {
      "text/plain": [
       "Generalized linear mixed model fit by maximum likelihood (Laplace\n",
       "  Approximation) [glmerMod]\n",
       " Family: binomial  ( logit )\n",
       "Formula: choice ~ scale(wtpcert) * (scale(ref) + scale(nfc) + scale(bnt)) +  \n",
       "    (1 | code)\n",
       "   Data: mydata\n",
       "\n",
       "     AIC      BIC   logLik deviance df.resid \n",
       " 17508.0  17576.9  -8745.0  17490.0    15543 \n",
       "\n",
       "Scaled residuals: \n",
       "     Min       1Q   Median       3Q      Max \n",
       "-16.4136  -0.7436  -0.2125   0.7424  14.5825 \n",
       "\n",
       "Random effects:\n",
       " Groups Name        Variance Std.Dev.\n",
       " code   (Intercept) 0.8811   0.9387  \n",
       "Number of obs: 15552, groups:  code, 72\n",
       "\n",
       "Fixed effects:\n",
       "                          Estimate Std. Error z value Pr(>|z|)    \n",
       "(Intercept)               -0.15873    0.11228  -1.414 0.157450    \n",
       "scale(wtpcert)             1.11138    0.02745  40.490  < 2e-16 ***\n",
       "scale(ref)                 0.06980    0.13330   0.524 0.600526    \n",
       "scale(nfc)                 0.05295    0.11328   0.467 0.640213    \n",
       "scale(bnt)                 0.03213    0.13257   0.242 0.808521    \n",
       "scale(wtpcert):scale(ref)  0.35018    0.03119  11.227  < 2e-16 ***\n",
       "scale(wtpcert):scale(nfc)  0.07076    0.02517   2.811 0.004935 ** \n",
       "scale(wtpcert):scale(bnt)  0.10634    0.03152   3.374 0.000742 ***\n",
       "---\n",
       "Signif. codes:  0 ‘***’ 0.001 ‘**’ 0.01 ‘*’ 0.05 ‘.’ 0.1 ‘ ’ 1\n",
       "\n",
       "Correlation of Fixed Effects:\n",
       "                   (Intr) scl(w) scl(r) scl(n) scl(b) scl(wtpcrt):scl(r)\n",
       "scl(wtpcrt)        -0.014                                               \n",
       "scale(ref)          0.002  0.000                                        \n",
       "scale(nfc)         -0.002  0.020 -0.135                                 \n",
       "scale(bnt)          0.001  0.000 -0.529  0.072                          \n",
       "scl(wtpcrt):scl(r) -0.002  0.227  0.000 -0.002 -0.001                   \n",
       "scl(wtpcrt):scl(n)  0.021  0.049 -0.006 -0.024  0.002 -0.123            \n",
       "scl(wtpcrt):scl(b)  0.003  0.107 -0.001  0.004 -0.013 -0.426            \n",
       "                   scl(wtpcrt):scl(n)\n",
       "scl(wtpcrt)                          \n",
       "scale(ref)                           \n",
       "scale(nfc)                           \n",
       "scale(bnt)                           \n",
       "scl(wtpcrt):scl(r)                   \n",
       "scl(wtpcrt):scl(n)                   \n",
       "scl(wtpcrt):scl(b)  0.100            "
      ]
     },
     "metadata": {},
     "output_type": "display_data"
    }
   ],
   "source": [
    "# this variable indicates how much wtp exceeds the certain payment\n",
    "mydata$wtpcert <- mydata$wtp - mydata$certainty\n",
    "\n",
    "summary(glmer(choice ~ wtpcert + (1|code), mydata, family=binomial(link = \"logit\")))\n",
    "summary(glmer(choice ~ scale(wtpcert)*(scale(ref)+scale(nfc)+scale(bnt)) + (1|code), mydata, family=binomial(link = \"logit\")))\n"
   ]
  },
  {
   "cell_type": "markdown",
   "metadata": {},
   "source": [
    "<h2>DTs are longer in lottery choices but only in treatment E</h2>"
   ]
  },
  {
   "cell_type": "code",
   "execution_count": 17,
   "metadata": {
    "scrolled": false
   },
   "outputs": [
    {
     "data": {
      "text/plain": [
       "Generalized linear mixed model fit by maximum likelihood (Laplace\n",
       "  Approximation) [glmerMod]\n",
       " Family: Gamma  ( identity )\n",
       "Formula: dt ~ choice + (1 | code)\n",
       "   Data: subset(mydata, treatment == \"A\")\n",
       "\n",
       "     AIC      BIC   logLik deviance df.resid \n",
       " 29545.4  29573.2 -14768.7  29537.4     7770 \n",
       "\n",
       "Scaled residuals: \n",
       "   Min     1Q Median     3Q    Max \n",
       "-0.621 -0.309 -0.168  0.044 41.686 \n",
       "\n",
       "Random effects:\n",
       " Groups   Name        Variance Std.Dev.\n",
       " code     (Intercept) 4.252    2.062   \n",
       " Residual             2.553    1.598   \n",
       "Number of obs: 7774, groups:  code, 36\n",
       "\n",
       "Fixed effects:\n",
       "            Estimate Std. Error t value Pr(>|z|)    \n",
       "(Intercept)  2.92961    0.21641  13.538   <2e-16 ***\n",
       "choice       0.02950    0.03894   0.758    0.449    \n",
       "---\n",
       "Signif. codes:  0 ‘***’ 0.001 ‘**’ 0.01 ‘*’ 0.05 ‘.’ 0.1 ‘ ’ 1\n",
       "\n",
       "Correlation of Fixed Effects:\n",
       "       (Intr)\n",
       "choice -0.086"
      ]
     },
     "metadata": {},
     "output_type": "display_data"
    },
    {
     "data": {
      "text/plain": [
       "Generalized linear mixed model fit by maximum likelihood (Laplace\n",
       "  Approximation) [glmerMod]\n",
       " Family: Gamma  ( identity )\n",
       "Formula: dt ~ choice + (1 | code)\n",
       "   Data: subset(mydata, treatment == \"E\")\n",
       "\n",
       "     AIC      BIC   logLik deviance df.resid \n",
       " 29455.8  29483.6 -14723.9  29447.8     7770 \n",
       "\n",
       "Scaled residuals: \n",
       "    Min      1Q  Median      3Q     Max \n",
       "-0.9030 -0.4243 -0.2299  0.0935 31.3806 \n",
       "\n",
       "Random effects:\n",
       " Groups   Name        Variance Std.Dev.\n",
       " code     (Intercept) 2.013    1.419   \n",
       " Residual             1.226    1.107   \n",
       "Number of obs: 7774, groups:  code, 36\n",
       "\n",
       "Fixed effects:\n",
       "            Estimate Std. Error t value Pr(>|z|)    \n",
       "(Intercept)  2.96652    0.21379  13.876  < 2e-16 ***\n",
       "choice       0.18016    0.03796   4.746 2.07e-06 ***\n",
       "---\n",
       "Signif. codes:  0 ‘***’ 0.001 ‘**’ 0.01 ‘*’ 0.05 ‘.’ 0.1 ‘ ’ 1\n",
       "\n",
       "Correlation of Fixed Effects:\n",
       "       (Intr)\n",
       "choice -0.077"
      ]
     },
     "metadata": {},
     "output_type": "display_data"
    },
    {
     "data": {
      "text/plain": [
       "Generalized linear mixed model fit by maximum likelihood (Laplace\n",
       "  Approximation) [glmerMod]\n",
       " Family: Gamma  ( identity )\n",
       "Formula: dt ~ choice + (1 | code)\n",
       "   Data: subset(mydata2, treatment == \"A\")\n",
       "\n",
       "     AIC      BIC   logLik deviance df.resid \n",
       " 22226.6  22254.3 -11109.3  22218.6     7480 \n",
       "\n",
       "Scaled residuals: \n",
       "    Min      1Q  Median      3Q     Max \n",
       "-1.3100 -0.5887 -0.2832  0.2650 12.6638 \n",
       "\n",
       "Random effects:\n",
       " Groups   Name        Variance Std.Dev.\n",
       " code     (Intercept) 0.2516   0.5016  \n",
       " Residual             0.4266   0.6531  \n",
       "Number of obs: 7484, groups:  code, 36\n",
       "\n",
       "Fixed effects:\n",
       "            Estimate Std. Error t value Pr(>|z|)    \n",
       "(Intercept)  2.33002    0.12509   18.63   <2e-16 ***\n",
       "choice       0.03646    0.02464    1.48    0.139    \n",
       "---\n",
       "Signif. codes:  0 ‘***’ 0.001 ‘**’ 0.01 ‘*’ 0.05 ‘.’ 0.1 ‘ ’ 1\n",
       "\n",
       "Correlation of Fixed Effects:\n",
       "       (Intr)\n",
       "choice -0.094"
      ]
     },
     "metadata": {},
     "output_type": "display_data"
    },
    {
     "data": {
      "text/plain": [
       "Generalized linear mixed model fit by maximum likelihood (Laplace\n",
       "  Approximation) [glmerMod]\n",
       " Family: Gamma  ( identity )\n",
       "Formula: dt ~ choice + (1 | code)\n",
       "   Data: subset(mydata2, treatment == \"E\")\n",
       "\n",
       "     AIC      BIC   logLik deviance df.resid \n",
       " 23182.6  23210.3 -11587.3  23174.6     7499 \n",
       "\n",
       "Scaled residuals: \n",
       "    Min      1Q  Median      3Q     Max \n",
       "-1.5163 -0.6320 -0.2817  0.2875  7.4802 \n",
       "\n",
       "Random effects:\n",
       " Groups   Name        Variance Std.Dev.\n",
       " code     (Intercept) 0.2413   0.4912  \n",
       " Residual             0.3715   0.6095  \n",
       "Number of obs: 7503, groups:  code, 36\n",
       "\n",
       "Fixed effects:\n",
       "            Estimate Std. Error t value Pr(>|z|)    \n",
       "(Intercept)  2.50886    0.13047  19.229  < 2e-16 ***\n",
       "choice       0.07814    0.02661   2.936  0.00332 ** \n",
       "---\n",
       "Signif. codes:  0 ‘***’ 0.001 ‘**’ 0.01 ‘*’ 0.05 ‘.’ 0.1 ‘ ’ 1\n",
       "\n",
       "Correlation of Fixed Effects:\n",
       "       (Intr)\n",
       "choice -0.091"
      ]
     },
     "metadata": {},
     "output_type": "display_data"
    }
   ],
   "source": [
    "summary(glmer(dt ~ choice + (1|code), family = Gamma(link = \"identity\"), subset(mydata, treatment==\"A\")))\n",
    "summary(glmer(dt ~ choice + (1|code), family = Gamma(link = \"identity\"), subset(mydata, treatment==\"E\")))\n",
    "\n",
    "summary(glmer(dt ~ choice + (1|code), family = Gamma(link = \"identity\"), subset(mydata2, treatment==\"A\")))\n",
    "summary(glmer(dt ~ choice + (1|code), family = Gamma(link = \"identity\"), subset(mydata2, treatment==\"E\")))"
   ]
  },
  {
   "cell_type": "markdown",
   "metadata": {},
   "source": [
    "<h2>DT's are longer in lottery choices and increase in WTP, but this relationship is less intense with lottery choices</h2>\n",
    "<p>This is done with the logarithmic DT, as the glmer function has some difficulties with the intraction</p>"
   ]
  },
  {
   "cell_type": "code",
   "execution_count": 67,
   "metadata": {
    "scrolled": false
   },
   "outputs": [
    {
     "data": {
      "text/plain": [
       "Linear mixed model fit by REML. t-tests use Satterthwaite's method [\n",
       "lmerModLmerTest]\n",
       "Formula: logdt ~ scale(wtpcert) * choice + (1 | code)\n",
       "   Data: mydata\n",
       "\n",
       "REML criterion at convergence: 20452.9\n",
       "\n",
       "Scaled residuals: \n",
       "    Min      1Q  Median      3Q     Max \n",
       "-4.0844 -0.6014 -0.2005  0.3638  9.1834 \n",
       "\n",
       "Random effects:\n",
       " Groups   Name        Variance Std.Dev.\n",
       " code     (Intercept) 0.0585   0.2419  \n",
       " Residual             0.2137   0.4623  \n",
       "Number of obs: 15548, groups:  code, 72\n",
       "\n",
       "Fixed effects:\n",
       "                         Estimate Std. Error         df t value Pr(>|t|)    \n",
       "(Intercept)             1.186e+00  2.904e-02  7.393e+01  40.844  < 2e-16 ***\n",
       "scale(wtpcert)          3.029e-02  5.444e-03  1.554e+04   5.564 2.68e-08 ***\n",
       "choice1                 2.062e-02  8.472e-03  1.553e+04   2.434    0.015 *  \n",
       "scale(wtpcert):choice1 -5.205e-02  8.379e-03  1.551e+04  -6.213 5.34e-10 ***\n",
       "---\n",
       "Signif. codes:  0 ‘***’ 0.001 ‘**’ 0.01 ‘*’ 0.05 ‘.’ 0.1 ‘ ’ 1\n",
       "\n",
       "Correlation of Fixed Effects:\n",
       "            (Intr) scl(w) choic1\n",
       "scl(wtpcrt)  0.059              \n",
       "choice1     -0.134 -0.241       \n",
       "scl(wtpc):1 -0.035 -0.561 -0.086"
      ]
     },
     "metadata": {},
     "output_type": "display_data"
    }
   ],
   "source": [
    "# This produces errors:\n",
    "#summary(glmer(dt ~ scale(wtpcert)*choice + (1|code), family = Gamma(link = \"identity\"), mydata))\n",
    "\n",
    "mydata$logdt <- log(1+mydata$dt)\n",
    "summary(lmer(logdt ~ scale(wtpcert)*choice + (1|code), mydata))"
   ]
  },
  {
   "cell_type": "code",
   "execution_count": null,
   "metadata": {},
   "outputs": [],
   "source": []
  }
 ],
 "metadata": {
  "kernelspec": {
   "display_name": "R",
   "language": "R",
   "name": "ir"
  },
  "language_info": {
   "codemirror_mode": "r",
   "file_extension": ".r",
   "mimetype": "text/x-r-source",
   "name": "R",
   "pygments_lexer": "r",
   "version": "3.6.0"
  }
 },
 "nbformat": 4,
 "nbformat_minor": 2
}
