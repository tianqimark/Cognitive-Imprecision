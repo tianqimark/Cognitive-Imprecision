{
 "cells": [
  {
   "cell_type": "markdown",
   "metadata": {},
   "source": [
    "<h1>Template for multilevel analysis</h1>"
   ]
  },
  {
   "cell_type": "code",
   "execution_count": 1,
   "metadata": {
    "collapsed": true
   },
   "outputs": [
    {
     "name": "stderr",
     "output_type": "stream",
     "text": [
      "Loading required package: Matrix\n",
      "\n",
      "Attaching package: ‘lmerTest’\n",
      "\n",
      "The following object is masked from ‘package:lme4’:\n",
      "\n",
      "    lmer\n",
      "\n",
      "The following object is masked from ‘package:stats’:\n",
      "\n",
      "    step\n",
      "\n",
      "\n",
      "Attaching package: ‘nlme’\n",
      "\n",
      "The following object is masked from ‘package:lme4’:\n",
      "\n",
      "    lmList\n",
      "\n",
      "\n",
      "Attaching package: ‘dplyr’\n",
      "\n",
      "The following object is masked from ‘package:MASS’:\n",
      "\n",
      "    select\n",
      "\n",
      "The following objects are masked from ‘package:plyr’:\n",
      "\n",
      "    arrange, count, desc, failwith, id, mutate, rename, summarise,\n",
      "    summarize\n",
      "\n",
      "The following object is masked from ‘package:gridExtra’:\n",
      "\n",
      "    combine\n",
      "\n",
      "The following object is masked from ‘package:nlme’:\n",
      "\n",
      "    collapse\n",
      "\n",
      "The following objects are masked from ‘package:stats’:\n",
      "\n",
      "    filter, lag\n",
      "\n",
      "The following objects are masked from ‘package:base’:\n",
      "\n",
      "    intersect, setdiff, setequal, union\n",
      "\n"
     ]
    }
   ],
   "source": [
    "library(lme4)\n",
    "library(lmerTest)\n",
    "library(nlme)\n",
    "library(ggplot2)\n",
    "library(grid)\n",
    "library(gridExtra)\n",
    "library(lattice)\n",
    "library(plyr)\n",
    "library(MASS)\n",
    "library(stats4)\n",
    "library(dplyr)"
   ]
  },
  {
   "cell_type": "markdown",
   "metadata": {},
   "source": [
    "<h2>Load data</h2>"
   ]
  },
  {
   "cell_type": "code",
   "execution_count": 2,
   "metadata": {},
   "outputs": [],
   "source": [
    "rm(list = ls())\n",
    "mydata <- read.table(\"data.csv\", header=TRUE, sep=\",\")\n",
    "\n",
    "# sessions: ebld7meg, brtqjddt, 6zu2rqqa, eziaa6hq"
   ]
  },
  {
   "cell_type": "code",
   "execution_count": 101,
   "metadata": {},
   "outputs": [],
   "source": [
    "# does someone need to be excluded? if so, then do this\n",
    "#mydata <- subset(mydata, code != \"xxxxxx\")\n",
    "\n",
    "# make sure there are NAs where the decision times are too slow (thousands of seconds)\n",
    "#mydata$dt <- ifelse(mydata$dt > 60, \"NA\", mydata$dt)"
   ]
  },
  {
   "cell_type": "markdown",
   "metadata": {},
   "source": [
    "<h2>Summary statistics</h2>"
   ]
  },
  {
   "cell_type": "code",
   "execution_count": 17,
   "metadata": {},
   "outputs": [
    {
     "data": {
      "text/html": [
       "<table>\n",
       "<caption>A data.frame: 2 × 6</caption>\n",
       "<thead>\n",
       "\t<tr><th scope=col>treatment</th><th scope=col>N</th><th scope=col>mean DT</th><th scope=col>sd DT</th><th scope=col>mean dec. mode</th><th scope=col>mean accuracy</th></tr>\n",
       "\t<tr><th scope=col>&lt;fct&gt;</th><th scope=col>&lt;dbl&gt;</th><th scope=col>&lt;dbl&gt;</th><th scope=col>&lt;dbl&gt;</th><th scope=col>&lt;dbl&gt;</th><th scope=col>&lt;dbl&gt;</th></tr>\n",
       "</thead>\n",
       "<tbody>\n",
       "\t<tr><td>A</td><td>36</td><td>2.938477</td><td>5.320870</td><td>3.666667</td><td>0.6579218</td></tr>\n",
       "\t<tr><td>E</td><td>36</td><td>3.037160</td><td>4.251024</td><td>4.361111</td><td>0.6464884</td></tr>\n",
       "</tbody>\n",
       "</table>\n"
      ],
      "text/latex": [
       "A data.frame: 2 × 6\n",
       "\\begin{tabular}{r|llllll}\n",
       " treatment & N & mean DT & sd DT & mean dec. mode & mean accuracy\\\\\n",
       " <fct> & <dbl> & <dbl> & <dbl> & <dbl> & <dbl>\\\\\n",
       "\\hline\n",
       "\t A & 36 & 2.938477 & 5.320870 & 3.666667 & 0.6579218\\\\\n",
       "\t E & 36 & 3.037160 & 4.251024 & 4.361111 & 0.6464884\\\\\n",
       "\\end{tabular}\n"
      ],
      "text/markdown": [
       "\n",
       "A data.frame: 2 × 6\n",
       "\n",
       "| treatment &lt;fct&gt; | N &lt;dbl&gt; | mean DT &lt;dbl&gt; | sd DT &lt;dbl&gt; | mean dec. mode &lt;dbl&gt; | mean accuracy &lt;dbl&gt; |\n",
       "|---|---|---|---|---|---|\n",
       "| A | 36 | 2.938477 | 5.320870 | 3.666667 | 0.6579218 |\n",
       "| E | 36 | 3.037160 | 4.251024 | 4.361111 | 0.6464884 |\n",
       "\n"
      ],
      "text/plain": [
       "  treatment N  mean DT  sd DT    mean dec. mode mean accuracy\n",
       "1 A         36 2.938477 5.320870 3.666667       0.6579218    \n",
       "2 E         36 3.037160 4.251024 4.361111       0.6464884    "
      ]
     },
     "metadata": {},
     "output_type": "display_data"
    }
   ],
   "source": [
    "# the plyr package has really useful summarising functions\n",
    "ddply(mydata, c(\"treatment\"), summarise, \n",
    "      N = length(choice)/216,\n",
    "      'mean DT' = mean(dt, na.rm=T),\n",
    "      'sd DT' = sd(dt, na.rm=T),\n",
    "      'mean dec. mode' = mean(decmode),\n",
    "      'mean accuracy' = mean(accuracy))"
   ]
  },
  {
   "cell_type": "markdown",
   "metadata": {},
   "source": [
    "<h2>Correlation matrix for psychometric measurements</h2>"
   ]
  },
  {
   "cell_type": "code",
   "execution_count": 4,
   "metadata": {},
   "outputs": [
    {
     "data": {
      "text/html": [
       "<table>\n",
       "<caption>A matrix: 5 × 5 of type dbl</caption>\n",
       "<thead>\n",
       "\t<tr><th></th><th scope=col>ref</th><th scope=col>int</th><th scope=col>nfc</th><th scope=col>fi</th><th scope=col>bnt</th></tr>\n",
       "</thead>\n",
       "<tbody>\n",
       "\t<tr><th scope=row>ref</th><td> 1.0000000</td><td>-0.88858377</td><td> 0.1150721514</td><td>-0.18074574</td><td> 0.5277104515</td></tr>\n",
       "\t<tr><th scope=row>int</th><td>-0.8885838</td><td> 1.00000000</td><td>-0.0361085404</td><td> 0.26342536</td><td>-0.3554411973</td></tr>\n",
       "\t<tr><th scope=row>nfc</th><td> 0.1150722</td><td>-0.03610854</td><td> 1.0000000000</td><td>-0.06474535</td><td> 0.0007635697</td></tr>\n",
       "\t<tr><th scope=row>fi</th><td>-0.1807457</td><td> 0.26342536</td><td>-0.0647453490</td><td> 1.00000000</td><td>-0.0978282379</td></tr>\n",
       "\t<tr><th scope=row>bnt</th><td> 0.5277105</td><td>-0.35544120</td><td> 0.0007635697</td><td>-0.09782824</td><td> 1.0000000000</td></tr>\n",
       "</tbody>\n",
       "</table>\n"
      ],
      "text/latex": [
       "A matrix: 5 × 5 of type dbl\n",
       "\\begin{tabular}{r|lllll}\n",
       "  & ref & int & nfc & fi & bnt\\\\\n",
       "\\hline\n",
       "\tref &  1.0000000 & -0.88858377 &  0.1150721514 & -0.18074574 &  0.5277104515\\\\\n",
       "\tint & -0.8885838 &  1.00000000 & -0.0361085404 &  0.26342536 & -0.3554411973\\\\\n",
       "\tnfc &  0.1150722 & -0.03610854 &  1.0000000000 & -0.06474535 &  0.0007635697\\\\\n",
       "\tfi & -0.1807457 &  0.26342536 & -0.0647453490 &  1.00000000 & -0.0978282379\\\\\n",
       "\tbnt &  0.5277105 & -0.35544120 &  0.0007635697 & -0.09782824 &  1.0000000000\\\\\n",
       "\\end{tabular}\n"
      ],
      "text/markdown": [
       "\n",
       "A matrix: 5 × 5 of type dbl\n",
       "\n",
       "| <!--/--> | ref | int | nfc | fi | bnt |\n",
       "|---|---|---|---|---|---|\n",
       "| ref |  1.0000000 | -0.88858377 |  0.1150721514 | -0.18074574 |  0.5277104515 |\n",
       "| int | -0.8885838 |  1.00000000 | -0.0361085404 |  0.26342536 | -0.3554411973 |\n",
       "| nfc |  0.1150722 | -0.03610854 |  1.0000000000 | -0.06474535 |  0.0007635697 |\n",
       "| fi | -0.1807457 |  0.26342536 | -0.0647453490 |  1.00000000 | -0.0978282379 |\n",
       "| bnt |  0.5277105 | -0.35544120 |  0.0007635697 | -0.09782824 |  1.0000000000 |\n",
       "\n"
      ],
      "text/plain": [
       "    ref        int         nfc           fi          bnt          \n",
       "ref  1.0000000 -0.88858377  0.1150721514 -0.18074574  0.5277104515\n",
       "int -0.8885838  1.00000000 -0.0361085404  0.26342536 -0.3554411973\n",
       "nfc  0.1150722 -0.03610854  1.0000000000 -0.06474535  0.0007635697\n",
       "fi  -0.1807457  0.26342536 -0.0647453490  1.00000000 -0.0978282379\n",
       "bnt  0.5277105 -0.35544120  0.0007635697 -0.09782824  1.0000000000"
      ]
     },
     "metadata": {},
     "output_type": "display_data"
    }
   ],
   "source": [
    "cordf <- mydata %>% select(ref,int,nfc,fi,bnt)\n",
    "cor(cordf)"
   ]
  },
  {
   "cell_type": "markdown",
   "metadata": {},
   "source": [
    "<h2>Accuracy correlates with reflectiveness when controlling interations between ref and int</h2>"
   ]
  },
  {
   "cell_type": "code",
   "execution_count": 18,
   "metadata": {},
   "outputs": [
    {
     "data": {
      "text/plain": [
       "\n",
       "Call:\n",
       "lm(formula = accuracy ~ scale(ref) * scale(int), data = subset(mydata, \n",
       "    round == 1))\n",
       "\n",
       "Residuals:\n",
       "     Min       1Q   Median       3Q      Max \n",
       "-0.28922 -0.10573  0.01186  0.10184  0.26822 \n",
       "\n",
       "Coefficients:\n",
       "                      Estimate Std. Error t value Pr(>|t|)    \n",
       "(Intercept)            0.63698    0.02277  27.976   <2e-16 ***\n",
       "scale(ref)             0.08404    0.03653   2.301   0.0245 *  \n",
       "scale(int)             0.03718    0.03596   1.034   0.3048    \n",
       "scale(ref):scale(int) -0.01737    0.01917  -0.906   0.3681    \n",
       "---\n",
       "Signif. codes:  0 ‘***’ 0.001 ‘**’ 0.01 ‘*’ 0.05 ‘.’ 0.1 ‘ ’ 1\n",
       "\n",
       "Residual standard error: 0.1304 on 68 degrees of freedom\n",
       "Multiple R-squared:  0.1798,\tAdjusted R-squared:  0.1437 \n",
       "F-statistic:  4.97 on 3 and 68 DF,  p-value: 0.003539\n"
      ]
     },
     "metadata": {},
     "output_type": "display_data"
    },
    {
     "data": {
      "text/plain": [
       "\n",
       "Call:\n",
       "lm(formula = accuracy ~ scale(nfc) * scale(fi), data = subset(mydata, \n",
       "    round == 1))\n",
       "\n",
       "Residuals:\n",
       "    Min      1Q  Median      3Q     Max \n",
       "-0.3055 -0.1145  0.0205  0.1075  0.2348 \n",
       "\n",
       "Coefficients:\n",
       "                      Estimate Std. Error t value Pr(>|t|)    \n",
       "(Intercept)           0.652368   0.016881  38.645   <2e-16 ***\n",
       "scale(nfc)           -0.006592   0.017061  -0.386    0.700    \n",
       "scale(fi)             0.016344   0.017236   0.948    0.346    \n",
       "scale(nfc):scale(fi)  0.002553   0.020188   0.126    0.900    \n",
       "---\n",
       "Signif. codes:  0 ‘***’ 0.001 ‘**’ 0.01 ‘*’ 0.05 ‘.’ 0.1 ‘ ’ 1\n",
       "\n",
       "Residual standard error: 0.1428 on 68 degrees of freedom\n",
       "Multiple R-squared:  0.01611,\tAdjusted R-squared:  -0.02729 \n",
       "F-statistic: 0.3713 on 3 and 68 DF,  p-value: 0.774\n"
      ]
     },
     "metadata": {},
     "output_type": "display_data"
    }
   ],
   "source": [
    "summary(lm(accuracy ~ scale(ref)*scale(int), subset(mydata, round==1)))\n",
    "summary(lm(accuracy ~ scale(nfc)*scale(fi), subset(mydata, round==1)))"
   ]
  },
  {
   "cell_type": "markdown",
   "metadata": {},
   "source": [
    "<h2>Decision mode does not differ between treatments</h2>"
   ]
  },
  {
   "cell_type": "code",
   "execution_count": 19,
   "metadata": {},
   "outputs": [
    {
     "data": {
      "text/plain": [
       "\n",
       "Call:\n",
       "lm(formula = decmode ~ treatment, data = subset(mydata, round == \n",
       "    1))\n",
       "\n",
       "Residuals:\n",
       "    Min      1Q  Median      3Q     Max \n",
       "-2.6667 -1.4375 -0.0139  1.3333  3.3333 \n",
       "\n",
       "Coefficients:\n",
       "            Estimate Std. Error t value Pr(>|t|)    \n",
       "(Intercept)   3.6667     0.2819  13.005   <2e-16 ***\n",
       "treatmentE    0.6944     0.3987   1.742    0.086 .  \n",
       "---\n",
       "Signif. codes:  0 ‘***’ 0.001 ‘**’ 0.01 ‘*’ 0.05 ‘.’ 0.1 ‘ ’ 1\n",
       "\n",
       "Residual standard error: 1.692 on 70 degrees of freedom\n",
       "Multiple R-squared:  0.04154,\tAdjusted R-squared:  0.02784 \n",
       "F-statistic: 3.034 on 1 and 70 DF,  p-value: 0.08595\n"
      ]
     },
     "metadata": {},
     "output_type": "display_data"
    }
   ],
   "source": [
    "summary(lm(decmode ~ treatment, subset(mydata, round==1)))"
   ]
  },
  {
   "cell_type": "markdown",
   "metadata": {},
   "source": [
    "<h2>Decision mode correlates only with FI</h2>\n",
    "<p>For NFC and FI we must look into interaction effects</p>"
   ]
  },
  {
   "cell_type": "code",
   "execution_count": 20,
   "metadata": {},
   "outputs": [
    {
     "data": {
      "text/plain": [
       "\n",
       "Call:\n",
       "lm(formula = decmode ~ scale(ref) + scale(int), data = subset(mydata, \n",
       "    round == 1))\n",
       "\n",
       "Residuals:\n",
       "     Min       1Q   Median       3Q      Max \n",
       "-3.03689 -1.27980 -0.02978  1.02797  3.02708 \n",
       "\n",
       "Coefficients:\n",
       "             Estimate Std. Error t value Pr(>|t|)    \n",
       "(Intercept)  4.013889   0.205074  19.573   <2e-16 ***\n",
       "scale(ref)   0.007562   0.450200   0.017    0.987    \n",
       "scale(int)  -0.020898   0.450200  -0.046    0.963    \n",
       "---\n",
       "Signif. codes:  0 ‘***’ 0.001 ‘**’ 0.01 ‘*’ 0.05 ‘.’ 0.1 ‘ ’ 1\n",
       "\n",
       "Residual standard error: 1.74 on 69 degrees of freedom\n",
       "Multiple R-squared:  0.0002632,\tAdjusted R-squared:  -0.02871 \n",
       "F-statistic: 0.009083 on 2 and 69 DF,  p-value: 0.991\n"
      ]
     },
     "metadata": {},
     "output_type": "display_data"
    },
    {
     "data": {
      "text/plain": [
       "\n",
       "Call:\n",
       "lm(formula = decmode ~ scale(nfc) * scale(fi), data = subset(mydata, \n",
       "    round == 1))\n",
       "\n",
       "Residuals:\n",
       "    Min      1Q  Median      3Q     Max \n",
       "-3.1420 -1.3533  0.0448  1.4616  3.4666 \n",
       "\n",
       "Coefficients:\n",
       "                     Estimate Std. Error t value Pr(>|t|)    \n",
       "(Intercept)            4.0211     0.2004  20.070   <2e-16 ***\n",
       "scale(nfc)             0.1601     0.2025   0.790   0.4320    \n",
       "scale(fi)              0.4257     0.2046   2.081   0.0412 *  \n",
       "scale(nfc):scale(fi)   0.1136     0.2396   0.474   0.6368    \n",
       "---\n",
       "Signif. codes:  0 ‘***’ 0.001 ‘**’ 0.01 ‘*’ 0.05 ‘.’ 0.1 ‘ ’ 1\n",
       "\n",
       "Residual standard error: 1.695 on 68 degrees of freedom\n",
       "Multiple R-squared:  0.06501,\tAdjusted R-squared:  0.02377 \n",
       "F-statistic: 1.576 on 3 and 68 DF,  p-value: 0.2032\n"
      ]
     },
     "metadata": {},
     "output_type": "display_data"
    },
    {
     "data": {
      "text/plain": [
       "\n",
       "Call:\n",
       "lm(formula = decmode ~ scale(bnt), data = subset(mydata, round == \n",
       "    1))\n",
       "\n",
       "Residuals:\n",
       "     Min       1Q   Median       3Q      Max \n",
       "-2.99956 -1.39696 -0.07326  1.29524  3.14784 \n",
       "\n",
       "Coefficients:\n",
       "            Estimate Std. Error t value Pr(>|t|)    \n",
       "(Intercept)   4.0139     0.2026  19.809   <2e-16 ***\n",
       "scale(bnt)   -0.1699     0.2041  -0.833    0.408    \n",
       "---\n",
       "Signif. codes:  0 ‘***’ 0.001 ‘**’ 0.01 ‘*’ 0.05 ‘.’ 0.1 ‘ ’ 1\n",
       "\n",
       "Residual standard error: 1.719 on 70 degrees of freedom\n",
       "Multiple R-squared:  0.009806,\tAdjusted R-squared:  -0.00434 \n",
       "F-statistic: 0.6932 on 1 and 70 DF,  p-value: 0.4079\n"
      ]
     },
     "metadata": {},
     "output_type": "display_data"
    }
   ],
   "source": [
    "summary(lm(decmode ~ scale(ref)+scale(int), subset(mydata, round==1)))\n",
    "summary(lm(decmode ~ scale(nfc)*scale(fi), subset(mydata, round==1)))\n",
    "summary(lm(decmode ~ scale(bnt), subset(mydata, round==1)))"
   ]
  },
  {
   "cell_type": "markdown",
   "metadata": {},
   "source": [
    "<h2>Decision mode vs. psychometrics scatter plots</h2>"
   ]
  },
  {
   "cell_type": "code",
   "execution_count": 21,
   "metadata": {},
   "outputs": [
    {
     "data": {
      "image/png": "[encoded data removed]",
      "text/plain": [
       "plot without title"
      ]
     },
     "metadata": {},
     "output_type": "display_data"
    }
   ],
   "source": [
    "options(repr.plot.width=7, repr.plot.height=5)\n",
    "\n",
    "\n",
    "gpl1 <- ggplot(subset(mydata, round==1), aes(x=ref, y=decmode)) + geom_point(shape=1) + geom_smooth(method=lm)\n",
    "gpl2 <- ggplot(subset(mydata, round==1), aes(x=int, y=decmode)) + geom_point(shape=1) + geom_smooth(method=lm)\n",
    "gpl3 <- ggplot(subset(mydata, round==1), aes(x=nfc, y=decmode)) + geom_point(shape=1) + geom_smooth(method=lm)\n",
    "gpl4 <- ggplot(subset(mydata, round==1), aes(x=fi,  y=decmode)) + geom_point(shape=1) + geom_smooth(method=lm)\n",
    "gpl5 <- ggplot(subset(mydata, round==1), aes(x=bnt, y=decmode)) + geom_point(shape=1) + geom_smooth(method=lm)\n",
    "\n",
    "\n",
    "grid.arrange(gpl1, gpl2, gpl3, gpl4, gpl5, nrow = 2)\n"
   ]
  },
  {
   "cell_type": "markdown",
   "metadata": {},
   "source": [
    "<h2>DT ecdf</h2>"
   ]
  },
  {
   "cell_type": "code",
   "execution_count": 48,
   "metadata": {},
   "outputs": [
    {
     "name": "stderr",
     "output_type": "stream",
     "text": [
      "Warning message:\n",
      "“Removed 791 rows containing non-finite values (stat_ecdf).”"
     ]
    },
    {
     "data": {
      "image/png": "[encoded data removed]",
      "text/plain": [
       "plot without title"
      ]
     },
     "metadata": {},
     "output_type": "display_data"
    }
   ],
   "source": [
    "options(repr.plot.width=5, repr.plot.height=5)\n",
    "\n",
    "\n",
    "ecdf <- ggplot(subset(mydata, (treatment==\"A\" | treatment==\"E\")), aes(dt, colour=treatment)) + \n",
    "        stat_ecdf(geom = \"step\") + \n",
    "        labs(title = \"\", y = \"\", x = \"Decision time (s)\") +\n",
    "        scale_x_continuous(expand= c(0, 0), limits = c(0, 8)) +\n",
    "        scale_y_continuous(expand = c(0, 0)) + \n",
    "        theme(legend.position=\"bottom\", legend.title=element_blank())\n",
    "\n",
    "ecdf"
   ]
  },
  {
   "cell_type": "markdown",
   "metadata": {},
   "source": [
    "<h2>DT distributions differ at the aggregate level</h2>"
   ]
  },
  {
   "cell_type": "code",
   "execution_count": 23,
   "metadata": {},
   "outputs": [
    {
     "name": "stderr",
     "output_type": "stream",
     "text": [
      "Warning message in ks.test(mydata$dt[mydata$treatment == \"A\"], mydata$dt[mydata$treatment == :\n",
      "“p-value will be approximate in the presence of ties”"
     ]
    },
    {
     "data": {
      "text/plain": [
       "\n",
       "\tTwo-sample Kolmogorov-Smirnov test\n",
       "\n",
       "data:  mydata$dt[mydata$treatment == \"A\"] and mydata$dt[mydata$treatment == \"E\"]\n",
       "D^+ = 0.075508, p-value < 2.2e-16\n",
       "alternative hypothesis: the CDF of x lies above that of y\n"
      ]
     },
     "metadata": {},
     "output_type": "display_data"
    }
   ],
   "source": [
    "ks.test(mydata$dt[mydata$treatment==\"A\"], mydata$dt[mydata$treatment==\"E\"], alternative=\"greater\")"
   ]
  },
  {
   "cell_type": "markdown",
   "metadata": {},
   "source": [
    "<h2>Simple linear regression with averaged DTs: DT is decreasing in decision mode</h2>\n",
    "<p>Determine the average DT for each participant, add this as a column in the data frame, and use a linear model without random effects</p>"
   ]
  },
  {
   "cell_type": "code",
   "execution_count": 24,
   "metadata": {},
   "outputs": [],
   "source": [
    "aggrdata <- mydata %>% group_by(code) %>% summarise(meandt = mean(dt, na.rm=T))\n",
    "mydata$meandt <- rep(aggrdata$meandt, each=216)"
   ]
  },
  {
   "cell_type": "code",
   "execution_count": 25,
   "metadata": {},
   "outputs": [
    {
     "data": {
      "text/plain": [
       "\n",
       "Call:\n",
       "lm(formula = meandt ~ decmode, data = mydata)\n",
       "\n",
       "Residuals:\n",
       "    Min      1Q  Median      3Q     Max \n",
       "-2.1344 -0.8222 -0.2512  0.5170  4.4861 \n",
       "\n",
       "Coefficients:\n",
       "             Estimate Std. Error t value Pr(>|t|)    \n",
       "(Intercept)  3.077356   0.026228 117.330  < 2e-16 ***\n",
       "decmode     -0.022346   0.006015  -3.715 0.000204 ***\n",
       "---\n",
       "Signif. codes:  0 ‘***’ 0.001 ‘**’ 0.01 ‘*’ 0.05 ‘.’ 0.1 ‘ ’ 1\n",
       "\n",
       "Residual standard error: 1.278 on 15550 degrees of freedom\n",
       "Multiple R-squared:  0.0008868,\tAdjusted R-squared:  0.0008226 \n",
       "F-statistic:  13.8 on 1 and 15550 DF,  p-value: 0.0002038\n"
      ]
     },
     "metadata": {},
     "output_type": "display_data"
    }
   ],
   "source": [
    "summary(lm(meandt ~ decmode, mydata))"
   ]
  },
  {
   "cell_type": "markdown",
   "metadata": {},
   "source": [
    "<h2>GLMM with subject random effects: DT is not dependent on decision mode</h2>\n",
    "<p>This uses a GLMM and recognises different variances in DTs over the subjects. The distribution family we use is Gamma distribution in accordance with Lo & Andrews (2015).</p>"
   ]
  },
  {
   "cell_type": "code",
   "execution_count": 26,
   "metadata": {
    "scrolled": false
   },
   "outputs": [
    {
     "data": {
      "text/plain": [
       "Generalized linear mixed model fit by maximum likelihood (Laplace\n",
       "  Approximation) [glmerMod]\n",
       " Family: Gamma  ( identity )\n",
       "Formula: dt ~ decmode + (1 | code)\n",
       "   Data: mydata\n",
       "\n",
       "     AIC      BIC   logLik deviance df.resid \n",
       " 59080.9  59111.6 -29536.5  59072.9    15544 \n",
       "\n",
       "Scaled residuals: \n",
       "   Min     1Q Median     3Q    Max \n",
       "-0.726 -0.350 -0.191  0.064 48.594 \n",
       "\n",
       "Random effects:\n",
       " Groups   Name        Variance Std.Dev.\n",
       " code     (Intercept) 3.040    1.744   \n",
       " Residual             1.895    1.377   \n",
       "Number of obs: 15548, groups:  code, 72\n",
       "\n",
       "Fixed effects:\n",
       "            Estimate Std. Error t value Pr(>|z|)    \n",
       "(Intercept)  2.47883    0.38190   6.491 8.54e-11 ***\n",
       "decmode      0.12894    0.08761   1.472    0.141    \n",
       "---\n",
       "Signif. codes:  0 ‘***’ 0.001 ‘**’ 0.01 ‘*’ 0.05 ‘.’ 0.1 ‘ ’ 1\n",
       "\n",
       "Correlation of Fixed Effects:\n",
       "        (Intr)\n",
       "decmode -0.920"
      ]
     },
     "metadata": {},
     "output_type": "display_data"
    },
    {
     "data": {
      "text/plain": [
       "Generalized linear mixed model fit by maximum likelihood (Laplace\n",
       "  Approximation) [glmerMod]\n",
       " Family: Gamma  ( identity )\n",
       "Formula: dt ~ scale(decmode) * treatment + (1 | code)\n",
       "   Data: mydata\n",
       "\n",
       "     AIC      BIC   logLik deviance df.resid \n",
       " 59083.3  59129.2 -29535.6  59071.3    15542 \n",
       "\n",
       "Scaled residuals: \n",
       "   Min     1Q Median     3Q    Max \n",
       "-0.726 -0.350 -0.191  0.064 48.700 \n",
       "\n",
       "Random effects:\n",
       " Groups   Name        Variance Std.Dev.\n",
       " code     (Intercept) 2.972    1.724   \n",
       " Residual             1.897    1.377   \n",
       "Number of obs: 15548, groups:  code, 72\n",
       "\n",
       "Fixed effects:\n",
       "                           Estimate Std. Error t value Pr(>|z|)    \n",
       "(Intercept)                3.033267   0.213118  14.233   <2e-16 ***\n",
       "scale(decmode)             0.419187   0.215440   1.946   0.0517 .  \n",
       "treatmentE                 0.006106   0.301209   0.020   0.9838    \n",
       "scale(decmode):treatmentE -0.392462   0.301459  -1.302   0.1930    \n",
       "---\n",
       "Signif. codes:  0 ‘***’ 0.001 ‘**’ 0.01 ‘*’ 0.05 ‘.’ 0.1 ‘ ’ 1\n",
       "\n",
       "Correlation of Fixed Effects:\n",
       "            (Intr) scl(d) trtmnE\n",
       "scale(dcmd)  0.208              \n",
       "treatmentE  -0.707 -0.147       \n",
       "scl(dcmd):E -0.149 -0.714  0.006"
      ]
     },
     "metadata": {},
     "output_type": "display_data"
    }
   ],
   "source": [
    "summary(glmer(dt ~ decmode + (1|code), mydata, family = Gamma(link = \"identity\")))\n",
    "summary(glmer(dt ~ scale(decmode)*treatment + (1|code), mydata, family = Gamma(link = \"identity\")))"
   ]
  },
  {
   "cell_type": "markdown",
   "metadata": {},
   "source": [
    "<h2>DT is decreasing over time as expected</h2>"
   ]
  },
  {
   "cell_type": "code",
   "execution_count": 69,
   "metadata": {},
   "outputs": [
    {
     "data": {
      "text/plain": [
       "Linear mixed model fit by REML. t-tests use Satterthwaite's method [\n",
       "lmerModLmerTest]\n",
       "Formula: logdt ~ round + (1 | code)\n",
       "   Data: mydata\n",
       "\n",
       "REML criterion at convergence: 19927.4\n",
       "\n",
       "Scaled residuals: \n",
       "    Min      1Q  Median      3Q     Max \n",
       "-3.8002 -0.6048 -0.1956  0.3499  9.6846 \n",
       "\n",
       "Random effects:\n",
       " Groups   Name        Variance Std.Dev.\n",
       " code     (Intercept) 0.0577   0.2402  \n",
       " Residual             0.2067   0.4546  \n",
       "Number of obs: 15548, groups:  code, 72\n",
       "\n",
       "Fixed effects:\n",
       "              Estimate Std. Error         df t value Pr(>|t|)    \n",
       "(Intercept)  1.341e+00  2.924e-02  7.819e+01   45.85   <2e-16 ***\n",
       "round       -1.412e-03  5.847e-05  1.548e+04  -24.14   <2e-16 ***\n",
       "---\n",
       "Signif. codes:  0 ‘***’ 0.001 ‘**’ 0.01 ‘*’ 0.05 ‘.’ 0.1 ‘ ’ 1\n",
       "\n",
       "Correlation of Fixed Effects:\n",
       "      (Intr)\n",
       "round -0.217"
      ]
     },
     "metadata": {},
     "output_type": "display_data"
    }
   ],
   "source": [
    "# summary(glmer(dt ~ round + (1|code), subset(mydata, round>200), family = Gamma(link = \"identity\")))\n",
    "mydata$logdt <- log(1+mydata$dt)\n",
    "summary(lmer(logdt ~ round + (1|code), mydata))"
   ]
  },
  {
   "cell_type": "markdown",
   "metadata": {},
   "source": [
    "<h2>Choice probabilities are not affected by the psychometric variables nor decision mode</h2>"
   ]
  },
  {
   "cell_type": "code",
   "execution_count": 27,
   "metadata": {
    "scrolled": false
   },
   "outputs": [
    {
     "data": {
      "text/plain": [
       "Generalized linear mixed model fit by maximum likelihood (Laplace\n",
       "  Approximation) [glmerMod]\n",
       " Family: binomial  ( logit )\n",
       "Formula: choice ~ scale(ref) * scale(int) + (1 | code)\n",
       "   Data: mydata\n",
       "\n",
       "     AIC      BIC   logLik deviance df.resid \n",
       " 19848.0  19886.3  -9919.0  19838.0    15547 \n",
       "\n",
       "Scaled residuals: \n",
       "    Min      1Q  Median      3Q     Max \n",
       "-2.1793 -0.9455 -0.4092  0.9238  2.9539 \n",
       "\n",
       "Random effects:\n",
       " Groups Name        Variance Std.Dev.\n",
       " code   (Intercept) 0.6013   0.7754  \n",
       "Number of obs: 15552, groups:  code, 72\n",
       "\n",
       "Fixed effects:\n",
       "                      Estimate Std. Error z value Pr(>|z|)\n",
       "(Intercept)           -0.12488    0.13782  -0.906    0.365\n",
       "scale(ref)             0.24849    0.22044   1.127    0.260\n",
       "scale(int)             0.19751    0.21704   0.910    0.363\n",
       "scale(ref):scale(int)  0.01359    0.11443   0.119    0.905\n",
       "\n",
       "Correlation of Fixed Effects:\n",
       "            (Intr) scl(r) scl(n)\n",
       "scale(ref)  0.282               \n",
       "scale(int)  0.255  0.903        \n",
       "scl(rf):s() 0.738  0.383  0.347 "
      ]
     },
     "metadata": {},
     "output_type": "display_data"
    },
    {
     "data": {
      "text/plain": [
       "Generalized linear mixed model fit by maximum likelihood (Laplace\n",
       "  Approximation) [glmerMod]\n",
       " Family: binomial  ( logit )\n",
       "Formula: choice ~ scale(nfc) * scale(fi) + (1 | code)\n",
       "   Data: mydata\n",
       "\n",
       "     AIC      BIC   logLik deviance df.resid \n",
       " 19848.4  19886.7  -9919.2  19838.4    15547 \n",
       "\n",
       "Scaled residuals: \n",
       "    Min      1Q  Median      3Q     Max \n",
       "-2.1738 -0.9460 -0.4067  0.9236  2.9364 \n",
       "\n",
       "Random effects:\n",
       " Groups Name        Variance Std.Dev.\n",
       " code   (Intercept) 0.6045   0.7775  \n",
       "Number of obs: 15552, groups:  code, 72\n",
       "\n",
       "Fixed effects:\n",
       "                     Estimate Std. Error z value Pr(>|z|)\n",
       "(Intercept)          -0.13422    0.09356  -1.435    0.151\n",
       "scale(nfc)           -0.03735    0.09384  -0.398    0.691\n",
       "scale(fi)             0.08304    0.09496   0.874    0.382\n",
       "scale(nfc):scale(fi)  0.04297    0.11035   0.389    0.697\n",
       "\n",
       "Correlation of Fixed Effects:\n",
       "            (Intr) scl(n) scl(f)\n",
       "scale(nfc)  0.005               \n",
       "scale(fi)   0.012  0.080        \n",
       "scl(nfc):() 0.076  0.095  0.171 "
      ]
     },
     "metadata": {},
     "output_type": "display_data"
    },
    {
     "data": {
      "text/plain": [
       "Generalized linear mixed model fit by maximum likelihood (Laplace\n",
       "  Approximation) [glmerMod]\n",
       " Family: binomial  ( logit )\n",
       "Formula: choice ~ scale(bnt) + (1 | code)\n",
       "   Data: mydata\n",
       "\n",
       "     AIC      BIC   logLik deviance df.resid \n",
       " 19845.2  19868.2  -9919.6  19839.2    15549 \n",
       "\n",
       "Scaled residuals: \n",
       "    Min      1Q  Median      3Q     Max \n",
       "-2.1750 -0.9450 -0.4081  0.9240  2.9551 \n",
       "\n",
       "Random effects:\n",
       " Groups Name        Variance Std.Dev.\n",
       " code   (Intercept) 0.6118   0.7822  \n",
       "Number of obs: 15552, groups:  code, 72\n",
       "\n",
       "Fixed effects:\n",
       "            Estimate Std. Error z value Pr(>|z|)\n",
       "(Intercept) -0.13702    0.09388  -1.460    0.144\n",
       "scale(bnt)   0.04583    0.09399   0.488    0.626\n",
       "\n",
       "Correlation of Fixed Effects:\n",
       "           (Intr)\n",
       "scale(bnt) 0.001 "
      ]
     },
     "metadata": {},
     "output_type": "display_data"
    }
   ],
   "source": [
    "summary(glmer(choice ~ scale(ref)*scale(int) + (1|code), mydata, family=binomial(link = \"logit\")))\n",
    "summary(glmer(choice ~ scale(nfc)*scale(fi) + (1|code), mydata, family=binomial(link = \"logit\")))\n",
    "summary(glmer(choice ~ scale(bnt) + (1|code), mydata, family=binomial(link = \"logit\")))"
   ]
  },
  {
   "cell_type": "markdown",
   "metadata": {},
   "source": [
    "<h2>DTs are longer in lottery choices but only in treatment E</h2>"
   ]
  },
  {
   "cell_type": "code",
   "execution_count": 28,
   "metadata": {},
   "outputs": [
    {
     "data": {
      "text/plain": [
       "Generalized linear mixed model fit by maximum likelihood (Laplace\n",
       "  Approximation) [glmerMod]\n",
       " Family: Gamma  ( identity )\n",
       "Formula: dt ~ choice * treatment + (1 | code)\n",
       "   Data: mydata\n",
       "\n",
       "     AIC      BIC   logLik deviance df.resid \n",
       " 59065.5  59111.4 -29526.7  59053.5    15542 \n",
       "\n",
       "Scaled residuals: \n",
       "   Min     1Q Median     3Q    Max \n",
       "-0.727 -0.350 -0.189  0.063 48.456 \n",
       "\n",
       "Random effects:\n",
       " Groups   Name        Variance Std.Dev.\n",
       " code     (Intercept) 3.115    1.765   \n",
       " Residual             1.889    1.375   \n",
       "Number of obs: 15548, groups:  code, 72\n",
       "\n",
       "Fixed effects:\n",
       "                  Estimate Std. Error t value Pr(>|z|)    \n",
       "(Intercept)        2.93327    0.21478  13.657  < 2e-16 ***\n",
       "choice             0.02964    0.03735   0.794  0.42740    \n",
       "treatmentE         0.02869    0.30371   0.094  0.92473    \n",
       "choice:treatmentE  0.15056    0.05454   2.761  0.00577 ** \n",
       "---\n",
       "Signif. codes:  0 ‘***’ 0.001 ‘**’ 0.01 ‘*’ 0.05 ‘.’ 0.1 ‘ ’ 1\n",
       "\n",
       "Correlation of Fixed Effects:\n",
       "            (Intr) choice trtmnE\n",
       "choice      -0.084              \n",
       "treatmentE  -0.707  0.059       \n",
       "chc:trtmntE  0.057 -0.685 -0.082"
      ]
     },
     "metadata": {},
     "output_type": "display_data"
    }
   ],
   "source": [
    "summary(glmer(dt ~ choice*treatment + (1|code), family = Gamma(link = \"identity\"), mydata))"
   ]
  },
  {
   "cell_type": "code",
   "execution_count": null,
   "metadata": {},
   "outputs": [],
   "source": []
  }
 ],
 "metadata": {
  "kernelspec": {
   "display_name": "R",
   "language": "R",
   "name": "ir"
  },
  "language_info": {
   "codemirror_mode": "r",
   "file_extension": ".r",
   "mimetype": "text/x-r-source",
   "name": "R",
   "pygments_lexer": "r",
   "version": "3.6.0"
  }
 },
 "nbformat": 4,
 "nbformat_minor": 2
}
