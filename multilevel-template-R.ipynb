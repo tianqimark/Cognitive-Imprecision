{
 "cells": [
  {
   "cell_type": "markdown",
   "metadata": {},
   "source": [
    "<center><h1>Template for multilevel analysis</h1></center>"
   ]
  },
  {
   "cell_type": "code",
   "execution_count": 1,
   "metadata": {
    "collapsed": true
   },
   "outputs": [
    {
     "name": "stderr",
     "output_type": "stream",
     "text": [
      "Loading required package: Matrix\n",
      "\n",
      "Attaching package: ‘lmerTest’\n",
      "\n",
      "The following object is masked from ‘package:lme4’:\n",
      "\n",
      "    lmer\n",
      "\n",
      "The following object is masked from ‘package:stats’:\n",
      "\n",
      "    step\n",
      "\n",
      "\n",
      "Attaching package: ‘nlme’\n",
      "\n",
      "The following object is masked from ‘package:lme4’:\n",
      "\n",
      "    lmList\n",
      "\n",
      "\n",
      "Attaching package: ‘dplyr’\n",
      "\n",
      "The following object is masked from ‘package:MASS’:\n",
      "\n",
      "    select\n",
      "\n",
      "The following objects are masked from ‘package:plyr’:\n",
      "\n",
      "    arrange, count, desc, failwith, id, mutate, rename, summarise,\n",
      "    summarize\n",
      "\n",
      "The following object is masked from ‘package:gridExtra’:\n",
      "\n",
      "    combine\n",
      "\n",
      "The following object is masked from ‘package:nlme’:\n",
      "\n",
      "    collapse\n",
      "\n",
      "The following objects are masked from ‘package:stats’:\n",
      "\n",
      "    filter, lag\n",
      "\n",
      "The following objects are masked from ‘package:base’:\n",
      "\n",
      "    intersect, setdiff, setequal, union\n",
      "\n"
     ]
    }
   ],
   "source": [
    "library(lme4)\n",
    "library(lmerTest)\n",
    "library(nlme)\n",
    "library(ggplot2)\n",
    "library(grid)\n",
    "library(gridExtra)\n",
    "library(lattice)\n",
    "library(plyr)\n",
    "library(MASS)\n",
    "library(stats4)\n",
    "library(dplyr)"
   ]
  },
  {
   "cell_type": "markdown",
   "metadata": {},
   "source": [
    "<h2>Load data</h2>"
   ]
  },
  {
   "cell_type": "code",
   "execution_count": 2,
   "metadata": {},
   "outputs": [],
   "source": [
    "rm(list = ls())\n",
    "mydata <- read.table(\"data.csv\", header=TRUE, sep=\",\")\n",
    "mydata$choice <- as.factor(mydata$choice)\n",
    "mydata$logdt <- log(1+mydata$dt)\n",
    "mydata$wtpcert <- mydata$wtp - mydata$certainty # this variable indicates how much wtp exceeds the certain payment\n",
    "\n",
    "# sessions: ebld7meg, brtqjddt, 6zu2rqqa, eziaa6hq"
   ]
  },
  {
   "cell_type": "code",
   "execution_count": 3,
   "metadata": {},
   "outputs": [],
   "source": [
    "# does someone need to be excluded? if so, then do this\n",
    "#mydata <- subset(mydata, code != \"xxxxxx\")\n",
    "\n",
    "# make sure there are NAs where the decision times are too slow (thousands of seconds)\n",
    "#mydata$dt <- ifelse(mydata$dt > 60, \"NA\", mydata$dt)"
   ]
  },
  {
   "cell_type": "code",
   "execution_count": 3,
   "metadata": {
    "collapsed": true
   },
   "outputs": [
    {
     "data": {
      "text/html": [
       "<ol class=list-inline>\n",
       "\t<li>12sc0g5v</li>\n",
       "\t<li>1qbnwx3l</li>\n",
       "\t<li>36ouqzzd</li>\n",
       "\t<li>52j7762b</li>\n",
       "\t<li>bjfz28ad</li>\n",
       "\t<li>d31s1n66</li>\n",
       "\t<li>hh7kzemh</li>\n",
       "\t<li>hx9ehppu</li>\n",
       "\t<li>io49s2w4</li>\n",
       "\t<li>jpuryirm</li>\n",
       "\t<li>jpwrvoov</li>\n",
       "\t<li>jurpiifj</li>\n",
       "\t<li>knx8vg7c</li>\n",
       "\t<li>l0kaow09</li>\n",
       "\t<li>o69ey5fu</li>\n",
       "\t<li>ouiw6pd9</li>\n",
       "\t<li>skhtyere</li>\n",
       "\t<li>u4qbd47b</li>\n",
       "\t<li>uhztk9co</li>\n",
       "\t<li>vjrwmz25</li>\n",
       "\t<li>x3t78y9i</li>\n",
       "\t<li>z3d6txou</li>\n",
       "</ol>\n",
       "\n",
       "<details>\n",
       "\t<summary style=display:list-item;cursor:pointer>\n",
       "\t\t<strong>Levels</strong>:\n",
       "\t</summary>\n",
       "\t<ol class=list-inline>\n",
       "\t\t<li>'0m74d76z'</li>\n",
       "\t\t<li>'0qdzvx7e'</li>\n",
       "\t\t<li>'12sc0g5v'</li>\n",
       "\t\t<li>'1mnjeuu1'</li>\n",
       "\t\t<li>'1qbnwx3l'</li>\n",
       "\t\t<li>'29qda7ah'</li>\n",
       "\t\t<li>'36ouqzzd'</li>\n",
       "\t\t<li>'3c9l7fd3'</li>\n",
       "\t\t<li>'474bkw80'</li>\n",
       "\t\t<li>'52j7762b'</li>\n",
       "\t\t<li>'5gnz33b5'</li>\n",
       "\t\t<li>'5ozq9eys'</li>\n",
       "\t\t<li>'5yck032n'</li>\n",
       "\t\t<li>'6b88518a'</li>\n",
       "\t\t<li>'6veaowoq'</li>\n",
       "\t\t<li>'6xdjxekt'</li>\n",
       "\t\t<li>'81pj6bqo'</li>\n",
       "\t\t<li>'8zo3kpha'</li>\n",
       "\t\t<li>'9gdpr0yo'</li>\n",
       "\t\t<li>'bdplmtbn'</li>\n",
       "\t\t<li>'bjfz28ad'</li>\n",
       "\t\t<li>'c1ii2ril'</li>\n",
       "\t\t<li>'c53duxqh'</li>\n",
       "\t\t<li>'c793ncps'</li>\n",
       "\t\t<li>'d31s1n66'</li>\n",
       "\t\t<li>'e3pv4cx7'</li>\n",
       "\t\t<li>'ewvjblzn'</li>\n",
       "\t\t<li>'f8y6y02h'</li>\n",
       "\t\t<li>'fqfveeqs'</li>\n",
       "\t\t<li>'fsupgz1o'</li>\n",
       "\t\t<li>'gp1n7ltt'</li>\n",
       "\t\t<li>'hh7kzemh'</li>\n",
       "\t\t<li>'hqa9ri4g'</li>\n",
       "\t\t<li>'hx9ehppu'</li>\n",
       "\t\t<li>'iditjno6'</li>\n",
       "\t\t<li>'io49s2w4'</li>\n",
       "\t\t<li>'isxkx7lu'</li>\n",
       "\t\t<li>'jcnrboc2'</li>\n",
       "\t\t<li>'jpuryirm'</li>\n",
       "\t\t<li>'jpwrvoov'</li>\n",
       "\t\t<li>'jpzkc32d'</li>\n",
       "\t\t<li>'jurpiifj'</li>\n",
       "\t\t<li>'knx8vg7c'</li>\n",
       "\t\t<li>'l0kaow09'</li>\n",
       "\t\t<li>'m7h7riea'</li>\n",
       "\t\t<li>'m8m7lmfd'</li>\n",
       "\t\t<li>'mc8nwpfm'</li>\n",
       "\t\t<li>'nr8hunom'</li>\n",
       "\t\t<li>'o69ey5fu'</li>\n",
       "\t\t<li>'ouiw6pd9'</li>\n",
       "\t\t<li>'pnxh06d9'</li>\n",
       "\t\t<li>'prg50xex'</li>\n",
       "\t\t<li>'q1julxj0'</li>\n",
       "\t\t<li>'ql9gu3ye'</li>\n",
       "\t\t<li>'qxulbwqw'</li>\n",
       "\t\t<li>'skhtyere'</li>\n",
       "\t\t<li>'sxb69c4i'</li>\n",
       "\t\t<li>'tojy20ry'</li>\n",
       "\t\t<li>'u4qbd47b'</li>\n",
       "\t\t<li>'u55ham6t'</li>\n",
       "\t\t<li>'uhztk9co'</li>\n",
       "\t\t<li>'uqkl629d'</li>\n",
       "\t\t<li>'vjrwmz25'</li>\n",
       "\t\t<li>'x3t78y9i'</li>\n",
       "\t\t<li>'x4rtxk7v'</li>\n",
       "\t\t<li>'x4ug5swz'</li>\n",
       "\t\t<li>'xsj3e8ll'</li>\n",
       "\t\t<li>'y0kdc67d'</li>\n",
       "\t\t<li>'y5n4rydi'</li>\n",
       "\t\t<li>'ylnbbasf'</li>\n",
       "\t\t<li>'z3d6txou'</li>\n",
       "\t\t<li>'z7pvqin0'</li>\n",
       "\t</ol>\n",
       "</details>"
      ],
      "text/latex": [
       "\\begin{enumerate*}\n",
       "\\item 12sc0g5v\n",
       "\\item 1qbnwx3l\n",
       "\\item 36ouqzzd\n",
       "\\item 52j7762b\n",
       "\\item bjfz28ad\n",
       "\\item d31s1n66\n",
       "\\item hh7kzemh\n",
       "\\item hx9ehppu\n",
       "\\item io49s2w4\n",
       "\\item jpuryirm\n",
       "\\item jpwrvoov\n",
       "\\item jurpiifj\n",
       "\\item knx8vg7c\n",
       "\\item l0kaow09\n",
       "\\item o69ey5fu\n",
       "\\item ouiw6pd9\n",
       "\\item skhtyere\n",
       "\\item u4qbd47b\n",
       "\\item uhztk9co\n",
       "\\item vjrwmz25\n",
       "\\item x3t78y9i\n",
       "\\item z3d6txou\n",
       "\\end{enumerate*}\n",
       "\n",
       "\\emph{Levels}: \\begin{enumerate*}\n",
       "\\item '0m74d76z'\n",
       "\\item '0qdzvx7e'\n",
       "\\item '12sc0g5v'\n",
       "\\item '1mnjeuu1'\n",
       "\\item '1qbnwx3l'\n",
       "\\item '29qda7ah'\n",
       "\\item '36ouqzzd'\n",
       "\\item '3c9l7fd3'\n",
       "\\item '474bkw80'\n",
       "\\item '52j7762b'\n",
       "\\item '5gnz33b5'\n",
       "\\item '5ozq9eys'\n",
       "\\item '5yck032n'\n",
       "\\item '6b88518a'\n",
       "\\item '6veaowoq'\n",
       "\\item '6xdjxekt'\n",
       "\\item '81pj6bqo'\n",
       "\\item '8zo3kpha'\n",
       "\\item '9gdpr0yo'\n",
       "\\item 'bdplmtbn'\n",
       "\\item 'bjfz28ad'\n",
       "\\item 'c1ii2ril'\n",
       "\\item 'c53duxqh'\n",
       "\\item 'c793ncps'\n",
       "\\item 'd31s1n66'\n",
       "\\item 'e3pv4cx7'\n",
       "\\item 'ewvjblzn'\n",
       "\\item 'f8y6y02h'\n",
       "\\item 'fqfveeqs'\n",
       "\\item 'fsupgz1o'\n",
       "\\item 'gp1n7ltt'\n",
       "\\item 'hh7kzemh'\n",
       "\\item 'hqa9ri4g'\n",
       "\\item 'hx9ehppu'\n",
       "\\item 'iditjno6'\n",
       "\\item 'io49s2w4'\n",
       "\\item 'isxkx7lu'\n",
       "\\item 'jcnrboc2'\n",
       "\\item 'jpuryirm'\n",
       "\\item 'jpwrvoov'\n",
       "\\item 'jpzkc32d'\n",
       "\\item 'jurpiifj'\n",
       "\\item 'knx8vg7c'\n",
       "\\item 'l0kaow09'\n",
       "\\item 'm7h7riea'\n",
       "\\item 'm8m7lmfd'\n",
       "\\item 'mc8nwpfm'\n",
       "\\item 'nr8hunom'\n",
       "\\item 'o69ey5fu'\n",
       "\\item 'ouiw6pd9'\n",
       "\\item 'pnxh06d9'\n",
       "\\item 'prg50xex'\n",
       "\\item 'q1julxj0'\n",
       "\\item 'ql9gu3ye'\n",
       "\\item 'qxulbwqw'\n",
       "\\item 'skhtyere'\n",
       "\\item 'sxb69c4i'\n",
       "\\item 'tojy20ry'\n",
       "\\item 'u4qbd47b'\n",
       "\\item 'u55ham6t'\n",
       "\\item 'uhztk9co'\n",
       "\\item 'uqkl629d'\n",
       "\\item 'vjrwmz25'\n",
       "\\item 'x3t78y9i'\n",
       "\\item 'x4rtxk7v'\n",
       "\\item 'x4ug5swz'\n",
       "\\item 'xsj3e8ll'\n",
       "\\item 'y0kdc67d'\n",
       "\\item 'y5n4rydi'\n",
       "\\item 'ylnbbasf'\n",
       "\\item 'z3d6txou'\n",
       "\\item 'z7pvqin0'\n",
       "\\end{enumerate*}\n"
      ],
      "text/markdown": [
       "1. 12sc0g5v\n",
       "2. 1qbnwx3l\n",
       "3. 36ouqzzd\n",
       "4. 52j7762b\n",
       "5. bjfz28ad\n",
       "6. d31s1n66\n",
       "7. hh7kzemh\n",
       "8. hx9ehppu\n",
       "9. io49s2w4\n",
       "10. jpuryirm\n",
       "11. jpwrvoov\n",
       "12. jurpiifj\n",
       "13. knx8vg7c\n",
       "14. l0kaow09\n",
       "15. o69ey5fu\n",
       "16. ouiw6pd9\n",
       "17. skhtyere\n",
       "18. u4qbd47b\n",
       "19. uhztk9co\n",
       "20. vjrwmz25\n",
       "21. x3t78y9i\n",
       "22. z3d6txou\n",
       "\n",
       "\n",
       "\n",
       "**Levels**: 1. '0m74d76z'\n",
       "2. '0qdzvx7e'\n",
       "3. '12sc0g5v'\n",
       "4. '1mnjeuu1'\n",
       "5. '1qbnwx3l'\n",
       "6. '29qda7ah'\n",
       "7. '36ouqzzd'\n",
       "8. '3c9l7fd3'\n",
       "9. '474bkw80'\n",
       "10. '52j7762b'\n",
       "11. '5gnz33b5'\n",
       "12. '5ozq9eys'\n",
       "13. '5yck032n'\n",
       "14. '6b88518a'\n",
       "15. '6veaowoq'\n",
       "16. '6xdjxekt'\n",
       "17. '81pj6bqo'\n",
       "18. '8zo3kpha'\n",
       "19. '9gdpr0yo'\n",
       "20. 'bdplmtbn'\n",
       "21. 'bjfz28ad'\n",
       "22. 'c1ii2ril'\n",
       "23. 'c53duxqh'\n",
       "24. 'c793ncps'\n",
       "25. 'd31s1n66'\n",
       "26. 'e3pv4cx7'\n",
       "27. 'ewvjblzn'\n",
       "28. 'f8y6y02h'\n",
       "29. 'fqfveeqs'\n",
       "30. 'fsupgz1o'\n",
       "31. 'gp1n7ltt'\n",
       "32. 'hh7kzemh'\n",
       "33. 'hqa9ri4g'\n",
       "34. 'hx9ehppu'\n",
       "35. 'iditjno6'\n",
       "36. 'io49s2w4'\n",
       "37. 'isxkx7lu'\n",
       "38. 'jcnrboc2'\n",
       "39. 'jpuryirm'\n",
       "40. 'jpwrvoov'\n",
       "41. 'jpzkc32d'\n",
       "42. 'jurpiifj'\n",
       "43. 'knx8vg7c'\n",
       "44. 'l0kaow09'\n",
       "45. 'm7h7riea'\n",
       "46. 'm8m7lmfd'\n",
       "47. 'mc8nwpfm'\n",
       "48. 'nr8hunom'\n",
       "49. 'o69ey5fu'\n",
       "50. 'ouiw6pd9'\n",
       "51. 'pnxh06d9'\n",
       "52. 'prg50xex'\n",
       "53. 'q1julxj0'\n",
       "54. 'ql9gu3ye'\n",
       "55. 'qxulbwqw'\n",
       "56. 'skhtyere'\n",
       "57. 'sxb69c4i'\n",
       "58. 'tojy20ry'\n",
       "59. 'u4qbd47b'\n",
       "60. 'u55ham6t'\n",
       "61. 'uhztk9co'\n",
       "62. 'uqkl629d'\n",
       "63. 'vjrwmz25'\n",
       "64. 'x3t78y9i'\n",
       "65. 'x4rtxk7v'\n",
       "66. 'x4ug5swz'\n",
       "67. 'xsj3e8ll'\n",
       "68. 'y0kdc67d'\n",
       "69. 'y5n4rydi'\n",
       "70. 'ylnbbasf'\n",
       "71. 'z3d6txou'\n",
       "72. 'z7pvqin0'\n",
       "\n",
       "\n"
      ],
      "text/plain": [
       " [1] 12sc0g5v 1qbnwx3l 36ouqzzd 52j7762b bjfz28ad d31s1n66 hh7kzemh hx9ehppu\n",
       " [9] io49s2w4 jpuryirm jpwrvoov jurpiifj knx8vg7c l0kaow09 o69ey5fu ouiw6pd9\n",
       "[17] skhtyere u4qbd47b uhztk9co vjrwmz25 x3t78y9i z3d6txou\n",
       "72 Levels: 0m74d76z 0qdzvx7e 12sc0g5v 1mnjeuu1 1qbnwx3l 29qda7ah ... z7pvqin0"
      ]
     },
     "metadata": {},
     "output_type": "display_data"
    }
   ],
   "source": [
    "unique(mydata$code[mydata$slc_lot>7])"
   ]
  },
  {
   "cell_type": "code",
   "execution_count": 3,
   "metadata": {},
   "outputs": [],
   "source": [
    "# make a copy of mydata where less than 300ms and more than 10s rounds are rejected\n",
    "mydata2 <- subset(mydata, dt>.3 & dt<10)\n",
    "\n",
    "# additionally subjects with slc_lot>7 rejected\n",
    "mydata3 <- subset(mydata2, slc_lot<=7)\n"
   ]
  },
  {
   "cell_type": "markdown",
   "metadata": {},
   "source": [
    "<h2>Summary statistics</h2>"
   ]
  },
  {
   "cell_type": "code",
   "execution_count": 7,
   "metadata": {},
   "outputs": [
    {
     "data": {
      "text/html": [
       "<table>\n",
       "<caption>A data.frame: 2 × 6</caption>\n",
       "<thead>\n",
       "\t<tr><th scope=col>treatment</th><th scope=col>N</th><th scope=col>mean DT</th><th scope=col>sd DT</th><th scope=col>mean dec. mode</th><th scope=col>mean accuracy</th></tr>\n",
       "\t<tr><th scope=col>&lt;fct&gt;</th><th scope=col>&lt;dbl&gt;</th><th scope=col>&lt;dbl&gt;</th><th scope=col>&lt;dbl&gt;</th><th scope=col>&lt;dbl&gt;</th><th scope=col>&lt;dbl&gt;</th></tr>\n",
       "</thead>\n",
       "<tbody>\n",
       "\t<tr><td>A</td><td>36</td><td>2.938477</td><td>5.320870</td><td>3.666667</td><td>0.6579218</td></tr>\n",
       "\t<tr><td>E</td><td>36</td><td>3.037160</td><td>4.251024</td><td>4.361111</td><td>0.6464884</td></tr>\n",
       "</tbody>\n",
       "</table>\n"
      ],
      "text/latex": [
       "A data.frame: 2 × 6\n",
       "\\begin{tabular}{r|llllll}\n",
       " treatment & N & mean DT & sd DT & mean dec. mode & mean accuracy\\\\\n",
       " <fct> & <dbl> & <dbl> & <dbl> & <dbl> & <dbl>\\\\\n",
       "\\hline\n",
       "\t A & 36 & 2.938477 & 5.320870 & 3.666667 & 0.6579218\\\\\n",
       "\t E & 36 & 3.037160 & 4.251024 & 4.361111 & 0.6464884\\\\\n",
       "\\end{tabular}\n"
      ],
      "text/markdown": [
       "\n",
       "A data.frame: 2 × 6\n",
       "\n",
       "| treatment &lt;fct&gt; | N &lt;dbl&gt; | mean DT &lt;dbl&gt; | sd DT &lt;dbl&gt; | mean dec. mode &lt;dbl&gt; | mean accuracy &lt;dbl&gt; |\n",
       "|---|---|---|---|---|---|\n",
       "| A | 36 | 2.938477 | 5.320870 | 3.666667 | 0.6579218 |\n",
       "| E | 36 | 3.037160 | 4.251024 | 4.361111 | 0.6464884 |\n",
       "\n"
      ],
      "text/plain": [
       "  treatment N  mean DT  sd DT    mean dec. mode mean accuracy\n",
       "1 A         36 2.938477 5.320870 3.666667       0.6579218    \n",
       "2 E         36 3.037160 4.251024 4.361111       0.6464884    "
      ]
     },
     "metadata": {},
     "output_type": "display_data"
    }
   ],
   "source": [
    "# the plyr package has really useful summarising functions\n",
    "ddply(mydata, c(\"treatment\"), summarise, \n",
    "      N = length(choice)/216,\n",
    "      'mean DT' = mean(dt, na.rm=T),\n",
    "      'sd DT' = sd(dt, na.rm=T),\n",
    "      'mean dec. mode' = mean(decmode),\n",
    "      'mean accuracy' = mean(accuracy))"
   ]
  },
  {
   "cell_type": "markdown",
   "metadata": {},
   "source": [
    "<h2>Correlation matrix for psychometric measurements</h2>"
   ]
  },
  {
   "cell_type": "code",
   "execution_count": 11,
   "metadata": {},
   "outputs": [
    {
     "data": {
      "text/html": [
       "<table>\n",
       "<caption>A matrix: 5 × 5 of type dbl</caption>\n",
       "<thead>\n",
       "\t<tr><th></th><th scope=col>ref</th><th scope=col>int</th><th scope=col>nfc</th><th scope=col>fi</th><th scope=col>bnt</th></tr>\n",
       "</thead>\n",
       "<tbody>\n",
       "\t<tr><th scope=row>ref</th><td> 1.0000000</td><td>-0.88858377</td><td> 0.1150721514</td><td>-0.18074574</td><td> 0.5277104515</td></tr>\n",
       "\t<tr><th scope=row>int</th><td>-0.8885838</td><td> 1.00000000</td><td>-0.0361085404</td><td> 0.26342536</td><td>-0.3554411973</td></tr>\n",
       "\t<tr><th scope=row>nfc</th><td> 0.1150722</td><td>-0.03610854</td><td> 1.0000000000</td><td>-0.06474535</td><td> 0.0007635697</td></tr>\n",
       "\t<tr><th scope=row>fi</th><td>-0.1807457</td><td> 0.26342536</td><td>-0.0647453490</td><td> 1.00000000</td><td>-0.0978282379</td></tr>\n",
       "\t<tr><th scope=row>bnt</th><td> 0.5277105</td><td>-0.35544120</td><td> 0.0007635697</td><td>-0.09782824</td><td> 1.0000000000</td></tr>\n",
       "</tbody>\n",
       "</table>\n"
      ],
      "text/latex": [
       "A matrix: 5 × 5 of type dbl\n",
       "\\begin{tabular}{r|lllll}\n",
       "  & ref & int & nfc & fi & bnt\\\\\n",
       "\\hline\n",
       "\tref &  1.0000000 & -0.88858377 &  0.1150721514 & -0.18074574 &  0.5277104515\\\\\n",
       "\tint & -0.8885838 &  1.00000000 & -0.0361085404 &  0.26342536 & -0.3554411973\\\\\n",
       "\tnfc &  0.1150722 & -0.03610854 &  1.0000000000 & -0.06474535 &  0.0007635697\\\\\n",
       "\tfi & -0.1807457 &  0.26342536 & -0.0647453490 &  1.00000000 & -0.0978282379\\\\\n",
       "\tbnt &  0.5277105 & -0.35544120 &  0.0007635697 & -0.09782824 &  1.0000000000\\\\\n",
       "\\end{tabular}\n"
      ],
      "text/markdown": [
       "\n",
       "A matrix: 5 × 5 of type dbl\n",
       "\n",
       "| <!--/--> | ref | int | nfc | fi | bnt |\n",
       "|---|---|---|---|---|---|\n",
       "| ref |  1.0000000 | -0.88858377 |  0.1150721514 | -0.18074574 |  0.5277104515 |\n",
       "| int | -0.8885838 |  1.00000000 | -0.0361085404 |  0.26342536 | -0.3554411973 |\n",
       "| nfc |  0.1150722 | -0.03610854 |  1.0000000000 | -0.06474535 |  0.0007635697 |\n",
       "| fi | -0.1807457 |  0.26342536 | -0.0647453490 |  1.00000000 | -0.0978282379 |\n",
       "| bnt |  0.5277105 | -0.35544120 |  0.0007635697 | -0.09782824 |  1.0000000000 |\n",
       "\n"
      ],
      "text/plain": [
       "    ref        int         nfc           fi          bnt          \n",
       "ref  1.0000000 -0.88858377  0.1150721514 -0.18074574  0.5277104515\n",
       "int -0.8885838  1.00000000 -0.0361085404  0.26342536 -0.3554411973\n",
       "nfc  0.1150722 -0.03610854  1.0000000000 -0.06474535  0.0007635697\n",
       "fi  -0.1807457  0.26342536 -0.0647453490  1.00000000 -0.0978282379\n",
       "bnt  0.5277105 -0.35544120  0.0007635697 -0.09782824  1.0000000000"
      ]
     },
     "metadata": {},
     "output_type": "display_data"
    }
   ],
   "source": [
    "cordf <- mydata %>% select(ref,int,nfc,fi,bnt)\n",
    "cor(cordf)"
   ]
  },
  {
   "cell_type": "markdown",
   "metadata": {},
   "source": [
    "<center><h1 style=\"color: blue;\">* * * Basic LMs for psychometric variables * * *</h1></center>"
   ]
  },
  {
   "cell_type": "markdown",
   "metadata": {},
   "source": [
    "<p>Accuracy correlates with reflectiveness when controlling interactions between ref and int</p>"
   ]
  },
  {
   "cell_type": "code",
   "execution_count": 50,
   "metadata": {},
   "outputs": [
    {
     "data": {
      "text/plain": [
       "\n",
       "Call:\n",
       "lm(formula = accuracy ~ scale(ref) * scale(int), data = subset(mydata, \n",
       "    round == 1))\n",
       "\n",
       "Residuals:\n",
       "     Min       1Q   Median       3Q      Max \n",
       "-0.28922 -0.10573  0.01186  0.10184  0.26822 \n",
       "\n",
       "Coefficients:\n",
       "                      Estimate Std. Error t value Pr(>|t|)    \n",
       "(Intercept)            0.63698    0.02277  27.976   <2e-16 ***\n",
       "scale(ref)             0.08404    0.03653   2.301   0.0245 *  \n",
       "scale(int)             0.03718    0.03596   1.034   0.3048    \n",
       "scale(ref):scale(int) -0.01737    0.01917  -0.906   0.3681    \n",
       "---\n",
       "Signif. codes:  0 ‘***’ 0.001 ‘**’ 0.01 ‘*’ 0.05 ‘.’ 0.1 ‘ ’ 1\n",
       "\n",
       "Residual standard error: 0.1304 on 68 degrees of freedom\n",
       "Multiple R-squared:  0.1798,\tAdjusted R-squared:  0.1437 \n",
       "F-statistic:  4.97 on 3 and 68 DF,  p-value: 0.003539\n"
      ]
     },
     "metadata": {},
     "output_type": "display_data"
    },
    {
     "data": {
      "text/plain": [
       "\n",
       "Call:\n",
       "lm(formula = accuracy ~ scale(nfc) * scale(fi), data = subset(mydata, \n",
       "    round == 1))\n",
       "\n",
       "Residuals:\n",
       "    Min      1Q  Median      3Q     Max \n",
       "-0.3055 -0.1145  0.0205  0.1075  0.2348 \n",
       "\n",
       "Coefficients:\n",
       "                      Estimate Std. Error t value Pr(>|t|)    \n",
       "(Intercept)           0.652368   0.016881  38.645   <2e-16 ***\n",
       "scale(nfc)           -0.006592   0.017061  -0.386    0.700    \n",
       "scale(fi)             0.016344   0.017236   0.948    0.346    \n",
       "scale(nfc):scale(fi)  0.002553   0.020188   0.126    0.900    \n",
       "---\n",
       "Signif. codes:  0 ‘***’ 0.001 ‘**’ 0.01 ‘*’ 0.05 ‘.’ 0.1 ‘ ’ 1\n",
       "\n",
       "Residual standard error: 0.1428 on 68 degrees of freedom\n",
       "Multiple R-squared:  0.01611,\tAdjusted R-squared:  -0.02729 \n",
       "F-statistic: 0.3713 on 3 and 68 DF,  p-value: 0.774\n"
      ]
     },
     "metadata": {},
     "output_type": "display_data"
    }
   ],
   "source": [
    "summary(lm(accuracy ~ scale(ref)*scale(int), subset(mydata, round==1)))\n",
    "summary(lm(accuracy ~ scale(nfc)*scale(fi),  subset(mydata, round==1)))"
   ]
  },
  {
   "cell_type": "markdown",
   "metadata": {},
   "source": [
    "<p>Decision mode does not differ between treatments</p>"
   ]
  },
  {
   "cell_type": "code",
   "execution_count": 51,
   "metadata": {},
   "outputs": [
    {
     "data": {
      "text/plain": [
       "\n",
       "Call:\n",
       "lm(formula = decmode ~ treatment, data = subset(mydata, round == \n",
       "    1))\n",
       "\n",
       "Residuals:\n",
       "    Min      1Q  Median      3Q     Max \n",
       "-2.6667 -1.4375 -0.0139  1.3333  3.3333 \n",
       "\n",
       "Coefficients:\n",
       "            Estimate Std. Error t value Pr(>|t|)    \n",
       "(Intercept)   3.6667     0.2819  13.005   <2e-16 ***\n",
       "treatmentE    0.6944     0.3987   1.742    0.086 .  \n",
       "---\n",
       "Signif. codes:  0 ‘***’ 0.001 ‘**’ 0.01 ‘*’ 0.05 ‘.’ 0.1 ‘ ’ 1\n",
       "\n",
       "Residual standard error: 1.692 on 70 degrees of freedom\n",
       "Multiple R-squared:  0.04154,\tAdjusted R-squared:  0.02784 \n",
       "F-statistic: 3.034 on 1 and 70 DF,  p-value: 0.08595\n"
      ]
     },
     "metadata": {},
     "output_type": "display_data"
    }
   ],
   "source": [
    "summary(lm(decmode ~ treatment, subset(mydata, round==1)))"
   ]
  },
  {
   "cell_type": "markdown",
   "metadata": {},
   "source": [
    "<p>Decision mode correlates only with FI. For NFC and FI we must look into interaction effects</p>"
   ]
  },
  {
   "cell_type": "code",
   "execution_count": 52,
   "metadata": {},
   "outputs": [
    {
     "data": {
      "text/plain": [
       "\n",
       "Call:\n",
       "lm(formula = decmode ~ scale(ref) + scale(int), data = subset(mydata, \n",
       "    round == 1))\n",
       "\n",
       "Residuals:\n",
       "     Min       1Q   Median       3Q      Max \n",
       "-3.03689 -1.27980 -0.02978  1.02797  3.02708 \n",
       "\n",
       "Coefficients:\n",
       "             Estimate Std. Error t value Pr(>|t|)    \n",
       "(Intercept)  4.013889   0.205074  19.573   <2e-16 ***\n",
       "scale(ref)   0.007562   0.450200   0.017    0.987    \n",
       "scale(int)  -0.020898   0.450200  -0.046    0.963    \n",
       "---\n",
       "Signif. codes:  0 ‘***’ 0.001 ‘**’ 0.01 ‘*’ 0.05 ‘.’ 0.1 ‘ ’ 1\n",
       "\n",
       "Residual standard error: 1.74 on 69 degrees of freedom\n",
       "Multiple R-squared:  0.0002632,\tAdjusted R-squared:  -0.02871 \n",
       "F-statistic: 0.009083 on 2 and 69 DF,  p-value: 0.991\n"
      ]
     },
     "metadata": {},
     "output_type": "display_data"
    },
    {
     "data": {
      "text/plain": [
       "\n",
       "Call:\n",
       "lm(formula = decmode ~ scale(nfc) * scale(fi), data = subset(mydata, \n",
       "    round == 1))\n",
       "\n",
       "Residuals:\n",
       "    Min      1Q  Median      3Q     Max \n",
       "-3.1420 -1.3533  0.0448  1.4616  3.4666 \n",
       "\n",
       "Coefficients:\n",
       "                     Estimate Std. Error t value Pr(>|t|)    \n",
       "(Intercept)            4.0211     0.2004  20.070   <2e-16 ***\n",
       "scale(nfc)             0.1601     0.2025   0.790   0.4320    \n",
       "scale(fi)              0.4257     0.2046   2.081   0.0412 *  \n",
       "scale(nfc):scale(fi)   0.1136     0.2396   0.474   0.6368    \n",
       "---\n",
       "Signif. codes:  0 ‘***’ 0.001 ‘**’ 0.01 ‘*’ 0.05 ‘.’ 0.1 ‘ ’ 1\n",
       "\n",
       "Residual standard error: 1.695 on 68 degrees of freedom\n",
       "Multiple R-squared:  0.06501,\tAdjusted R-squared:  0.02377 \n",
       "F-statistic: 1.576 on 3 and 68 DF,  p-value: 0.2032\n"
      ]
     },
     "metadata": {},
     "output_type": "display_data"
    },
    {
     "data": {
      "text/plain": [
       "\n",
       "Call:\n",
       "lm(formula = decmode ~ scale(bnt), data = subset(mydata, round == \n",
       "    1))\n",
       "\n",
       "Residuals:\n",
       "     Min       1Q   Median       3Q      Max \n",
       "-2.99956 -1.39696 -0.07326  1.29524  3.14784 \n",
       "\n",
       "Coefficients:\n",
       "            Estimate Std. Error t value Pr(>|t|)    \n",
       "(Intercept)   4.0139     0.2026  19.809   <2e-16 ***\n",
       "scale(bnt)   -0.1699     0.2041  -0.833    0.408    \n",
       "---\n",
       "Signif. codes:  0 ‘***’ 0.001 ‘**’ 0.01 ‘*’ 0.05 ‘.’ 0.1 ‘ ’ 1\n",
       "\n",
       "Residual standard error: 1.719 on 70 degrees of freedom\n",
       "Multiple R-squared:  0.009806,\tAdjusted R-squared:  -0.00434 \n",
       "F-statistic: 0.6932 on 1 and 70 DF,  p-value: 0.4079\n"
      ]
     },
     "metadata": {},
     "output_type": "display_data"
    }
   ],
   "source": [
    "summary(lm(decmode ~ scale(ref)+scale(int), subset(mydata, round==1)))\n",
    "summary(lm(decmode ~ scale(nfc)*scale(fi), subset(mydata, round==1)))\n",
    "summary(lm(decmode ~ scale(bnt), subset(mydata, round==1)))"
   ]
  },
  {
   "cell_type": "markdown",
   "metadata": {},
   "source": [
    "<p>Decision mode vs. psychometrics scatter plots</p>"
   ]
  },
  {
   "cell_type": "code",
   "execution_count": 53,
   "metadata": {},
   "outputs": [
    {
     "data": {
      "image/png": "[encoded data removed]",
      "text/plain": [
       "plot without title"
      ]
     },
     "metadata": {},
     "output_type": "display_data"
    }
   ],
   "source": [
    "options(repr.plot.width=7, repr.plot.height=5)\n",
    "\n",
    "\n",
    "gpl1 <- ggplot(subset(mydata, round==1), aes(x=ref, y=decmode)) + geom_point(shape=1) + geom_smooth(method=lm)\n",
    "gpl2 <- ggplot(subset(mydata, round==1), aes(x=int, y=decmode)) + geom_point(shape=1) + geom_smooth(method=lm)\n",
    "gpl3 <- ggplot(subset(mydata, round==1), aes(x=nfc, y=decmode)) + geom_point(shape=1) + geom_smooth(method=lm)\n",
    "gpl4 <- ggplot(subset(mydata, round==1), aes(x=fi,  y=decmode)) + geom_point(shape=1) + geom_smooth(method=lm)\n",
    "gpl5 <- ggplot(subset(mydata, round==1), aes(x=bnt, y=decmode)) + geom_point(shape=1) + geom_smooth(method=lm)\n",
    "\n",
    "\n",
    "grid.arrange(gpl1, gpl2, gpl3, gpl4, gpl5, nrow = 2)\n"
   ]
  },
  {
   "cell_type": "markdown",
   "metadata": {},
   "source": [
    "<center><h1 style=\"color: blue;\">* * * Decision time distributions * * *</h1></center>"
   ]
  },
  {
   "cell_type": "markdown",
   "metadata": {},
   "source": [
    "<p>DT ecdf</p>"
   ]
  },
  {
   "cell_type": "code",
   "execution_count": 4,
   "metadata": {},
   "outputs": [
    {
     "name": "stderr",
     "output_type": "stream",
     "text": [
      "Warning message:\n",
      "“Removed 520 rows containing non-finite values (stat_ecdf).”"
     ]
    },
    {
     "data": {
      "image/png": "[encoded data removed]",
      "text/plain": [
       "plot without title"
      ]
     },
     "metadata": {},
     "output_type": "display_data"
    }
   ],
   "source": [
    "options(repr.plot.width=7, repr.plot.height=3)\n",
    "\n",
    "\n",
    "ecdf <- ggplot(subset(mydata, (treatment==\"A\" | treatment==\"E\")), aes(dt, colour=treatment)) + \n",
    "        stat_ecdf(geom = \"step\") + \n",
    "        labs(title = \"All data\", y = \"\", x = \"Decision time (s)\") +\n",
    "        scale_x_continuous(expand= c(0, 0), limits = c(0, 10)) +\n",
    "        scale_y_continuous(expand = c(0, 0)) + \n",
    "        theme(legend.position=\"bottom\", legend.title=element_blank())\n",
    "\n",
    "ecdf2 <- ggplot(subset(mydata2, (treatment==\"A\" | treatment==\"E\")), aes(dt, colour=treatment)) + \n",
    "        stat_ecdf(geom = \"step\") + \n",
    "        labs(title = \"Short and long rounds excl\", y = \"\", x = \"Decision time (s)\") +\n",
    "        scale_x_continuous(expand= c(0, 0), limits = c(0, 10)) +\n",
    "        scale_y_continuous(expand = c(0, 0)) + \n",
    "        theme(legend.position=\"bottom\", legend.title=element_blank())\n",
    "\n",
    "ecdf3 <- ggplot(subset(mydata3, (treatment==\"A\" | treatment==\"E\")), aes(dt, colour=treatment)) + \n",
    "        stat_ecdf(geom = \"step\") + \n",
    "        labs(title = \"slc_lot > 7 excl\", y = \"\", x = \"Decision time (s)\") +\n",
    "        scale_x_continuous(expand= c(0, 0), limits = c(0, 10)) +\n",
    "        scale_y_continuous(expand = c(0, 0)) + \n",
    "        theme(legend.position=\"bottom\", legend.title=element_blank())\n",
    "\n",
    "\n",
    "\n",
    "grid.arrange(ecdf, ecdf2, ecdf3, nrow=1)"
   ]
  },
  {
   "cell_type": "markdown",
   "metadata": {},
   "source": [
    "<p>DT distributions differ at the aggregate level</p>"
   ]
  },
  {
   "cell_type": "code",
   "execution_count": 5,
   "metadata": {},
   "outputs": [
    {
     "name": "stderr",
     "output_type": "stream",
     "text": [
      "Warning message in ks.test(mydata$dt[mydata$treatment == \"A\"], mydata$dt[mydata$treatment == :\n",
      "“p-value will be approximate in the presence of ties”"
     ]
    },
    {
     "data": {
      "text/plain": [
       "\n",
       "\tTwo-sample Kolmogorov-Smirnov test\n",
       "\n",
       "data:  mydata$dt[mydata$treatment == \"A\"] and mydata$dt[mydata$treatment == \"E\"]\n",
       "D^+ = 0.075508, p-value < 2.2e-16\n",
       "alternative hypothesis: the CDF of x lies above that of y\n"
      ]
     },
     "metadata": {},
     "output_type": "display_data"
    },
    {
     "name": "stderr",
     "output_type": "stream",
     "text": [
      "Warning message in ks.test(mydata2$dt[mydata2$treatment == \"A\"], mydata2$dt[mydata2$treatment == :\n",
      "“p-value will be approximate in the presence of ties”"
     ]
    },
    {
     "data": {
      "text/plain": [
       "\n",
       "\tTwo-sample Kolmogorov-Smirnov test\n",
       "\n",
       "data:  mydata2$dt[mydata2$treatment == \"A\"] and mydata2$dt[mydata2$treatment == \"E\"]\n",
       "D^+ = 0.075991, p-value < 2.2e-16\n",
       "alternative hypothesis: the CDF of x lies above that of y\n"
      ]
     },
     "metadata": {},
     "output_type": "display_data"
    },
    {
     "name": "stderr",
     "output_type": "stream",
     "text": [
      "Warning message in ks.test(mydata2$dt[mydata2$treatment == \"A\"], mydata2$dt[mydata3$treatment == :\n",
      "“p-value will be approximate in the presence of ties”"
     ]
    },
    {
     "data": {
      "text/plain": [
       "\n",
       "\tTwo-sample Kolmogorov-Smirnov test\n",
       "\n",
       "data:  mydata2$dt[mydata2$treatment == \"A\"] and mydata2$dt[mydata3$treatment == \"E\"]\n",
       "D^+ = 0.051025, p-value = 1.161e-09\n",
       "alternative hypothesis: the CDF of x lies above that of y\n"
      ]
     },
     "metadata": {},
     "output_type": "display_data"
    }
   ],
   "source": [
    "ks.test(mydata$dt[mydata$treatment==\"A\"], mydata$dt[mydata$treatment==\"E\"], alternative=\"greater\")\n",
    "\n",
    "ks.test(mydata2$dt[mydata2$treatment==\"A\"], mydata2$dt[mydata2$treatment==\"E\"], alternative=\"greater\")\n",
    "\n",
    "ks.test(mydata2$dt[mydata2$treatment==\"A\"], mydata2$dt[mydata3$treatment==\"E\"], alternative=\"greater\")"
   ]
  },
  {
   "cell_type": "markdown",
   "metadata": {},
   "source": [
    "<h2>Simple linear regression with averaged DTs: DT is decreasing in decision mode</h2>\n",
    "<p>Determine the average DT for each participant, add this as a column in the data frame, and use a linear model without random effects</p>"
   ]
  },
  {
   "cell_type": "code",
   "execution_count": 8,
   "metadata": {},
   "outputs": [],
   "source": [
    "aggrdata <- mydata %>% group_by(code) %>% summarise(meandt = mean(dt, na.rm=T))\n",
    "mydata$meandt <- rep(aggrdata$meandt, each=216)"
   ]
  },
  {
   "cell_type": "code",
   "execution_count": 9,
   "metadata": {},
   "outputs": [
    {
     "data": {
      "text/plain": [
       "\n",
       "Call:\n",
       "lm(formula = meandt ~ decmode, data = mydata)\n",
       "\n",
       "Residuals:\n",
       "    Min      1Q  Median      3Q     Max \n",
       "-2.1344 -0.8222 -0.2512  0.5170  4.4861 \n",
       "\n",
       "Coefficients:\n",
       "             Estimate Std. Error t value Pr(>|t|)    \n",
       "(Intercept)  3.077356   0.026228 117.330  < 2e-16 ***\n",
       "decmode     -0.022346   0.006015  -3.715 0.000204 ***\n",
       "---\n",
       "Signif. codes:  0 ‘***’ 0.001 ‘**’ 0.01 ‘*’ 0.05 ‘.’ 0.1 ‘ ’ 1\n",
       "\n",
       "Residual standard error: 1.278 on 15550 degrees of freedom\n",
       "Multiple R-squared:  0.0008868,\tAdjusted R-squared:  0.0008226 \n",
       "F-statistic:  13.8 on 1 and 15550 DF,  p-value: 0.0002038\n"
      ]
     },
     "metadata": {},
     "output_type": "display_data"
    }
   ],
   "source": [
    "summary(lm(meandt ~ decmode, mydata))"
   ]
  },
  {
   "cell_type": "markdown",
   "metadata": {},
   "source": [
    "<center><h1 style=\"color: blue;\">* * * Decision time GLMMs * * *</h1></center>"
   ]
  },
  {
   "cell_type": "markdown",
   "metadata": {},
   "source": [
    "<p>This uses a GLMM and recognises different variances in DTs over the subjects. The distribution family we use is Gamma distribution in accordance with Lo & Andrews (2015). The psychometric variables or decision mode do not have any impact on decision times.</p>"
   ]
  },
  {
   "cell_type": "code",
   "execution_count": 9,
   "metadata": {
    "scrolled": false
   },
   "outputs": [
    {
     "name": "stderr",
     "output_type": "stream",
     "text": [
      "Warning message in checkConv(attr(opt, \"derivs\"), opt$par, ctrl = control$checkConv, :\n",
      "“Model failed to converge with max|grad| = 0.00214141 (tol = 0.001, component 1)”\n",
      "Correlation matrix not shown by default, as p = 15 > 12.\n",
      "Use print(obj, correlation=TRUE)  or\n",
      "    vcov(obj)        if you need it\n",
      "\n"
     ]
    },
    {
     "data": {
      "text/plain": [
       "Generalized linear mixed model fit by maximum likelihood (Laplace\n",
       "  Approximation) [glmerMod]\n",
       " Family: Gamma  ( identity )\n",
       "Formula: \n",
       "dt ~ (scale(ref) * scale(int) + scale(nfc) * scale(fi) + scale(bnt)):treatment +  \n",
       "    (1 | code)\n",
       "   Data: mydata\n",
       "\n",
       "     AIC      BIC   logLik deviance df.resid \n",
       " 59096.6  59226.7 -29531.3  59062.6    15531 \n",
       "\n",
       "Scaled residuals: \n",
       "   Min     1Q Median     3Q    Max \n",
       "-0.726 -0.350 -0.191  0.063 48.385 \n",
       "\n",
       "Random effects:\n",
       " Groups   Name        Variance Std.Dev.\n",
       " code     (Intercept) 2.631    1.622   \n",
       " Residual             1.894    1.376   \n",
       "Number of obs: 15548, groups:  code, 72\n",
       "\n",
       "Fixed effects:\n",
       "                                  Estimate Std. Error t value Pr(>|z|)    \n",
       "(Intercept)                       3.134413   0.216740  14.462   <2e-16 ***\n",
       "scale(ref):treatmentA             0.995526   0.561256   1.774   0.0761 .  \n",
       "scale(ref):treatmentE             0.483897   0.538895   0.898   0.3692    \n",
       "scale(int):treatmentA             0.699780   0.560992   1.247   0.2123    \n",
       "scale(int):treatmentE             0.137509   0.458993   0.300   0.7645    \n",
       "scale(nfc):treatmentA             0.325113   0.252937   1.285   0.1987    \n",
       "scale(nfc):treatmentE             0.024718   0.191066   0.129   0.8971    \n",
       "scale(fi):treatmentA              0.003601   0.228234   0.016   0.9874    \n",
       "scale(fi):treatmentE             -0.017773   0.214376  -0.083   0.9339    \n",
       "scale(bnt):treatmentA            -0.294346   0.297876  -0.988   0.3231    \n",
       "scale(bnt):treatmentE             0.173023   0.236986   0.730   0.4653    \n",
       "scale(ref):scale(int):treatmentA  0.297262   0.211950   1.403   0.1608    \n",
       "scale(ref):scale(int):treatmentE -0.022239   0.242158  -0.092   0.9268    \n",
       "scale(nfc):scale(fi):treatmentA   0.173069   0.297206   0.582   0.5604    \n",
       "scale(nfc):scale(fi):treatmentE  -0.125674   0.211514  -0.594   0.5524    \n",
       "---\n",
       "Signif. codes:  0 ‘***’ 0.001 ‘**’ 0.01 ‘*’ 0.05 ‘.’ 0.1 ‘ ’ 1\n",
       "convergence code: 0\n",
       "Model failed to converge with max|grad| = 0.00214141 (tol = 0.001, component 1)\n"
      ]
     },
     "metadata": {},
     "output_type": "display_data"
    },
    {
     "data": {
      "text/plain": [
       "Generalized linear mixed model fit by maximum likelihood (Laplace\n",
       "  Approximation) [glmerMod]\n",
       " Family: Gamma  ( identity )\n",
       "Formula: dt ~ decmode + (1 | code)\n",
       "   Data: mydata\n",
       "\n",
       "     AIC      BIC   logLik deviance df.resid \n",
       " 59080.9  59111.6 -29536.5  59072.9    15544 \n",
       "\n",
       "Scaled residuals: \n",
       "   Min     1Q Median     3Q    Max \n",
       "-0.726 -0.350 -0.191  0.064 48.594 \n",
       "\n",
       "Random effects:\n",
       " Groups   Name        Variance Std.Dev.\n",
       " code     (Intercept) 3.040    1.744   \n",
       " Residual             1.895    1.377   \n",
       "Number of obs: 15548, groups:  code, 72\n",
       "\n",
       "Fixed effects:\n",
       "            Estimate Std. Error t value Pr(>|z|)    \n",
       "(Intercept)  2.47883    0.38223   6.485 8.86e-11 ***\n",
       "decmode      0.12894    0.08768   1.471    0.141    \n",
       "---\n",
       "Signif. codes:  0 ‘***’ 0.001 ‘**’ 0.01 ‘*’ 0.05 ‘.’ 0.1 ‘ ’ 1\n",
       "\n",
       "Correlation of Fixed Effects:\n",
       "        (Intr)\n",
       "decmode -0.920"
      ]
     },
     "metadata": {},
     "output_type": "display_data"
    }
   ],
   "source": [
    "summary(glmer(dt ~ (scale(ref)*scale(int) + scale(nfc)*scale(fi) + scale(bnt)):treatment + (1|code), mydata, family = Gamma(link = \"identity\")))\n",
    "\n",
    "summary(glmer(dt ~ decmode + (1|code), mydata, family = Gamma(link = \"identity\")))"
   ]
  },
  {
   "cell_type": "markdown",
   "metadata": {},
   "source": [
    "<p>This simple GLMM shows that DT is decreasing over time as expected. We use log(1+dt) and normal family instead of raw dt and Gamma family because glmer somehow produces errors when round is an independent regressor.</p>"
   ]
  },
  {
   "cell_type": "code",
   "execution_count": 61,
   "metadata": {},
   "outputs": [
    {
     "data": {
      "text/plain": [
       "Linear mixed model fit by REML. t-tests use Satterthwaite's method [\n",
       "lmerModLmerTest]\n",
       "Formula: logdt ~ round + (1 | code)\n",
       "   Data: mydata\n",
       "\n",
       "REML criterion at convergence: 19927.4\n",
       "\n",
       "Scaled residuals: \n",
       "    Min      1Q  Median      3Q     Max \n",
       "-3.8002 -0.6048 -0.1956  0.3499  9.6846 \n",
       "\n",
       "Random effects:\n",
       " Groups   Name        Variance Std.Dev.\n",
       " code     (Intercept) 0.0577   0.2402  \n",
       " Residual             0.2067   0.4546  \n",
       "Number of obs: 15548, groups:  code, 72\n",
       "\n",
       "Fixed effects:\n",
       "              Estimate Std. Error         df t value Pr(>|t|)    \n",
       "(Intercept)  1.341e+00  2.924e-02  7.819e+01   45.85   <2e-16 ***\n",
       "round       -1.412e-03  5.847e-05  1.548e+04  -24.14   <2e-16 ***\n",
       "---\n",
       "Signif. codes:  0 ‘***’ 0.001 ‘**’ 0.01 ‘*’ 0.05 ‘.’ 0.1 ‘ ’ 1\n",
       "\n",
       "Correlation of Fixed Effects:\n",
       "      (Intr)\n",
       "round -0.217"
      ]
     },
     "metadata": {},
     "output_type": "display_data"
    }
   ],
   "source": [
    "# summary(glmer(dt ~ round + (1|code), mydata, family = Gamma(link = \"identity\")))\n",
    "mydata$logdt <- log(1+mydata$dt)\n",
    "summary(lmer(logdt ~ round + (1|code), mydata))"
   ]
  },
  {
   "cell_type": "markdown",
   "metadata": {},
   "source": [
    "<p>DTs are longer in lottery choices but only in treatment E. If we exclude the 22 subjects, then DTs are longer in lottery choices in both treatments.</p>"
   ]
  },
  {
   "cell_type": "code",
   "execution_count": 7,
   "metadata": {
    "scrolled": false
   },
   "outputs": [
    {
     "data": {
      "text/plain": [
       "Generalized linear mixed model fit by maximum likelihood (Laplace\n",
       "  Approximation) [glmerMod]\n",
       " Family: Gamma  ( identity )\n",
       "Formula: dt ~ choice + (1 | code)\n",
       "   Data: subset(mydata, treatment == \"A\")\n",
       "\n",
       "     AIC      BIC   logLik deviance df.resid \n",
       " 29545.4  29573.2 -14768.7  29537.4     7770 \n",
       "\n",
       "Scaled residuals: \n",
       "   Min     1Q Median     3Q    Max \n",
       "-0.621 -0.309 -0.168  0.044 41.686 \n",
       "\n",
       "Random effects:\n",
       " Groups   Name        Variance Std.Dev.\n",
       " code     (Intercept) 4.252    2.062   \n",
       " Residual             2.553    1.598   \n",
       "Number of obs: 7774, groups:  code, 36\n",
       "\n",
       "Fixed effects:\n",
       "            Estimate Std. Error t value Pr(>|z|)    \n",
       "(Intercept)  2.92961    0.21634  13.542   <2e-16 ***\n",
       "choice1      0.02950    0.03894   0.758    0.449    \n",
       "---\n",
       "Signif. codes:  0 ‘***’ 0.001 ‘**’ 0.01 ‘*’ 0.05 ‘.’ 0.1 ‘ ’ 1\n",
       "\n",
       "Correlation of Fixed Effects:\n",
       "        (Intr)\n",
       "choice1 -0.086"
      ]
     },
     "metadata": {},
     "output_type": "display_data"
    },
    {
     "data": {
      "text/plain": [
       "Generalized linear mixed model fit by maximum likelihood (Laplace\n",
       "  Approximation) [glmerMod]\n",
       " Family: Gamma  ( identity )\n",
       "Formula: dt ~ choice + (1 | code)\n",
       "   Data: subset(mydata, treatment == \"E\")\n",
       "\n",
       "     AIC      BIC   logLik deviance df.resid \n",
       " 29455.8  29483.6 -14723.9  29447.8     7770 \n",
       "\n",
       "Scaled residuals: \n",
       "    Min      1Q  Median      3Q     Max \n",
       "-0.9030 -0.4243 -0.2299  0.0935 31.3806 \n",
       "\n",
       "Random effects:\n",
       " Groups   Name        Variance Std.Dev.\n",
       " code     (Intercept) 2.013    1.419   \n",
       " Residual             1.226    1.107   \n",
       "Number of obs: 7774, groups:  code, 36\n",
       "\n",
       "Fixed effects:\n",
       "            Estimate Std. Error t value Pr(>|z|)    \n",
       "(Intercept)  2.96652    0.21374  13.879  < 2e-16 ***\n",
       "choice1      0.18016    0.03796   4.746 2.07e-06 ***\n",
       "---\n",
       "Signif. codes:  0 ‘***’ 0.001 ‘**’ 0.01 ‘*’ 0.05 ‘.’ 0.1 ‘ ’ 1\n",
       "\n",
       "Correlation of Fixed Effects:\n",
       "        (Intr)\n",
       "choice1 -0.077"
      ]
     },
     "metadata": {},
     "output_type": "display_data"
    },
    {
     "data": {
      "text/plain": [
       "Generalized linear mixed model fit by maximum likelihood (Laplace\n",
       "  Approximation) [glmerMod]\n",
       " Family: Gamma  ( identity )\n",
       "Formula: dt ~ choice + (1 | code)\n",
       "   Data: subset(mydata3, treatment == \"A\")\n",
       "\n",
       "     AIC      BIC   logLik deviance df.resid \n",
       " 14345.3  14371.2  -7168.6  14337.3     4804 \n",
       "\n",
       "Scaled residuals: \n",
       "    Min      1Q  Median      3Q     Max \n",
       "-1.3931 -0.6141 -0.2920  0.2547  8.9684 \n",
       "\n",
       "Random effects:\n",
       " Groups   Name        Variance Std.Dev.\n",
       " code     (Intercept) 0.1119   0.3345  \n",
       " Residual             0.3740   0.6116  \n",
       "Number of obs: 4808, groups:  code, 23\n",
       "\n",
       "Fixed effects:\n",
       "            Estimate Std. Error t value Pr(>|z|)    \n",
       "(Intercept)  2.30526    0.10834  21.278  < 2e-16 ***\n",
       "choice1      0.16982    0.03339   5.086 3.66e-07 ***\n",
       "---\n",
       "Signif. codes:  0 ‘***’ 0.001 ‘**’ 0.01 ‘*’ 0.05 ‘.’ 0.1 ‘ ’ 1\n",
       "\n",
       "Correlation of Fixed Effects:\n",
       "        (Intr)\n",
       "choice1 -0.123"
      ]
     },
     "metadata": {},
     "output_type": "display_data"
    },
    {
     "data": {
      "text/plain": [
       "Generalized linear mixed model fit by maximum likelihood (Laplace\n",
       "  Approximation) [glmerMod]\n",
       " Family: Gamma  ( identity )\n",
       "Formula: dt ~ choice + (1 | code)\n",
       "   Data: subset(mydata3, treatment == \"E\")\n",
       "\n",
       "     AIC      BIC   logLik deviance df.resid \n",
       " 17605.7  17632.2  -8798.9  17597.7     5613 \n",
       "\n",
       "Scaled residuals: \n",
       "    Min      1Q  Median      3Q     Max \n",
       "-1.5929 -0.6471 -0.2946  0.3112  6.8918 \n",
       "\n",
       "Random effects:\n",
       " Groups   Name        Variance Std.Dev.\n",
       " code     (Intercept) 0.2344   0.4841  \n",
       " Residual             0.3375   0.5809  \n",
       "Number of obs: 5617, groups:  code, 27\n",
       "\n",
       "Fixed effects:\n",
       "            Estimate Std. Error t value Pr(>|z|)    \n",
       "(Intercept)  2.61449    0.15465  16.906  < 2e-16 ***\n",
       "choice1      0.15852    0.03184   4.979 6.39e-07 ***\n",
       "---\n",
       "Signif. codes:  0 ‘***’ 0.001 ‘**’ 0.01 ‘*’ 0.05 ‘.’ 0.1 ‘ ’ 1\n",
       "\n",
       "Correlation of Fixed Effects:\n",
       "        (Intr)\n",
       "choice1 -0.084"
      ]
     },
     "metadata": {},
     "output_type": "display_data"
    }
   ],
   "source": [
    "summary(glmer(dt ~ choice + (1|code), family = Gamma(link = \"identity\"), subset(mydata, treatment==\"A\")))\n",
    "summary(glmer(dt ~ choice + (1|code), family = Gamma(link = \"identity\"), subset(mydata, treatment==\"E\")))\n",
    "\n",
    "summary(glmer(dt ~ choice + (1|code), family = Gamma(link = \"identity\"), subset(mydata3, treatment==\"A\")))\n",
    "summary(glmer(dt ~ choice + (1|code), family = Gamma(link = \"identity\"), subset(mydata3, treatment==\"E\")))"
   ]
  },
  {
   "cell_type": "markdown",
   "metadata": {},
   "source": [
    "<p>DT's are longer in lottery choices and increase in WTP, but this relationship is less intense with lottery choices. This is again done with the logarithmic DT, as the glmer function has some difficulties with the intraction when the Gamma family is used. Holds when the 22 subjects are excluded.</p>"
   ]
  },
  {
   "cell_type": "code",
   "execution_count": 8,
   "metadata": {
    "scrolled": false
   },
   "outputs": [
    {
     "data": {
      "text/plain": [
       "Linear mixed model fit by REML. t-tests use Satterthwaite's method [\n",
       "lmerModLmerTest]\n",
       "Formula: logdt ~ scale(wtpcert) * choice + (1 | code)\n",
       "   Data: mydata\n",
       "\n",
       "REML criterion at convergence: 20452.9\n",
       "\n",
       "Scaled residuals: \n",
       "    Min      1Q  Median      3Q     Max \n",
       "-4.0844 -0.6014 -0.2005  0.3638  9.1834 \n",
       "\n",
       "Random effects:\n",
       " Groups   Name        Variance Std.Dev.\n",
       " code     (Intercept) 0.0585   0.2419  \n",
       " Residual             0.2137   0.4623  \n",
       "Number of obs: 15548, groups:  code, 72\n",
       "\n",
       "Fixed effects:\n",
       "                         Estimate Std. Error         df t value Pr(>|t|)    \n",
       "(Intercept)             1.186e+00  2.904e-02  7.393e+01  40.844  < 2e-16 ***\n",
       "scale(wtpcert)          3.029e-02  5.444e-03  1.554e+04   5.564 2.68e-08 ***\n",
       "choice1                 2.062e-02  8.472e-03  1.553e+04   2.434    0.015 *  \n",
       "scale(wtpcert):choice1 -5.205e-02  8.379e-03  1.551e+04  -6.213 5.34e-10 ***\n",
       "---\n",
       "Signif. codes:  0 ‘***’ 0.001 ‘**’ 0.01 ‘*’ 0.05 ‘.’ 0.1 ‘ ’ 1\n",
       "\n",
       "Correlation of Fixed Effects:\n",
       "            (Intr) scl(w) choic1\n",
       "scl(wtpcrt)  0.059              \n",
       "choice1     -0.134 -0.241       \n",
       "scl(wtpc):1 -0.035 -0.561 -0.086"
      ]
     },
     "metadata": {},
     "output_type": "display_data"
    },
    {
     "data": {
      "text/plain": [
       "Linear mixed model fit by REML. t-tests use Satterthwaite's method [\n",
       "lmerModLmerTest]\n",
       "Formula: logdt ~ scale(wtpcert) * choice + (1 | code)\n",
       "   Data: mydata3\n",
       "\n",
       "REML criterion at convergence: 7772.7\n",
       "\n",
       "Scaled residuals: \n",
       "    Min      1Q  Median      3Q     Max \n",
       "-4.2130 -0.6875 -0.1990  0.4844  4.3990 \n",
       "\n",
       "Random effects:\n",
       " Groups   Name        Variance Std.Dev.\n",
       " code     (Intercept) 0.02971  0.1724  \n",
       " Residual             0.12078  0.3475  \n",
       "Number of obs: 10425, groups:  code, 50\n",
       "\n",
       "Fixed effects:\n",
       "                         Estimate Std. Error         df t value Pr(>|t|)    \n",
       "(Intercept)             1.160e+00  2.489e-02  5.111e+01  46.601  < 2e-16 ***\n",
       "scale(wtpcert)          3.281e-02  4.908e-03  1.042e+04   6.686 2.41e-11 ***\n",
       "choice1                 5.461e-02  8.361e-03  1.042e+04   6.531 6.84e-11 ***\n",
       "scale(wtpcert):choice1 -5.777e-02  8.252e-03  1.040e+04  -7.001 2.70e-12 ***\n",
       "---\n",
       "Signif. codes:  0 ‘***’ 0.001 ‘**’ 0.01 ‘*’ 0.05 ‘.’ 0.1 ‘ ’ 1\n",
       "\n",
       "Correlation of Fixed Effects:\n",
       "            (Intr) scl(w) choic1\n",
       "scl(wtpcrt)  0.073              \n",
       "choice1     -0.132 -0.279       \n",
       "scl(wtpc):1 -0.038 -0.491 -0.196"
      ]
     },
     "metadata": {},
     "output_type": "display_data"
    }
   ],
   "source": [
    "# This produces errors:\n",
    "#summary(glmer(dt ~ scale(wtpcert)*choice + (1|code), family = Gamma(link = \"identity\"), mydata))\n",
    "\n",
    "summary(lmer(logdt ~ scale(wtpcert)*choice + (1|code), mydata))\n",
    "summary(lmer(logdt ~ scale(wtpcert)*choice + (1|code), mydata3))"
   ]
  },
  {
   "cell_type": "markdown",
   "metadata": {},
   "source": [
    "<center><h1 style=\"color: blue;\">* * * Choice GLMMs * * *</h1></center>"
   ]
  },
  {
   "cell_type": "markdown",
   "metadata": {},
   "source": [
    "<p>Choice probabilities are not affected by the psychometric variables nor decision mode, except FI in treatment E where higher FI increases probability to choose lottery.</p>"
   ]
  },
  {
   "cell_type": "code",
   "execution_count": 10,
   "metadata": {},
   "outputs": [
    {
     "name": "stderr",
     "output_type": "stream",
     "text": [
      "\n",
      "Correlation matrix not shown by default, as p = 15 > 12.\n",
      "Use print(obj, correlation=TRUE)  or\n",
      "    vcov(obj)        if you need it\n",
      "\n"
     ]
    },
    {
     "data": {
      "text/plain": [
       "Generalized linear mixed model fit by maximum likelihood (Laplace\n",
       "  Approximation) [glmerMod]\n",
       " Family: binomial  ( logit )\n",
       "Formula: choice ~ (scale(ref) * scale(int) + scale(nfc) * scale(fi) +  \n",
       "    scale(bnt)):treatment + (1 | code)\n",
       "   Data: mydata\n",
       "\n",
       "     AIC      BIC   logLik deviance df.resid \n",
       " 19860.9  19983.3  -9914.5  19828.9    15536 \n",
       "\n",
       "Scaled residuals: \n",
       "    Min      1Q  Median      3Q     Max \n",
       "-2.1730 -0.9419 -0.4145  0.9261  2.9427 \n",
       "\n",
       "Random effects:\n",
       " Groups Name        Variance Std.Dev.\n",
       " code   (Intercept) 0.5261   0.7254  \n",
       "Number of obs: 15552, groups:  code, 72\n",
       "\n",
       "Fixed effects:\n",
       "                                 Estimate Std. Error z value Pr(>|z|)  \n",
       "(Intercept)                      -0.17448    0.13633  -1.280   0.2006  \n",
       "scale(ref):treatmentA             0.35420    0.35597   0.995   0.3197  \n",
       "scale(ref):treatmentE             0.36271    0.34203   1.060   0.2889  \n",
       "scale(int):treatmentA             0.41340    0.35552   1.163   0.2449  \n",
       "scale(int):treatmentE             0.14675    0.29135   0.504   0.6145  \n",
       "scale(nfc):treatmentA            -0.13744    0.15875  -0.866   0.3866  \n",
       "scale(nfc):treatmentE            -0.08324    0.12012  -0.693   0.4883  \n",
       "scale(fi):treatmentA             -0.16303    0.14315  -1.139   0.2548  \n",
       "scale(fi):treatmentE              0.32594    0.13498   2.415   0.0157 *\n",
       "scale(bnt):treatmentA             0.07549    0.18770   0.402   0.6875  \n",
       "scale(bnt):treatmentE            -0.13160    0.14950  -0.880   0.3787  \n",
       "scale(ref):scale(int):treatmentA -0.05836    0.13339  -0.437   0.6618  \n",
       "scale(ref):scale(int):treatmentE -0.01604    0.15241  -0.105   0.9162  \n",
       "scale(nfc):scale(fi):treatmentA   0.06913    0.18687   0.370   0.7114  \n",
       "scale(nfc):scale(fi):treatmentE  -0.02028    0.13292  -0.153   0.8788  \n",
       "---\n",
       "Signif. codes:  0 ‘***’ 0.001 ‘**’ 0.01 ‘*’ 0.05 ‘.’ 0.1 ‘ ’ 1"
      ]
     },
     "metadata": {},
     "output_type": "display_data"
    },
    {
     "name": "stderr",
     "output_type": "stream",
     "text": [
      "\n",
      "Correlation matrix not shown by default, as p = 15 > 12.\n",
      "Use print(obj, correlation=TRUE)  or\n",
      "    vcov(obj)        if you need it\n",
      "\n"
     ]
    },
    {
     "data": {
      "text/plain": [
       "Generalized linear mixed model fit by maximum likelihood (Laplace\n",
       "  Approximation) [glmerMod]\n",
       " Family: binomial  ( logit )\n",
       "Formula: choice ~ (scale(ref) * scale(int) + scale(nfc) * scale(fi) +  \n",
       "    scale(bnt)):treatment + (1 | code)\n",
       "   Data: mydata3\n",
       "\n",
       "     AIC      BIC   logLik deviance df.resid \n",
       " 13036.5  13152.6  -6502.3  13004.5    10409 \n",
       "\n",
       "Scaled residuals: \n",
       "    Min      1Q  Median      3Q     Max \n",
       "-1.7090 -0.7567 -0.4320  0.8806  3.0063 \n",
       "\n",
       "Random effects:\n",
       " Groups Name        Variance Std.Dev.\n",
       " code   (Intercept) 0.5144   0.7172  \n",
       "Number of obs: 10425, groups:  code, 50\n",
       "\n",
       "Fixed effects:\n",
       "                                  Estimate Std. Error z value Pr(>|z|)   \n",
       "(Intercept)                      -0.479493   0.184640  -2.597  0.00941 **\n",
       "scale(ref):treatmentA            -0.093878   0.473859  -0.198  0.84296   \n",
       "scale(ref):treatmentE             0.709980   0.457406   1.552  0.12062   \n",
       "scale(int):treatmentA            -0.009502   0.434420  -0.022  0.98255   \n",
       "scale(int):treatmentE             0.280568   0.379663   0.739  0.45991   \n",
       "scale(nfc):treatmentA            -0.126051   0.205857  -0.612  0.54032   \n",
       "scale(nfc):treatmentE            -0.140677   0.138961  -1.012  0.31137   \n",
       "scale(fi):treatmentA             -0.229787   0.188050  -1.222  0.22173   \n",
       "scale(fi):treatmentE              0.382355   0.158566   2.411  0.01589 * \n",
       "scale(bnt):treatmentA             0.214718   0.283649   0.757  0.44906   \n",
       "scale(bnt):treatmentE            -0.305953   0.201251  -1.520  0.12845   \n",
       "scale(ref):scale(int):treatmentA -0.106783   0.160260  -0.666  0.50521   \n",
       "scale(ref):scale(int):treatmentE -0.096505   0.231748  -0.416  0.67710   \n",
       "scale(nfc):scale(fi):treatmentA   0.168763   0.226189   0.746  0.45560   \n",
       "scale(nfc):scale(fi):treatmentE   0.006230   0.165574   0.038  0.96999   \n",
       "---\n",
       "Signif. codes:  0 ‘***’ 0.001 ‘**’ 0.01 ‘*’ 0.05 ‘.’ 0.1 ‘ ’ 1"
      ]
     },
     "metadata": {},
     "output_type": "display_data"
    }
   ],
   "source": [
    "summary(glmer(choice ~ (scale(ref)*scale(int) + scale(nfc)*scale(fi) + scale(bnt)):treatment + (1|code), mydata, family=binomial(link = \"logit\")))\n",
    "summary(glmer(choice ~ (scale(ref)*scale(int) + scale(nfc)*scale(fi) + scale(bnt)):treatment + (1|code), mydata3, family=binomial(link = \"logit\")))\n"
   ]
  },
  {
   "cell_type": "markdown",
   "metadata": {},
   "source": [
    "<p>Choice probabilities and WTP: These have a significant relationship in a GLMM and this relationship is also moderated by reflectiveness and NFC.</p>"
   ]
  },
  {
   "cell_type": "code",
   "execution_count": 11,
   "metadata": {},
   "outputs": [
    {
     "data": {
      "text/plain": [
       "Generalized linear mixed model fit by maximum likelihood (Laplace\n",
       "  Approximation) [glmerMod]\n",
       " Family: binomial  ( logit )\n",
       "Formula: choice ~ scale(wtpcert) * (scale(ref) + scale(nfc) + scale(bnt)) +  \n",
       "    (1 | code)\n",
       "   Data: mydata\n",
       "\n",
       "     AIC      BIC   logLik deviance df.resid \n",
       " 17508.0  17576.9  -8745.0  17490.0    15543 \n",
       "\n",
       "Scaled residuals: \n",
       "     Min       1Q   Median       3Q      Max \n",
       "-16.4136  -0.7436  -0.2125   0.7424  14.5825 \n",
       "\n",
       "Random effects:\n",
       " Groups Name        Variance Std.Dev.\n",
       " code   (Intercept) 0.8811   0.9387  \n",
       "Number of obs: 15552, groups:  code, 72\n",
       "\n",
       "Fixed effects:\n",
       "                          Estimate Std. Error z value Pr(>|z|)    \n",
       "(Intercept)               -0.15873    0.11228  -1.414 0.157450    \n",
       "scale(wtpcert)             1.11138    0.02745  40.490  < 2e-16 ***\n",
       "scale(ref)                 0.06980    0.13330   0.524 0.600526    \n",
       "scale(nfc)                 0.05295    0.11328   0.467 0.640213    \n",
       "scale(bnt)                 0.03213    0.13257   0.242 0.808521    \n",
       "scale(wtpcert):scale(ref)  0.35018    0.03119  11.227  < 2e-16 ***\n",
       "scale(wtpcert):scale(nfc)  0.07076    0.02517   2.811 0.004935 ** \n",
       "scale(wtpcert):scale(bnt)  0.10634    0.03152   3.374 0.000742 ***\n",
       "---\n",
       "Signif. codes:  0 ‘***’ 0.001 ‘**’ 0.01 ‘*’ 0.05 ‘.’ 0.1 ‘ ’ 1\n",
       "\n",
       "Correlation of Fixed Effects:\n",
       "                   (Intr) scl(w) scl(r) scl(n) scl(b) scl(wtpcrt):scl(r)\n",
       "scl(wtpcrt)        -0.014                                               \n",
       "scale(ref)          0.002  0.000                                        \n",
       "scale(nfc)         -0.002  0.020 -0.135                                 \n",
       "scale(bnt)          0.001  0.000 -0.529  0.072                          \n",
       "scl(wtpcrt):scl(r) -0.002  0.227  0.000 -0.002 -0.001                   \n",
       "scl(wtpcrt):scl(n)  0.021  0.049 -0.006 -0.024  0.002 -0.123            \n",
       "scl(wtpcrt):scl(b)  0.003  0.107 -0.001  0.004 -0.013 -0.426            \n",
       "                   scl(wtpcrt):scl(n)\n",
       "scl(wtpcrt)                          \n",
       "scale(ref)                           \n",
       "scale(nfc)                           \n",
       "scale(bnt)                           \n",
       "scl(wtpcrt):scl(r)                   \n",
       "scl(wtpcrt):scl(n)                   \n",
       "scl(wtpcrt):scl(b)  0.100            "
      ]
     },
     "metadata": {},
     "output_type": "display_data"
    },
    {
     "data": {
      "text/plain": [
       "Generalized linear mixed model fit by maximum likelihood (Laplace\n",
       "  Approximation) [glmerMod]\n",
       " Family: binomial  ( logit )\n",
       "Formula: choice ~ scale(wtpcert) * (scale(ref) + scale(nfc) + scale(bnt)) +  \n",
       "    (1 | code)\n",
       "   Data: mydata3\n",
       "\n",
       "     AIC      BIC   logLik deviance df.resid \n",
       " 10522.4  10587.6  -5252.2  10504.4    10416 \n",
       "\n",
       "Scaled residuals: \n",
       "     Min       1Q   Median       3Q      Max \n",
       "-28.0989  -0.6195  -0.2093   0.6319  29.8355 \n",
       "\n",
       "Random effects:\n",
       " Groups Name        Variance Std.Dev.\n",
       " code   (Intercept) 1.235    1.111   \n",
       "Number of obs: 10425, groups:  code, 50\n",
       "\n",
       "Fixed effects:\n",
       "                          Estimate Std. Error z value Pr(>|z|)    \n",
       "(Intercept)               -0.44488    0.15924  -2.794  0.00521 ** \n",
       "scale(wtpcert)             1.59773    0.04081  39.149  < 2e-16 ***\n",
       "scale(ref)                 0.16014    0.20261   0.790  0.42930    \n",
       "scale(nfc)                 0.03035    0.16194   0.187  0.85131    \n",
       "scale(bnt)                -0.06385    0.20067  -0.318  0.75034    \n",
       "scale(wtpcert):scale(ref)  0.27943    0.04760   5.871 4.34e-09 ***\n",
       "scale(wtpcert):scale(nfc)  0.11197    0.03676   3.046  0.00232 ** \n",
       "scale(wtpcert):scale(bnt)  0.15775    0.05036   3.132  0.00173 ** \n",
       "---\n",
       "Signif. codes:  0 ‘***’ 0.001 ‘**’ 0.01 ‘*’ 0.05 ‘.’ 0.1 ‘ ’ 1\n",
       "\n",
       "Correlation of Fixed Effects:\n",
       "                   (Intr) scl(w) scl(r) scl(n) scl(b) scl(wtpcrt):scl(r)\n",
       "scl(wtpcrt)        -0.033                                               \n",
       "scale(ref)         -0.004  0.004                                        \n",
       "scale(nfc)          0.004  0.010 -0.138                                 \n",
       "scale(bnt)         -0.006 -0.008 -0.603  0.009                          \n",
       "scl(wtpcrt):scl(r)  0.002  0.152 -0.020  0.005  0.010                   \n",
       "scl(wtpcrt):scl(n)  0.009  0.081  0.004 -0.039 -0.002 -0.150            \n",
       "scl(wtpcrt):scl(b) -0.004  0.128  0.011 -0.001 -0.032 -0.529            \n",
       "                   scl(wtpcrt):scl(n)\n",
       "scl(wtpcrt)                          \n",
       "scale(ref)                           \n",
       "scale(nfc)                           \n",
       "scale(bnt)                           \n",
       "scl(wtpcrt):scl(r)                   \n",
       "scl(wtpcrt):scl(n)                   \n",
       "scl(wtpcrt):scl(b)  0.026            "
      ]
     },
     "metadata": {},
     "output_type": "display_data"
    }
   ],
   "source": [
    "summary(glmer(choice ~ scale(wtpcert)*(scale(ref)+scale(nfc)+scale(bnt)) + (1|code), mydata, family=binomial(link = \"logit\")))\n",
    "summary(glmer(choice ~ scale(wtpcert)*(scale(ref)+scale(nfc)+scale(bnt)) + (1|code), mydata3, family=binomial(link = \"logit\")))"
   ]
  },
  {
   "cell_type": "code",
   "execution_count": null,
   "metadata": {},
   "outputs": [],
   "source": []
  }
 ],
 "metadata": {
  "kernelspec": {
   "display_name": "R",
   "language": "R",
   "name": "ir"
  },
  "language_info": {
   "codemirror_mode": "r",
   "file_extension": ".r",
   "mimetype": "text/x-r-source",
   "name": "R",
   "pygments_lexer": "r",
   "version": "3.6.0"
  }
 },
 "nbformat": 4,
 "nbformat_minor": 2
}
