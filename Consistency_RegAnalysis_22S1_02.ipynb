{
 "cells": [
  {
   "cell_type": "code",
   "execution_count": 28,
   "metadata": {},
   "outputs": [],
   "source": [
    "library(lme4)\n",
    "library(lmerTest)\n",
    "library(nlme)\n",
    "library(ggplot2)\n",
    "library(grid)\n",
    "library(gridExtra)\n",
    "library(lattice)\n",
    "library(plyr)\n",
    "library(MASS)\n",
    "library(stats4)\n",
    "library(dplyr)\n",
    "library(car)\n",
    "library(tidyr)\n",
    "library(broom)\n"
   ]
  },
  {
   "cell_type": "markdown",
   "metadata": {},
   "source": [
    "# Results from the sDDM modelling for decision consistency analysis\n",
    "Based on the data collected in June 2022"
   ]
  },
  {
   "cell_type": "markdown",
   "metadata": {},
   "source": [
    "## Load data and preprocessing"
   ]
  },
  {
   "cell_type": "code",
   "execution_count": 2,
   "metadata": {},
   "outputs": [],
   "source": [
    "# trials table\n",
    "data_raw <- read.table(\"/Users/hutianqi/Desktop/Project Cognitive Imprecision/Z1E Dataset_Base NT/Trials_22S1.csv\", header=TRUE, sep=\",\")\n",
    "\n",
    "data_raw$logRT <- log(1 + data_raw$RT)\n",
    "\n",
    "# make a copy of the data where less than 300ms and more than 10s rounds are rejected\n",
    "data1 <- subset(data_raw, RT > .3 & RT < 10)\n",
    "\n",
    "# # create another dataset in wh subjects with error_choice > 5 are rejected\n",
    "# data2 <- subset(data1, error_choice <= 5)\n"
   ]
  },
  {
   "cell_type": "code",
   "execution_count": 3,
   "metadata": {
    "scrolled": true
   },
   "outputs": [
    {
     "data": {
      "text/html": [
       "<ol class=list-inline>\n",
       "\t<li>'subject'</li>\n",
       "\t<li>'trial'</li>\n",
       "\t<li>'treatment'</li>\n",
       "\t<li>'lot_code'</li>\n",
       "\t<li>'display'</li>\n",
       "\t<li>'risk_level'</li>\n",
       "\t<li>'risk'</li>\n",
       "\t<li>'reward'</li>\n",
       "\t<li>'certainty'</li>\n",
       "\t<li>'WTP'</li>\n",
       "\t<li>'choice'</li>\n",
       "\t<li>'RT'</li>\n",
       "\t<li>'slc_lot'</li>\n",
       "\t<li>'correct'</li>\n",
       "\t<li>'incorrect'</li>\n",
       "\t<li>'value_diff'</li>\n",
       "\t<li>'value_sum'</li>\n",
       "\t<li>'lottery_favour'</li>\n",
       "\t<li>'lot_correct'</li>\n",
       "\t<li>'error_choice'</li>\n",
       "\t<li>'decmode'</li>\n",
       "\t<li>'reflection'</li>\n",
       "\t<li>'intuition'</li>\n",
       "\t<li>'BNT'</li>\n",
       "\t<li>'NFC'</li>\n",
       "\t<li>'FI'</li>\n",
       "\t<li>'age'</li>\n",
       "\t<li>'sex_code'</li>\n",
       "\t<li>'edu_code'</li>\n",
       "\t<li>'d'</li>\n",
       "\t<li>'inv_d'</li>\n",
       "\t<li>'B'</li>\n",
       "\t<li>'nondectime'</li>\n",
       "\t<li>'logRT'</li>\n",
       "</ol>\n"
      ],
      "text/latex": [
       "\\begin{enumerate*}\n",
       "\\item 'subject'\n",
       "\\item 'trial'\n",
       "\\item 'treatment'\n",
       "\\item 'lot\\_code'\n",
       "\\item 'display'\n",
       "\\item 'risk\\_level'\n",
       "\\item 'risk'\n",
       "\\item 'reward'\n",
       "\\item 'certainty'\n",
       "\\item 'WTP'\n",
       "\\item 'choice'\n",
       "\\item 'RT'\n",
       "\\item 'slc\\_lot'\n",
       "\\item 'correct'\n",
       "\\item 'incorrect'\n",
       "\\item 'value\\_diff'\n",
       "\\item 'value\\_sum'\n",
       "\\item 'lottery\\_favour'\n",
       "\\item 'lot\\_correct'\n",
       "\\item 'error\\_choice'\n",
       "\\item 'decmode'\n",
       "\\item 'reflection'\n",
       "\\item 'intuition'\n",
       "\\item 'BNT'\n",
       "\\item 'NFC'\n",
       "\\item 'FI'\n",
       "\\item 'age'\n",
       "\\item 'sex\\_code'\n",
       "\\item 'edu\\_code'\n",
       "\\item 'd'\n",
       "\\item 'inv\\_d'\n",
       "\\item 'B'\n",
       "\\item 'nondectime'\n",
       "\\item 'logRT'\n",
       "\\end{enumerate*}\n"
      ],
      "text/markdown": [
       "1. 'subject'\n",
       "2. 'trial'\n",
       "3. 'treatment'\n",
       "4. 'lot_code'\n",
       "5. 'display'\n",
       "6. 'risk_level'\n",
       "7. 'risk'\n",
       "8. 'reward'\n",
       "9. 'certainty'\n",
       "10. 'WTP'\n",
       "11. 'choice'\n",
       "12. 'RT'\n",
       "13. 'slc_lot'\n",
       "14. 'correct'\n",
       "15. 'incorrect'\n",
       "16. 'value_diff'\n",
       "17. 'value_sum'\n",
       "18. 'lottery_favour'\n",
       "19. 'lot_correct'\n",
       "20. 'error_choice'\n",
       "21. 'decmode'\n",
       "22. 'reflection'\n",
       "23. 'intuition'\n",
       "24. 'BNT'\n",
       "25. 'NFC'\n",
       "26. 'FI'\n",
       "27. 'age'\n",
       "28. 'sex_code'\n",
       "29. 'edu_code'\n",
       "30. 'd'\n",
       "31. 'inv_d'\n",
       "32. 'B'\n",
       "33. 'nondectime'\n",
       "34. 'logRT'\n",
       "\n",
       "\n"
      ],
      "text/plain": [
       " [1] \"subject\"        \"trial\"          \"treatment\"      \"lot_code\"      \n",
       " [5] \"display\"        \"risk_level\"     \"risk\"           \"reward\"        \n",
       " [9] \"certainty\"      \"WTP\"            \"choice\"         \"RT\"            \n",
       "[13] \"slc_lot\"        \"correct\"        \"incorrect\"      \"value_diff\"    \n",
       "[17] \"value_sum\"      \"lottery_favour\" \"lot_correct\"    \"error_choice\"  \n",
       "[21] \"decmode\"        \"reflection\"     \"intuition\"      \"BNT\"           \n",
       "[25] \"NFC\"            \"FI\"             \"age\"            \"sex_code\"      \n",
       "[29] \"edu_code\"       \"d\"              \"inv_d\"          \"B\"             \n",
       "[33] \"nondectime\"     \"logRT\"         "
      ]
     },
     "metadata": {},
     "output_type": "display_data"
    }
   ],
   "source": [
    "names(data1)"
   ]
  },
  {
   "cell_type": "code",
   "execution_count": 4,
   "metadata": {},
   "outputs": [],
   "source": [
    "# individual difference table\n",
    "idt1 <- read.table(\"/Users/hutianqi/Desktop/Project Cognitive Imprecision/Z1E Dataset_Base NT/IDT_22S1.csv\", header=TRUE, sep=\",\")\n",
    "\n",
    "# idt2 <- subset(idt1, error_choice <= 5)\n"
   ]
  },
  {
   "cell_type": "code",
   "execution_count": 5,
   "metadata": {},
   "outputs": [
    {
     "data": {
      "text/html": [
       "<ol class=list-inline>\n",
       "\t<li>'subject'</li>\n",
       "\t<li>'treatment'</li>\n",
       "\t<li>'age'</li>\n",
       "\t<li>'sex'</li>\n",
       "\t<li>'sex_code'</li>\n",
       "\t<li>'education'</li>\n",
       "\t<li>'edu_code'</li>\n",
       "\t<li>'reflection'</li>\n",
       "\t<li>'intuition'</li>\n",
       "\t<li>'BNT'</li>\n",
       "\t<li>'NFC'</li>\n",
       "\t<li>'FI'</li>\n",
       "\t<li>'decmode'</li>\n",
       "\t<li>'accuracy'</li>\n",
       "\t<li>'lottery_freq'</li>\n",
       "\t<li>'mean_RT'</li>\n",
       "\t<li>'error_choice'</li>\n",
       "\t<li>'d'</li>\n",
       "\t<li>'inv_d'</li>\n",
       "\t<li>'B'</li>\n",
       "\t<li>'nondectime'</li>\n",
       "\t<li>'ddm_sample'</li>\n",
       "</ol>\n"
      ],
      "text/latex": [
       "\\begin{enumerate*}\n",
       "\\item 'subject'\n",
       "\\item 'treatment'\n",
       "\\item 'age'\n",
       "\\item 'sex'\n",
       "\\item 'sex\\_code'\n",
       "\\item 'education'\n",
       "\\item 'edu\\_code'\n",
       "\\item 'reflection'\n",
       "\\item 'intuition'\n",
       "\\item 'BNT'\n",
       "\\item 'NFC'\n",
       "\\item 'FI'\n",
       "\\item 'decmode'\n",
       "\\item 'accuracy'\n",
       "\\item 'lottery\\_freq'\n",
       "\\item 'mean\\_RT'\n",
       "\\item 'error\\_choice'\n",
       "\\item 'd'\n",
       "\\item 'inv\\_d'\n",
       "\\item 'B'\n",
       "\\item 'nondectime'\n",
       "\\item 'ddm\\_sample'\n",
       "\\end{enumerate*}\n"
      ],
      "text/markdown": [
       "1. 'subject'\n",
       "2. 'treatment'\n",
       "3. 'age'\n",
       "4. 'sex'\n",
       "5. 'sex_code'\n",
       "6. 'education'\n",
       "7. 'edu_code'\n",
       "8. 'reflection'\n",
       "9. 'intuition'\n",
       "10. 'BNT'\n",
       "11. 'NFC'\n",
       "12. 'FI'\n",
       "13. 'decmode'\n",
       "14. 'accuracy'\n",
       "15. 'lottery_freq'\n",
       "16. 'mean_RT'\n",
       "17. 'error_choice'\n",
       "18. 'd'\n",
       "19. 'inv_d'\n",
       "20. 'B'\n",
       "21. 'nondectime'\n",
       "22. 'ddm_sample'\n",
       "\n",
       "\n"
      ],
      "text/plain": [
       " [1] \"subject\"      \"treatment\"    \"age\"          \"sex\"          \"sex_code\"    \n",
       " [6] \"education\"    \"edu_code\"     \"reflection\"   \"intuition\"    \"BNT\"         \n",
       "[11] \"NFC\"          \"FI\"           \"decmode\"      \"accuracy\"     \"lottery_freq\"\n",
       "[16] \"mean_RT\"      \"error_choice\" \"d\"            \"inv_d\"        \"B\"           \n",
       "[21] \"nondectime\"   \"ddm_sample\"  "
      ]
     },
     "metadata": {},
     "output_type": "display_data"
    }
   ],
   "source": [
    "names(idt1)"
   ]
  },
  {
   "cell_type": "markdown",
   "metadata": {},
   "source": [
    "###  All continuous variables are scaled due to the inclusion of interactive terms and to avoid the error \"Model failed to converge with max|grad|\"."
   ]
  },
  {
   "cell_type": "markdown",
   "metadata": {},
   "source": [
    "# Predicting decision consistency\n"
   ]
  },
  {
   "cell_type": "code",
   "execution_count": 6,
   "metadata": {
    "scrolled": true
   },
   "outputs": [
    {
     "data": {
      "text/plain": [
       "Generalized linear mixed model fit by maximum likelihood (Laplace\n",
       "  Approximation) [glmerMod]\n",
       " Family: binomial  ( logit )\n",
       "Formula: incorrect ~ scale(value_diff) * scale(WTP) + (1 | subject)\n",
       "   Data: data1\n",
       "\n",
       "     AIC      BIC   logLik deviance df.resid \n",
       " 20616.0  20655.5 -10303.0  20606.0    19909 \n",
       "\n",
       "Scaled residuals: \n",
       "    Min      1Q  Median      3Q     Max \n",
       "-3.0051 -0.6020 -0.4189  0.7759 16.0584 \n",
       "\n",
       "Random effects:\n",
       " Groups  Name        Variance Std.Dev.\n",
       " subject (Intercept) 0.539    0.7341  \n",
       "Number of obs: 19914, groups:  subject, 97\n",
       "\n",
       "Fixed effects:\n",
       "                             Estimate Std. Error z value Pr(>|z|)    \n",
       "(Intercept)                  -1.23399    0.07719 -15.987  < 2e-16 ***\n",
       "scale(value_diff)            -0.84458    0.02701 -31.271  < 2e-16 ***\n",
       "scale(WTP)                    0.19150    0.02005   9.551  < 2e-16 ***\n",
       "scale(value_diff):scale(WTP)  0.15215    0.01871   8.131 4.24e-16 ***\n",
       "---\n",
       "Signif. codes:  0 ‘***’ 0.001 ‘**’ 0.01 ‘*’ 0.05 ‘.’ 0.1 ‘ ’ 1\n",
       "\n",
       "Correlation of Fixed Effects:\n",
       "            (Intr) scl(_) s(WTP)\n",
       "scl(vl_dff)  0.108              \n",
       "scale(WTP)  -0.033 -0.320       \n",
       "sc(_):(WTP) -0.083 -0.346  0.052"
      ]
     },
     "metadata": {},
     "output_type": "display_data"
    }
   ],
   "source": [
    "# All subjects\n",
    "summary(glmer(incorrect ~ scale(value_diff)*scale(WTP) + (1|subject), data1, family=binomial(link = \"logit\")))\n"
   ]
  },
  {
   "cell_type": "code",
   "execution_count": 7,
   "metadata": {
    "scrolled": true
   },
   "outputs": [
    {
     "data": {
      "text/plain": [
       "Generalized linear mixed model fit by maximum likelihood (Laplace\n",
       "  Approximation) [glmerMod]\n",
       " Family: binomial  ( logit )\n",
       "Formula: incorrect ~ scale(value_diff) * scale(WTP) + sex_code + scale(age) +  \n",
       "    scale(edu_code) + (1 | subject)\n",
       "   Data: data1\n",
       "\n",
       "     AIC      BIC   logLik deviance df.resid \n",
       " 20618.1  20681.2 -10301.0  20602.1    19906 \n",
       "\n",
       "Scaled residuals: \n",
       "    Min      1Q  Median      3Q     Max \n",
       "-3.0143 -0.6017 -0.4188  0.7768 16.0560 \n",
       "\n",
       "Random effects:\n",
       " Groups  Name        Variance Std.Dev.\n",
       " subject (Intercept) 0.5163   0.7186  \n",
       "Number of obs: 19914, groups:  subject, 97\n",
       "\n",
       "Fixed effects:\n",
       "                             Estimate Std. Error z value Pr(>|z|)    \n",
       "(Intercept)                  -1.09551    0.10719 -10.220  < 2e-16 ***\n",
       "scale(value_diff)            -0.84501    0.02701 -31.283  < 2e-16 ***\n",
       "scale(WTP)                    0.19160    0.02005   9.557  < 2e-16 ***\n",
       "sex_code                     -0.27466    0.15058  -1.824   0.0681 .  \n",
       "scale(age)                   -0.01934    0.07519  -0.257   0.7970    \n",
       "scale(edu_code)              -0.05276    0.07569  -0.697   0.4858    \n",
       "scale(value_diff):scale(WTP)  0.15230    0.01871   8.138 4.01e-16 ***\n",
       "---\n",
       "Signif. codes:  0 ‘***’ 0.001 ‘**’ 0.01 ‘*’ 0.05 ‘.’ 0.1 ‘ ’ 1\n",
       "\n",
       "Correlation of Fixed Effects:\n",
       "            (Intr) scl(v_) s(WTP) sex_cd scl(g) scl(d_)\n",
       "scl(vl_dff)  0.063                                     \n",
       "scale(WTP)  -0.016 -0.320                              \n",
       "sex_code    -0.708  0.020  -0.011                      \n",
       "scale(age)   0.053 -0.010   0.015 -0.062               \n",
       "scale(d_cd)  0.012  0.011  -0.010 -0.014 -0.070        \n",
       "sc(_):(WTP) -0.052 -0.346   0.052 -0.010  0.017 -0.007 "
      ]
     },
     "metadata": {},
     "output_type": "display_data"
    }
   ],
   "source": [
    "# All subjects; additional demographic factors as control variables \n",
    "summary(glmer(incorrect ~ scale(value_diff)*scale(WTP) + sex_code + scale(age) + scale(edu_code) + (1|subject), data1, family=binomial(link = \"logit\")))\n"
   ]
  },
  {
   "cell_type": "markdown",
   "metadata": {},
   "source": [
    "### Because demographic factors are not significant predictors, they are dopped in folowing analysis."
   ]
  },
  {
   "cell_type": "code",
   "execution_count": 8,
   "metadata": {
    "scrolled": true
   },
   "outputs": [
    {
     "data": {
      "text/plain": [
       "Generalized linear mixed model fit by maximum likelihood (Laplace\n",
       "  Approximation) [glmerMod]\n",
       " Family: binomial  ( logit )\n",
       "Formula: incorrect ~ scale(value_diff) * scale(WTP) + scale(reflection) +  \n",
       "    scale(BNT) + scale(NFC) + scale(FI) + (1 | subject)\n",
       "   Data: data1\n",
       "\n",
       "     AIC      BIC   logLik deviance df.resid \n",
       " 20611.8  20682.9 -10296.9  20593.8    19905 \n",
       "\n",
       "Scaled residuals: \n",
       "    Min      1Q  Median      3Q     Max \n",
       "-3.0211 -0.6014 -0.4192  0.7749 16.0140 \n",
       "\n",
       "Random effects:\n",
       " Groups  Name        Variance Std.Dev.\n",
       " subject (Intercept) 0.4703   0.6858  \n",
       "Number of obs: 19914, groups:  subject, 97\n",
       "\n",
       "Fixed effects:\n",
       "                              Estimate Std. Error z value Pr(>|z|)    \n",
       "(Intercept)                  -1.238495   0.072480 -17.087  < 2e-16 ***\n",
       "scale(value_diff)            -0.845119   0.027017 -31.281  < 2e-16 ***\n",
       "scale(WTP)                    0.190060   0.020051   9.479  < 2e-16 ***\n",
       "scale(reflection)            -0.188765   0.091639  -2.060   0.0394 *  \n",
       "scale(BNT)                    0.031197   0.087897   0.355   0.7226    \n",
       "scale(NFC)                   -0.173666   0.074732  -2.324   0.0201 *  \n",
       "scale(FI)                     0.007734   0.075561   0.102   0.9185    \n",
       "scale(value_diff):scale(WTP)  0.152375   0.018715   8.142 3.89e-16 ***\n",
       "---\n",
       "Signif. codes:  0 ‘***’ 0.001 ‘**’ 0.01 ‘*’ 0.05 ‘.’ 0.1 ‘ ’ 1\n",
       "\n",
       "Correlation of Fixed Effects:\n",
       "            (Intr) scl(_) s(WTP) scl(r) s(BNT) s(NFC) sc(FI)\n",
       "scl(vl_dff)  0.116                                          \n",
       "scale(WTP)  -0.035 -0.320                                   \n",
       "scl(rflctn)  0.010  0.015 -0.001                            \n",
       "scale(BNT)  -0.004  0.004  0.008 -0.589                     \n",
       "scale(NFC)   0.021  0.017  0.002 -0.193  0.118              \n",
       "scale(FI)   -0.008  0.006 -0.020  0.237 -0.085 -0.217       \n",
       "sc(_):(WTP) -0.088 -0.347  0.052 -0.007 -0.008 -0.003  0.003"
      ]
     },
     "metadata": {},
     "output_type": "display_data"
    }
   ],
   "source": [
    "# All subjects; with Psychometrics\n",
    "summary(glmer(incorrect ~ scale(value_diff)*scale(WTP) + scale(reflection) + scale(BNT) + scale(NFC) + scale(FI) + (1|subject), data1, family=binomial(link = \"logit\")))\n"
   ]
  },
  {
   "cell_type": "code",
   "execution_count": 9,
   "metadata": {
    "scrolled": true
   },
   "outputs": [
    {
     "data": {
      "text/plain": [
       "Generalized linear mixed model fit by maximum likelihood (Laplace\n",
       "  Approximation) [glmerMod]\n",
       " Family: binomial  ( logit )\n",
       "Formula: incorrect ~ scale(value_diff) * scale(WTP) + scale(reflection) +  \n",
       "    (1 | subject)\n",
       "   Data: data1\n",
       "\n",
       "     AIC      BIC   logLik deviance df.resid \n",
       " 20611.5  20658.9 -10299.8  20599.5    19908 \n",
       "\n",
       "Scaled residuals: \n",
       "    Min      1Q  Median      3Q     Max \n",
       "-3.0188 -0.6010 -0.4186  0.7767 16.0132 \n",
       "\n",
       "Random effects:\n",
       " Groups  Name        Variance Std.Dev.\n",
       " subject (Intercept) 0.5013   0.7081  \n",
       "Number of obs: 19914, groups:  subject, 97\n",
       "\n",
       "Fixed effects:\n",
       "                             Estimate Std. Error z value Pr(>|z|)    \n",
       "(Intercept)                  -1.23572    0.07463 -16.557  < 2e-16 ***\n",
       "scale(value_diff)            -0.84499    0.02702 -31.276  < 2e-16 ***\n",
       "scale(WTP)                    0.19045    0.02005   9.498  < 2e-16 ***\n",
       "scale(reflection)            -0.19102    0.07377  -2.589  0.00962 ** \n",
       "scale(value_diff):scale(WTP)  0.15260    0.01872   8.152 3.57e-16 ***\n",
       "---\n",
       "Signif. codes:  0 ‘***’ 0.001 ‘**’ 0.01 ‘*’ 0.05 ‘.’ 0.1 ‘ ’ 1\n",
       "\n",
       "Correlation of Fixed Effects:\n",
       "            (Intr) scl(_) s(WTP) scl(r)\n",
       "scl(vl_dff)  0.112                     \n",
       "scale(WTP)  -0.034 -0.320              \n",
       "scl(rflctn)  0.014  0.022  0.009       \n",
       "sc(_):(WTP) -0.086 -0.347  0.052 -0.015"
      ]
     },
     "metadata": {},
     "output_type": "display_data"
    },
    {
     "data": {
      "text/plain": [
       "Generalized linear mixed model fit by maximum likelihood (Laplace\n",
       "  Approximation) [glmerMod]\n",
       " Family: binomial  ( logit )\n",
       "Formula: incorrect ~ scale(value_diff) * scale(WTP) + scale(BNT) + (1 |  \n",
       "    subject)\n",
       "   Data: data1\n",
       "\n",
       "     AIC      BIC   logLik deviance df.resid \n",
       " 20617.0  20664.4 -10302.5  20605.0    19908 \n",
       "\n",
       "Scaled residuals: \n",
       "    Min      1Q  Median      3Q     Max \n",
       "-3.0044 -0.6013 -0.4189  0.7754 16.0701 \n",
       "\n",
       "Random effects:\n",
       " Groups  Name        Variance Std.Dev.\n",
       " subject (Intercept) 0.5327   0.7299  \n",
       "Number of obs: 19914, groups:  subject, 97\n",
       "\n",
       "Fixed effects:\n",
       "                             Estimate Std. Error z value Pr(>|z|)    \n",
       "(Intercept)                  -1.23407    0.07676 -16.076  < 2e-16 ***\n",
       "scale(value_diff)            -0.84480    0.02701 -31.273  < 2e-16 ***\n",
       "scale(WTP)                    0.19121    0.02005   9.535  < 2e-16 ***\n",
       "scale(BNT)                   -0.07447    0.07511  -0.991    0.321    \n",
       "scale(value_diff):scale(WTP)  0.15238    0.01872   8.142 3.88e-16 ***\n",
       "---\n",
       "Signif. codes:  0 ‘***’ 0.001 ‘**’ 0.01 ‘*’ 0.05 ‘.’ 0.1 ‘ ’ 1\n",
       "\n",
       "Correlation of Fixed Effects:\n",
       "            (Intr) scl(_) s(WTP) s(BNT)\n",
       "scl(vl_dff)  0.109                     \n",
       "scale(WTP)  -0.033 -0.320              \n",
       "scale(BNT)   0.003  0.014  0.010       \n",
       "sc(_):(WTP) -0.083 -0.346  0.052 -0.014"
      ]
     },
     "metadata": {},
     "output_type": "display_data"
    },
    {
     "data": {
      "text/plain": [
       "Generalized linear mixed model fit by maximum likelihood (Laplace\n",
       "  Approximation) [glmerMod]\n",
       " Family: binomial  ( logit )\n",
       "Formula: incorrect ~ scale(value_diff) * scale(WTP) + scale(NFC) + (1 |  \n",
       "    subject)\n",
       "   Data: data1\n",
       "\n",
       "     AIC      BIC   logLik deviance df.resid \n",
       " 20611.4  20658.8 -10299.7  20599.4    19908 \n",
       "\n",
       "Scaled residuals: \n",
       "    Min      1Q  Median      3Q     Max \n",
       "-3.0065 -0.6013 -0.4190  0.7749 16.0651 \n",
       "\n",
       "Random effects:\n",
       " Groups  Name        Variance Std.Dev.\n",
       " subject (Intercept) 0.5009   0.7078  \n",
       "Number of obs: 19914, groups:  subject, 97\n",
       "\n",
       "Fixed effects:\n",
       "                             Estimate Std. Error z value Pr(>|z|)    \n",
       "(Intercept)                  -1.23711    0.07461 -16.580  < 2e-16 ***\n",
       "scale(value_diff)            -0.84482    0.02701 -31.280  < 2e-16 ***\n",
       "scale(WTP)                    0.19105    0.02004   9.531  < 2e-16 ***\n",
       "scale(NFC)                   -0.19387    0.07429  -2.610  0.00907 ** \n",
       "scale(value_diff):scale(WTP)  0.15199    0.01871   8.125 4.48e-16 ***\n",
       "---\n",
       "Signif. codes:  0 ‘***’ 0.001 ‘**’ 0.01 ‘*’ 0.05 ‘.’ 0.1 ‘ ’ 1\n",
       "\n",
       "Correlation of Fixed Effects:\n",
       "            (Intr) scl(_) s(WTP) s(NFC)\n",
       "scl(vl_dff)  0.112                     \n",
       "scale(WTP)  -0.034 -0.320              \n",
       "scale(NFC)   0.021  0.020 -0.002       \n",
       "sc(_):(WTP) -0.086 -0.346  0.052 -0.003"
      ]
     },
     "metadata": {},
     "output_type": "display_data"
    },
    {
     "data": {
      "text/plain": [
       "Generalized linear mixed model fit by maximum likelihood (Laplace\n",
       "  Approximation) [glmerMod]\n",
       " Family: binomial  ( logit )\n",
       "Formula: incorrect ~ scale(value_diff) * scale(WTP) + scale(FI) + (1 |  \n",
       "    subject)\n",
       "   Data: data1\n",
       "\n",
       "     AIC      BIC   logLik deviance df.resid \n",
       " 20618.0  20665.4 -10303.0  20606.0    19908 \n",
       "\n",
       "Scaled residuals: \n",
       "    Min      1Q  Median      3Q     Max \n",
       "-3.0051 -0.6018 -0.4189  0.7764 16.0614 \n",
       "\n",
       "Random effects:\n",
       " Groups  Name        Variance Std.Dev.\n",
       " subject (Intercept) 0.5389   0.7341  \n",
       "Number of obs: 19914, groups:  subject, 97\n",
       "\n",
       "Fixed effects:\n",
       "                             Estimate Std. Error z value Pr(>|z|)    \n",
       "(Intercept)                  -1.23408    0.07718 -15.989  < 2e-16 ***\n",
       "scale(value_diff)            -0.84455    0.02701 -31.269  < 2e-16 ***\n",
       "scale(WTP)                    0.19142    0.02005   9.545  < 2e-16 ***\n",
       "scale(FI)                     0.01416    0.07673   0.185    0.854    \n",
       "scale(value_diff):scale(WTP)  0.15217    0.01871   8.132 4.22e-16 ***\n",
       "---\n",
       "Signif. codes:  0 ‘***’ 0.001 ‘**’ 0.01 ‘*’ 0.05 ‘.’ 0.1 ‘ ’ 1\n",
       "\n",
       "Correlation of Fixed Effects:\n",
       "            (Intr) scl(_) s(WTP) sc(FI)\n",
       "scl(vl_dff)  0.108                     \n",
       "scale(WTP)  -0.033 -0.320              \n",
       "scale(FI)   -0.007  0.005 -0.020       \n",
       "sc(_):(WTP) -0.083 -0.346  0.052  0.005"
      ]
     },
     "metadata": {},
     "output_type": "display_data"
    }
   ],
   "source": [
    "# All subjects; with Psychometrics one by one\n",
    "summary(glmer(incorrect ~ scale(value_diff)*scale(WTP) + scale(reflection) + (1|subject), data1, family=binomial(link = \"logit\")))\n",
    "\n",
    "summary(glmer(incorrect ~ scale(value_diff)*scale(WTP) + scale(BNT) + (1|subject), data1, family=binomial(link = \"logit\")))\n",
    "\n",
    "summary(glmer(incorrect ~ scale(value_diff)*scale(WTP) + scale(NFC) + (1|subject), data1, family=binomial(link = \"logit\")))\n",
    "\n",
    "summary(glmer(incorrect ~ scale(value_diff)*scale(WTP) + scale(FI) + (1|subject), data1, family=binomial(link = \"logit\")))\n",
    "\n"
   ]
  },
  {
   "cell_type": "code",
   "execution_count": 10,
   "metadata": {
    "scrolled": true
   },
   "outputs": [
    {
     "data": {
      "text/plain": [
       "Generalized linear mixed model fit by maximum likelihood (Laplace\n",
       "  Approximation) [glmerMod]\n",
       " Family: binomial  ( logit )\n",
       "Formula: \n",
       "incorrect ~ scale(value_diff) * scale(WTP) + scale(inv_d) + scale(B) +  \n",
       "    (1 | subject)\n",
       "   Data: data1\n",
       "\n",
       "     AIC      BIC   logLik deviance df.resid \n",
       " 20490.2  20545.5 -10238.1  20476.2    19907 \n",
       "\n",
       "Scaled residuals: \n",
       "    Min      1Q  Median      3Q     Max \n",
       "-2.6545 -0.6030 -0.4138  0.7800 15.3248 \n",
       "\n",
       "Random effects:\n",
       " Groups  Name        Variance Std.Dev.\n",
       " subject (Intercept) 0.1126   0.3356  \n",
       "Number of obs: 19914, groups:  subject, 97\n",
       "\n",
       "Fixed effects:\n",
       "                             Estimate Std. Error z value Pr(>|z|)    \n",
       "(Intercept)                  -1.24676    0.03957 -31.507  < 2e-16 ***\n",
       "scale(value_diff)            -0.83681    0.02683 -31.185  < 2e-16 ***\n",
       "scale(WTP)                    0.17588    0.01993   8.827  < 2e-16 ***\n",
       "scale(inv_d)                  0.63637    0.03909  16.278  < 2e-16 ***\n",
       "scale(B)                     -0.12357    0.03768  -3.279  0.00104 ** \n",
       "scale(value_diff):scale(WTP)  0.14347    0.01867   7.685 1.53e-14 ***\n",
       "---\n",
       "Signif. codes:  0 ‘***’ 0.001 ‘**’ 0.01 ‘*’ 0.05 ‘.’ 0.1 ‘ ’ 1\n",
       "\n",
       "Correlation of Fixed Effects:\n",
       "            (Intr) scl(v_) s(WTP) scl(n_) scl(B)\n",
       "scl(vl_dff)  0.213                              \n",
       "scale(WTP)  -0.066 -0.321                       \n",
       "scale(nv_d) -0.083 -0.085   0.029               \n",
       "scale(B)    -0.009  0.005   0.040 -0.034        \n",
       "sc(_):(WTP) -0.161 -0.342   0.052  0.008   0.003"
      ]
     },
     "metadata": {},
     "output_type": "display_data"
    },
    {
     "data": {
      "text/plain": [
       "Generalized linear mixed model fit by maximum likelihood (Laplace\n",
       "  Approximation) [glmerMod]\n",
       " Family: binomial  ( logit )\n",
       "Formula: \n",
       "incorrect ~ scale(value_diff) * scale(WTP) + scale(inv_d) * scale(B) +  \n",
       "    (1 | subject)\n",
       "   Data: data1\n",
       "\n",
       "     AIC      BIC   logLik deviance df.resid \n",
       " 20490.3  20553.5 -10237.2  20474.3    19906 \n",
       "\n",
       "Scaled residuals: \n",
       "    Min      1Q  Median      3Q     Max \n",
       "-2.6549 -0.6035 -0.4141  0.7800 15.3022 \n",
       "\n",
       "Random effects:\n",
       " Groups  Name        Variance Std.Dev.\n",
       " subject (Intercept) 0.1099   0.3316  \n",
       "Number of obs: 19914, groups:  subject, 97\n",
       "\n",
       "Fixed effects:\n",
       "                             Estimate Std. Error z value Pr(>|z|)    \n",
       "(Intercept)                  -1.24844    0.03925 -31.809  < 2e-16 ***\n",
       "scale(value_diff)            -0.83637    0.02683 -31.172  < 2e-16 ***\n",
       "scale(WTP)                    0.17497    0.01993   8.777  < 2e-16 ***\n",
       "scale(inv_d)                  0.63952    0.03881  16.476  < 2e-16 ***\n",
       "scale(B)                     -0.13633    0.03845  -3.545 0.000392 ***\n",
       "scale(value_diff):scale(WTP)  0.14323    0.01867   7.672  1.7e-14 ***\n",
       "scale(inv_d):scale(B)         0.05170    0.03728   1.387 0.165514    \n",
       "---\n",
       "Signif. codes:  0 ‘***’ 0.001 ‘**’ 0.01 ‘*’ 0.05 ‘.’ 0.1 ‘ ’ 1\n",
       "\n",
       "Correlation of Fixed Effects:\n",
       "            (Intr) scl(v_) s(WTP) scl(n_) scl(B) s(_):(W\n",
       "scl(vl_dff)  0.214                                      \n",
       "scale(WTP)  -0.066 -0.321                               \n",
       "scale(nv_d) -0.086 -0.085   0.028                       \n",
       "scale(B)     0.001  0.004   0.044 -0.049                \n",
       "sc(_):(WTP) -0.162 -0.342   0.052  0.007   0.003        \n",
       "scl(n_):(B) -0.036  0.000  -0.016  0.062  -0.240  0.000 "
      ]
     },
     "metadata": {},
     "output_type": "display_data"
    }
   ],
   "source": [
    "# All subjects; with DDM parameters\n",
    "summary(glmer(incorrect ~ scale(value_diff)*scale(WTP) + scale(inv_d) + scale(B) + (1|subject), data1, family=binomial(link = \"logit\")))\n",
    "\n",
    "summary(glmer(incorrect ~ scale(value_diff)*scale(WTP) + scale(inv_d)*scale(B) + (1|subject), data1, family=binomial(link = \"logit\")))\n"
   ]
  },
  {
   "cell_type": "code",
   "execution_count": 11,
   "metadata": {
    "scrolled": true
   },
   "outputs": [
    {
     "data": {
      "text/plain": [
       "Generalized linear mixed model fit by maximum likelihood (Laplace\n",
       "  Approximation) [glmerMod]\n",
       " Family: binomial  ( logit )\n",
       "Formula: incorrect ~ scale(value_diff) * scale(WTP) + scale(reflection) +  \n",
       "    scale(BNT) + scale(NFC) + scale(FI) + scale(inv_d) + scale(B) +  \n",
       "    (1 | subject)\n",
       "   Data: data1\n",
       "\n",
       "     AIC      BIC   logLik deviance df.resid \n",
       " 20495.2  20582.1 -10236.6  20473.2    19903 \n",
       "\n",
       "Scaled residuals: \n",
       "    Min      1Q  Median      3Q     Max \n",
       "-2.6505 -0.6025 -0.4140  0.7801 15.3406 \n",
       "\n",
       "Random effects:\n",
       " Groups  Name        Variance Std.Dev.\n",
       " subject (Intercept) 0.1079   0.3286  \n",
       "Number of obs: 19914, groups:  subject, 97\n",
       "\n",
       "Fixed effects:\n",
       "                              Estimate Std. Error z value Pr(>|z|)    \n",
       "(Intercept)                  -1.247067   0.038964 -32.005  < 2e-16 ***\n",
       "scale(value_diff)            -0.837474   0.026848 -31.193  < 2e-16 ***\n",
       "scale(WTP)                    0.174346   0.019962   8.734  < 2e-16 ***\n",
       "scale(reflection)            -0.013949   0.049376  -0.283  0.77756    \n",
       "scale(BNT)                   -0.054844   0.046419  -1.181  0.23741    \n",
       "scale(NFC)                   -0.012223   0.040622  -0.301  0.76349    \n",
       "scale(FI)                     0.005399   0.040745   0.133  0.89458    \n",
       "scale(inv_d)                  0.629009   0.041035  15.329  < 2e-16 ***\n",
       "scale(B)                     -0.115543   0.038163  -3.028  0.00246 ** \n",
       "scale(value_diff):scale(WTP)  0.144075   0.018677   7.714 1.22e-14 ***\n",
       "---\n",
       "Signif. codes:  0 ‘***’ 0.001 ‘**’ 0.01 ‘*’ 0.05 ‘.’ 0.1 ‘ ’ 1\n",
       "\n",
       "Correlation of Fixed Effects:\n",
       "            (Intr) scl(v_) s(WTP) scl(r) s(BNT) s(NFC) sc(FI) scl(n_) scl(B)\n",
       "scl(vl_dff)  0.216                                                          \n",
       "scale(WTP)  -0.067 -0.320                                                   \n",
       "scl(rflctn)  0.002  0.012   0.000                                           \n",
       "scale(BNT)   0.004  0.015   0.014 -0.590                                    \n",
       "scale(NFC)   0.012  0.011   0.008 -0.127  0.085                             \n",
       "scale(FI)   -0.018  0.006  -0.024  0.226 -0.084 -0.221                      \n",
       "scale(nv_d) -0.076 -0.074   0.030  0.220 -0.111  0.237  0.036               \n",
       "scale(B)    -0.013  0.002   0.032 -0.072 -0.008 -0.105  0.181 -0.071        \n",
       "sc(_):(WTP) -0.164 -0.342   0.051 -0.013 -0.015 -0.002  0.008  0.004   0.008"
      ]
     },
     "metadata": {},
     "output_type": "display_data"
    }
   ],
   "source": [
    "# All subjects; with Psychometrics; with DDM parameters\n",
    "summary(glmer(incorrect ~ scale(value_diff)*scale(WTP) + scale(reflection) + scale(BNT) + scale(NFC) + scale(FI) + scale(inv_d) + scale(B) + (1|subject), data1, family=binomial(link = \"logit\")))\n"
   ]
  },
  {
   "cell_type": "code",
   "execution_count": null,
   "metadata": {},
   "outputs": [],
   "source": []
  },
  {
   "cell_type": "markdown",
   "metadata": {},
   "source": [
    "# RT analysis"
   ]
  },
  {
   "cell_type": "code",
   "execution_count": 12,
   "metadata": {
    "scrolled": true
   },
   "outputs": [
    {
     "data": {
      "text/plain": [
       "Generalized linear mixed model fit by maximum likelihood (Laplace\n",
       "  Approximation) [glmerMod]\n",
       " Family: Gamma  ( identity )\n",
       "Formula: RT ~ scale(value_diff) * scale(WTP) + (1 | subject)\n",
       "   Data: data1\n",
       "\n",
       "     AIC      BIC   logLik deviance df.resid \n",
       " 58986.5  59034.0 -29487.3  58974.5    20128 \n",
       "\n",
       "Scaled residuals: \n",
       "    Min      1Q  Median      3Q     Max \n",
       "-1.5974 -0.6261 -0.2555  0.3064 12.5628 \n",
       "\n",
       "Random effects:\n",
       " Groups   Name        Variance Std.Dev.\n",
       " subject  (Intercept) 0.2531   0.5031  \n",
       " Residual             0.3145   0.5608  \n",
       "Number of obs: 20134, groups:  subject, 97\n",
       "\n",
       "Fixed effects:\n",
       "                              Estimate Std. Error t value Pr(>|z|)    \n",
       "(Intercept)                   2.526727   0.087768  28.789  < 2e-16 ***\n",
       "scale(value_diff)            -0.086138   0.006776 -12.712  < 2e-16 ***\n",
       "scale(WTP)                   -0.004463   0.008330  -0.536    0.592    \n",
       "scale(value_diff):scale(WTP)  0.034525   0.005717   6.039 1.55e-09 ***\n",
       "---\n",
       "Signif. codes:  0 ‘***’ 0.001 ‘**’ 0.01 ‘*’ 0.05 ‘.’ 0.1 ‘ ’ 1\n",
       "\n",
       "Correlation of Fixed Effects:\n",
       "            (Intr) scl(_) s(WTP)\n",
       "scl(vl_dff) -0.004              \n",
       "scale(WTP)   0.002 -0.197       \n",
       "sc(_):(WTP) -0.009 -0.078 -0.244"
      ]
     },
     "metadata": {},
     "output_type": "display_data"
    },
    {
     "data": {
      "text/plain": [
       "Generalized linear mixed model fit by maximum likelihood (Laplace\n",
       "  Approximation) [glmerMod]\n",
       " Family: Gamma  ( identity )\n",
       "Formula: RT ~ scale(value_diff) * scale(WTP) + slc_lot + (1 | subject)\n",
       "   Data: data1\n",
       "\n",
       "     AIC      BIC   logLik deviance df.resid \n",
       " 58988.5  59043.9 -29487.3  58974.5    20127 \n",
       "\n",
       "Scaled residuals: \n",
       "    Min      1Q  Median      3Q     Max \n",
       "-1.5974 -0.6260 -0.2555  0.3064 12.5649 \n",
       "\n",
       "Random effects:\n",
       " Groups   Name        Variance Std.Dev.\n",
       " subject  (Intercept) 0.2531   0.5031  \n",
       " Residual             0.3145   0.5608  \n",
       "Number of obs: 20134, groups:  subject, 97\n",
       "\n",
       "Fixed effects:\n",
       "                               Estimate Std. Error t value Pr(>|z|)    \n",
       "(Intercept)                   2.5265488  0.0881272  28.669  < 2e-16 ***\n",
       "scale(value_diff)            -0.0861035  0.0069138 -12.454  < 2e-16 ***\n",
       "scale(WTP)                   -0.0044901  0.0083931  -0.535    0.593    \n",
       "slc_lot                       0.0003785  0.0153292   0.025    0.980    \n",
       "scale(value_diff):scale(WTP)  0.0344976  0.0058284   5.919 3.24e-09 ***\n",
       "---\n",
       "Signif. codes:  0 ‘***’ 0.001 ‘**’ 0.01 ‘*’ 0.05 ‘.’ 0.1 ‘ ’ 1\n",
       "\n",
       "Correlation of Fixed Effects:\n",
       "            (Intr) scl(_) s(WTP) slc_lt\n",
       "scl(vl_dff) -0.022                     \n",
       "scale(WTP)   0.013 -0.216              \n",
       "slc_lot     -0.088  0.198 -0.122       \n",
       "sc(_):(WTP)  0.008 -0.114 -0.214 -0.195"
      ]
     },
     "metadata": {},
     "output_type": "display_data"
    }
   ],
   "source": [
    "# all subjects \n",
    "summary(glmer(RT ~ scale(value_diff)*scale(WTP) + (1|subject), data1, family = Gamma(link = \"identity\")))\n",
    "summary(glmer(RT ~ scale(value_diff)*scale(WTP) + slc_lot + (1|subject), data1, family = Gamma(link = \"identity\")))"
   ]
  },
  {
   "cell_type": "code",
   "execution_count": 13,
   "metadata": {
    "scrolled": true
   },
   "outputs": [
    {
     "data": {
      "text/plain": [
       "Generalized linear mixed model fit by maximum likelihood (Laplace\n",
       "  Approximation) [glmerMod]\n",
       " Family: Gamma  ( identity )\n",
       "Formula: RT ~ scale(value_diff) * scale(WTP) + scale(inv_d) + scale(B) +  \n",
       "    (1 | subject)\n",
       "   Data: data1\n",
       "\n",
       "     AIC      BIC   logLik deviance df.resid \n",
       " 58826.0  58889.3 -29405.0  58810.0    20126 \n",
       "\n",
       "Scaled residuals: \n",
       "    Min      1Q  Median      3Q     Max \n",
       "-1.6172 -0.6327 -0.2535  0.3071 12.6094 \n",
       "\n",
       "Random effects:\n",
       " Groups   Name        Variance Std.Dev.\n",
       " subject  (Intercept) 0.04419  0.2102  \n",
       " Residual             0.30953  0.5564  \n",
       "Number of obs: 20134, groups:  subject, 97\n",
       "\n",
       "Fixed effects:\n",
       "                              Estimate Std. Error t value Pr(>|z|)    \n",
       "(Intercept)                   2.462962   0.034133  72.158  < 2e-16 ***\n",
       "scale(value_diff)            -0.086557   0.006768 -12.789  < 2e-16 ***\n",
       "scale(WTP)                   -0.004082   0.008291  -0.492    0.622    \n",
       "scale(inv_d)                  0.182221   0.033959   5.366 8.05e-08 ***\n",
       "scale(B)                      0.705389   0.033743  20.905  < 2e-16 ***\n",
       "scale(value_diff):scale(WTP)  0.034647   0.005722   6.055 1.41e-09 ***\n",
       "---\n",
       "Signif. codes:  0 ‘***’ 0.001 ‘**’ 0.01 ‘*’ 0.05 ‘.’ 0.1 ‘ ’ 1\n",
       "\n",
       "Correlation of Fixed Effects:\n",
       "            (Intr) scl(v_) s(WTP) scl(n_) scl(B)\n",
       "scl(vl_dff) -0.009                              \n",
       "scale(WTP)   0.003 -0.193                       \n",
       "scale(nv_d) -0.035 -0.038   0.008               \n",
       "scale(B)    -0.087  0.013   0.012 -0.035        \n",
       "sc(_):(WTP) -0.024 -0.077  -0.249 -0.005   0.002"
      ]
     },
     "metadata": {},
     "output_type": "display_data"
    },
    {
     "data": {
      "text/plain": [
       "Generalized linear mixed model fit by maximum likelihood (Laplace\n",
       "  Approximation) [glmerMod]\n",
       " Family: Gamma  ( identity )\n",
       "Formula: RT ~ scale(value_diff) * scale(WTP) + scale(inv_d) * scale(B) +  \n",
       "    (1 | subject)\n",
       "   Data: data1\n",
       "\n",
       "     AIC      BIC   logLik deviance df.resid \n",
       " 58823.9  58895.1 -29402.9  58805.9    20125 \n",
       "\n",
       "Scaled residuals: \n",
       "    Min      1Q  Median      3Q     Max \n",
       "-1.6202 -0.6321 -0.2545  0.3062 12.7027 \n",
       "\n",
       "Random effects:\n",
       " Groups   Name        Variance Std.Dev.\n",
       " subject  (Intercept) 0.04213  0.2053  \n",
       " Residual             0.30946  0.5563  \n",
       "Number of obs: 20134, groups:  subject, 97\n",
       "\n",
       "Fixed effects:\n",
       "                              Estimate Std. Error t value Pr(>|z|)    \n",
       "(Intercept)                   2.460974   0.033267  73.976  < 2e-16 ***\n",
       "scale(value_diff)            -0.086586   0.006767 -12.796  < 2e-16 ***\n",
       "scale(WTP)                   -0.004279   0.008290  -0.516   0.6057    \n",
       "scale(inv_d)                  0.180190   0.033123   5.440 5.33e-08 ***\n",
       "scale(B)                      0.692313   0.033485  20.675  < 2e-16 ***\n",
       "scale(value_diff):scale(WTP)  0.034671   0.005719   6.063 1.34e-09 ***\n",
       "scale(inv_d):scale(B)         0.065088   0.031720   2.052   0.0402 *  \n",
       "---\n",
       "Signif. codes:  0 ‘***’ 0.001 ‘**’ 0.01 ‘*’ 0.05 ‘.’ 0.1 ‘ ’ 1\n",
       "\n",
       "Correlation of Fixed Effects:\n",
       "            (Intr) scl(v_) s(WTP) scl(n_) scl(B) s(_):(W\n",
       "scl(vl_dff) -0.010                                      \n",
       "scale(WTP)   0.004 -0.192                               \n",
       "scale(nv_d) -0.035 -0.039   0.009                       \n",
       "scale(B)    -0.080  0.013   0.014 -0.034                \n",
       "sc(_):(WTP) -0.025 -0.078  -0.249 -0.005   0.002        \n",
       "scl(n_):(B) -0.023  0.000  -0.012 -0.025  -0.183  0.001 "
      ]
     },
     "metadata": {},
     "output_type": "display_data"
    }
   ],
   "source": [
    "# all subjects; DDM parameters\n",
    "summary(glmer(RT ~ scale(value_diff)*scale(WTP) + scale(inv_d) + scale(B) + (1|subject), data1, family = Gamma(link = \"identity\")))\n",
    "\n",
    "summary(glmer(RT ~ scale(value_diff)*scale(WTP) + scale(inv_d)*scale(B) + (1|subject), data1, family = Gamma(link = \"identity\")))\n"
   ]
  },
  {
   "cell_type": "code",
   "execution_count": 14,
   "metadata": {
    "scrolled": true
   },
   "outputs": [
    {
     "data": {
      "text/plain": [
       "Generalized linear mixed model fit by maximum likelihood (Laplace\n",
       "  Approximation) [glmerMod]\n",
       " Family: Gamma  ( identity )\n",
       "Formula: RT ~ scale(value_diff) * scale(WTP) + error_choice + (1 | subject)\n",
       "   Data: data1\n",
       "\n",
       "     AIC      BIC   logLik deviance df.resid \n",
       " 58985.8  59041.1 -29485.9  58971.8    20127 \n",
       "\n",
       "Scaled residuals: \n",
       "    Min      1Q  Median      3Q     Max \n",
       "-1.5973 -0.6260 -0.2555  0.3050 12.5832 \n",
       "\n",
       "Random effects:\n",
       " Groups   Name        Variance Std.Dev.\n",
       " subject  (Intercept) 0.2465   0.4964  \n",
       " Residual             0.3147   0.5610  \n",
       "Number of obs: 20134, groups:  subject, 97\n",
       "\n",
       "Fixed effects:\n",
       "                              Estimate Std. Error t value Pr(>|z|)    \n",
       "(Intercept)                   2.612668   0.100553  25.983  < 2e-16 ***\n",
       "scale(value_diff)            -0.086049   0.006777 -12.697  < 2e-16 ***\n",
       "scale(WTP)                   -0.004381   0.008331  -0.526   0.5990    \n",
       "error_choice                 -0.033131   0.019853  -1.669   0.0952 .  \n",
       "scale(value_diff):scale(WTP)  0.034532   0.005717   6.040 1.54e-09 ***\n",
       "---\n",
       "Signif. codes:  0 ‘***’ 0.001 ‘**’ 0.01 ‘*’ 0.05 ‘.’ 0.1 ‘ ’ 1\n",
       "\n",
       "Correlation of Fixed Effects:\n",
       "            (Intr) scl(_) s(WTP) errr_c\n",
       "scl(vl_dff)  0.000                     \n",
       "scale(WTP)   0.005 -0.197              \n",
       "error_choic -0.509 -0.008 -0.007       \n",
       "sc(_):(WTP) -0.008 -0.078 -0.244 -0.001"
      ]
     },
     "metadata": {},
     "output_type": "display_data"
    },
    {
     "data": {
      "text/plain": [
       "Generalized linear mixed model fit by maximum likelihood (Laplace\n",
       "  Approximation) [glmerMod]\n",
       " Family: Gamma  ( identity )\n",
       "Formula: RT ~ scale(value_diff) * scale(WTP) + slc_lot + error_choice +  \n",
       "    (1 | subject)\n",
       "   Data: data1\n",
       "\n",
       "     AIC      BIC   logLik deviance df.resid \n",
       " 58987.8  59051.0 -29485.9  58971.8    20126 \n",
       "\n",
       "Scaled residuals: \n",
       "    Min      1Q  Median      3Q     Max \n",
       "-1.5973 -0.6261 -0.2554  0.3051 12.5865 \n",
       "\n",
       "Random effects:\n",
       " Groups   Name        Variance Std.Dev.\n",
       " subject  (Intercept) 0.2465   0.4964  \n",
       " Residual             0.3147   0.5610  \n",
       "Number of obs: 20134, groups:  subject, 97\n",
       "\n",
       "Fixed effects:\n",
       "                               Estimate Std. Error t value Pr(>|z|)    \n",
       "(Intercept)                   2.6123897  0.1008522  25.903  < 2e-16 ***\n",
       "scale(value_diff)            -0.0859976  0.0069150 -12.436  < 2e-16 ***\n",
       "scale(WTP)                   -0.0044218  0.0083932  -0.527   0.5983    \n",
       "slc_lot                       0.0005812  0.0153295   0.038   0.9698    \n",
       "error_choice                 -0.0331366  0.0198559  -1.669   0.0951 .  \n",
       "scale(value_diff):scale(WTP)  0.0344893  0.0058284   5.917 3.27e-09 ***\n",
       "---\n",
       "Signif. codes:  0 ‘***’ 0.001 ‘**’ 0.01 ‘*’ 0.05 ‘.’ 0.1 ‘ ’ 1\n",
       "\n",
       "Correlation of Fixed Effects:\n",
       "            (Intr) scl(_) s(WTP) slc_lt errr_c\n",
       "scl(vl_dff) -0.014                            \n",
       "scale(WTP)   0.014 -0.216                     \n",
       "slc_lot     -0.073  0.198 -0.122              \n",
       "error_choic -0.508 -0.009 -0.006 -0.008       \n",
       "sc(_):(WTP)  0.007 -0.114 -0.214 -0.195  0.001"
      ]
     },
     "metadata": {},
     "output_type": "display_data"
    }
   ],
   "source": [
    "# all subjects; error choices\n",
    "summary(glmer(RT ~ scale(value_diff)*scale(WTP) + error_choice + (1|subject), data1, family = Gamma(link = \"identity\")))\n",
    "\n",
    "summary(glmer(RT ~ scale(value_diff)*scale(WTP) + slc_lot + error_choice + (1|subject), data1, family = Gamma(link = \"identity\")))\n"
   ]
  },
  {
   "cell_type": "code",
   "execution_count": 15,
   "metadata": {
    "scrolled": true
   },
   "outputs": [
    {
     "data": {
      "text/plain": [
       "Generalized linear mixed model fit by maximum likelihood (Laplace\n",
       "  Approximation) [glmerMod]\n",
       " Family: Gamma  ( identity )\n",
       "Formula: \n",
       "RT ~ scale(value_diff) * scale(WTP) + scale(reflection) + scale(BNT) +  \n",
       "    scale(NFC) + scale(FI) + (1 | subject)\n",
       "   Data: data1\n",
       "\n",
       "     AIC      BIC   logLik deviance df.resid \n",
       " 58990.2  59069.3 -29485.1  58970.2    20124 \n",
       "\n",
       "Scaled residuals: \n",
       "    Min      1Q  Median      3Q     Max \n",
       "-1.5972 -0.6261 -0.2553  0.3049 12.5788 \n",
       "\n",
       "Random effects:\n",
       " Groups   Name        Variance Std.Dev.\n",
       " subject  (Intercept) 0.2425   0.4925  \n",
       " Residual             0.3145   0.5608  \n",
       "Number of obs: 20134, groups:  subject, 97\n",
       "\n",
       "Fixed effects:\n",
       "                              Estimate Std. Error t value Pr(>|z|)    \n",
       "(Intercept)                   2.526947   0.085813  29.447  < 2e-16 ***\n",
       "scale(value_diff)            -0.086182   0.006776 -12.718  < 2e-16 ***\n",
       "scale(WTP)                   -0.004331   0.008331  -0.520   0.6032    \n",
       "scale(reflection)            -0.064989   0.109559  -0.593   0.5531    \n",
       "scale(BNT)                    0.075428   0.104969   0.719   0.4724    \n",
       "scale(NFC)                    0.035993   0.089280   0.403   0.6868    \n",
       "scale(FI)                    -0.181606   0.089709  -2.024   0.0429 *  \n",
       "scale(value_diff):scale(WTP)  0.034500   0.005717   6.034  1.6e-09 ***\n",
       "---\n",
       "Signif. codes:  0 ‘***’ 0.001 ‘**’ 0.01 ‘*’ 0.05 ‘.’ 0.1 ‘ ’ 1\n",
       "\n",
       "Correlation of Fixed Effects:\n",
       "            (Intr) scl(_) s(WTP) scl(r) s(BNT) s(NFC) sc(FI)\n",
       "scl(vl_dff) -0.004                                          \n",
       "scale(WTP)   0.002 -0.197                                   \n",
       "scl(rflctn)  0.008  0.005  0.000                            \n",
       "scale(BNT)  -0.007 -0.003  0.005 -0.592                     \n",
       "scale(NFC)   0.016  0.005  0.001 -0.192  0.119              \n",
       "scale(FI)    0.001  0.002 -0.007  0.238 -0.091 -0.212       \n",
       "sc(_):(WTP) -0.010 -0.078 -0.244  0.000 -0.001  0.001  0.002"
      ]
     },
     "metadata": {},
     "output_type": "display_data"
    },
    {
     "data": {
      "text/plain": [
       "Generalized linear mixed model fit by maximum likelihood (Laplace\n",
       "  Approximation) [glmerMod]\n",
       " Family: Gamma  ( identity )\n",
       "Formula: RT ~ scale(value_diff) * scale(WTP) + slc_lot + scale(reflection) +  \n",
       "    scale(BNT) + scale(NFC) + scale(FI) + (1 | subject)\n",
       "   Data: data1\n",
       "\n",
       "     AIC      BIC   logLik deviance df.resid \n",
       " 58992.1  59079.2 -29485.1  58970.1    20123 \n",
       "\n",
       "Scaled residuals: \n",
       "    Min      1Q  Median      3Q     Max \n",
       "-1.5973 -0.6260 -0.2552  0.3049 12.5816 \n",
       "\n",
       "Random effects:\n",
       " Groups   Name        Variance Std.Dev.\n",
       " subject  (Intercept) 0.2425   0.4925  \n",
       " Residual             0.3145   0.5608  \n",
       "Number of obs: 20134, groups:  subject, 97\n",
       "\n",
       "Fixed effects:\n",
       "                               Estimate Std. Error t value Pr(>|z|)    \n",
       "(Intercept)                   2.5266925  0.0861684  29.323  < 2e-16 ***\n",
       "scale(value_diff)            -0.0861380  0.0069140 -12.458  < 2e-16 ***\n",
       "scale(WTP)                   -0.0043654  0.0083937  -0.520   0.6030    \n",
       "slc_lot                       0.0005143  0.0153291   0.034   0.9732    \n",
       "scale(reflection)            -0.0649751  0.1095768  -0.593   0.5532    \n",
       "scale(BNT)                    0.0753954  0.1049632   0.718   0.4726    \n",
       "scale(NFC)                    0.0360191  0.0892909   0.403   0.6867    \n",
       "scale(FI)                    -0.1816311  0.0897066  -2.025   0.0429 *  \n",
       "scale(value_diff):scale(WTP)  0.0344645  0.0058290   5.913 3.37e-09 ***\n",
       "---\n",
       "Signif. codes:  0 ‘***’ 0.001 ‘**’ 0.01 ‘*’ 0.05 ‘.’ 0.1 ‘ ’ 1\n",
       "\n",
       "Correlation of Fixed Effects:\n",
       "            (Intr) scl(_) s(WTP) slc_lt scl(r) s(BNT) s(NFC) sc(FI)\n",
       "scl(vl_dff) -0.022                                                 \n",
       "scale(WTP)   0.013 -0.216                                          \n",
       "slc_lot     -0.090  0.199 -0.122                                   \n",
       "scl(rflctn)  0.008  0.005  0.000  0.003                            \n",
       "scale(BNT)  -0.006 -0.003  0.005  0.000 -0.592                     \n",
       "scale(NFC)   0.016  0.005  0.001  0.001 -0.192  0.119              \n",
       "scale(FI)    0.002  0.001 -0.007 -0.005  0.238 -0.091 -0.212       \n",
       "sc(_):(WTP)  0.008 -0.114 -0.214 -0.195  0.000 -0.001  0.001  0.003"
      ]
     },
     "metadata": {},
     "output_type": "display_data"
    }
   ],
   "source": [
    "# all subjects; with Psychometrics\n",
    "summary(glmer(RT ~ scale(value_diff)*scale(WTP) + scale(reflection) + scale(BNT) + scale(NFC) + scale(FI) + (1|subject), data1, family = Gamma(link = \"identity\")))\n",
    "\n",
    "summary(glmer(RT ~ scale(value_diff)*scale(WTP) + slc_lot + scale(reflection) + scale(BNT) + scale(NFC) + scale(FI) + (1|subject), data1, family = Gamma(link = \"identity\")))\n"
   ]
  },
  {
   "cell_type": "code",
   "execution_count": 16,
   "metadata": {
    "scrolled": true
   },
   "outputs": [
    {
     "data": {
      "text/plain": [
       "Generalized linear mixed model fit by maximum likelihood (Laplace\n",
       "  Approximation) [glmerMod]\n",
       " Family: Gamma  ( identity )\n",
       "Formula: RT ~ scale(value_diff) * scale(WTP) + slc_lot + scale(reflection) +  \n",
       "    (1 | subject)\n",
       "   Data: data1\n",
       "\n",
       "     AIC      BIC   logLik deviance df.resid \n",
       " 58990.5  59053.7 -29487.2  58974.5    20126 \n",
       "\n",
       "Scaled residuals: \n",
       "    Min      1Q  Median      3Q     Max \n",
       "-1.5975 -0.6261 -0.2554  0.3062 12.5691 \n",
       "\n",
       "Random effects:\n",
       " Groups   Name        Variance Std.Dev.\n",
       " subject  (Intercept) 0.2530   0.5030  \n",
       " Residual             0.3145   0.5608  \n",
       "Number of obs: 20134, groups:  subject, 97\n",
       "\n",
       "Fixed effects:\n",
       "                               Estimate Std. Error t value Pr(>|z|)    \n",
       "(Intercept)                   2.5266943  0.0881046  28.678  < 2e-16 ***\n",
       "scale(value_diff)            -0.0860978  0.0069140 -12.453  < 2e-16 ***\n",
       "scale(WTP)                   -0.0044790  0.0083932  -0.534    0.594    \n",
       "slc_lot                       0.0003903  0.0153292   0.025    0.980    \n",
       "scale(reflection)             0.0206877  0.0873762   0.237    0.813    \n",
       "scale(value_diff):scale(WTP)  0.0344949  0.0058284   5.918 3.25e-09 ***\n",
       "---\n",
       "Signif. codes:  0 ‘***’ 0.001 ‘**’ 0.01 ‘*’ 0.05 ‘.’ 0.1 ‘ ’ 1\n",
       "\n",
       "Correlation of Fixed Effects:\n",
       "            (Intr) scl(_) s(WTP) slc_lt scl(r)\n",
       "scl(vl_dff) -0.022                            \n",
       "scale(WTP)   0.013 -0.216                     \n",
       "slc_lot     -0.088  0.198 -0.122              \n",
       "scl(rflctn)  0.007  0.005  0.005  0.004       \n",
       "sc(_):(WTP)  0.008 -0.114 -0.214 -0.195 -0.001"
      ]
     },
     "metadata": {},
     "output_type": "display_data"
    },
    {
     "data": {
      "text/plain": [
       "Generalized linear mixed model fit by maximum likelihood (Laplace\n",
       "  Approximation) [glmerMod]\n",
       " Family: Gamma  ( identity )\n",
       "Formula: RT ~ scale(value_diff) * scale(WTP) + slc_lot + scale(BNT) +  \n",
       "    (1 | subject)\n",
       "   Data: data1\n",
       "\n",
       "     AIC      BIC   logLik deviance df.resid \n",
       " 58990.2  59053.5 -29487.1  58974.2    20126 \n",
       "\n",
       "Scaled residuals: \n",
       "    Min      1Q  Median      3Q     Max \n",
       "-1.5975 -0.6260 -0.2553  0.3063 12.5698 \n",
       "\n",
       "Random effects:\n",
       " Groups   Name        Variance Std.Dev.\n",
       " subject  (Intercept) 0.2522   0.5022  \n",
       " Residual             0.3145   0.5608  \n",
       "Number of obs: 20134, groups:  subject, 97\n",
       "\n",
       "Fixed effects:\n",
       "                               Estimate Std. Error t value Pr(>|z|)    \n",
       "(Intercept)                   2.5264888  0.0879660  28.721  < 2e-16 ***\n",
       "scale(value_diff)            -0.0861029  0.0069140 -12.453  < 2e-16 ***\n",
       "scale(WTP)                   -0.0044609  0.0083935  -0.531    0.595    \n",
       "slc_lot                       0.0003903  0.0153291   0.025    0.980    \n",
       "scale(BNT)                    0.0488251  0.0862093   0.566    0.571    \n",
       "scale(value_diff):scale(WTP)  0.0344917  0.0058285   5.918 3.26e-09 ***\n",
       "---\n",
       "Signif. codes:  0 ‘***’ 0.001 ‘**’ 0.01 ‘*’ 0.05 ‘.’ 0.1 ‘ ’ 1\n",
       "\n",
       "Correlation of Fixed Effects:\n",
       "            (Intr) scl(_) s(WTP) slc_lt s(BNT)\n",
       "scl(vl_dff) -0.022                            \n",
       "scale(WTP)   0.013 -0.216                     \n",
       "slc_lot     -0.089  0.198 -0.122              \n",
       "scale(BNT)  -0.003  0.000  0.006  0.002       \n",
       "sc(_):(WTP)  0.008 -0.114 -0.214 -0.195 -0.002"
      ]
     },
     "metadata": {},
     "output_type": "display_data"
    },
    {
     "data": {
      "text/plain": [
       "Generalized linear mixed model fit by maximum likelihood (Laplace\n",
       "  Approximation) [glmerMod]\n",
       " Family: Gamma  ( identity )\n",
       "Formula: RT ~ scale(value_diff) * scale(WTP) + slc_lot + scale(NFC) +  \n",
       "    (1 | subject)\n",
       "   Data: data1\n",
       "\n",
       "     AIC      BIC   logLik deviance df.resid \n",
       " 58990.5  59053.8 -29487.3  58974.5    20126 \n",
       "\n",
       "Scaled residuals: \n",
       "    Min      1Q  Median      3Q     Max \n",
       "-1.5974 -0.6260 -0.2555  0.3065 12.5640 \n",
       "\n",
       "Random effects:\n",
       " Groups   Name        Variance Std.Dev.\n",
       " subject  (Intercept) 0.2531   0.5031  \n",
       " Residual             0.3145   0.5608  \n",
       "Number of obs: 20134, groups:  subject, 97\n",
       "\n",
       "Fixed effects:\n",
       "                               Estimate Std. Error t value Pr(>|z|)    \n",
       "(Intercept)                   2.5264508  0.0881340  28.666  < 2e-16 ***\n",
       "scale(value_diff)            -0.0861065  0.0069139 -12.454  < 2e-16 ***\n",
       "scale(WTP)                   -0.0044889  0.0083931  -0.535    0.593    \n",
       "slc_lot                       0.0003719  0.0153292   0.024    0.981    \n",
       "scale(NFC)                   -0.0045510  0.0882451  -0.052    0.959    \n",
       "scale(value_diff):scale(WTP)  0.0344971  0.0058284   5.919 3.24e-09 ***\n",
       "---\n",
       "Signif. codes:  0 ‘***’ 0.001 ‘**’ 0.01 ‘*’ 0.05 ‘.’ 0.1 ‘ ’ 1\n",
       "\n",
       "Correlation of Fixed Effects:\n",
       "            (Intr) scl(_) s(WTP) slc_lt s(NFC)\n",
       "scl(vl_dff) -0.022                            \n",
       "scale(WTP)   0.013 -0.216                     \n",
       "slc_lot     -0.088  0.198 -0.122              \n",
       "scale(NFC)   0.018  0.006  0.000  0.000       \n",
       "sc(_):(WTP)  0.008 -0.114 -0.214 -0.195  0.001"
      ]
     },
     "metadata": {},
     "output_type": "display_data"
    },
    {
     "data": {
      "text/plain": [
       "Generalized linear mixed model fit by maximum likelihood (Laplace\n",
       "  Approximation) [glmerMod]\n",
       " Family: Gamma  ( identity )\n",
       "Formula: RT ~ scale(value_diff) * scale(WTP) + slc_lot + scale(FI) + (1 |  \n",
       "    subject)\n",
       "   Data: data1\n",
       "\n",
       "     AIC      BIC   logLik deviance df.resid \n",
       " 58986.8  59050.1 -29485.4  58970.8    20126 \n",
       "\n",
       "Scaled residuals: \n",
       "    Min      1Q  Median      3Q     Max \n",
       "-1.5974 -0.6261 -0.2556  0.3044 12.5798 \n",
       "\n",
       "Random effects:\n",
       " Groups   Name        Variance Std.Dev.\n",
       " subject  (Intercept) 0.2442   0.4941  \n",
       " Residual             0.3145   0.5608  \n",
       "Number of obs: 20134, groups:  subject, 97\n",
       "\n",
       "Fixed effects:\n",
       "                               Estimate Std. Error t value Pr(>|z|)    \n",
       "(Intercept)                   2.5266142  0.0864635  29.222  < 2e-16 ***\n",
       "scale(value_diff)            -0.0861302  0.0069139 -12.458  < 2e-16 ***\n",
       "scale(WTP)                   -0.0043884  0.0083935  -0.523   0.6011    \n",
       "slc_lot                       0.0005188  0.0153291   0.034   0.9730    \n",
       "scale(FI)                    -0.1670187  0.0859201  -1.944   0.0519 .  \n",
       "scale(value_diff):scale(WTP)  0.0344657  0.0058291   5.913 3.37e-09 ***\n",
       "---\n",
       "Signif. codes:  0 ‘***’ 0.001 ‘**’ 0.01 ‘*’ 0.05 ‘.’ 0.1 ‘ ’ 1\n",
       "\n",
       "Correlation of Fixed Effects:\n",
       "            (Intr) scl(_) s(WTP) slc_lt sc(FI)\n",
       "scl(vl_dff) -0.022                            \n",
       "scale(WTP)   0.013 -0.216                     \n",
       "slc_lot     -0.090  0.199 -0.122              \n",
       "scale(FI)    0.003  0.001 -0.007 -0.005       \n",
       "sc(_):(WTP)  0.008 -0.114 -0.214 -0.195  0.003"
      ]
     },
     "metadata": {},
     "output_type": "display_data"
    }
   ],
   "source": [
    "# all subjects; with Psychometrics one by one; with slc_lot\n",
    "summary(glmer(RT ~ scale(value_diff)*scale(WTP) + slc_lot + scale(reflection) + (1|subject), data1, family = Gamma(link = \"identity\")))\n",
    "\n",
    "summary(glmer(RT ~ scale(value_diff)*scale(WTP) + slc_lot + scale(BNT) + (1|subject), data1, family = Gamma(link = \"identity\")))\n",
    "\n",
    "summary(glmer(RT ~ scale(value_diff)*scale(WTP) + slc_lot + scale(NFC) + (1|subject), data1, family = Gamma(link = \"identity\")))\n",
    "\n",
    "summary(glmer(RT ~ scale(value_diff)*scale(WTP) + slc_lot + scale(FI) + (1|subject), data1, family = Gamma(link = \"identity\")))\n"
   ]
  },
  {
   "cell_type": "code",
   "execution_count": 17,
   "metadata": {
    "scrolled": true
   },
   "outputs": [
    {
     "data": {
      "text/plain": [
       "Generalized linear mixed model fit by maximum likelihood (Laplace\n",
       "  Approximation) [glmerMod]\n",
       " Family: Gamma  ( identity )\n",
       "Formula: RT ~ scale(value_diff) * scale(WTP) + scale(reflection) + (1 |  \n",
       "    subject)\n",
       "   Data: data1\n",
       "\n",
       "     AIC      BIC   logLik deviance df.resid \n",
       " 58988.5  59043.8 -29487.2  58974.5    20127 \n",
       "\n",
       "Scaled residuals: \n",
       "    Min      1Q  Median      3Q     Max \n",
       "-1.5975 -0.6260 -0.2555  0.3063 12.5670 \n",
       "\n",
       "Random effects:\n",
       " Groups   Name        Variance Std.Dev.\n",
       " subject  (Intercept) 0.2530   0.5030  \n",
       " Residual             0.3145   0.5608  \n",
       "Number of obs: 20134, groups:  subject, 97\n",
       "\n",
       "Fixed effects:\n",
       "                              Estimate Std. Error t value Pr(>|z|)    \n",
       "(Intercept)                   2.526900   0.087767  28.791  < 2e-16 ***\n",
       "scale(value_diff)            -0.086133   0.006776 -12.711  < 2e-16 ***\n",
       "scale(WTP)                   -0.004455   0.008331  -0.535    0.593    \n",
       "scale(reflection)             0.020697   0.087360   0.237    0.813    \n",
       "scale(value_diff):scale(WTP)  0.034525   0.005717   6.039 1.55e-09 ***\n",
       "---\n",
       "Signif. codes:  0 ‘***’ 0.001 ‘**’ 0.01 ‘*’ 0.05 ‘.’ 0.1 ‘ ’ 1\n",
       "\n",
       "Correlation of Fixed Effects:\n",
       "            (Intr) scl(_) s(WTP) scl(r)\n",
       "scl(vl_dff) -0.004                     \n",
       "scale(WTP)   0.002 -0.197              \n",
       "scl(rflctn)  0.007  0.004  0.005       \n",
       "sc(_):(WTP) -0.009 -0.078 -0.244 -0.001"
      ]
     },
     "metadata": {},
     "output_type": "display_data"
    },
    {
     "data": {
      "text/plain": [
       "Generalized linear mixed model fit by maximum likelihood (Laplace\n",
       "  Approximation) [glmerMod]\n",
       " Family: Gamma  ( identity )\n",
       "Formula: RT ~ scale(value_diff) * scale(WTP) + scale(BNT) + (1 | subject)\n",
       "   Data: data1\n",
       "\n",
       "     AIC      BIC   logLik deviance df.resid \n",
       " 58988.2  59043.6 -29487.1  58974.2    20127 \n",
       "\n",
       "Scaled residuals: \n",
       "    Min      1Q  Median      3Q     Max \n",
       "-1.5975 -0.6261 -0.2554  0.3062 12.5676 \n",
       "\n",
       "Random effects:\n",
       " Groups   Name        Variance Std.Dev.\n",
       " subject  (Intercept) 0.2522   0.5022  \n",
       " Residual             0.3145   0.5608  \n",
       "Number of obs: 20134, groups:  subject, 97\n",
       "\n",
       "Fixed effects:\n",
       "                              Estimate Std. Error t value Pr(>|z|)    \n",
       "(Intercept)                   2.526686   0.087612  28.839  < 2e-16 ***\n",
       "scale(value_diff)            -0.086139   0.006776 -12.712  < 2e-16 ***\n",
       "scale(WTP)                   -0.004434   0.008331  -0.532    0.595    \n",
       "scale(BNT)                    0.048803   0.086214   0.566    0.571    \n",
       "scale(value_diff):scale(WTP)  0.034520   0.005717   6.038 1.56e-09 ***\n",
       "---\n",
       "Signif. codes:  0 ‘***’ 0.001 ‘**’ 0.01 ‘*’ 0.05 ‘.’ 0.1 ‘ ’ 1\n",
       "\n",
       "Correlation of Fixed Effects:\n",
       "            (Intr) scl(_) s(WTP) s(BNT)\n",
       "scl(vl_dff) -0.004                     \n",
       "scale(WTP)   0.002 -0.197              \n",
       "scale(BNT)  -0.003  0.000  0.006       \n",
       "sc(_):(WTP) -0.009 -0.078 -0.244 -0.002"
      ]
     },
     "metadata": {},
     "output_type": "display_data"
    },
    {
     "data": {
      "text/plain": [
       "Generalized linear mixed model fit by maximum likelihood (Laplace\n",
       "  Approximation) [glmerMod]\n",
       " Family: Gamma  ( identity )\n",
       "Formula: RT ~ scale(value_diff) * scale(WTP) + scale(NFC) + (1 | subject)\n",
       "   Data: data1\n",
       "\n",
       "     AIC      BIC   logLik deviance df.resid \n",
       " 58988.5  59043.9 -29487.3  58974.5    20127 \n",
       "\n",
       "Scaled residuals: \n",
       "    Min      1Q  Median      3Q     Max \n",
       "-1.5974 -0.6260 -0.2555  0.3066 12.5620 \n",
       "\n",
       "Random effects:\n",
       " Groups   Name        Variance Std.Dev.\n",
       " subject  (Intercept) 0.2531   0.5031  \n",
       " Residual             0.3145   0.5608  \n",
       "Number of obs: 20134, groups:  subject, 97\n",
       "\n",
       "Fixed effects:\n",
       "                              Estimate Std. Error t value Pr(>|z|)    \n",
       "(Intercept)                   2.526658   0.087776  28.785  < 2e-16 ***\n",
       "scale(value_diff)            -0.086141   0.006776 -12.712  < 2e-16 ***\n",
       "scale(WTP)                   -0.004464   0.008330  -0.536    0.592    \n",
       "scale(NFC)                   -0.004547   0.088231  -0.052    0.959    \n",
       "scale(value_diff):scale(WTP)  0.034525   0.005717   6.039 1.55e-09 ***\n",
       "---\n",
       "Signif. codes:  0 ‘***’ 0.001 ‘**’ 0.01 ‘*’ 0.05 ‘.’ 0.1 ‘ ’ 1\n",
       "\n",
       "Correlation of Fixed Effects:\n",
       "            (Intr) scl(_) s(WTP) s(NFC)\n",
       "scl(vl_dff) -0.004                     \n",
       "scale(WTP)   0.002 -0.197              \n",
       "scale(NFC)   0.018  0.006  0.000       \n",
       "sc(_):(WTP) -0.009 -0.078 -0.244  0.001"
      ]
     },
     "metadata": {},
     "output_type": "display_data"
    },
    {
     "data": {
      "text/plain": [
       "Generalized linear mixed model fit by maximum likelihood (Laplace\n",
       "  Approximation) [glmerMod]\n",
       " Family: Gamma  ( identity )\n",
       "Formula: RT ~ scale(value_diff) * scale(WTP) + scale(FI) + (1 | subject)\n",
       "   Data: data1\n",
       "\n",
       "     AIC      BIC   logLik deviance df.resid \n",
       " 58984.8  59040.2 -29485.4  58970.8    20127 \n",
       "\n",
       "Scaled residuals: \n",
       "    Min      1Q  Median      3Q     Max \n",
       "-1.5974 -0.6260 -0.2555  0.3042 12.5769 \n",
       "\n",
       "Random effects:\n",
       " Groups   Name        Variance Std.Dev.\n",
       " subject  (Intercept) 0.2441   0.4941  \n",
       " Residual             0.3145   0.5608  \n",
       "Number of obs: 20134, groups:  subject, 97\n",
       "\n",
       "Fixed effects:\n",
       "                              Estimate Std. Error t value Pr(>|z|)    \n",
       "(Intercept)                   2.526878   0.086108  29.345  < 2e-16 ***\n",
       "scale(value_diff)            -0.086176   0.006776 -12.717  < 2e-16 ***\n",
       "scale(WTP)                   -0.004353   0.008331  -0.523   0.6013    \n",
       "scale(FI)                    -0.167003   0.085904  -1.944   0.0519 .  \n",
       "scale(value_diff):scale(WTP)  0.034503   0.005718   6.035 1.59e-09 ***\n",
       "---\n",
       "Signif. codes:  0 ‘***’ 0.001 ‘**’ 0.01 ‘*’ 0.05 ‘.’ 0.1 ‘ ’ 1\n",
       "\n",
       "Correlation of Fixed Effects:\n",
       "            (Intr) scl(_) s(WTP) sc(FI)\n",
       "scl(vl_dff) -0.004                     \n",
       "scale(WTP)   0.002 -0.197              \n",
       "scale(FI)    0.003  0.002 -0.008       \n",
       "sc(_):(WTP) -0.010 -0.078 -0.244  0.002"
      ]
     },
     "metadata": {},
     "output_type": "display_data"
    }
   ],
   "source": [
    "# all subjects; with Psychometrics one by one; without slc_lot\n",
    "summary(glmer(RT ~ scale(value_diff)*scale(WTP) + scale(reflection) + (1|subject), data1, family = Gamma(link = \"identity\")))\n",
    "\n",
    "summary(glmer(RT ~ scale(value_diff)*scale(WTP) + scale(BNT) + (1|subject), data1, family = Gamma(link = \"identity\")))\n",
    "\n",
    "summary(glmer(RT ~ scale(value_diff)*scale(WTP) + scale(NFC) + (1|subject), data1, family = Gamma(link = \"identity\")))\n",
    "\n",
    "summary(glmer(RT ~ scale(value_diff)*scale(WTP) + scale(FI) + (1|subject), data1, family = Gamma(link = \"identity\")))\n",
    "\n"
   ]
  },
  {
   "cell_type": "code",
   "execution_count": 18,
   "metadata": {
    "scrolled": true
   },
   "outputs": [
    {
     "data": {
      "text/plain": [
       "Generalized linear mixed model fit by maximum likelihood (Laplace\n",
       "  Approximation) [glmerMod]\n",
       " Family: Gamma  ( identity )\n",
       "Formula: RT ~ scale(value_diff) * scale(WTP) + slc_lot + correct + (1 |  \n",
       "    subject)\n",
       "   Data: data1\n",
       "\n",
       "     AIC      BIC   logLik deviance df.resid \n",
       " 58270.4  58333.6 -29127.2  58254.4    19906 \n",
       "\n",
       "Scaled residuals: \n",
       "    Min      1Q  Median      3Q     Max \n",
       "-1.5978 -0.6241 -0.2540  0.3036 11.7179 \n",
       "\n",
       "Random effects:\n",
       " Groups   Name        Variance Std.Dev.\n",
       " subject  (Intercept) 0.2511   0.5011  \n",
       " Residual             0.3133   0.5597  \n",
       "Number of obs: 19914, groups:  subject, 97\n",
       "\n",
       "Fixed effects:\n",
       "                              Estimate Std. Error t value Pr(>|z|)    \n",
       "(Intercept)                   2.628581   0.088760  29.614  < 2e-16 ***\n",
       "scale(value_diff)            -0.072174   0.007156 -10.085  < 2e-16 ***\n",
       "scale(WTP)                   -0.010450   0.008419  -1.241    0.214    \n",
       "slc_lot                       0.018995   0.015595   1.218    0.223    \n",
       "correct                      -0.151910   0.017740  -8.563  < 2e-16 ***\n",
       "scale(value_diff):scale(WTP)  0.033748   0.005927   5.694 1.24e-08 ***\n",
       "---\n",
       "Signif. codes:  0 ‘***’ 0.001 ‘**’ 0.01 ‘*’ 0.05 ‘.’ 0.1 ‘ ’ 1\n",
       "\n",
       "Correlation of Fixed Effects:\n",
       "            (Intr) scl(_) s(WTP) slc_lt corrct\n",
       "scl(vl_dff)  0.009                            \n",
       "scale(WTP)   0.006 -0.218                     \n",
       "slc_lot     -0.067  0.225 -0.147              \n",
       "correct     -0.137 -0.223  0.059 -0.144       \n",
       "sc(_):(WTP)  0.004 -0.126 -0.216 -0.202  0.038"
      ]
     },
     "metadata": {},
     "output_type": "display_data"
    }
   ],
   "source": [
    "# all subjects; adding the variable \"correct\" –– whether the higher values option is chosen.\n",
    "summary(glmer(RT ~ scale(value_diff)*scale(WTP) + slc_lot + correct + (1|subject), data1, family = Gamma(link = \"identity\")))\n"
   ]
  },
  {
   "cell_type": "code",
   "execution_count": null,
   "metadata": {},
   "outputs": [],
   "source": []
  },
  {
   "cell_type": "markdown",
   "metadata": {},
   "source": [
    "# Predict error choices"
   ]
  },
  {
   "cell_type": "code",
   "execution_count": 19,
   "metadata": {
    "scrolled": true
   },
   "outputs": [
    {
     "data": {
      "text/plain": [
       "\n",
       "Call:\n",
       "lm(formula = error_choice ~ scale(inv_d) + scale(B), data = idt1)\n",
       "\n",
       "Residuals:\n",
       "   Min     1Q Median     3Q    Max \n",
       "-5.399 -2.440 -1.112  1.061 15.324 \n",
       "\n",
       "Coefficients:\n",
       "             Estimate Std. Error t value Pr(>|t|)    \n",
       "(Intercept)    2.6082     0.4147   6.289 9.97e-09 ***\n",
       "scale(inv_d)   1.4925     0.4171   3.578  0.00055 ***\n",
       "scale(B)      -0.9519     0.4171  -2.282  0.02475 *  \n",
       "---\n",
       "Signif. codes:  0 ‘***’ 0.001 ‘**’ 0.01 ‘*’ 0.05 ‘.’ 0.1 ‘ ’ 1\n",
       "\n",
       "Residual standard error: 4.084 on 94 degrees of freedom\n",
       "Multiple R-squared:  0.1565,\tAdjusted R-squared:  0.1386 \n",
       "F-statistic: 8.723 on 2 and 94 DF,  p-value: 0.000335\n"
      ]
     },
     "metadata": {},
     "output_type": "display_data"
    },
    {
     "data": {
      "text/plain": [
       "\n",
       "Call:\n",
       "lm(formula = error_choice ~ scale(inv_d) * scale(B), data = idt1)\n",
       "\n",
       "Residuals:\n",
       "   Min     1Q Median     3Q    Max \n",
       "-5.215 -2.435 -1.182  1.173 15.198 \n",
       "\n",
       "Coefficients:\n",
       "                      Estimate Std. Error t value Pr(>|t|)    \n",
       "(Intercept)             2.6015     0.4167   6.243 1.27e-08 ***\n",
       "scale(inv_d)            1.5062     0.4199   3.587 0.000536 ***\n",
       "scale(B)               -0.9845     0.4246  -2.318 0.022623 *  \n",
       "scale(inv_d):scale(B)   0.1910     0.4088   0.467 0.641403    \n",
       "---\n",
       "Signif. codes:  0 ‘***’ 0.001 ‘**’ 0.01 ‘*’ 0.05 ‘.’ 0.1 ‘ ’ 1\n",
       "\n",
       "Residual standard error: 4.101 on 93 degrees of freedom\n",
       "Multiple R-squared:  0.1585,\tAdjusted R-squared:  0.1314 \n",
       "F-statistic:  5.84 on 3 and 93 DF,  p-value: 0.001064\n"
      ]
     },
     "metadata": {},
     "output_type": "display_data"
    }
   ],
   "source": [
    "# by DDM parameters\n",
    "summary(lm(error_choice ~ scale(inv_d) + scale(B), idt1))\n",
    "\n",
    "summary(lm(error_choice ~ scale(inv_d)*scale(B), idt1))\n"
   ]
  },
  {
   "cell_type": "code",
   "execution_count": 20,
   "metadata": {
    "scrolled": true
   },
   "outputs": [
    {
     "data": {
      "text/plain": [
       "\n",
       "Call:\n",
       "lm(formula = error_choice ~ scale(reflection) + scale(BNT) + \n",
       "    scale(NFC) + scale(FI), data = idt1)\n",
       "\n",
       "Residuals:\n",
       "   Min     1Q Median     3Q    Max \n",
       "-5.772 -2.580 -1.454  1.853 14.496 \n",
       "\n",
       "Coefficients:\n",
       "                  Estimate Std. Error t value Pr(>|t|)    \n",
       "(Intercept)         2.6082     0.4143   6.295 1.03e-08 ***\n",
       "scale(reflection)  -0.6584     0.5334  -1.234  0.22020    \n",
       "scale(BNT)         -0.2117     0.5172  -0.409  0.68327    \n",
       "scale(NFC)         -1.0877     0.4310  -2.523  0.01334 *  \n",
       "scale(FI)           1.2403     0.4364   2.842  0.00552 ** \n",
       "---\n",
       "Signif. codes:  0 ‘***’ 0.001 ‘**’ 0.01 ‘*’ 0.05 ‘.’ 0.1 ‘ ’ 1\n",
       "\n",
       "Residual standard error: 4.081 on 92 degrees of freedom\n",
       "Multiple R-squared:  0.176,\tAdjusted R-squared:  0.1402 \n",
       "F-statistic: 4.912 on 4 and 92 DF,  p-value: 0.001235\n"
      ]
     },
     "metadata": {},
     "output_type": "display_data"
    },
    {
     "data": {
      "text/plain": [
       "\n",
       "Call:\n",
       "lm(formula = error_choice ~ scale(reflection), data = idt1)\n",
       "\n",
       "Residuals:\n",
       "   Min     1Q Median     3Q    Max \n",
       "-4.910 -2.214 -1.674  1.090 16.326 \n",
       "\n",
       "Coefficients:\n",
       "                  Estimate Std. Error t value Pr(>|t|)    \n",
       "(Intercept)         2.6082     0.4334   6.018 3.29e-08 ***\n",
       "scale(reflection)  -1.1558     0.4356  -2.653  0.00935 ** \n",
       "---\n",
       "Signif. codes:  0 ‘***’ 0.001 ‘**’ 0.01 ‘*’ 0.05 ‘.’ 0.1 ‘ ’ 1\n",
       "\n",
       "Residual standard error: 4.268 on 95 degrees of freedom\n",
       "Multiple R-squared:  0.06898,\tAdjusted R-squared:  0.05918 \n",
       "F-statistic: 7.038 on 1 and 95 DF,  p-value: 0.009352\n"
      ]
     },
     "metadata": {},
     "output_type": "display_data"
    },
    {
     "data": {
      "text/plain": [
       "\n",
       "Call:\n",
       "lm(formula = error_choice ~ scale(BNT), data = idt1)\n",
       "\n",
       "Residuals:\n",
       "   Min     1Q Median     3Q    Max \n",
       "-3.870 -2.704 -2.122  1.296 15.296 \n",
       "\n",
       "Coefficients:\n",
       "            Estimate Std. Error t value Pr(>|t|)    \n",
       "(Intercept)   2.6082     0.4442   5.872  6.3e-08 ***\n",
       "scale(BNT)   -0.6553     0.4465  -1.468    0.145    \n",
       "---\n",
       "Signif. codes:  0 ‘***’ 0.001 ‘**’ 0.01 ‘*’ 0.05 ‘.’ 0.1 ‘ ’ 1\n",
       "\n",
       "Residual standard error: 4.374 on 95 degrees of freedom\n",
       "Multiple R-squared:  0.02217,\tAdjusted R-squared:  0.01188 \n",
       "F-statistic: 2.154 on 1 and 95 DF,  p-value: 0.1455\n"
      ]
     },
     "metadata": {},
     "output_type": "display_data"
    },
    {
     "data": {
      "text/plain": [
       "\n",
       "Call:\n",
       "lm(formula = error_choice ~ scale(NFC), data = idt1)\n",
       "\n",
       "Residuals:\n",
       "   Min     1Q Median     3Q    Max \n",
       "-4.277 -2.651 -1.616  1.166 15.349 \n",
       "\n",
       "Coefficients:\n",
       "            Estimate Std. Error t value Pr(>|t|)    \n",
       "(Intercept)   2.6082     0.4388   5.943 4.59e-08 ***\n",
       "scale(NFC)   -0.9378     0.4411  -2.126   0.0361 *  \n",
       "---\n",
       "Signif. codes:  0 ‘***’ 0.001 ‘**’ 0.01 ‘*’ 0.05 ‘.’ 0.1 ‘ ’ 1\n",
       "\n",
       "Residual standard error: 4.322 on 95 degrees of freedom\n",
       "Multiple R-squared:  0.04542,\tAdjusted R-squared:  0.03537 \n",
       "F-statistic:  4.52 on 1 and 95 DF,  p-value: 0.0361\n"
      ]
     },
     "metadata": {},
     "output_type": "display_data"
    },
    {
     "data": {
      "text/plain": [
       "\n",
       "Call:\n",
       "lm(formula = error_choice ~ scale(FI), data = idt1)\n",
       "\n",
       "Residuals:\n",
       "   Min     1Q Median     3Q    Max \n",
       "-4.931 -2.722 -1.722  1.507 14.088 \n",
       "\n",
       "Coefficients:\n",
       "            Estimate Std. Error t value Pr(>|t|)    \n",
       "(Intercept)   2.6082     0.4321   6.036 3.05e-08 ***\n",
       "scale(FI)     1.2000     0.4344   2.763  0.00689 ** \n",
       "---\n",
       "Signif. codes:  0 ‘***’ 0.001 ‘**’ 0.01 ‘*’ 0.05 ‘.’ 0.1 ‘ ’ 1\n",
       "\n",
       "Residual standard error: 4.256 on 95 degrees of freedom\n",
       "Multiple R-squared:  0.07436,\tAdjusted R-squared:  0.06462 \n",
       "F-statistic: 7.632 on 1 and 95 DF,  p-value: 0.006886\n"
      ]
     },
     "metadata": {},
     "output_type": "display_data"
    }
   ],
   "source": [
    "# by psychometrics\n",
    "summary(lm(error_choice ~ scale(reflection) + scale(BNT) + scale(NFC) + scale(FI), idt1))\n",
    "\n",
    "summary(lm(error_choice ~ scale(reflection), idt1))\n",
    "\n",
    "summary(lm(error_choice ~ scale(BNT), idt1))\n",
    "\n",
    "summary(lm(error_choice ~ scale(NFC), idt1))\n",
    "\n",
    "summary(lm(error_choice ~ scale(FI), idt1))\n"
   ]
  },
  {
   "cell_type": "code",
   "execution_count": null,
   "metadata": {},
   "outputs": [],
   "source": []
  },
  {
   "cell_type": "markdown",
   "metadata": {},
   "source": [
    "# Predicting DDM parameters - cognitive uncertainty and response caution"
   ]
  },
  {
   "cell_type": "markdown",
   "metadata": {},
   "source": [
    "## Predicting cognitive uncertainty"
   ]
  },
  {
   "cell_type": "code",
   "execution_count": 21,
   "metadata": {
    "scrolled": true
   },
   "outputs": [
    {
     "data": {
      "text/plain": [
       "\n",
       "Call:\n",
       "lm(formula = inv_d ~ scale(reflection) + scale(BNT) + scale(NFC) + \n",
       "    scale(FI), data = idt1)\n",
       "\n",
       "Residuals:\n",
       "      Min        1Q    Median        3Q       Max \n",
       "-0.198420 -0.036705  0.001091  0.053041  0.127805 \n",
       "\n",
       "Coefficients:\n",
       "                   Estimate Std. Error t value Pr(>|t|)    \n",
       "(Intercept)       -0.126898   0.007082 -17.917   <2e-16 ***\n",
       "scale(reflection) -0.018283   0.009118  -2.005   0.0479 *  \n",
       "scale(BNT)         0.009787   0.008841   1.107   0.2712    \n",
       "scale(NFC)        -0.017570   0.007368  -2.385   0.0191 *  \n",
       "scale(FI)         -0.002891   0.007460  -0.387   0.6993    \n",
       "---\n",
       "Signif. codes:  0 ‘***’ 0.001 ‘**’ 0.01 ‘*’ 0.05 ‘.’ 0.1 ‘ ’ 1\n",
       "\n",
       "Residual standard error: 0.06975 on 92 degrees of freedom\n",
       "Multiple R-squared:  0.1167,\tAdjusted R-squared:  0.07825 \n",
       "F-statistic: 3.037 on 4 and 92 DF,  p-value: 0.02118\n"
      ]
     },
     "metadata": {},
     "output_type": "display_data"
    },
    {
     "data": {
      "text/plain": [
       "\n",
       "Call:\n",
       "lm(formula = inv_d ~ scale(reflection) + scale(BNT) + scale(NFC) + \n",
       "    scale(FI) + scale(age) + sex_code + scale(edu_code), data = idt1)\n",
       "\n",
       "Residuals:\n",
       "      Min        1Q    Median        3Q       Max \n",
       "-0.211008 -0.043520  0.002326  0.054034  0.141098 \n",
       "\n",
       "Coefficients:\n",
       "                    Estimate Std. Error t value Pr(>|t|)    \n",
       "(Intercept)       -0.1164779  0.0102825 -11.328   <2e-16 ***\n",
       "scale(reflection) -0.0166442  0.0093148  -1.787   0.0774 .  \n",
       "scale(BNT)         0.0096267  0.0089389   1.077   0.2844    \n",
       "scale(NFC)        -0.0156218  0.0076223  -2.049   0.0434 *  \n",
       "scale(FI)         -0.0024776  0.0074956  -0.331   0.7418    \n",
       "scale(age)        -0.0045466  0.0072822  -0.624   0.5340    \n",
       "sex_code          -0.0206270  0.0147194  -1.401   0.1646    \n",
       "scale(edu_code)    0.0003394  0.0075022   0.045   0.9640    \n",
       "---\n",
       "Signif. codes:  0 ‘***’ 0.001 ‘**’ 0.01 ‘*’ 0.05 ‘.’ 0.1 ‘ ’ 1\n",
       "\n",
       "Residual standard error: 0.06995 on 89 degrees of freedom\n",
       "Multiple R-squared:  0.1407,\tAdjusted R-squared:  0.0731 \n",
       "F-statistic: 2.082 on 7 and 89 DF,  p-value: 0.05362\n"
      ]
     },
     "metadata": {},
     "output_type": "display_data"
    }
   ],
   "source": [
    "# by psychometrics\n",
    "summary(lm(inv_d ~ scale(reflection) + scale(BNT) + scale(NFC) + scale(FI), idt1))\n",
    "\n",
    "# by psychometrics and demographic factors\n",
    "summary(lm(inv_d ~ scale(reflection) + scale(BNT) + scale(NFC) + scale(FI) + scale(age) + sex_code + scale(edu_code), idt1))\n"
   ]
  },
  {
   "cell_type": "code",
   "execution_count": 22,
   "metadata": {
    "scrolled": true
   },
   "outputs": [
    {
     "data": {
      "text/plain": [
       "\n",
       "Call:\n",
       "lm(formula = inv_d ~ scale(reflection), data = idt1)\n",
       "\n",
       "Residuals:\n",
       "      Min        1Q    Median        3Q       Max \n",
       "-0.229054 -0.041514 -0.000795  0.054153  0.136368 \n",
       "\n",
       "Coefficients:\n",
       "                   Estimate Std. Error t value Pr(>|t|)    \n",
       "(Intercept)       -0.126898   0.007279  -17.43   <2e-16 ***\n",
       "scale(reflection) -0.013900   0.007317   -1.90   0.0605 .  \n",
       "---\n",
       "Signif. codes:  0 ‘***’ 0.001 ‘**’ 0.01 ‘*’ 0.05 ‘.’ 0.1 ‘ ’ 1\n",
       "\n",
       "Residual standard error: 0.07169 on 95 degrees of freedom\n",
       "Multiple R-squared:  0.0366,\tAdjusted R-squared:  0.02646 \n",
       "F-statistic: 3.609 on 1 and 95 DF,  p-value: 0.06049\n"
      ]
     },
     "metadata": {},
     "output_type": "display_data"
    },
    {
     "data": {
      "text/plain": [
       "\n",
       "Call:\n",
       "lm(formula = inv_d ~ scale(BNT), data = idt1)\n",
       "\n",
       "Residuals:\n",
       "      Min        1Q    Median        3Q       Max \n",
       "-0.208160 -0.042272 -0.001342  0.058890  0.126855 \n",
       "\n",
       "Coefficients:\n",
       "              Estimate Std. Error t value Pr(>|t|)    \n",
       "(Intercept) -0.1268977  0.0074156 -17.112   <2e-16 ***\n",
       "scale(BNT)  -0.0002896  0.0074542  -0.039    0.969    \n",
       "---\n",
       "Signif. codes:  0 ‘***’ 0.001 ‘**’ 0.01 ‘*’ 0.05 ‘.’ 0.1 ‘ ’ 1\n",
       "\n",
       "Residual standard error: 0.07304 on 95 degrees of freedom\n",
       "Multiple R-squared:  1.589e-05,\tAdjusted R-squared:  -0.01051 \n",
       "F-statistic: 0.001509 on 1 and 95 DF,  p-value: 0.9691\n"
      ]
     },
     "metadata": {},
     "output_type": "display_data"
    },
    {
     "data": {
      "text/plain": [
       "\n",
       "Call:\n",
       "lm(formula = inv_d ~ scale(NFC), data = idt1)\n",
       "\n",
       "Residuals:\n",
       "      Min        1Q    Median        3Q       Max \n",
       "-0.180138 -0.043152  0.007714  0.049465  0.119622 \n",
       "\n",
       "Coefficients:\n",
       "             Estimate Std. Error t value Pr(>|t|)    \n",
       "(Intercept) -0.126898   0.007121 -17.820  < 2e-16 ***\n",
       "scale(NFC)  -0.020274   0.007158  -2.832  0.00564 ** \n",
       "---\n",
       "Signif. codes:  0 ‘***’ 0.001 ‘**’ 0.01 ‘*’ 0.05 ‘.’ 0.1 ‘ ’ 1\n",
       "\n",
       "Residual standard error: 0.07013 on 95 degrees of freedom\n",
       "Multiple R-squared:  0.07787,\tAdjusted R-squared:  0.06816 \n",
       "F-statistic: 8.022 on 1 and 95 DF,  p-value: 0.005642\n"
      ]
     },
     "metadata": {},
     "output_type": "display_data"
    },
    {
     "data": {
      "text/plain": [
       "\n",
       "Call:\n",
       "lm(formula = inv_d ~ scale(FI), data = idt1)\n",
       "\n",
       "Residuals:\n",
       "      Min        1Q    Median        3Q       Max \n",
       "-0.207590 -0.043169 -0.003479  0.055825  0.129593 \n",
       "\n",
       "Coefficients:\n",
       "             Estimate Std. Error t value Pr(>|t|)    \n",
       "(Intercept) -0.126898   0.007410 -17.125   <2e-16 ***\n",
       "scale(FI)   -0.002854   0.007448  -0.383    0.702    \n",
       "---\n",
       "Signif. codes:  0 ‘***’ 0.001 ‘**’ 0.01 ‘*’ 0.05 ‘.’ 0.1 ‘ ’ 1\n",
       "\n",
       "Residual standard error: 0.07298 on 95 degrees of freedom\n",
       "Multiple R-squared:  0.001543,\tAdjusted R-squared:  -0.008967 \n",
       "F-statistic: 0.1468 on 1 and 95 DF,  p-value: 0.7025\n"
      ]
     },
     "metadata": {},
     "output_type": "display_data"
    }
   ],
   "source": [
    "# by psychometrics one by one\n",
    "summary(lm(inv_d ~ scale(reflection), idt1))\n",
    "\n",
    "summary(lm(inv_d ~ scale(BNT), idt1))\n",
    "\n",
    "summary(lm(inv_d ~ scale(NFC), idt1))\n",
    "\n",
    "summary(lm(inv_d ~ scale(FI), idt1))\n"
   ]
  },
  {
   "cell_type": "markdown",
   "metadata": {},
   "source": [
    "## Predicting response caution"
   ]
  },
  {
   "cell_type": "code",
   "execution_count": 23,
   "metadata": {
    "scrolled": true
   },
   "outputs": [
    {
     "data": {
      "text/plain": [
       "\n",
       "Call:\n",
       "lm(formula = B ~ scale(reflection) + scale(BNT) + scale(NFC) + \n",
       "    scale(FI), data = idt1)\n",
       "\n",
       "Residuals:\n",
       "     Min       1Q   Median       3Q      Max \n",
       "-0.74914 -0.21373  0.00489  0.16127  0.78091 \n",
       "\n",
       "Coefficients:\n",
       "                   Estimate Std. Error t value Pr(>|t|)    \n",
       "(Intercept)        1.361301   0.029513  46.126   <2e-16 ***\n",
       "scale(reflection)  0.022152   0.037995   0.583   0.5613    \n",
       "scale(BNT)         0.003194   0.036842   0.087   0.9311    \n",
       "scale(NFC)         0.024122   0.030703   0.786   0.4341    \n",
       "scale(FI)         -0.059457   0.031088  -1.913   0.0589 .  \n",
       "---\n",
       "Signif. codes:  0 ‘***’ 0.001 ‘**’ 0.01 ‘*’ 0.05 ‘.’ 0.1 ‘ ’ 1\n",
       "\n",
       "Residual standard error: 0.2907 on 92 degrees of freedom\n",
       "Multiple R-squared:  0.05685,\tAdjusted R-squared:  0.01584 \n",
       "F-statistic: 1.386 on 4 and 92 DF,  p-value: 0.2448\n"
      ]
     },
     "metadata": {},
     "output_type": "display_data"
    },
    {
     "data": {
      "text/plain": [
       "\n",
       "Call:\n",
       "lm(formula = B ~ scale(reflection) + scale(BNT) + scale(NFC) + \n",
       "    scale(FI) + scale(age) + sex_code + scale(edu_code), data = idt1)\n",
       "\n",
       "Residuals:\n",
       "     Min       1Q   Median       3Q      Max \n",
       "-0.76199 -0.19353 -0.00456  0.16658  0.80907 \n",
       "\n",
       "Coefficients:\n",
       "                   Estimate Std. Error t value Pr(>|t|)    \n",
       "(Intercept)        1.381143   0.043066  32.070   <2e-16 ***\n",
       "scale(reflection)  0.024797   0.039013   0.636   0.5267    \n",
       "scale(BNT)         0.007293   0.037439   0.195   0.8460    \n",
       "scale(NFC)         0.021847   0.031924   0.684   0.4955    \n",
       "scale(FI)         -0.057881   0.031394  -1.844   0.0686 .  \n",
       "scale(age)         0.032972   0.030500   1.081   0.2826    \n",
       "sex_code          -0.039280   0.061649  -0.637   0.5257    \n",
       "scale(edu_code)    0.004884   0.031421   0.155   0.8768    \n",
       "---\n",
       "Signif. codes:  0 ‘***’ 0.001 ‘**’ 0.01 ‘*’ 0.05 ‘.’ 0.1 ‘ ’ 1\n",
       "\n",
       "Residual standard error: 0.293 on 89 degrees of freedom\n",
       "Multiple R-squared:  0.07313,\tAdjusted R-squared:  0.0002254 \n",
       "F-statistic: 1.003 on 7 and 89 DF,  p-value: 0.4346\n"
      ]
     },
     "metadata": {},
     "output_type": "display_data"
    }
   ],
   "source": [
    "# by psychometrics\n",
    "summary(lm(B ~ scale(reflection) + scale(BNT) + scale(NFC) + scale(FI), idt1))\n",
    "\n",
    "# by psychometrics and demographic factors\n",
    "summary(lm(B ~ scale(reflection) + scale(BNT) + scale(NFC) + scale(FI) + scale(age) + sex_code + scale(edu_code), idt1))\n"
   ]
  },
  {
   "cell_type": "code",
   "execution_count": 24,
   "metadata": {
    "scrolled": true
   },
   "outputs": [
    {
     "data": {
      "text/plain": [
       "\n",
       "Call:\n",
       "lm(formula = B ~ scale(reflection), data = idt1)\n",
       "\n",
       "Residuals:\n",
       "     Min       1Q   Median       3Q      Max \n",
       "-0.76946 -0.18327 -0.00663  0.17086  0.89872 \n",
       "\n",
       "Coefficients:\n",
       "                  Estimate Std. Error t value Pr(>|t|)    \n",
       "(Intercept)        1.36130    0.02964  45.926   <2e-16 ***\n",
       "scale(reflection)  0.03889    0.02979   1.305    0.195    \n",
       "---\n",
       "Signif. codes:  0 ‘***’ 0.001 ‘**’ 0.01 ‘*’ 0.05 ‘.’ 0.1 ‘ ’ 1\n",
       "\n",
       "Residual standard error: 0.2919 on 95 degrees of freedom\n",
       "Multiple R-squared:  0.01762,\tAdjusted R-squared:  0.007281 \n",
       "F-statistic: 1.704 on 1 and 95 DF,  p-value: 0.1949\n"
      ]
     },
     "metadata": {},
     "output_type": "display_data"
    },
    {
     "data": {
      "text/plain": [
       "\n",
       "Call:\n",
       "lm(formula = B ~ scale(BNT), data = idt1)\n",
       "\n",
       "Residuals:\n",
       "     Min       1Q   Median       3Q      Max \n",
       "-0.79033 -0.19292 -0.02022  0.17439  0.89526 \n",
       "\n",
       "Coefficients:\n",
       "            Estimate Std. Error t value Pr(>|t|)    \n",
       "(Intercept)  1.36130    0.02984  45.622   <2e-16 ***\n",
       "scale(BNT)   0.01958    0.02999   0.653    0.516    \n",
       "---\n",
       "Signif. codes:  0 ‘***’ 0.001 ‘**’ 0.01 ‘*’ 0.05 ‘.’ 0.1 ‘ ’ 1\n",
       "\n",
       "Residual standard error: 0.2939 on 95 degrees of freedom\n",
       "Multiple R-squared:  0.004465,\tAdjusted R-squared:  -0.006015 \n",
       "F-statistic: 0.4261 on 1 and 95 DF,  p-value: 0.5155\n"
      ]
     },
     "metadata": {},
     "output_type": "display_data"
    },
    {
     "data": {
      "text/plain": [
       "\n",
       "Call:\n",
       "lm(formula = B ~ scale(NFC), data = idt1)\n",
       "\n",
       "Residuals:\n",
       "     Min       1Q   Median       3Q      Max \n",
       "-0.77443 -0.18491 -0.03313  0.19107  0.86715 \n",
       "\n",
       "Coefficients:\n",
       "            Estimate Std. Error t value Pr(>|t|)    \n",
       "(Intercept)  1.36130    0.02986  45.589   <2e-16 ***\n",
       "scale(NFC)   0.01606    0.03002   0.535    0.594    \n",
       "---\n",
       "Signif. codes:  0 ‘***’ 0.001 ‘**’ 0.01 ‘*’ 0.05 ‘.’ 0.1 ‘ ’ 1\n",
       "\n",
       "Residual standard error: 0.2941 on 95 degrees of freedom\n",
       "Multiple R-squared:  0.003005,\tAdjusted R-squared:  -0.00749 \n",
       "F-statistic: 0.2863 on 1 and 95 DF,  p-value: 0.5938\n"
      ]
     },
     "metadata": {},
     "output_type": "display_data"
    },
    {
     "data": {
      "text/plain": [
       "\n",
       "Call:\n",
       "lm(formula = B ~ scale(FI), data = idt1)\n",
       "\n",
       "Residuals:\n",
       "    Min      1Q  Median      3Q     Max \n",
       "-0.8304 -0.2146 -0.0046  0.1836  0.7358 \n",
       "\n",
       "Coefficients:\n",
       "            Estimate Std. Error t value Pr(>|t|)    \n",
       "(Intercept)  1.36130    0.02927   46.51   <2e-16 ***\n",
       "scale(FI)   -0.06002    0.02942   -2.04   0.0441 *  \n",
       "---\n",
       "Signif. codes:  0 ‘***’ 0.001 ‘**’ 0.01 ‘*’ 0.05 ‘.’ 0.1 ‘ ’ 1\n",
       "\n",
       "Residual standard error: 0.2883 on 95 degrees of freedom\n",
       "Multiple R-squared:  0.04196,\tAdjusted R-squared:  0.03188 \n",
       "F-statistic: 4.161 on 1 and 95 DF,  p-value: 0.04414\n"
      ]
     },
     "metadata": {},
     "output_type": "display_data"
    }
   ],
   "source": [
    "# by psychometrics one by one\n",
    "summary(lm(B ~ scale(reflection), idt1))\n",
    "\n",
    "summary(lm(B ~ scale(BNT), idt1))\n",
    "\n",
    "summary(lm(B ~ scale(NFC), idt1))\n",
    "\n",
    "summary(lm(B ~ scale(FI), idt1))\n",
    "\n"
   ]
  },
  {
   "cell_type": "code",
   "execution_count": null,
   "metadata": {},
   "outputs": [],
   "source": []
  },
  {
   "cell_type": "markdown",
   "metadata": {},
   "source": [
    "# Prdicting the probability of choosing the lottery options"
   ]
  },
  {
   "cell_type": "code",
   "execution_count": 25,
   "metadata": {
    "scrolled": true
   },
   "outputs": [
    {
     "data": {
      "text/plain": [
       "Generalized linear mixed model fit by maximum likelihood (Laplace\n",
       "  Approximation) [glmerMod]\n",
       " Family: binomial  ( logit )\n",
       "Formula: slc_lot ~ scale(lottery_favour) * scale(WTP) + (1 | subject)\n",
       "   Data: data1\n",
       "\n",
       "     AIC      BIC   logLik deviance df.resid \n",
       " 19178.0  19217.6  -9584.0  19168.0    20129 \n",
       "\n",
       "Scaled residuals: \n",
       "   Min     1Q Median     3Q    Max \n",
       "-9.963 -0.568  0.181  0.578 99.715 \n",
       "\n",
       "Random effects:\n",
       " Groups  Name        Variance Std.Dev.\n",
       " subject (Intercept) 1.319    1.148   \n",
       "Number of obs: 20134, groups:  subject, 97\n",
       "\n",
       "Fixed effects:\n",
       "                                 Estimate Std. Error z value Pr(>|z|)    \n",
       "(Intercept)                       0.11074    0.11831   0.936    0.349    \n",
       "scale(lottery_favour)             2.22430    0.03684  60.370   <2e-16 ***\n",
       "scale(WTP)                       -0.22990    0.02285 -10.062   <2e-16 ***\n",
       "scale(lottery_favour):scale(WTP) -0.40234    0.02352 -17.109   <2e-16 ***\n",
       "---\n",
       "Signif. codes:  0 ‘***’ 0.001 ‘**’ 0.01 ‘*’ 0.05 ‘.’ 0.1 ‘ ’ 1\n",
       "\n",
       "Correlation of Fixed Effects:\n",
       "            (Intr) scl(_) s(WTP)\n",
       "scl(lttry_) -0.001              \n",
       "scale(WTP)   0.033 -0.172       \n",
       "sc(_):(WTP) -0.060 -0.389 -0.359"
      ]
     },
     "metadata": {},
     "output_type": "display_data"
    }
   ],
   "source": [
    "# All subjects\n",
    "summary(glmer(slc_lot ~ scale(lottery_favour)*scale(WTP) + (1|subject), data1, family=binomial(link = \"logit\")))\n"
   ]
  },
  {
   "cell_type": "code",
   "execution_count": 26,
   "metadata": {
    "scrolled": true
   },
   "outputs": [
    {
     "data": {
      "text/plain": [
       "Generalized linear mixed model fit by maximum likelihood (Laplace\n",
       "  Approximation) [glmerMod]\n",
       " Family: binomial  ( logit )\n",
       "Formula: slc_lot ~ scale(lottery_favour) * scale(WTP) + scale(reflection) +  \n",
       "    scale(BNT) + scale(NFC) + scale(FI) + (1 | subject)\n",
       "   Data: data1\n",
       "\n",
       "     AIC      BIC   logLik deviance df.resid \n",
       " 19183.3  19254.5  -9582.7  19165.3    20125 \n",
       "\n",
       "Scaled residuals: \n",
       "   Min     1Q Median     3Q    Max \n",
       "-9.997 -0.567  0.181  0.578 99.510 \n",
       "\n",
       "Random effects:\n",
       " Groups  Name        Variance Std.Dev.\n",
       " subject (Intercept) 1.281    1.132   \n",
       "Number of obs: 20134, groups:  subject, 97\n",
       "\n",
       "Fixed effects:\n",
       "                                 Estimate Std. Error z value Pr(>|z|)    \n",
       "(Intercept)                       0.10786    0.11668   0.924    0.355    \n",
       "scale(lottery_favour)             2.22346    0.03685  60.338   <2e-16 ***\n",
       "scale(WTP)                       -0.23048    0.02285 -10.086   <2e-16 ***\n",
       "scale(reflection)                -0.11128    0.14858  -0.749    0.454    \n",
       "scale(BNT)                        0.11239    0.14249   0.789    0.430    \n",
       "scale(NFC)                       -0.07505    0.12092  -0.621    0.535    \n",
       "scale(FI)                         0.13690    0.12187   1.123    0.261    \n",
       "scale(lottery_favour):scale(WTP) -0.40202    0.02352 -17.093   <2e-16 ***\n",
       "---\n",
       "Signif. codes:  0 ‘***’ 0.001 ‘**’ 0.01 ‘*’ 0.05 ‘.’ 0.1 ‘ ’ 1\n",
       "\n",
       "Correlation of Fixed Effects:\n",
       "            (Intr) scl(_) s(WTP) scl(r) s(BNT) s(NFC) sc(FI)\n",
       "scl(lttry_) -0.002                                          \n",
       "scale(WTP)   0.034 -0.171                                   \n",
       "scl(rflctn)  0.006 -0.006  0.002                            \n",
       "scale(BNT)  -0.003  0.012  0.005 -0.591                     \n",
       "scale(NFC)   0.016 -0.004  0.000 -0.192  0.120              \n",
       "scale(FI)   -0.006 -0.006 -0.016  0.238 -0.089 -0.214       \n",
       "sc(_):(WTP) -0.061 -0.389 -0.359  0.008 -0.008  0.012  0.013"
      ]
     },
     "metadata": {},
     "output_type": "display_data"
    }
   ],
   "source": [
    "# All subjects; with Psychometrics\n",
    "summary(glmer(slc_lot ~ scale(lottery_favour)*scale(WTP) + scale(reflection) + scale(BNT) + scale(NFC) + scale(FI) + (1|subject), data1, family=binomial(link = \"logit\")))\n"
   ]
  },
  {
   "cell_type": "code",
   "execution_count": 27,
   "metadata": {
    "scrolled": true
   },
   "outputs": [
    {
     "data": {
      "text/plain": [
       "Generalized linear mixed model fit by maximum likelihood (Laplace\n",
       "  Approximation) [glmerMod]\n",
       " Family: binomial  ( logit )\n",
       "Formula: slc_lot ~ scale(lottery_favour) * scale(WTP) + scale(reflection) +  \n",
       "    (1 | subject)\n",
       "   Data: data1\n",
       "\n",
       "     AIC      BIC   logLik deviance df.resid \n",
       " 19179.6  19227.0  -9583.8  19167.6    20128 \n",
       "\n",
       "Scaled residuals: \n",
       "   Min     1Q Median     3Q    Max \n",
       "-9.975 -0.568  0.181  0.577 99.574 \n",
       "\n",
       "Random effects:\n",
       " Groups  Name        Variance Std.Dev.\n",
       " subject (Intercept) 1.312    1.145   \n",
       "Number of obs: 20134, groups:  subject, 97\n",
       "\n",
       "Fixed effects:\n",
       "                                 Estimate Std. Error z value Pr(>|z|)    \n",
       "(Intercept)                       0.10999    0.11804   0.932    0.351    \n",
       "scale(lottery_favour)             2.22407    0.03685  60.361   <2e-16 ***\n",
       "scale(WTP)                       -0.23006    0.02285 -10.069   <2e-16 ***\n",
       "scale(reflection)                -0.08142    0.11734  -0.694    0.488    \n",
       "scale(lottery_favour):scale(WTP) -0.40232    0.02351 -17.110   <2e-16 ***\n",
       "---\n",
       "Signif. codes:  0 ‘***’ 0.001 ‘**’ 0.01 ‘*’ 0.05 ‘.’ 0.1 ‘ ’ 1\n",
       "\n",
       "Correlation of Fixed Effects:\n",
       "            (Intr) scl(_) s(WTP) scl(r)\n",
       "scl(lttry_) -0.001                     \n",
       "scale(WTP)   0.033 -0.172              \n",
       "scl(rflctn)  0.009  0.002  0.009       \n",
       "sc(_):(WTP) -0.060 -0.389 -0.359  0.003"
      ]
     },
     "metadata": {},
     "output_type": "display_data"
    },
    {
     "data": {
      "text/plain": [
       "Generalized linear mixed model fit by maximum likelihood (Laplace\n",
       "  Approximation) [glmerMod]\n",
       " Family: binomial  ( logit )\n",
       "Formula: slc_lot ~ scale(lottery_favour) * scale(WTP) + scale(BNT) + (1 |  \n",
       "    subject)\n",
       "   Data: data1\n",
       "\n",
       "     AIC      BIC   logLik deviance df.resid \n",
       " 19179.9  19227.4  -9584.0  19167.9    20128 \n",
       "\n",
       "Scaled residuals: \n",
       "   Min     1Q Median     3Q    Max \n",
       "-9.949 -0.568  0.181  0.578 99.744 \n",
       "\n",
       "Random effects:\n",
       " Groups  Name        Variance Std.Dev.\n",
       " subject (Intercept) 1.317    1.148   \n",
       "Number of obs: 20134, groups:  subject, 97\n",
       "\n",
       "Fixed effects:\n",
       "                                 Estimate Std. Error z value Pr(>|z|)    \n",
       "(Intercept)                       0.11080    0.11822   0.937    0.349    \n",
       "scale(lottery_favour)             2.22439    0.03684  60.373   <2e-16 ***\n",
       "scale(WTP)                       -0.22984    0.02285 -10.059   <2e-16 ***\n",
       "scale(BNT)                        0.04056    0.11626   0.349    0.727    \n",
       "scale(lottery_favour):scale(WTP) -0.40237    0.02352 -17.111   <2e-16 ***\n",
       "---\n",
       "Signif. codes:  0 ‘***’ 0.001 ‘**’ 0.01 ‘*’ 0.05 ‘.’ 0.1 ‘ ’ 1\n",
       "\n",
       "Correlation of Fixed Effects:\n",
       "            (Intr) scl(_) s(WTP) s(BNT)\n",
       "scl(lttry_) -0.002                     \n",
       "scale(WTP)   0.033 -0.172              \n",
       "scale(BNT)   0.001  0.011  0.008       \n",
       "sc(_):(WTP) -0.060 -0.389 -0.359 -0.005"
      ]
     },
     "metadata": {},
     "output_type": "display_data"
    },
    {
     "data": {
      "text/plain": [
       "Generalized linear mixed model fit by maximum likelihood (Laplace\n",
       "  Approximation) [glmerMod]\n",
       " Family: binomial  ( logit )\n",
       "Formula: slc_lot ~ scale(lottery_favour) * scale(WTP) + scale(NFC) + (1 |  \n",
       "    subject)\n",
       "   Data: data1\n",
       "\n",
       "     AIC      BIC   logLik deviance df.resid \n",
       " 19179.7  19227.2  -9583.9  19167.7    20128 \n",
       "\n",
       "Scaled residuals: \n",
       "   Min     1Q Median     3Q    Max \n",
       "-9.970 -0.568  0.181  0.578 99.737 \n",
       "\n",
       "Random effects:\n",
       " Groups  Name        Variance Std.Dev.\n",
       " subject (Intercept) 1.315    1.147   \n",
       "Number of obs: 20134, groups:  subject, 97\n",
       "\n",
       "Fixed effects:\n",
       "                                 Estimate Std. Error z value Pr(>|z|)    \n",
       "(Intercept)                       0.10965    0.11812   0.928    0.353    \n",
       "scale(lottery_favour)             2.22431    0.03684  60.372   <2e-16 ***\n",
       "scale(WTP)                       -0.22988    0.02285 -10.061   <2e-16 ***\n",
       "scale(NFC)                       -0.06519    0.11824  -0.551    0.581    \n",
       "scale(lottery_favour):scale(WTP) -0.40251    0.02352 -17.116   <2e-16 ***\n",
       "---\n",
       "Signif. codes:  0 ‘***’ 0.001 ‘**’ 0.01 ‘*’ 0.05 ‘.’ 0.1 ‘ ’ 1\n",
       "\n",
       "Correlation of Fixed Effects:\n",
       "            (Intr) scl(_) s(WTP) s(NFC)\n",
       "scl(lttry_) -0.002                     \n",
       "scale(WTP)   0.033 -0.172              \n",
       "scale(NFC)   0.017 -0.006 -0.003       \n",
       "sc(_):(WTP) -0.060 -0.389 -0.359  0.016"
      ]
     },
     "metadata": {},
     "output_type": "display_data"
    },
    {
     "data": {
      "text/plain": [
       "Generalized linear mixed model fit by maximum likelihood (Laplace\n",
       "  Approximation) [glmerMod]\n",
       " Family: binomial  ( logit )\n",
       "Formula: slc_lot ~ scale(lottery_favour) * scale(WTP) + scale(FI) + (1 |  \n",
       "    subject)\n",
       "   Data: data1\n",
       "\n",
       "     AIC      BIC   logLik deviance df.resid \n",
       " 19178.7  19226.1  -9583.3  19166.7    20128 \n",
       "\n",
       "Scaled residuals: \n",
       "    Min      1Q  Median      3Q     Max \n",
       "-10.011  -0.567   0.181   0.577  99.594 \n",
       "\n",
       "Random effects:\n",
       " Groups  Name        Variance Std.Dev.\n",
       " subject (Intercept) 1.299    1.14    \n",
       "Number of obs: 20134, groups:  subject, 97\n",
       "\n",
       "Fixed effects:\n",
       "                                 Estimate Std. Error z value Pr(>|z|)    \n",
       "(Intercept)                       0.11000    0.11743   0.937    0.349    \n",
       "scale(lottery_favour)             2.22349    0.03685  60.341   <2e-16 ***\n",
       "scale(WTP)                       -0.23044    0.02285 -10.083   <2e-16 ***\n",
       "scale(FI)                         0.13884    0.11699   1.187    0.235    \n",
       "scale(lottery_favour):scale(WTP) -0.40175    0.02352 -17.080   <2e-16 ***\n",
       "---\n",
       "Signif. codes:  0 ‘***’ 0.001 ‘**’ 0.01 ‘*’ 0.05 ‘.’ 0.1 ‘ ’ 1\n",
       "\n",
       "Correlation of Fixed Effects:\n",
       "            (Intr) scl(_) s(WTP) sc(FI)\n",
       "scl(lttry_) -0.001                     \n",
       "scale(WTP)   0.033 -0.171              \n",
       "scale(FI)   -0.005 -0.006 -0.017       \n",
       "sc(_):(WTP) -0.061 -0.389 -0.359  0.014"
      ]
     },
     "metadata": {},
     "output_type": "display_data"
    }
   ],
   "source": [
    "# All subjects; with Psychometrics one by one\n",
    "summary(glmer(slc_lot ~ scale(lottery_favour)*scale(WTP) + scale(reflection) + (1|subject), data1, family=binomial(link = \"logit\")))\n",
    "\n",
    "summary(glmer(slc_lot ~ scale(lottery_favour)*scale(WTP) + scale(BNT) + (1|subject), data1, family=binomial(link = \"logit\")))\n",
    "\n",
    "summary(glmer(slc_lot ~ scale(lottery_favour)*scale(WTP) + scale(NFC) + (1|subject), data1, family=binomial(link = \"logit\")))\n",
    "\n",
    "summary(glmer(slc_lot ~ scale(lottery_favour)*scale(WTP) + scale(FI) + (1|subject), data1, family=binomial(link = \"logit\")))\n"
   ]
  },
  {
   "cell_type": "code",
   "execution_count": null,
   "metadata": {},
   "outputs": [],
   "source": []
  }
 ],
 "metadata": {
  "kernelspec": {
   "display_name": "R [conda env:renv]",
   "language": "R",
   "name": "conda-env-renv-r"
  },
  "language_info": {
   "codemirror_mode": "r",
   "file_extension": ".r",
   "mimetype": "text/x-r-source",
   "name": "R",
   "pygments_lexer": "r",
   "version": "3.6.1"
  }
 },
 "nbformat": 4,
 "nbformat_minor": 4
}
